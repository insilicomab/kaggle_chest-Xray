{
 "cells": [
  {
   "cell_type": "markdown",
   "id": "46046e34",
   "metadata": {
    "papermill": {
     "duration": 0.055072,
     "end_time": "2022-04-13T06:43:10.589305",
     "exception": false,
     "start_time": "2022-04-13T06:43:10.534233",
     "status": "completed"
    },
    "tags": []
   },
   "source": [
    "# 事前準備"
   ]
  },
  {
   "cell_type": "code",
   "execution_count": 1,
   "id": "329d666c",
   "metadata": {
    "execution": {
     "iopub.execute_input": "2022-04-13T06:43:10.703357Z",
     "iopub.status.busy": "2022-04-13T06:43:10.702205Z",
     "iopub.status.idle": "2022-04-13T06:43:13.635689Z",
     "shell.execute_reply": "2022-04-13T06:43:13.634993Z",
     "shell.execute_reply.started": "2022-04-13T06:39:34.602775Z"
    },
    "papermill": {
     "duration": 2.992197,
     "end_time": "2022-04-13T06:43:13.635868",
     "exception": false,
     "start_time": "2022-04-13T06:43:10.643671",
     "status": "completed"
    },
    "tags": []
   },
   "outputs": [],
   "source": [
    "# ライブラリのインポート\n",
    "import os\n",
    "import re\n",
    "import random\n",
    "from glob import glob\n",
    "from warnings import filterwarnings\n",
    "\n",
    "import argparse\n",
    "\n",
    "import pandas as pd\n",
    "import numpy as np\n",
    "import matplotlib.pyplot as plt\n",
    "import seaborn as sns\n",
    "\n",
    "from sklearn.model_selection import train_test_split\n",
    "from sklearn.metrics import confusion_matrix\n",
    "from sklearn.metrics import accuracy_score, precision_score, recall_score, f1_score\n",
    "\n",
    "import cv2\n",
    "from PIL import Image\n",
    "\n",
    "import torch\n",
    "from torchvision import datasets, transforms, models\n",
    "from torch.utils.data import Dataset, DataLoader\n",
    "from torch import nn, optim\n",
    "\n",
    "from collections import defaultdict\n",
    "\n",
    "filterwarnings('ignore')   # warningをオフにする"
   ]
  },
  {
   "cell_type": "code",
   "execution_count": 2,
   "id": "415afb0d",
   "metadata": {
    "execution": {
     "iopub.execute_input": "2022-04-13T06:43:13.748338Z",
     "iopub.status.busy": "2022-04-13T06:43:13.747692Z",
     "iopub.status.idle": "2022-04-13T06:43:13.753152Z",
     "shell.execute_reply": "2022-04-13T06:43:13.753698Z",
     "shell.execute_reply.started": "2022-04-13T06:39:34.612328Z"
    },
    "papermill": {
     "duration": 0.063809,
     "end_time": "2022-04-13T06:43:13.753869",
     "exception": false,
     "start_time": "2022-04-13T06:43:13.690060",
     "status": "completed"
    },
    "tags": []
   },
   "outputs": [],
   "source": [
    "# ランダムシードの設定\n",
    "torch.manual_seed(1234)\n",
    "torch.cuda.manual_seed(1234)\n",
    "np.random.seed(1234)\n",
    "random.seed(1234)"
   ]
  },
  {
   "cell_type": "code",
   "execution_count": 3,
   "id": "e58de438",
   "metadata": {
    "execution": {
     "iopub.execute_input": "2022-04-13T06:43:13.865161Z",
     "iopub.status.busy": "2022-04-13T06:43:13.864410Z",
     "iopub.status.idle": "2022-04-13T06:43:13.869142Z",
     "shell.execute_reply": "2022-04-13T06:43:13.869762Z",
     "shell.execute_reply.started": "2022-04-13T06:39:34.627755Z"
    },
    "papermill": {
     "duration": 0.063156,
     "end_time": "2022-04-13T06:43:13.870076",
     "exception": false,
     "start_time": "2022-04-13T06:43:13.806920",
     "status": "completed"
    },
    "tags": []
   },
   "outputs": [
    {
     "name": "stdout",
     "output_type": "stream",
     "text": [
      "デバイス：cpu\n"
     ]
    }
   ],
   "source": [
    "# デバイスの設定\n",
    "device = 'cuda' if torch.cuda.is_available() else 'cpu'\n",
    "kwargs = {'num_workers': 1, 'pin_memory': True} if torch.cuda.is_available() else {} # GPUが使える場合、DataLoaderでのミニバッチの取り出しを高速化\n",
    "print(f'デバイス：{device}')"
   ]
  },
  {
   "cell_type": "code",
   "execution_count": 4,
   "id": "c6ec389a",
   "metadata": {
    "execution": {
     "iopub.execute_input": "2022-04-13T06:43:13.982826Z",
     "iopub.status.busy": "2022-04-13T06:43:13.982154Z",
     "iopub.status.idle": "2022-04-13T06:43:13.988442Z",
     "shell.execute_reply": "2022-04-13T06:43:13.989088Z",
     "shell.execute_reply.started": "2022-04-13T06:39:34.639506Z"
    },
    "papermill": {
     "duration": 0.063865,
     "end_time": "2022-04-13T06:43:13.989256",
     "exception": false,
     "start_time": "2022-04-13T06:43:13.925391",
     "status": "completed"
    },
    "tags": []
   },
   "outputs": [
    {
     "name": "stdout",
     "output_type": "stream",
     "text": [
      "Namespace(image_size=128, num_classes=2)\n"
     ]
    }
   ],
   "source": [
    "# ハイパーパラメータの設定\n",
    "parser = argparse.ArgumentParser()\n",
    "parser.add_argument('--image_size', type=int, default=128)\n",
    "parser.add_argument('--num_classes', type=int, default=2)\n",
    "opt = parser.parse_args(args=[])\n",
    "print(opt)"
   ]
  },
  {
   "cell_type": "code",
   "execution_count": 5,
   "id": "335d8e70",
   "metadata": {
    "execution": {
     "iopub.execute_input": "2022-04-13T06:43:14.102520Z",
     "iopub.status.busy": "2022-04-13T06:43:14.101746Z",
     "iopub.status.idle": "2022-04-13T06:43:14.105232Z",
     "shell.execute_reply": "2022-04-13T06:43:14.105759Z",
     "shell.execute_reply.started": "2022-04-13T06:39:34.654265Z"
    },
    "papermill": {
     "duration": 0.061555,
     "end_time": "2022-04-13T06:43:14.105932",
     "exception": false,
     "start_time": "2022-04-13T06:43:14.044377",
     "status": "completed"
    },
    "tags": []
   },
   "outputs": [],
   "source": [
    "# NORMALのtestデータのディレクトリ\n",
    "test_normal_dir = '/kaggle/input/chest-xray-pneumonia/chest_xray/chest_xray/test/NORMAL/'\n",
    "\n",
    "# PNEUMONIAのtestデータのディレクトリ\n",
    "test_pneumonia_dir = '/kaggle/input/chest-xray-pneumonia/chest_xray/chest_xray/test/PNEUMONIA/'"
   ]
  },
  {
   "cell_type": "markdown",
   "id": "bfc10363",
   "metadata": {
    "papermill": {
     "duration": 0.054087,
     "end_time": "2022-04-13T06:43:14.214733",
     "exception": false,
     "start_time": "2022-04-13T06:43:14.160646",
     "status": "completed"
    },
    "tags": []
   },
   "source": [
    "# 学習済みパラメータの読み込み"
   ]
  },
  {
   "cell_type": "code",
   "execution_count": 6,
   "id": "bb050791",
   "metadata": {
    "execution": {
     "iopub.execute_input": "2022-04-13T06:43:14.327094Z",
     "iopub.status.busy": "2022-04-13T06:43:14.326424Z",
     "iopub.status.idle": "2022-04-13T06:43:14.329569Z",
     "shell.execute_reply": "2022-04-13T06:43:14.330107Z",
     "shell.execute_reply.started": "2022-04-13T06:39:34.663323Z"
    },
    "papermill": {
     "duration": 0.060933,
     "end_time": "2022-04-13T06:43:14.330273",
     "exception": false,
     "start_time": "2022-04-13T06:43:14.269340",
     "status": "completed"
    },
    "tags": []
   },
   "outputs": [],
   "source": [
    "# モデルのパス\n",
    "model_path = '../input/chest-xray-training-mobilenetv3l-128pixel/mobilenet_v3_large.pth'"
   ]
  },
  {
   "cell_type": "code",
   "execution_count": 7,
   "id": "59765e12",
   "metadata": {
    "execution": {
     "iopub.execute_input": "2022-04-13T06:43:14.443297Z",
     "iopub.status.busy": "2022-04-13T06:43:14.442679Z",
     "iopub.status.idle": "2022-04-13T06:43:14.610477Z",
     "shell.execute_reply": "2022-04-13T06:43:14.611176Z",
     "shell.execute_reply.started": "2022-04-13T06:39:34.675687Z"
    },
    "papermill": {
     "duration": 0.226525,
     "end_time": "2022-04-13T06:43:14.611377",
     "exception": false,
     "start_time": "2022-04-13T06:43:14.384852",
     "status": "completed"
    },
    "tags": []
   },
   "outputs": [
    {
     "name": "stdout",
     "output_type": "stream",
     "text": [
      "MobileNetV3(\n",
      "  (features): Sequential(\n",
      "    (0): ConvBNActivation(\n",
      "      (0): Conv2d(3, 16, kernel_size=(3, 3), stride=(2, 2), padding=(1, 1), bias=False)\n",
      "      (1): BatchNorm2d(16, eps=0.001, momentum=0.01, affine=True, track_running_stats=True)\n",
      "      (2): Hardswish()\n",
      "    )\n",
      "    (1): InvertedResidual(\n",
      "      (block): Sequential(\n",
      "        (0): ConvBNActivation(\n",
      "          (0): Conv2d(16, 16, kernel_size=(3, 3), stride=(1, 1), padding=(1, 1), groups=16, bias=False)\n",
      "          (1): BatchNorm2d(16, eps=0.001, momentum=0.01, affine=True, track_running_stats=True)\n",
      "          (2): ReLU(inplace=True)\n",
      "        )\n",
      "        (1): ConvBNActivation(\n",
      "          (0): Conv2d(16, 16, kernel_size=(1, 1), stride=(1, 1), bias=False)\n",
      "          (1): BatchNorm2d(16, eps=0.001, momentum=0.01, affine=True, track_running_stats=True)\n",
      "          (2): Identity()\n",
      "        )\n",
      "      )\n",
      "    )\n",
      "    (2): InvertedResidual(\n",
      "      (block): Sequential(\n",
      "        (0): ConvBNActivation(\n",
      "          (0): Conv2d(16, 64, kernel_size=(1, 1), stride=(1, 1), bias=False)\n",
      "          (1): BatchNorm2d(64, eps=0.001, momentum=0.01, affine=True, track_running_stats=True)\n",
      "          (2): ReLU(inplace=True)\n",
      "        )\n",
      "        (1): ConvBNActivation(\n",
      "          (0): Conv2d(64, 64, kernel_size=(3, 3), stride=(2, 2), padding=(1, 1), groups=64, bias=False)\n",
      "          (1): BatchNorm2d(64, eps=0.001, momentum=0.01, affine=True, track_running_stats=True)\n",
      "          (2): ReLU(inplace=True)\n",
      "        )\n",
      "        (2): ConvBNActivation(\n",
      "          (0): Conv2d(64, 24, kernel_size=(1, 1), stride=(1, 1), bias=False)\n",
      "          (1): BatchNorm2d(24, eps=0.001, momentum=0.01, affine=True, track_running_stats=True)\n",
      "          (2): Identity()\n",
      "        )\n",
      "      )\n",
      "    )\n",
      "    (3): InvertedResidual(\n",
      "      (block): Sequential(\n",
      "        (0): ConvBNActivation(\n",
      "          (0): Conv2d(24, 72, kernel_size=(1, 1), stride=(1, 1), bias=False)\n",
      "          (1): BatchNorm2d(72, eps=0.001, momentum=0.01, affine=True, track_running_stats=True)\n",
      "          (2): ReLU(inplace=True)\n",
      "        )\n",
      "        (1): ConvBNActivation(\n",
      "          (0): Conv2d(72, 72, kernel_size=(3, 3), stride=(1, 1), padding=(1, 1), groups=72, bias=False)\n",
      "          (1): BatchNorm2d(72, eps=0.001, momentum=0.01, affine=True, track_running_stats=True)\n",
      "          (2): ReLU(inplace=True)\n",
      "        )\n",
      "        (2): ConvBNActivation(\n",
      "          (0): Conv2d(72, 24, kernel_size=(1, 1), stride=(1, 1), bias=False)\n",
      "          (1): BatchNorm2d(24, eps=0.001, momentum=0.01, affine=True, track_running_stats=True)\n",
      "          (2): Identity()\n",
      "        )\n",
      "      )\n",
      "    )\n",
      "    (4): InvertedResidual(\n",
      "      (block): Sequential(\n",
      "        (0): ConvBNActivation(\n",
      "          (0): Conv2d(24, 72, kernel_size=(1, 1), stride=(1, 1), bias=False)\n",
      "          (1): BatchNorm2d(72, eps=0.001, momentum=0.01, affine=True, track_running_stats=True)\n",
      "          (2): ReLU(inplace=True)\n",
      "        )\n",
      "        (1): ConvBNActivation(\n",
      "          (0): Conv2d(72, 72, kernel_size=(5, 5), stride=(2, 2), padding=(2, 2), groups=72, bias=False)\n",
      "          (1): BatchNorm2d(72, eps=0.001, momentum=0.01, affine=True, track_running_stats=True)\n",
      "          (2): ReLU(inplace=True)\n",
      "        )\n",
      "        (2): SqueezeExcitation(\n",
      "          (fc1): Conv2d(72, 24, kernel_size=(1, 1), stride=(1, 1))\n",
      "          (relu): ReLU(inplace=True)\n",
      "          (fc2): Conv2d(24, 72, kernel_size=(1, 1), stride=(1, 1))\n",
      "        )\n",
      "        (3): ConvBNActivation(\n",
      "          (0): Conv2d(72, 40, kernel_size=(1, 1), stride=(1, 1), bias=False)\n",
      "          (1): BatchNorm2d(40, eps=0.001, momentum=0.01, affine=True, track_running_stats=True)\n",
      "          (2): Identity()\n",
      "        )\n",
      "      )\n",
      "    )\n",
      "    (5): InvertedResidual(\n",
      "      (block): Sequential(\n",
      "        (0): ConvBNActivation(\n",
      "          (0): Conv2d(40, 120, kernel_size=(1, 1), stride=(1, 1), bias=False)\n",
      "          (1): BatchNorm2d(120, eps=0.001, momentum=0.01, affine=True, track_running_stats=True)\n",
      "          (2): ReLU(inplace=True)\n",
      "        )\n",
      "        (1): ConvBNActivation(\n",
      "          (0): Conv2d(120, 120, kernel_size=(5, 5), stride=(1, 1), padding=(2, 2), groups=120, bias=False)\n",
      "          (1): BatchNorm2d(120, eps=0.001, momentum=0.01, affine=True, track_running_stats=True)\n",
      "          (2): ReLU(inplace=True)\n",
      "        )\n",
      "        (2): SqueezeExcitation(\n",
      "          (fc1): Conv2d(120, 32, kernel_size=(1, 1), stride=(1, 1))\n",
      "          (relu): ReLU(inplace=True)\n",
      "          (fc2): Conv2d(32, 120, kernel_size=(1, 1), stride=(1, 1))\n",
      "        )\n",
      "        (3): ConvBNActivation(\n",
      "          (0): Conv2d(120, 40, kernel_size=(1, 1), stride=(1, 1), bias=False)\n",
      "          (1): BatchNorm2d(40, eps=0.001, momentum=0.01, affine=True, track_running_stats=True)\n",
      "          (2): Identity()\n",
      "        )\n",
      "      )\n",
      "    )\n",
      "    (6): InvertedResidual(\n",
      "      (block): Sequential(\n",
      "        (0): ConvBNActivation(\n",
      "          (0): Conv2d(40, 120, kernel_size=(1, 1), stride=(1, 1), bias=False)\n",
      "          (1): BatchNorm2d(120, eps=0.001, momentum=0.01, affine=True, track_running_stats=True)\n",
      "          (2): ReLU(inplace=True)\n",
      "        )\n",
      "        (1): ConvBNActivation(\n",
      "          (0): Conv2d(120, 120, kernel_size=(5, 5), stride=(1, 1), padding=(2, 2), groups=120, bias=False)\n",
      "          (1): BatchNorm2d(120, eps=0.001, momentum=0.01, affine=True, track_running_stats=True)\n",
      "          (2): ReLU(inplace=True)\n",
      "        )\n",
      "        (2): SqueezeExcitation(\n",
      "          (fc1): Conv2d(120, 32, kernel_size=(1, 1), stride=(1, 1))\n",
      "          (relu): ReLU(inplace=True)\n",
      "          (fc2): Conv2d(32, 120, kernel_size=(1, 1), stride=(1, 1))\n",
      "        )\n",
      "        (3): ConvBNActivation(\n",
      "          (0): Conv2d(120, 40, kernel_size=(1, 1), stride=(1, 1), bias=False)\n",
      "          (1): BatchNorm2d(40, eps=0.001, momentum=0.01, affine=True, track_running_stats=True)\n",
      "          (2): Identity()\n",
      "        )\n",
      "      )\n",
      "    )\n",
      "    (7): InvertedResidual(\n",
      "      (block): Sequential(\n",
      "        (0): ConvBNActivation(\n",
      "          (0): Conv2d(40, 240, kernel_size=(1, 1), stride=(1, 1), bias=False)\n",
      "          (1): BatchNorm2d(240, eps=0.001, momentum=0.01, affine=True, track_running_stats=True)\n",
      "          (2): Hardswish()\n",
      "        )\n",
      "        (1): ConvBNActivation(\n",
      "          (0): Conv2d(240, 240, kernel_size=(3, 3), stride=(2, 2), padding=(1, 1), groups=240, bias=False)\n",
      "          (1): BatchNorm2d(240, eps=0.001, momentum=0.01, affine=True, track_running_stats=True)\n",
      "          (2): Hardswish()\n",
      "        )\n",
      "        (2): ConvBNActivation(\n",
      "          (0): Conv2d(240, 80, kernel_size=(1, 1), stride=(1, 1), bias=False)\n",
      "          (1): BatchNorm2d(80, eps=0.001, momentum=0.01, affine=True, track_running_stats=True)\n",
      "          (2): Identity()\n",
      "        )\n",
      "      )\n",
      "    )\n",
      "    (8): InvertedResidual(\n",
      "      (block): Sequential(\n",
      "        (0): ConvBNActivation(\n",
      "          (0): Conv2d(80, 200, kernel_size=(1, 1), stride=(1, 1), bias=False)\n",
      "          (1): BatchNorm2d(200, eps=0.001, momentum=0.01, affine=True, track_running_stats=True)\n",
      "          (2): Hardswish()\n",
      "        )\n",
      "        (1): ConvBNActivation(\n",
      "          (0): Conv2d(200, 200, kernel_size=(3, 3), stride=(1, 1), padding=(1, 1), groups=200, bias=False)\n",
      "          (1): BatchNorm2d(200, eps=0.001, momentum=0.01, affine=True, track_running_stats=True)\n",
      "          (2): Hardswish()\n",
      "        )\n",
      "        (2): ConvBNActivation(\n",
      "          (0): Conv2d(200, 80, kernel_size=(1, 1), stride=(1, 1), bias=False)\n",
      "          (1): BatchNorm2d(80, eps=0.001, momentum=0.01, affine=True, track_running_stats=True)\n",
      "          (2): Identity()\n",
      "        )\n",
      "      )\n",
      "    )\n",
      "    (9): InvertedResidual(\n",
      "      (block): Sequential(\n",
      "        (0): ConvBNActivation(\n",
      "          (0): Conv2d(80, 184, kernel_size=(1, 1), stride=(1, 1), bias=False)\n",
      "          (1): BatchNorm2d(184, eps=0.001, momentum=0.01, affine=True, track_running_stats=True)\n",
      "          (2): Hardswish()\n",
      "        )\n",
      "        (1): ConvBNActivation(\n",
      "          (0): Conv2d(184, 184, kernel_size=(3, 3), stride=(1, 1), padding=(1, 1), groups=184, bias=False)\n",
      "          (1): BatchNorm2d(184, eps=0.001, momentum=0.01, affine=True, track_running_stats=True)\n",
      "          (2): Hardswish()\n",
      "        )\n",
      "        (2): ConvBNActivation(\n",
      "          (0): Conv2d(184, 80, kernel_size=(1, 1), stride=(1, 1), bias=False)\n",
      "          (1): BatchNorm2d(80, eps=0.001, momentum=0.01, affine=True, track_running_stats=True)\n",
      "          (2): Identity()\n",
      "        )\n",
      "      )\n",
      "    )\n",
      "    (10): InvertedResidual(\n",
      "      (block): Sequential(\n",
      "        (0): ConvBNActivation(\n",
      "          (0): Conv2d(80, 184, kernel_size=(1, 1), stride=(1, 1), bias=False)\n",
      "          (1): BatchNorm2d(184, eps=0.001, momentum=0.01, affine=True, track_running_stats=True)\n",
      "          (2): Hardswish()\n",
      "        )\n",
      "        (1): ConvBNActivation(\n",
      "          (0): Conv2d(184, 184, kernel_size=(3, 3), stride=(1, 1), padding=(1, 1), groups=184, bias=False)\n",
      "          (1): BatchNorm2d(184, eps=0.001, momentum=0.01, affine=True, track_running_stats=True)\n",
      "          (2): Hardswish()\n",
      "        )\n",
      "        (2): ConvBNActivation(\n",
      "          (0): Conv2d(184, 80, kernel_size=(1, 1), stride=(1, 1), bias=False)\n",
      "          (1): BatchNorm2d(80, eps=0.001, momentum=0.01, affine=True, track_running_stats=True)\n",
      "          (2): Identity()\n",
      "        )\n",
      "      )\n",
      "    )\n",
      "    (11): InvertedResidual(\n",
      "      (block): Sequential(\n",
      "        (0): ConvBNActivation(\n",
      "          (0): Conv2d(80, 480, kernel_size=(1, 1), stride=(1, 1), bias=False)\n",
      "          (1): BatchNorm2d(480, eps=0.001, momentum=0.01, affine=True, track_running_stats=True)\n",
      "          (2): Hardswish()\n",
      "        )\n",
      "        (1): ConvBNActivation(\n",
      "          (0): Conv2d(480, 480, kernel_size=(3, 3), stride=(1, 1), padding=(1, 1), groups=480, bias=False)\n",
      "          (1): BatchNorm2d(480, eps=0.001, momentum=0.01, affine=True, track_running_stats=True)\n",
      "          (2): Hardswish()\n",
      "        )\n",
      "        (2): SqueezeExcitation(\n",
      "          (fc1): Conv2d(480, 120, kernel_size=(1, 1), stride=(1, 1))\n",
      "          (relu): ReLU(inplace=True)\n",
      "          (fc2): Conv2d(120, 480, kernel_size=(1, 1), stride=(1, 1))\n",
      "        )\n",
      "        (3): ConvBNActivation(\n",
      "          (0): Conv2d(480, 112, kernel_size=(1, 1), stride=(1, 1), bias=False)\n",
      "          (1): BatchNorm2d(112, eps=0.001, momentum=0.01, affine=True, track_running_stats=True)\n",
      "          (2): Identity()\n",
      "        )\n",
      "      )\n",
      "    )\n",
      "    (12): InvertedResidual(\n",
      "      (block): Sequential(\n",
      "        (0): ConvBNActivation(\n",
      "          (0): Conv2d(112, 672, kernel_size=(1, 1), stride=(1, 1), bias=False)\n",
      "          (1): BatchNorm2d(672, eps=0.001, momentum=0.01, affine=True, track_running_stats=True)\n",
      "          (2): Hardswish()\n",
      "        )\n",
      "        (1): ConvBNActivation(\n",
      "          (0): Conv2d(672, 672, kernel_size=(3, 3), stride=(1, 1), padding=(1, 1), groups=672, bias=False)\n",
      "          (1): BatchNorm2d(672, eps=0.001, momentum=0.01, affine=True, track_running_stats=True)\n",
      "          (2): Hardswish()\n",
      "        )\n",
      "        (2): SqueezeExcitation(\n",
      "          (fc1): Conv2d(672, 168, kernel_size=(1, 1), stride=(1, 1))\n",
      "          (relu): ReLU(inplace=True)\n",
      "          (fc2): Conv2d(168, 672, kernel_size=(1, 1), stride=(1, 1))\n",
      "        )\n",
      "        (3): ConvBNActivation(\n",
      "          (0): Conv2d(672, 112, kernel_size=(1, 1), stride=(1, 1), bias=False)\n",
      "          (1): BatchNorm2d(112, eps=0.001, momentum=0.01, affine=True, track_running_stats=True)\n",
      "          (2): Identity()\n",
      "        )\n",
      "      )\n",
      "    )\n",
      "    (13): InvertedResidual(\n",
      "      (block): Sequential(\n",
      "        (0): ConvBNActivation(\n",
      "          (0): Conv2d(112, 672, kernel_size=(1, 1), stride=(1, 1), bias=False)\n",
      "          (1): BatchNorm2d(672, eps=0.001, momentum=0.01, affine=True, track_running_stats=True)\n",
      "          (2): Hardswish()\n",
      "        )\n",
      "        (1): ConvBNActivation(\n",
      "          (0): Conv2d(672, 672, kernel_size=(5, 5), stride=(2, 2), padding=(2, 2), groups=672, bias=False)\n",
      "          (1): BatchNorm2d(672, eps=0.001, momentum=0.01, affine=True, track_running_stats=True)\n",
      "          (2): Hardswish()\n",
      "        )\n",
      "        (2): SqueezeExcitation(\n",
      "          (fc1): Conv2d(672, 168, kernel_size=(1, 1), stride=(1, 1))\n",
      "          (relu): ReLU(inplace=True)\n",
      "          (fc2): Conv2d(168, 672, kernel_size=(1, 1), stride=(1, 1))\n",
      "        )\n",
      "        (3): ConvBNActivation(\n",
      "          (0): Conv2d(672, 160, kernel_size=(1, 1), stride=(1, 1), bias=False)\n",
      "          (1): BatchNorm2d(160, eps=0.001, momentum=0.01, affine=True, track_running_stats=True)\n",
      "          (2): Identity()\n",
      "        )\n",
      "      )\n",
      "    )\n",
      "    (14): InvertedResidual(\n",
      "      (block): Sequential(\n",
      "        (0): ConvBNActivation(\n",
      "          (0): Conv2d(160, 960, kernel_size=(1, 1), stride=(1, 1), bias=False)\n",
      "          (1): BatchNorm2d(960, eps=0.001, momentum=0.01, affine=True, track_running_stats=True)\n",
      "          (2): Hardswish()\n",
      "        )\n",
      "        (1): ConvBNActivation(\n",
      "          (0): Conv2d(960, 960, kernel_size=(5, 5), stride=(1, 1), padding=(2, 2), groups=960, bias=False)\n",
      "          (1): BatchNorm2d(960, eps=0.001, momentum=0.01, affine=True, track_running_stats=True)\n",
      "          (2): Hardswish()\n",
      "        )\n",
      "        (2): SqueezeExcitation(\n",
      "          (fc1): Conv2d(960, 240, kernel_size=(1, 1), stride=(1, 1))\n",
      "          (relu): ReLU(inplace=True)\n",
      "          (fc2): Conv2d(240, 960, kernel_size=(1, 1), stride=(1, 1))\n",
      "        )\n",
      "        (3): ConvBNActivation(\n",
      "          (0): Conv2d(960, 160, kernel_size=(1, 1), stride=(1, 1), bias=False)\n",
      "          (1): BatchNorm2d(160, eps=0.001, momentum=0.01, affine=True, track_running_stats=True)\n",
      "          (2): Identity()\n",
      "        )\n",
      "      )\n",
      "    )\n",
      "    (15): InvertedResidual(\n",
      "      (block): Sequential(\n",
      "        (0): ConvBNActivation(\n",
      "          (0): Conv2d(160, 960, kernel_size=(1, 1), stride=(1, 1), bias=False)\n",
      "          (1): BatchNorm2d(960, eps=0.001, momentum=0.01, affine=True, track_running_stats=True)\n",
      "          (2): Hardswish()\n",
      "        )\n",
      "        (1): ConvBNActivation(\n",
      "          (0): Conv2d(960, 960, kernel_size=(5, 5), stride=(1, 1), padding=(2, 2), groups=960, bias=False)\n",
      "          (1): BatchNorm2d(960, eps=0.001, momentum=0.01, affine=True, track_running_stats=True)\n",
      "          (2): Hardswish()\n",
      "        )\n",
      "        (2): SqueezeExcitation(\n",
      "          (fc1): Conv2d(960, 240, kernel_size=(1, 1), stride=(1, 1))\n",
      "          (relu): ReLU(inplace=True)\n",
      "          (fc2): Conv2d(240, 960, kernel_size=(1, 1), stride=(1, 1))\n",
      "        )\n",
      "        (3): ConvBNActivation(\n",
      "          (0): Conv2d(960, 160, kernel_size=(1, 1), stride=(1, 1), bias=False)\n",
      "          (1): BatchNorm2d(160, eps=0.001, momentum=0.01, affine=True, track_running_stats=True)\n",
      "          (2): Identity()\n",
      "        )\n",
      "      )\n",
      "    )\n",
      "    (16): ConvBNActivation(\n",
      "      (0): Conv2d(160, 960, kernel_size=(1, 1), stride=(1, 1), bias=False)\n",
      "      (1): BatchNorm2d(960, eps=0.001, momentum=0.01, affine=True, track_running_stats=True)\n",
      "      (2): Hardswish()\n",
      "    )\n",
      "  )\n",
      "  (avgpool): AdaptiveAvgPool2d(output_size=1)\n",
      "  (classifier): Sequential(\n",
      "    (0): Linear(in_features=960, out_features=1280, bias=True)\n",
      "    (1): Hardswish()\n",
      "    (2): Dropout(p=0.2, inplace=True)\n",
      "    (3): Linear(in_features=1280, out_features=2, bias=True)\n",
      "  )\n",
      ")\n"
     ]
    }
   ],
   "source": [
    "model = models.mobilenet_v3_large()\n",
    "fc_in_features = model.classifier[0].out_features # 最終レイヤー関数の次元数\n",
    "model.classifier[3] = nn.Linear(fc_in_features, opt.num_classes) # 最終レイヤー関数の付け替え\n",
    "print(model)"
   ]
  },
  {
   "cell_type": "code",
   "execution_count": 8,
   "id": "a209e310",
   "metadata": {
    "execution": {
     "iopub.execute_input": "2022-04-13T06:43:14.726965Z",
     "iopub.status.busy": "2022-04-13T06:43:14.726216Z",
     "iopub.status.idle": "2022-04-13T06:43:15.098068Z",
     "shell.execute_reply": "2022-04-13T06:43:15.098974Z",
     "shell.execute_reply.started": "2022-04-13T06:39:34.817829Z"
    },
    "papermill": {
     "duration": 0.431909,
     "end_time": "2022-04-13T06:43:15.099162",
     "exception": false,
     "start_time": "2022-04-13T06:43:14.667253",
     "status": "completed"
    },
    "tags": []
   },
   "outputs": [
    {
     "data": {
      "text/plain": [
       "<All keys matched successfully>"
      ]
     },
     "execution_count": 8,
     "metadata": {},
     "output_type": "execute_result"
    }
   ],
   "source": [
    "# 学習済みモデルの読み込み\n",
    "model.load_state_dict(torch.load(model_path, map_location=torch.device('cpu'))) # 学習済みモデルの読み込み"
   ]
  },
  {
   "cell_type": "code",
   "execution_count": 9,
   "id": "b3fbf56a",
   "metadata": {
    "execution": {
     "iopub.execute_input": "2022-04-13T06:43:15.215261Z",
     "iopub.status.busy": "2022-04-13T06:43:15.214632Z",
     "iopub.status.idle": "2022-04-13T06:43:15.230300Z",
     "shell.execute_reply": "2022-04-13T06:43:15.230806Z",
     "shell.execute_reply.started": "2022-04-13T06:39:35.164563Z"
    },
    "papermill": {
     "duration": 0.075702,
     "end_time": "2022-04-13T06:43:15.230978",
     "exception": false,
     "start_time": "2022-04-13T06:43:15.155276",
     "status": "completed"
    },
    "tags": []
   },
   "outputs": [
    {
     "data": {
      "text/plain": [
       "MobileNetV3(\n",
       "  (features): Sequential(\n",
       "    (0): ConvBNActivation(\n",
       "      (0): Conv2d(3, 16, kernel_size=(3, 3), stride=(2, 2), padding=(1, 1), bias=False)\n",
       "      (1): BatchNorm2d(16, eps=0.001, momentum=0.01, affine=True, track_running_stats=True)\n",
       "      (2): Hardswish()\n",
       "    )\n",
       "    (1): InvertedResidual(\n",
       "      (block): Sequential(\n",
       "        (0): ConvBNActivation(\n",
       "          (0): Conv2d(16, 16, kernel_size=(3, 3), stride=(1, 1), padding=(1, 1), groups=16, bias=False)\n",
       "          (1): BatchNorm2d(16, eps=0.001, momentum=0.01, affine=True, track_running_stats=True)\n",
       "          (2): ReLU(inplace=True)\n",
       "        )\n",
       "        (1): ConvBNActivation(\n",
       "          (0): Conv2d(16, 16, kernel_size=(1, 1), stride=(1, 1), bias=False)\n",
       "          (1): BatchNorm2d(16, eps=0.001, momentum=0.01, affine=True, track_running_stats=True)\n",
       "          (2): Identity()\n",
       "        )\n",
       "      )\n",
       "    )\n",
       "    (2): InvertedResidual(\n",
       "      (block): Sequential(\n",
       "        (0): ConvBNActivation(\n",
       "          (0): Conv2d(16, 64, kernel_size=(1, 1), stride=(1, 1), bias=False)\n",
       "          (1): BatchNorm2d(64, eps=0.001, momentum=0.01, affine=True, track_running_stats=True)\n",
       "          (2): ReLU(inplace=True)\n",
       "        )\n",
       "        (1): ConvBNActivation(\n",
       "          (0): Conv2d(64, 64, kernel_size=(3, 3), stride=(2, 2), padding=(1, 1), groups=64, bias=False)\n",
       "          (1): BatchNorm2d(64, eps=0.001, momentum=0.01, affine=True, track_running_stats=True)\n",
       "          (2): ReLU(inplace=True)\n",
       "        )\n",
       "        (2): ConvBNActivation(\n",
       "          (0): Conv2d(64, 24, kernel_size=(1, 1), stride=(1, 1), bias=False)\n",
       "          (1): BatchNorm2d(24, eps=0.001, momentum=0.01, affine=True, track_running_stats=True)\n",
       "          (2): Identity()\n",
       "        )\n",
       "      )\n",
       "    )\n",
       "    (3): InvertedResidual(\n",
       "      (block): Sequential(\n",
       "        (0): ConvBNActivation(\n",
       "          (0): Conv2d(24, 72, kernel_size=(1, 1), stride=(1, 1), bias=False)\n",
       "          (1): BatchNorm2d(72, eps=0.001, momentum=0.01, affine=True, track_running_stats=True)\n",
       "          (2): ReLU(inplace=True)\n",
       "        )\n",
       "        (1): ConvBNActivation(\n",
       "          (0): Conv2d(72, 72, kernel_size=(3, 3), stride=(1, 1), padding=(1, 1), groups=72, bias=False)\n",
       "          (1): BatchNorm2d(72, eps=0.001, momentum=0.01, affine=True, track_running_stats=True)\n",
       "          (2): ReLU(inplace=True)\n",
       "        )\n",
       "        (2): ConvBNActivation(\n",
       "          (0): Conv2d(72, 24, kernel_size=(1, 1), stride=(1, 1), bias=False)\n",
       "          (1): BatchNorm2d(24, eps=0.001, momentum=0.01, affine=True, track_running_stats=True)\n",
       "          (2): Identity()\n",
       "        )\n",
       "      )\n",
       "    )\n",
       "    (4): InvertedResidual(\n",
       "      (block): Sequential(\n",
       "        (0): ConvBNActivation(\n",
       "          (0): Conv2d(24, 72, kernel_size=(1, 1), stride=(1, 1), bias=False)\n",
       "          (1): BatchNorm2d(72, eps=0.001, momentum=0.01, affine=True, track_running_stats=True)\n",
       "          (2): ReLU(inplace=True)\n",
       "        )\n",
       "        (1): ConvBNActivation(\n",
       "          (0): Conv2d(72, 72, kernel_size=(5, 5), stride=(2, 2), padding=(2, 2), groups=72, bias=False)\n",
       "          (1): BatchNorm2d(72, eps=0.001, momentum=0.01, affine=True, track_running_stats=True)\n",
       "          (2): ReLU(inplace=True)\n",
       "        )\n",
       "        (2): SqueezeExcitation(\n",
       "          (fc1): Conv2d(72, 24, kernel_size=(1, 1), stride=(1, 1))\n",
       "          (relu): ReLU(inplace=True)\n",
       "          (fc2): Conv2d(24, 72, kernel_size=(1, 1), stride=(1, 1))\n",
       "        )\n",
       "        (3): ConvBNActivation(\n",
       "          (0): Conv2d(72, 40, kernel_size=(1, 1), stride=(1, 1), bias=False)\n",
       "          (1): BatchNorm2d(40, eps=0.001, momentum=0.01, affine=True, track_running_stats=True)\n",
       "          (2): Identity()\n",
       "        )\n",
       "      )\n",
       "    )\n",
       "    (5): InvertedResidual(\n",
       "      (block): Sequential(\n",
       "        (0): ConvBNActivation(\n",
       "          (0): Conv2d(40, 120, kernel_size=(1, 1), stride=(1, 1), bias=False)\n",
       "          (1): BatchNorm2d(120, eps=0.001, momentum=0.01, affine=True, track_running_stats=True)\n",
       "          (2): ReLU(inplace=True)\n",
       "        )\n",
       "        (1): ConvBNActivation(\n",
       "          (0): Conv2d(120, 120, kernel_size=(5, 5), stride=(1, 1), padding=(2, 2), groups=120, bias=False)\n",
       "          (1): BatchNorm2d(120, eps=0.001, momentum=0.01, affine=True, track_running_stats=True)\n",
       "          (2): ReLU(inplace=True)\n",
       "        )\n",
       "        (2): SqueezeExcitation(\n",
       "          (fc1): Conv2d(120, 32, kernel_size=(1, 1), stride=(1, 1))\n",
       "          (relu): ReLU(inplace=True)\n",
       "          (fc2): Conv2d(32, 120, kernel_size=(1, 1), stride=(1, 1))\n",
       "        )\n",
       "        (3): ConvBNActivation(\n",
       "          (0): Conv2d(120, 40, kernel_size=(1, 1), stride=(1, 1), bias=False)\n",
       "          (1): BatchNorm2d(40, eps=0.001, momentum=0.01, affine=True, track_running_stats=True)\n",
       "          (2): Identity()\n",
       "        )\n",
       "      )\n",
       "    )\n",
       "    (6): InvertedResidual(\n",
       "      (block): Sequential(\n",
       "        (0): ConvBNActivation(\n",
       "          (0): Conv2d(40, 120, kernel_size=(1, 1), stride=(1, 1), bias=False)\n",
       "          (1): BatchNorm2d(120, eps=0.001, momentum=0.01, affine=True, track_running_stats=True)\n",
       "          (2): ReLU(inplace=True)\n",
       "        )\n",
       "        (1): ConvBNActivation(\n",
       "          (0): Conv2d(120, 120, kernel_size=(5, 5), stride=(1, 1), padding=(2, 2), groups=120, bias=False)\n",
       "          (1): BatchNorm2d(120, eps=0.001, momentum=0.01, affine=True, track_running_stats=True)\n",
       "          (2): ReLU(inplace=True)\n",
       "        )\n",
       "        (2): SqueezeExcitation(\n",
       "          (fc1): Conv2d(120, 32, kernel_size=(1, 1), stride=(1, 1))\n",
       "          (relu): ReLU(inplace=True)\n",
       "          (fc2): Conv2d(32, 120, kernel_size=(1, 1), stride=(1, 1))\n",
       "        )\n",
       "        (3): ConvBNActivation(\n",
       "          (0): Conv2d(120, 40, kernel_size=(1, 1), stride=(1, 1), bias=False)\n",
       "          (1): BatchNorm2d(40, eps=0.001, momentum=0.01, affine=True, track_running_stats=True)\n",
       "          (2): Identity()\n",
       "        )\n",
       "      )\n",
       "    )\n",
       "    (7): InvertedResidual(\n",
       "      (block): Sequential(\n",
       "        (0): ConvBNActivation(\n",
       "          (0): Conv2d(40, 240, kernel_size=(1, 1), stride=(1, 1), bias=False)\n",
       "          (1): BatchNorm2d(240, eps=0.001, momentum=0.01, affine=True, track_running_stats=True)\n",
       "          (2): Hardswish()\n",
       "        )\n",
       "        (1): ConvBNActivation(\n",
       "          (0): Conv2d(240, 240, kernel_size=(3, 3), stride=(2, 2), padding=(1, 1), groups=240, bias=False)\n",
       "          (1): BatchNorm2d(240, eps=0.001, momentum=0.01, affine=True, track_running_stats=True)\n",
       "          (2): Hardswish()\n",
       "        )\n",
       "        (2): ConvBNActivation(\n",
       "          (0): Conv2d(240, 80, kernel_size=(1, 1), stride=(1, 1), bias=False)\n",
       "          (1): BatchNorm2d(80, eps=0.001, momentum=0.01, affine=True, track_running_stats=True)\n",
       "          (2): Identity()\n",
       "        )\n",
       "      )\n",
       "    )\n",
       "    (8): InvertedResidual(\n",
       "      (block): Sequential(\n",
       "        (0): ConvBNActivation(\n",
       "          (0): Conv2d(80, 200, kernel_size=(1, 1), stride=(1, 1), bias=False)\n",
       "          (1): BatchNorm2d(200, eps=0.001, momentum=0.01, affine=True, track_running_stats=True)\n",
       "          (2): Hardswish()\n",
       "        )\n",
       "        (1): ConvBNActivation(\n",
       "          (0): Conv2d(200, 200, kernel_size=(3, 3), stride=(1, 1), padding=(1, 1), groups=200, bias=False)\n",
       "          (1): BatchNorm2d(200, eps=0.001, momentum=0.01, affine=True, track_running_stats=True)\n",
       "          (2): Hardswish()\n",
       "        )\n",
       "        (2): ConvBNActivation(\n",
       "          (0): Conv2d(200, 80, kernel_size=(1, 1), stride=(1, 1), bias=False)\n",
       "          (1): BatchNorm2d(80, eps=0.001, momentum=0.01, affine=True, track_running_stats=True)\n",
       "          (2): Identity()\n",
       "        )\n",
       "      )\n",
       "    )\n",
       "    (9): InvertedResidual(\n",
       "      (block): Sequential(\n",
       "        (0): ConvBNActivation(\n",
       "          (0): Conv2d(80, 184, kernel_size=(1, 1), stride=(1, 1), bias=False)\n",
       "          (1): BatchNorm2d(184, eps=0.001, momentum=0.01, affine=True, track_running_stats=True)\n",
       "          (2): Hardswish()\n",
       "        )\n",
       "        (1): ConvBNActivation(\n",
       "          (0): Conv2d(184, 184, kernel_size=(3, 3), stride=(1, 1), padding=(1, 1), groups=184, bias=False)\n",
       "          (1): BatchNorm2d(184, eps=0.001, momentum=0.01, affine=True, track_running_stats=True)\n",
       "          (2): Hardswish()\n",
       "        )\n",
       "        (2): ConvBNActivation(\n",
       "          (0): Conv2d(184, 80, kernel_size=(1, 1), stride=(1, 1), bias=False)\n",
       "          (1): BatchNorm2d(80, eps=0.001, momentum=0.01, affine=True, track_running_stats=True)\n",
       "          (2): Identity()\n",
       "        )\n",
       "      )\n",
       "    )\n",
       "    (10): InvertedResidual(\n",
       "      (block): Sequential(\n",
       "        (0): ConvBNActivation(\n",
       "          (0): Conv2d(80, 184, kernel_size=(1, 1), stride=(1, 1), bias=False)\n",
       "          (1): BatchNorm2d(184, eps=0.001, momentum=0.01, affine=True, track_running_stats=True)\n",
       "          (2): Hardswish()\n",
       "        )\n",
       "        (1): ConvBNActivation(\n",
       "          (0): Conv2d(184, 184, kernel_size=(3, 3), stride=(1, 1), padding=(1, 1), groups=184, bias=False)\n",
       "          (1): BatchNorm2d(184, eps=0.001, momentum=0.01, affine=True, track_running_stats=True)\n",
       "          (2): Hardswish()\n",
       "        )\n",
       "        (2): ConvBNActivation(\n",
       "          (0): Conv2d(184, 80, kernel_size=(1, 1), stride=(1, 1), bias=False)\n",
       "          (1): BatchNorm2d(80, eps=0.001, momentum=0.01, affine=True, track_running_stats=True)\n",
       "          (2): Identity()\n",
       "        )\n",
       "      )\n",
       "    )\n",
       "    (11): InvertedResidual(\n",
       "      (block): Sequential(\n",
       "        (0): ConvBNActivation(\n",
       "          (0): Conv2d(80, 480, kernel_size=(1, 1), stride=(1, 1), bias=False)\n",
       "          (1): BatchNorm2d(480, eps=0.001, momentum=0.01, affine=True, track_running_stats=True)\n",
       "          (2): Hardswish()\n",
       "        )\n",
       "        (1): ConvBNActivation(\n",
       "          (0): Conv2d(480, 480, kernel_size=(3, 3), stride=(1, 1), padding=(1, 1), groups=480, bias=False)\n",
       "          (1): BatchNorm2d(480, eps=0.001, momentum=0.01, affine=True, track_running_stats=True)\n",
       "          (2): Hardswish()\n",
       "        )\n",
       "        (2): SqueezeExcitation(\n",
       "          (fc1): Conv2d(480, 120, kernel_size=(1, 1), stride=(1, 1))\n",
       "          (relu): ReLU(inplace=True)\n",
       "          (fc2): Conv2d(120, 480, kernel_size=(1, 1), stride=(1, 1))\n",
       "        )\n",
       "        (3): ConvBNActivation(\n",
       "          (0): Conv2d(480, 112, kernel_size=(1, 1), stride=(1, 1), bias=False)\n",
       "          (1): BatchNorm2d(112, eps=0.001, momentum=0.01, affine=True, track_running_stats=True)\n",
       "          (2): Identity()\n",
       "        )\n",
       "      )\n",
       "    )\n",
       "    (12): InvertedResidual(\n",
       "      (block): Sequential(\n",
       "        (0): ConvBNActivation(\n",
       "          (0): Conv2d(112, 672, kernel_size=(1, 1), stride=(1, 1), bias=False)\n",
       "          (1): BatchNorm2d(672, eps=0.001, momentum=0.01, affine=True, track_running_stats=True)\n",
       "          (2): Hardswish()\n",
       "        )\n",
       "        (1): ConvBNActivation(\n",
       "          (0): Conv2d(672, 672, kernel_size=(3, 3), stride=(1, 1), padding=(1, 1), groups=672, bias=False)\n",
       "          (1): BatchNorm2d(672, eps=0.001, momentum=0.01, affine=True, track_running_stats=True)\n",
       "          (2): Hardswish()\n",
       "        )\n",
       "        (2): SqueezeExcitation(\n",
       "          (fc1): Conv2d(672, 168, kernel_size=(1, 1), stride=(1, 1))\n",
       "          (relu): ReLU(inplace=True)\n",
       "          (fc2): Conv2d(168, 672, kernel_size=(1, 1), stride=(1, 1))\n",
       "        )\n",
       "        (3): ConvBNActivation(\n",
       "          (0): Conv2d(672, 112, kernel_size=(1, 1), stride=(1, 1), bias=False)\n",
       "          (1): BatchNorm2d(112, eps=0.001, momentum=0.01, affine=True, track_running_stats=True)\n",
       "          (2): Identity()\n",
       "        )\n",
       "      )\n",
       "    )\n",
       "    (13): InvertedResidual(\n",
       "      (block): Sequential(\n",
       "        (0): ConvBNActivation(\n",
       "          (0): Conv2d(112, 672, kernel_size=(1, 1), stride=(1, 1), bias=False)\n",
       "          (1): BatchNorm2d(672, eps=0.001, momentum=0.01, affine=True, track_running_stats=True)\n",
       "          (2): Hardswish()\n",
       "        )\n",
       "        (1): ConvBNActivation(\n",
       "          (0): Conv2d(672, 672, kernel_size=(5, 5), stride=(2, 2), padding=(2, 2), groups=672, bias=False)\n",
       "          (1): BatchNorm2d(672, eps=0.001, momentum=0.01, affine=True, track_running_stats=True)\n",
       "          (2): Hardswish()\n",
       "        )\n",
       "        (2): SqueezeExcitation(\n",
       "          (fc1): Conv2d(672, 168, kernel_size=(1, 1), stride=(1, 1))\n",
       "          (relu): ReLU(inplace=True)\n",
       "          (fc2): Conv2d(168, 672, kernel_size=(1, 1), stride=(1, 1))\n",
       "        )\n",
       "        (3): ConvBNActivation(\n",
       "          (0): Conv2d(672, 160, kernel_size=(1, 1), stride=(1, 1), bias=False)\n",
       "          (1): BatchNorm2d(160, eps=0.001, momentum=0.01, affine=True, track_running_stats=True)\n",
       "          (2): Identity()\n",
       "        )\n",
       "      )\n",
       "    )\n",
       "    (14): InvertedResidual(\n",
       "      (block): Sequential(\n",
       "        (0): ConvBNActivation(\n",
       "          (0): Conv2d(160, 960, kernel_size=(1, 1), stride=(1, 1), bias=False)\n",
       "          (1): BatchNorm2d(960, eps=0.001, momentum=0.01, affine=True, track_running_stats=True)\n",
       "          (2): Hardswish()\n",
       "        )\n",
       "        (1): ConvBNActivation(\n",
       "          (0): Conv2d(960, 960, kernel_size=(5, 5), stride=(1, 1), padding=(2, 2), groups=960, bias=False)\n",
       "          (1): BatchNorm2d(960, eps=0.001, momentum=0.01, affine=True, track_running_stats=True)\n",
       "          (2): Hardswish()\n",
       "        )\n",
       "        (2): SqueezeExcitation(\n",
       "          (fc1): Conv2d(960, 240, kernel_size=(1, 1), stride=(1, 1))\n",
       "          (relu): ReLU(inplace=True)\n",
       "          (fc2): Conv2d(240, 960, kernel_size=(1, 1), stride=(1, 1))\n",
       "        )\n",
       "        (3): ConvBNActivation(\n",
       "          (0): Conv2d(960, 160, kernel_size=(1, 1), stride=(1, 1), bias=False)\n",
       "          (1): BatchNorm2d(160, eps=0.001, momentum=0.01, affine=True, track_running_stats=True)\n",
       "          (2): Identity()\n",
       "        )\n",
       "      )\n",
       "    )\n",
       "    (15): InvertedResidual(\n",
       "      (block): Sequential(\n",
       "        (0): ConvBNActivation(\n",
       "          (0): Conv2d(160, 960, kernel_size=(1, 1), stride=(1, 1), bias=False)\n",
       "          (1): BatchNorm2d(960, eps=0.001, momentum=0.01, affine=True, track_running_stats=True)\n",
       "          (2): Hardswish()\n",
       "        )\n",
       "        (1): ConvBNActivation(\n",
       "          (0): Conv2d(960, 960, kernel_size=(5, 5), stride=(1, 1), padding=(2, 2), groups=960, bias=False)\n",
       "          (1): BatchNorm2d(960, eps=0.001, momentum=0.01, affine=True, track_running_stats=True)\n",
       "          (2): Hardswish()\n",
       "        )\n",
       "        (2): SqueezeExcitation(\n",
       "          (fc1): Conv2d(960, 240, kernel_size=(1, 1), stride=(1, 1))\n",
       "          (relu): ReLU(inplace=True)\n",
       "          (fc2): Conv2d(240, 960, kernel_size=(1, 1), stride=(1, 1))\n",
       "        )\n",
       "        (3): ConvBNActivation(\n",
       "          (0): Conv2d(960, 160, kernel_size=(1, 1), stride=(1, 1), bias=False)\n",
       "          (1): BatchNorm2d(160, eps=0.001, momentum=0.01, affine=True, track_running_stats=True)\n",
       "          (2): Identity()\n",
       "        )\n",
       "      )\n",
       "    )\n",
       "    (16): ConvBNActivation(\n",
       "      (0): Conv2d(160, 960, kernel_size=(1, 1), stride=(1, 1), bias=False)\n",
       "      (1): BatchNorm2d(960, eps=0.001, momentum=0.01, affine=True, track_running_stats=True)\n",
       "      (2): Hardswish()\n",
       "    )\n",
       "  )\n",
       "  (avgpool): AdaptiveAvgPool2d(output_size=1)\n",
       "  (classifier): Sequential(\n",
       "    (0): Linear(in_features=960, out_features=1280, bias=True)\n",
       "    (1): Hardswish()\n",
       "    (2): Dropout(p=0.2, inplace=True)\n",
       "    (3): Linear(in_features=1280, out_features=2, bias=True)\n",
       "  )\n",
       ")"
      ]
     },
     "execution_count": 9,
     "metadata": {},
     "output_type": "execute_result"
    }
   ],
   "source": [
    "# モデルをGPUに送る\n",
    "model.to(device)"
   ]
  },
  {
   "cell_type": "markdown",
   "id": "d50a40ea",
   "metadata": {
    "papermill": {
     "duration": 0.056581,
     "end_time": "2022-04-13T06:43:15.344397",
     "exception": false,
     "start_time": "2022-04-13T06:43:15.287816",
     "status": "completed"
    },
    "tags": []
   },
   "source": [
    "# transform"
   ]
  },
  {
   "cell_type": "code",
   "execution_count": 10,
   "id": "59bcc218",
   "metadata": {
    "execution": {
     "iopub.execute_input": "2022-04-13T06:43:15.461997Z",
     "iopub.status.busy": "2022-04-13T06:43:15.461350Z",
     "iopub.status.idle": "2022-04-13T06:43:15.468888Z",
     "shell.execute_reply": "2022-04-13T06:43:15.469388Z",
     "shell.execute_reply.started": "2022-04-13T06:39:35.186209Z"
    },
    "papermill": {
     "duration": 0.06835,
     "end_time": "2022-04-13T06:43:15.469581",
     "exception": false,
     "start_time": "2022-04-13T06:43:15.401231",
     "status": "completed"
    },
    "tags": []
   },
   "outputs": [],
   "source": [
    "# transformの設定\n",
    "transform = {\n",
    "    'train': transforms.Compose([\n",
    "        transforms.Resize((opt.image_size,opt.image_size)),\n",
    "        transforms.RandomHorizontalFlip(p=0.5),\n",
    "        transforms.RandomVerticalFlip(p=0.5),\n",
    "        transforms.RandomAffine(degrees=[-10, 10], translate=(0.1, 0.1), scale=(0.5, 1.5)),\n",
    "        transforms.RandomRotation(degrees=10),\n",
    "        transforms.ToTensor(),\n",
    "        transforms.Normalize([0.485, 0.456, 0.406], [0.229, 0.224, 0.225]),\n",
    "        ]),\n",
    "    'val': transforms.Compose([\n",
    "        transforms.Resize((opt.image_size,opt.image_size)),\n",
    "        transforms.ToTensor(),\n",
    "        transforms.Normalize([0.485, 0.456, 0.406], [0.229, 0.224, 0.225]),\n",
    "        ]),\n",
    "}"
   ]
  },
  {
   "cell_type": "code",
   "execution_count": 11,
   "id": "19d55754",
   "metadata": {
    "execution": {
     "iopub.execute_input": "2022-04-13T06:43:15.586236Z",
     "iopub.status.busy": "2022-04-13T06:43:15.585593Z",
     "iopub.status.idle": "2022-04-13T06:43:15.593165Z",
     "shell.execute_reply": "2022-04-13T06:43:15.593769Z",
     "shell.execute_reply.started": "2022-04-13T06:39:35.198339Z"
    },
    "papermill": {
     "duration": 0.067669,
     "end_time": "2022-04-13T06:43:15.593936",
     "exception": false,
     "start_time": "2022-04-13T06:43:15.526267",
     "status": "completed"
    },
    "tags": []
   },
   "outputs": [],
   "source": [
    "# Datasetの設定\n",
    "class XrayDataset(Dataset):\n",
    "    def __init__(self, image_name_list, label_list, img_dir, transform=None, phase=None):\n",
    "        self.image_name_list = image_name_list # 画像ファイル名\n",
    "        self.label_list = label_list # ラベル\n",
    "        self.img_dir = img_dir # 画像データのディレクトリ\n",
    "        self.phase = phase # 変数phaseで学習(train)もしくは検証(val)の設定を行う\n",
    "        self.transform = transform\n",
    "\n",
    "    def __len__(self):\n",
    "        return len(self.image_name_list) # 1エポックあたりに読み込むデータ数として、入力データの数を指定\n",
    "\n",
    "    def __getitem__(self, index):\n",
    "        \n",
    "        # index番目の画像を読み込み、前処理を行う\n",
    "        image_path = os.path.join(self.img_dir, self.image_name_list[index]) # train_master.iloc[index, 0]はファイル名を抽出\n",
    "        img = Image.open(image_path).convert('RGB')\n",
    "        img = self.transform[self.phase](img)\n",
    "        \n",
    "        # index番目のラベルを取得する\n",
    "        label = self.label_list[index]\n",
    "        \n",
    "        return img, label"
   ]
  },
  {
   "cell_type": "markdown",
   "id": "a870efc3",
   "metadata": {
    "papermill": {
     "duration": 0.057064,
     "end_time": "2022-04-13T06:43:15.708272",
     "exception": false,
     "start_time": "2022-04-13T06:43:15.651208",
     "status": "completed"
    },
    "tags": []
   },
   "source": [
    "# NORMALのテストデータを推論"
   ]
  },
  {
   "cell_type": "markdown",
   "id": "99ba40c9",
   "metadata": {
    "papermill": {
     "duration": 0.05747,
     "end_time": "2022-04-13T06:43:15.822619",
     "exception": false,
     "start_time": "2022-04-13T06:43:15.765149",
     "status": "completed"
    },
    "tags": []
   },
   "source": [
    "## NORMALのテストデータのデータフレーム化"
   ]
  },
  {
   "cell_type": "code",
   "execution_count": 12,
   "id": "5dc5a932",
   "metadata": {
    "execution": {
     "iopub.execute_input": "2022-04-13T06:43:15.941094Z",
     "iopub.status.busy": "2022-04-13T06:43:15.939432Z",
     "iopub.status.idle": "2022-04-13T06:43:15.975433Z",
     "shell.execute_reply": "2022-04-13T06:43:15.974899Z",
     "shell.execute_reply.started": "2022-04-13T06:39:35.215623Z"
    },
    "papermill": {
     "duration": 0.095631,
     "end_time": "2022-04-13T06:43:15.975638",
     "exception": false,
     "start_time": "2022-04-13T06:43:15.880007",
     "status": "completed"
    },
    "tags": []
   },
   "outputs": [],
   "source": [
    "# ディレクトリ内の画像リスト作成\n",
    "normal = glob(test_normal_dir+'*.jpeg')"
   ]
  },
  {
   "cell_type": "code",
   "execution_count": 13,
   "id": "8d8ca9ca",
   "metadata": {
    "execution": {
     "iopub.execute_input": "2022-04-13T06:43:16.099467Z",
     "iopub.status.busy": "2022-04-13T06:43:16.098840Z",
     "iopub.status.idle": "2022-04-13T06:43:16.100157Z",
     "shell.execute_reply": "2022-04-13T06:43:16.100654Z",
     "shell.execute_reply.started": "2022-04-13T06:39:35.302314Z"
    },
    "papermill": {
     "duration": 0.067138,
     "end_time": "2022-04-13T06:43:16.100820",
     "exception": false,
     "start_time": "2022-04-13T06:43:16.033682",
     "status": "completed"
    },
    "tags": []
   },
   "outputs": [],
   "source": [
    "# テストデータのリストを作成\n",
    "test_file_list = []\n",
    "\n",
    "for path in normal:\n",
    "    file_name = re.split('[////////]', path)[8]\n",
    "    test_file_list.append(file_name)\n",
    "    #print(file_name)"
   ]
  },
  {
   "cell_type": "code",
   "execution_count": 14,
   "id": "1fe4eb33",
   "metadata": {
    "execution": {
     "iopub.execute_input": "2022-04-13T06:43:16.234255Z",
     "iopub.status.busy": "2022-04-13T06:43:16.219223Z",
     "iopub.status.idle": "2022-04-13T06:43:16.241908Z",
     "shell.execute_reply": "2022-04-13T06:43:16.242719Z",
     "shell.execute_reply.started": "2022-04-13T06:39:35.309807Z"
    },
    "papermill": {
     "duration": 0.084489,
     "end_time": "2022-04-13T06:43:16.242952",
     "exception": false,
     "start_time": "2022-04-13T06:43:16.158463",
     "status": "completed"
    },
    "tags": []
   },
   "outputs": [
    {
     "name": "stdout",
     "output_type": "stream",
     "text": [
      "                          name label\n",
      "0    NORMAL2-IM-0336-0001.jpeg  None\n",
      "1            IM-0101-0001.jpeg  None\n",
      "2    NORMAL2-IM-0337-0001.jpeg  None\n",
      "3    NORMAL2-IM-0198-0001.jpeg  None\n",
      "4            IM-0013-0001.jpeg  None\n",
      "..                         ...   ...\n",
      "229  NORMAL2-IM-0338-0001.jpeg  None\n",
      "230  NORMAL2-IM-0195-0001.jpeg  None\n",
      "231  NORMAL2-IM-0333-0001.jpeg  None\n",
      "232  NORMAL2-IM-0150-0001.jpeg  None\n",
      "233          IM-0010-0001.jpeg  None\n",
      "\n",
      "[234 rows x 2 columns]\n",
      "234\n"
     ]
    }
   ],
   "source": [
    "# ファイル名とラベルのデータフレームを作成\n",
    "test_normal_df = pd.DataFrame({'name':test_file_list})\n",
    "test_normal_df['label'] = None\n",
    "\n",
    "print(test_normal_df)\n",
    "print(len(test_normal_df))"
   ]
  },
  {
   "cell_type": "code",
   "execution_count": 15,
   "id": "983b0307",
   "metadata": {
    "execution": {
     "iopub.execute_input": "2022-04-13T06:43:16.363955Z",
     "iopub.status.busy": "2022-04-13T06:43:16.362887Z",
     "iopub.status.idle": "2022-04-13T06:43:16.364837Z",
     "shell.execute_reply": "2022-04-13T06:43:16.365431Z",
     "shell.execute_reply.started": "2022-04-13T06:39:35.342680Z"
    },
    "papermill": {
     "duration": 0.064695,
     "end_time": "2022-04-13T06:43:16.365613",
     "exception": false,
     "start_time": "2022-04-13T06:43:16.300918",
     "status": "completed"
    },
    "tags": []
   },
   "outputs": [],
   "source": [
    "# 画像データの名前リストの抽出\n",
    "x_test_normal = test_normal_df['name'].values\n",
    "dummy = test_normal_df['name'].values\n",
    "#print(x_test_normal, f'データ数：{len(x_test_normal)}')"
   ]
  },
  {
   "cell_type": "code",
   "execution_count": 16,
   "id": "705ba4e0",
   "metadata": {
    "execution": {
     "iopub.execute_input": "2022-04-13T06:43:16.507239Z",
     "iopub.status.busy": "2022-04-13T06:43:16.504797Z",
     "iopub.status.idle": "2022-04-13T06:43:16.509752Z",
     "shell.execute_reply": "2022-04-13T06:43:16.510259Z",
     "shell.execute_reply.started": "2022-04-13T06:39:35.349199Z"
    },
    "papermill": {
     "duration": 0.087107,
     "end_time": "2022-04-13T06:43:16.510449",
     "exception": false,
     "start_time": "2022-04-13T06:43:16.423342",
     "status": "completed"
    },
    "tags": []
   },
   "outputs": [],
   "source": [
    "# Datasetのインスタンス作成\n",
    "test_normal_dataset = XrayDataset(x_test_normal, dummy, test_normal_dir, transform=transform, phase='val')"
   ]
  },
  {
   "cell_type": "code",
   "execution_count": 17,
   "id": "b2ef84b5",
   "metadata": {
    "execution": {
     "iopub.execute_input": "2022-04-13T06:43:16.645617Z",
     "iopub.status.busy": "2022-04-13T06:43:16.644449Z",
     "iopub.status.idle": "2022-04-13T06:43:16.647249Z",
     "shell.execute_reply": "2022-04-13T06:43:16.647953Z",
     "shell.execute_reply.started": "2022-04-13T06:39:35.362387Z"
    },
    "papermill": {
     "duration": 0.068703,
     "end_time": "2022-04-13T06:43:16.648180",
     "exception": false,
     "start_time": "2022-04-13T06:43:16.579477",
     "status": "completed"
    },
    "tags": []
   },
   "outputs": [],
   "source": [
    "# DataLoader\n",
    "test_normal_dataloader = DataLoader(test_normal_dataset, batch_size=1, shuffle=False)"
   ]
  },
  {
   "cell_type": "code",
   "execution_count": 18,
   "id": "ba9bf516",
   "metadata": {
    "execution": {
     "iopub.execute_input": "2022-04-13T06:43:16.785643Z",
     "iopub.status.busy": "2022-04-13T06:43:16.784538Z",
     "iopub.status.idle": "2022-04-13T06:43:16.852626Z",
     "shell.execute_reply": "2022-04-13T06:43:16.853301Z",
     "shell.execute_reply.started": "2022-04-13T06:39:35.376502Z"
    },
    "papermill": {
     "duration": 0.139144,
     "end_time": "2022-04-13T06:43:16.853514",
     "exception": false,
     "start_time": "2022-04-13T06:43:16.714370",
     "status": "completed"
    },
    "tags": []
   },
   "outputs": [
    {
     "name": "stdout",
     "output_type": "stream",
     "text": [
      "torch.Size([1, 3, 128, 128])\n",
      "('NORMAL2-IM-0336-0001.jpeg',)\n"
     ]
    }
   ],
   "source": [
    "# DataLoaderの確認\n",
    "train_iter = iter(test_normal_dataloader)\n",
    "imgs, labels = train_iter.next()\n",
    "print(imgs.size())\n",
    "print(labels)"
   ]
  },
  {
   "cell_type": "markdown",
   "id": "50986d35",
   "metadata": {
    "papermill": {
     "duration": 0.056982,
     "end_time": "2022-04-13T06:43:16.970101",
     "exception": false,
     "start_time": "2022-04-13T06:43:16.913119",
     "status": "completed"
    },
    "tags": []
   },
   "source": [
    "## NORMALのテストデータの予測"
   ]
  },
  {
   "cell_type": "code",
   "execution_count": 19,
   "id": "d422eb8f",
   "metadata": {
    "execution": {
     "iopub.execute_input": "2022-04-13T06:43:17.092628Z",
     "iopub.status.busy": "2022-04-13T06:43:17.091518Z",
     "iopub.status.idle": "2022-04-13T06:43:37.544412Z",
     "shell.execute_reply": "2022-04-13T06:43:37.545032Z",
     "shell.execute_reply.started": "2022-04-13T06:39:35.468942Z"
    },
    "papermill": {
     "duration": 20.517328,
     "end_time": "2022-04-13T06:43:37.545217",
     "exception": false,
     "start_time": "2022-04-13T06:43:17.027889",
     "status": "completed"
    },
    "tags": []
   },
   "outputs": [],
   "source": [
    "# 予測データフレームの作成\n",
    "normal_preds = []\n",
    "\n",
    "# dataloaderから、ミニバッチ単位でデータを読み込む\n",
    "for images, _ in test_normal_dataloader:\n",
    "    \n",
    "    # 入力データをdeviceへ\n",
    "    images = images.to(device)\n",
    "    \n",
    "    # 学習済みモデルを推論モードに設定\n",
    "    model.eval()\n",
    "    \n",
    "    # モデルによる変換\n",
    "    outputs = model(images)\n",
    "    pred = torch.argmax(outputs, dim=1)\n",
    "    pred = pred.to('cpu').numpy()\n",
    "\n",
    "    # 予測値をリストに追加\n",
    "    normal_preds.extend(pred)"
   ]
  },
  {
   "cell_type": "code",
   "execution_count": 20,
   "id": "5af5dd30",
   "metadata": {
    "execution": {
     "iopub.execute_input": "2022-04-13T06:43:37.666703Z",
     "iopub.status.busy": "2022-04-13T06:43:37.664004Z",
     "iopub.status.idle": "2022-04-13T06:43:37.669666Z",
     "shell.execute_reply": "2022-04-13T06:43:37.670143Z",
     "shell.execute_reply.started": "2022-04-13T06:39:56.616583Z"
    },
    "papermill": {
     "duration": 0.067004,
     "end_time": "2022-04-13T06:43:37.670317",
     "exception": false,
     "start_time": "2022-04-13T06:43:37.603313",
     "status": "completed"
    },
    "tags": []
   },
   "outputs": [
    {
     "name": "stdout",
     "output_type": "stream",
     "text": [
      "[0, 1, 0, 1, 0, 0, 0, 0, 0, 0, 0, 0, 0, 1, 0, 0, 0, 0, 1, 0, 0, 0, 0, 0, 0, 0, 1, 0, 0, 0, 0, 1, 0, 1, 0, 1, 0, 0, 0, 0, 1, 0, 0, 0, 0, 0, 0, 1, 0, 0, 0, 0, 1, 1, 0, 0, 0, 0, 0, 0, 0, 1, 0, 0, 0, 1, 0, 0, 0, 0, 1, 0, 0, 0, 0, 0, 1, 0, 0, 0, 0, 0, 0, 0, 0, 0, 0, 0, 0, 0, 1, 0, 1, 0, 0, 0, 0, 0, 0, 1, 0, 1, 0, 0, 0, 1, 0, 1, 0, 1, 0, 0, 0, 1, 0, 1, 0, 0, 0, 0, 0, 0, 0, 0, 0, 0, 0, 0, 0, 1, 0, 0, 0, 0, 0, 0, 0, 0, 0, 0, 0, 0, 1, 0, 0, 0, 0, 0, 1, 0, 0, 0, 0, 0, 0, 1, 0, 1, 0, 0, 0, 0, 0, 0, 0, 0, 0, 0, 0, 0, 0, 0, 0, 1, 0, 0, 0, 1, 0, 0, 0, 0, 0, 0, 1, 0, 0, 0, 0, 0, 0, 0, 0, 0, 1, 0, 1, 0, 0, 1, 0, 0, 0, 0, 0, 0, 1, 0, 0, 0, 0, 1, 0, 0, 1, 0, 0, 1, 0, 0, 0, 1, 0, 0, 1, 0, 0, 0, 1, 1, 1, 0, 1, 0]\n",
      "正解率： 0.8034188034188035\n"
     ]
    }
   ],
   "source": [
    "# 予測結果と正解率の確認\n",
    "print(normal_preds)\n",
    "print('正解率：',normal_preds.count(0)/len(normal_preds))"
   ]
  },
  {
   "cell_type": "code",
   "execution_count": 21,
   "id": "39ee3871",
   "metadata": {
    "execution": {
     "iopub.execute_input": "2022-04-13T06:43:37.790664Z",
     "iopub.status.busy": "2022-04-13T06:43:37.789985Z",
     "iopub.status.idle": "2022-04-13T06:43:37.796958Z",
     "shell.execute_reply": "2022-04-13T06:43:37.797548Z",
     "shell.execute_reply.started": "2022-04-13T06:39:56.625106Z"
    },
    "papermill": {
     "duration": 0.069762,
     "end_time": "2022-04-13T06:43:37.797736",
     "exception": false,
     "start_time": "2022-04-13T06:43:37.727974",
     "status": "completed"
    },
    "tags": []
   },
   "outputs": [
    {
     "name": "stdout",
     "output_type": "stream",
     "text": [
      "                        name  label\n",
      "0  NORMAL2-IM-0336-0001.jpeg      0\n",
      "1          IM-0101-0001.jpeg      1\n",
      "2  NORMAL2-IM-0337-0001.jpeg      0\n",
      "3  NORMAL2-IM-0198-0001.jpeg      1\n",
      "4          IM-0013-0001.jpeg      0\n"
     ]
    }
   ],
   "source": [
    "# 目的変数カラムの置き換え\n",
    "test_normal_df['label'] = normal_preds\n",
    "print(test_normal_df.head())"
   ]
  },
  {
   "cell_type": "markdown",
   "id": "7b88594b",
   "metadata": {
    "papermill": {
     "duration": 0.058116,
     "end_time": "2022-04-13T06:43:37.913870",
     "exception": false,
     "start_time": "2022-04-13T06:43:37.855754",
     "status": "completed"
    },
    "tags": []
   },
   "source": [
    "# PNEUMONIAのテストデータを推論"
   ]
  },
  {
   "cell_type": "markdown",
   "id": "7247ac1f",
   "metadata": {
    "papermill": {
     "duration": 0.058044,
     "end_time": "2022-04-13T06:43:38.029572",
     "exception": false,
     "start_time": "2022-04-13T06:43:37.971528",
     "status": "completed"
    },
    "tags": []
   },
   "source": [
    "## PNEUMONIAのテストデータのデータフレーム化"
   ]
  },
  {
   "cell_type": "code",
   "execution_count": 22,
   "id": "9161c0d5",
   "metadata": {
    "execution": {
     "iopub.execute_input": "2022-04-13T06:43:38.149712Z",
     "iopub.status.busy": "2022-04-13T06:43:38.149078Z",
     "iopub.status.idle": "2022-04-13T06:43:38.184356Z",
     "shell.execute_reply": "2022-04-13T06:43:38.184905Z",
     "shell.execute_reply.started": "2022-04-13T06:39:56.639783Z"
    },
    "papermill": {
     "duration": 0.096676,
     "end_time": "2022-04-13T06:43:38.185090",
     "exception": false,
     "start_time": "2022-04-13T06:43:38.088414",
     "status": "completed"
    },
    "tags": []
   },
   "outputs": [],
   "source": [
    "# ディレクトリ内の画像リスト作成\n",
    "pneumonia = glob(test_pneumonia_dir+'*.jpeg')"
   ]
  },
  {
   "cell_type": "code",
   "execution_count": 23,
   "id": "95cb269e",
   "metadata": {
    "execution": {
     "iopub.execute_input": "2022-04-13T06:43:38.308084Z",
     "iopub.status.busy": "2022-04-13T06:43:38.307448Z",
     "iopub.status.idle": "2022-04-13T06:43:38.312093Z",
     "shell.execute_reply": "2022-04-13T06:43:38.312687Z",
     "shell.execute_reply.started": "2022-04-13T06:39:56.775648Z"
    },
    "papermill": {
     "duration": 0.065757,
     "end_time": "2022-04-13T06:43:38.312856",
     "exception": false,
     "start_time": "2022-04-13T06:43:38.247099",
     "status": "completed"
    },
    "tags": []
   },
   "outputs": [],
   "source": [
    "# テストデータのリストを作成\n",
    "test_file_list = []\n",
    "\n",
    "for path in pneumonia:\n",
    "    file_name = re.split('[////////]', path)[8]\n",
    "    test_file_list.append(file_name)\n",
    "    #print(file_name)"
   ]
  },
  {
   "cell_type": "code",
   "execution_count": 24,
   "id": "a04e8da3",
   "metadata": {
    "execution": {
     "iopub.execute_input": "2022-04-13T06:43:38.431666Z",
     "iopub.status.busy": "2022-04-13T06:43:38.431034Z",
     "iopub.status.idle": "2022-04-13T06:43:38.440537Z",
     "shell.execute_reply": "2022-04-13T06:43:38.441064Z",
     "shell.execute_reply.started": "2022-04-13T06:39:56.784519Z"
    },
    "papermill": {
     "duration": 0.070606,
     "end_time": "2022-04-13T06:43:38.441234",
     "exception": false,
     "start_time": "2022-04-13T06:43:38.370628",
     "status": "completed"
    },
    "tags": []
   },
   "outputs": [
    {
     "name": "stdout",
     "output_type": "stream",
     "text": [
      "                            name label\n",
      "0     person1676_virus_2892.jpeg  None\n",
      "1     person1650_virus_2852.jpeg  None\n",
      "2         person22_virus_55.jpeg  None\n",
      "3    person122_bacteria_582.jpeg  None\n",
      "4     person85_bacteria_417.jpeg  None\n",
      "..                           ...   ...\n",
      "385   person1659_virus_2867.jpeg  None\n",
      "386   person1615_virus_2801.jpeg  None\n",
      "387   person1664_virus_2877.jpeg  None\n",
      "388  person111_bacteria_536.jpeg  None\n",
      "389  person152_bacteria_724.jpeg  None\n",
      "\n",
      "[390 rows x 2 columns]\n",
      "390\n"
     ]
    }
   ],
   "source": [
    "# ファイル名とラベルのデータフレームを作成\n",
    "test_pneumonia_df = pd.DataFrame({'name':test_file_list})\n",
    "test_pneumonia_df['label'] = None\n",
    "\n",
    "print(test_pneumonia_df)\n",
    "print(len(test_pneumonia_df))"
   ]
  },
  {
   "cell_type": "code",
   "execution_count": 25,
   "id": "04fcec53",
   "metadata": {
    "execution": {
     "iopub.execute_input": "2022-04-13T06:43:38.560764Z",
     "iopub.status.busy": "2022-04-13T06:43:38.560125Z",
     "iopub.status.idle": "2022-04-13T06:43:38.564065Z",
     "shell.execute_reply": "2022-04-13T06:43:38.564661Z",
     "shell.execute_reply.started": "2022-04-13T06:39:56.802801Z"
    },
    "papermill": {
     "duration": 0.064983,
     "end_time": "2022-04-13T06:43:38.564833",
     "exception": false,
     "start_time": "2022-04-13T06:43:38.499850",
     "status": "completed"
    },
    "tags": []
   },
   "outputs": [],
   "source": [
    "# 画像データの名前リストの抽出\n",
    "x_test_pneumonia = test_pneumonia_df['name'].values\n",
    "dummy = test_pneumonia_df['name'].values\n",
    "#print(x_test_pneumonia, f'データ数：{len(x_test_pneumonia)}')"
   ]
  },
  {
   "cell_type": "code",
   "execution_count": 26,
   "id": "e3a6e9b1",
   "metadata": {
    "execution": {
     "iopub.execute_input": "2022-04-13T06:43:38.683674Z",
     "iopub.status.busy": "2022-04-13T06:43:38.683070Z",
     "iopub.status.idle": "2022-04-13T06:43:38.686608Z",
     "shell.execute_reply": "2022-04-13T06:43:38.687153Z",
     "shell.execute_reply.started": "2022-04-13T06:39:56.810098Z"
    },
    "papermill": {
     "duration": 0.064484,
     "end_time": "2022-04-13T06:43:38.687313",
     "exception": false,
     "start_time": "2022-04-13T06:43:38.622829",
     "status": "completed"
    },
    "tags": []
   },
   "outputs": [],
   "source": [
    "# Datasetのインスタンス作成\n",
    "test_pneumonia_dataset = XrayDataset(x_test_pneumonia, dummy, test_pneumonia_dir, transform=transform, phase='val')"
   ]
  },
  {
   "cell_type": "code",
   "execution_count": 27,
   "id": "c52d8562",
   "metadata": {
    "execution": {
     "iopub.execute_input": "2022-04-13T06:43:38.807895Z",
     "iopub.status.busy": "2022-04-13T06:43:38.807257Z",
     "iopub.status.idle": "2022-04-13T06:43:38.810687Z",
     "shell.execute_reply": "2022-04-13T06:43:38.811207Z",
     "shell.execute_reply.started": "2022-04-13T06:39:56.820826Z"
    },
    "papermill": {
     "duration": 0.065401,
     "end_time": "2022-04-13T06:43:38.811380",
     "exception": false,
     "start_time": "2022-04-13T06:43:38.745979",
     "status": "completed"
    },
    "tags": []
   },
   "outputs": [],
   "source": [
    "# DataLoader\n",
    "test_pneumonia_dataloader = DataLoader(test_pneumonia_dataset, batch_size=1, shuffle=False)"
   ]
  },
  {
   "cell_type": "code",
   "execution_count": 28,
   "id": "f832f6c8",
   "metadata": {
    "execution": {
     "iopub.execute_input": "2022-04-13T06:43:38.932261Z",
     "iopub.status.busy": "2022-04-13T06:43:38.931626Z",
     "iopub.status.idle": "2022-04-13T06:43:38.963144Z",
     "shell.execute_reply": "2022-04-13T06:43:38.963736Z",
     "shell.execute_reply.started": "2022-04-13T06:39:56.831646Z"
    },
    "papermill": {
     "duration": 0.094363,
     "end_time": "2022-04-13T06:43:38.963951",
     "exception": false,
     "start_time": "2022-04-13T06:43:38.869588",
     "status": "completed"
    },
    "tags": []
   },
   "outputs": [
    {
     "name": "stdout",
     "output_type": "stream",
     "text": [
      "torch.Size([1, 3, 128, 128])\n",
      "('person1676_virus_2892.jpeg',)\n"
     ]
    }
   ],
   "source": [
    "# DataLoaderの確認\n",
    "train_iter = iter(test_pneumonia_dataloader)\n",
    "imgs, labels = train_iter.next()\n",
    "print(imgs.size())\n",
    "print(labels)"
   ]
  },
  {
   "cell_type": "markdown",
   "id": "776c4d98",
   "metadata": {
    "papermill": {
     "duration": 0.058866,
     "end_time": "2022-04-13T06:43:39.083952",
     "exception": false,
     "start_time": "2022-04-13T06:43:39.025086",
     "status": "completed"
    },
    "tags": []
   },
   "source": [
    "## PNEUMONIAのテストデータの予測"
   ]
  },
  {
   "cell_type": "code",
   "execution_count": 29,
   "id": "cac31dd3",
   "metadata": {
    "execution": {
     "iopub.execute_input": "2022-04-13T06:43:39.208910Z",
     "iopub.status.busy": "2022-04-13T06:43:39.205480Z",
     "iopub.status.idle": "2022-04-13T06:44:06.512344Z",
     "shell.execute_reply": "2022-04-13T06:44:06.511181Z",
     "shell.execute_reply.started": "2022-04-13T06:39:56.878494Z"
    },
    "papermill": {
     "duration": 27.369741,
     "end_time": "2022-04-13T06:44:06.512543",
     "exception": false,
     "start_time": "2022-04-13T06:43:39.142802",
     "status": "completed"
    },
    "tags": []
   },
   "outputs": [],
   "source": [
    "# 予測データフレームの作成\n",
    "pneumonia_preds = []\n",
    "\n",
    "# dataloaderから、ミニバッチ単位でデータを読み込む\n",
    "for images, _ in test_pneumonia_dataloader:\n",
    "    \n",
    "    # 入力データをdeviceへ\n",
    "    images = images.to(device)\n",
    "    \n",
    "    # 学習済みモデルを推論モードに設定\n",
    "    model.eval()\n",
    "    \n",
    "    # モデルによる変換\n",
    "    outputs = model(images)\n",
    "    pred = torch.argmax(outputs, dim=1)\n",
    "    pred = pred.to('cpu').numpy()\n",
    "\n",
    "    # 予測値をリストに追加\n",
    "    pneumonia_preds.extend(pred)"
   ]
  },
  {
   "cell_type": "code",
   "execution_count": 30,
   "id": "36bbb121",
   "metadata": {
    "execution": {
     "iopub.execute_input": "2022-04-13T06:44:06.638232Z",
     "iopub.status.busy": "2022-04-13T06:44:06.637559Z",
     "iopub.status.idle": "2022-04-13T06:44:06.642294Z",
     "shell.execute_reply": "2022-04-13T06:44:06.641762Z",
     "shell.execute_reply.started": "2022-04-13T06:40:23.447028Z"
    },
    "papermill": {
     "duration": 0.068473,
     "end_time": "2022-04-13T06:44:06.642432",
     "exception": false,
     "start_time": "2022-04-13T06:44:06.573959",
     "status": "completed"
    },
    "tags": []
   },
   "outputs": [
    {
     "name": "stdout",
     "output_type": "stream",
     "text": [
      "[1, 1, 1, 1, 1, 0, 1, 1, 1, 1, 1, 0, 1, 1, 1, 1, 1, 1, 1, 1, 1, 1, 1, 1, 1, 1, 1, 1, 1, 1, 1, 1, 1, 1, 1, 1, 1, 1, 1, 1, 1, 1, 1, 1, 1, 1, 1, 1, 1, 1, 1, 1, 1, 1, 1, 1, 1, 1, 1, 1, 1, 1, 1, 1, 1, 1, 1, 1, 1, 1, 1, 1, 1, 1, 1, 1, 1, 1, 1, 1, 1, 1, 1, 1, 1, 1, 1, 1, 1, 1, 1, 1, 1, 1, 1, 1, 1, 1, 1, 1, 1, 1, 1, 1, 1, 1, 1, 1, 1, 1, 1, 1, 1, 1, 1, 1, 1, 1, 1, 1, 1, 1, 1, 1, 1, 1, 1, 1, 1, 1, 1, 1, 1, 1, 1, 1, 1, 1, 1, 1, 1, 1, 1, 1, 1, 1, 1, 1, 1, 1, 1, 1, 1, 1, 1, 1, 1, 1, 1, 1, 1, 1, 1, 1, 1, 1, 1, 1, 1, 1, 1, 1, 1, 1, 1, 1, 1, 1, 1, 1, 1, 1, 1, 1, 1, 1, 1, 1, 1, 1, 1, 1, 1, 1, 1, 1, 1, 1, 1, 1, 1, 1, 1, 1, 1, 1, 1, 1, 1, 1, 1, 1, 1, 1, 1, 1, 1, 1, 1, 1, 1, 1, 1, 1, 1, 1, 1, 1, 1, 1, 1, 1, 1, 1, 1, 1, 1, 1, 1, 1, 1, 0, 1, 1, 1, 1, 1, 1, 1, 1, 1, 1, 1, 1, 1, 1, 1, 1, 1, 1, 1, 1, 1, 1, 1, 1, 1, 1, 1, 1, 1, 1, 1, 0, 1, 1, 1, 1, 1, 1, 1, 1, 1, 1, 1, 1, 1, 1, 1, 1, 1, 1, 1, 1, 1, 1, 1, 1, 1, 1, 1, 1, 1, 1, 1, 1, 1, 1, 1, 0, 1, 1, 1, 0, 1, 1, 1, 1, 1, 1, 1, 1, 1, 1, 1, 1, 1, 1, 1, 1, 1, 1, 1, 1, 1, 1, 1, 1, 1, 1, 1, 1, 1, 1, 1, 1, 1, 1, 1, 1, 0, 1, 1, 1, 1, 1, 1, 1, 1, 1, 1, 1, 1, 1, 1, 1, 1, 1, 1, 1, 1, 1, 1, 1, 1, 1, 1, 1, 1, 1, 1, 1, 1, 1, 1, 1, 1, 1, 1, 0]\n",
      "正解率： 0.9794871794871794\n"
     ]
    }
   ],
   "source": [
    "# 予測結果と正解率の確認\n",
    "print(pneumonia_preds)\n",
    "print('正解率：',pneumonia_preds.count(1)/len(pneumonia_preds))"
   ]
  },
  {
   "cell_type": "code",
   "execution_count": 31,
   "id": "f5b78c45",
   "metadata": {
    "execution": {
     "iopub.execute_input": "2022-04-13T06:44:06.770856Z",
     "iopub.status.busy": "2022-04-13T06:44:06.769801Z",
     "iopub.status.idle": "2022-04-13T06:44:06.773400Z",
     "shell.execute_reply": "2022-04-13T06:44:06.772855Z",
     "shell.execute_reply.started": "2022-04-13T06:40:23.455523Z"
    },
    "papermill": {
     "duration": 0.07127,
     "end_time": "2022-04-13T06:44:06.773596",
     "exception": false,
     "start_time": "2022-04-13T06:44:06.702326",
     "status": "completed"
    },
    "tags": []
   },
   "outputs": [
    {
     "name": "stdout",
     "output_type": "stream",
     "text": [
      "                          name  label\n",
      "0   person1676_virus_2892.jpeg      1\n",
      "1   person1650_virus_2852.jpeg      1\n",
      "2       person22_virus_55.jpeg      1\n",
      "3  person122_bacteria_582.jpeg      1\n",
      "4   person85_bacteria_417.jpeg      1\n"
     ]
    }
   ],
   "source": [
    "# 目的変数カラムの置き換え\n",
    "test_pneumonia_df['label'] = pneumonia_preds\n",
    "print(test_pneumonia_df.head())"
   ]
  },
  {
   "cell_type": "markdown",
   "id": "da855637",
   "metadata": {
    "papermill": {
     "duration": 0.059834,
     "end_time": "2022-04-13T06:44:06.893639",
     "exception": false,
     "start_time": "2022-04-13T06:44:06.833805",
     "status": "completed"
    },
    "tags": []
   },
   "source": [
    "# 混同行列"
   ]
  },
  {
   "cell_type": "code",
   "execution_count": 32,
   "id": "21f05708",
   "metadata": {
    "execution": {
     "iopub.execute_input": "2022-04-13T06:44:07.018404Z",
     "iopub.status.busy": "2022-04-13T06:44:07.016316Z",
     "iopub.status.idle": "2022-04-13T06:44:07.021468Z",
     "shell.execute_reply": "2022-04-13T06:44:07.020917Z",
     "shell.execute_reply.started": "2022-04-13T06:40:23.471443Z"
    },
    "papermill": {
     "duration": 0.068126,
     "end_time": "2022-04-13T06:44:07.021652",
     "exception": false,
     "start_time": "2022-04-13T06:44:06.953526",
     "status": "completed"
    },
    "tags": []
   },
   "outputs": [],
   "source": [
    "# 正解リスト\n",
    "normal_true = [0] * len(normal_preds)\n",
    "pneumonia_true = [1] * len(pneumonia_preds)\n",
    "y_true = normal_true + pneumonia_true\n",
    "#print(y_true)\n",
    "#print('データ数：', len(y_true))"
   ]
  },
  {
   "cell_type": "code",
   "execution_count": 33,
   "id": "9f9e7b0f",
   "metadata": {
    "execution": {
     "iopub.execute_input": "2022-04-13T06:44:07.146960Z",
     "iopub.status.busy": "2022-04-13T06:44:07.146247Z",
     "iopub.status.idle": "2022-04-13T06:44:07.148748Z",
     "shell.execute_reply": "2022-04-13T06:44:07.148126Z",
     "shell.execute_reply.started": "2022-04-13T06:40:23.480487Z"
    },
    "papermill": {
     "duration": 0.067078,
     "end_time": "2022-04-13T06:44:07.148889",
     "exception": false,
     "start_time": "2022-04-13T06:44:07.081811",
     "status": "completed"
    },
    "tags": []
   },
   "outputs": [],
   "source": [
    "# 予測リスト\n",
    "y_pred = normal_preds + pneumonia_preds\n",
    "#print(y_pred)\n",
    "#print('データ数：', len(y_pred))"
   ]
  },
  {
   "cell_type": "code",
   "execution_count": 34,
   "id": "45a3600a",
   "metadata": {
    "execution": {
     "iopub.execute_input": "2022-04-13T06:44:07.273843Z",
     "iopub.status.busy": "2022-04-13T06:44:07.271353Z",
     "iopub.status.idle": "2022-04-13T06:44:07.417404Z",
     "shell.execute_reply": "2022-04-13T06:44:07.418304Z",
     "shell.execute_reply.started": "2022-04-13T06:40:23.489548Z"
    },
    "papermill": {
     "duration": 0.209499,
     "end_time": "2022-04-13T06:44:07.418597",
     "exception": false,
     "start_time": "2022-04-13T06:44:07.209098",
     "status": "completed"
    },
    "tags": []
   },
   "outputs": [
    {
     "data": {
      "image/png": "[encoded data removed]",
      "text/plain": [
       "<Figure size 432x288 with 1 Axes>"
      ]
     },
     "metadata": {
      "needs_background": "light"
     },
     "output_type": "display_data"
    }
   ],
   "source": [
    "# 混同行列の作成と可視化\n",
    "cm = confusion_matrix(y_true, y_pred)\n",
    "\n",
    "sns.heatmap(cm, \n",
    "            annot=True, # 数字を表示\n",
    "            fmt='d', # 整数表示\n",
    "            cmap='Blues',\n",
    "            cbar=False # カラーバーを非表示\n",
    ")\n",
    "plt.show()"
   ]
  },
  {
   "cell_type": "markdown",
   "id": "8571a39f",
   "metadata": {
    "papermill": {
     "duration": 0.059708,
     "end_time": "2022-04-13T06:44:07.543283",
     "exception": false,
     "start_time": "2022-04-13T06:44:07.483575",
     "status": "completed"
    },
    "tags": []
   },
   "source": [
    "## 正解率"
   ]
  },
  {
   "cell_type": "markdown",
   "id": "577489c0",
   "metadata": {
    "papermill": {
     "duration": 0.059441,
     "end_time": "2022-04-13T06:44:07.662660",
     "exception": false,
     "start_time": "2022-04-13T06:44:07.603219",
     "status": "completed"
    },
    "tags": []
   },
   "source": [
    "正解率（accuracy）は、すべてのサンプルのうち正解したサンプルの割合"
   ]
  },
  {
   "cell_type": "code",
   "execution_count": 35,
   "id": "a60d144c",
   "metadata": {
    "execution": {
     "iopub.execute_input": "2022-04-13T06:44:07.787556Z",
     "iopub.status.busy": "2022-04-13T06:44:07.786908Z",
     "iopub.status.idle": "2022-04-13T06:44:07.791641Z",
     "shell.execute_reply": "2022-04-13T06:44:07.792144Z",
     "shell.execute_reply.started": "2022-04-13T06:40:23.641259Z"
    },
    "papermill": {
     "duration": 0.069801,
     "end_time": "2022-04-13T06:44:07.792313",
     "exception": false,
     "start_time": "2022-04-13T06:44:07.722512",
     "status": "completed"
    },
    "tags": []
   },
   "outputs": [
    {
     "name": "stdout",
     "output_type": "stream",
     "text": [
      "0.9134615384615384\n"
     ]
    }
   ],
   "source": [
    "print(accuracy_score(y_true, y_pred))"
   ]
  },
  {
   "cell_type": "markdown",
   "id": "e8d0b6df",
   "metadata": {
    "papermill": {
     "duration": 0.060093,
     "end_time": "2022-04-13T06:44:07.913360",
     "exception": false,
     "start_time": "2022-04-13T06:44:07.853267",
     "status": "completed"
    },
    "tags": []
   },
   "source": [
    "## 適合率"
   ]
  },
  {
   "cell_type": "markdown",
   "id": "6ed20f3b",
   "metadata": {
    "papermill": {
     "duration": 0.060416,
     "end_time": "2022-04-13T06:44:08.034697",
     "exception": false,
     "start_time": "2022-04-13T06:44:07.974281",
     "status": "completed"
    },
    "tags": []
   },
   "source": [
    "適合率（precision）は、陽性と予測されたサンプルのうち正解したサンプルの割合"
   ]
  },
  {
   "cell_type": "code",
   "execution_count": 36,
   "id": "68cb1b62",
   "metadata": {
    "execution": {
     "iopub.execute_input": "2022-04-13T06:44:08.160285Z",
     "iopub.status.busy": "2022-04-13T06:44:08.159332Z",
     "iopub.status.idle": "2022-04-13T06:44:08.167738Z",
     "shell.execute_reply": "2022-04-13T06:44:08.167187Z",
     "shell.execute_reply.started": "2022-04-13T06:40:23.649569Z"
    },
    "papermill": {
     "duration": 0.071917,
     "end_time": "2022-04-13T06:44:08.167889",
     "exception": false,
     "start_time": "2022-04-13T06:44:08.095972",
     "status": "completed"
    },
    "tags": []
   },
   "outputs": [
    {
     "name": "stdout",
     "output_type": "stream",
     "text": [
      "0.8925233644859814\n"
     ]
    }
   ],
   "source": [
    "print(precision_score(y_true, y_pred))"
   ]
  },
  {
   "cell_type": "markdown",
   "id": "009d4e2c",
   "metadata": {
    "papermill": {
     "duration": 0.060515,
     "end_time": "2022-04-13T06:44:08.293200",
     "exception": false,
     "start_time": "2022-04-13T06:44:08.232685",
     "status": "completed"
    },
    "tags": []
   },
   "source": [
    "## 再現率"
   ]
  },
  {
   "cell_type": "markdown",
   "id": "f5f97187",
   "metadata": {
    "papermill": {
     "duration": 0.060891,
     "end_time": "2022-04-13T06:44:08.414980",
     "exception": false,
     "start_time": "2022-04-13T06:44:08.354089",
     "status": "completed"
    },
    "tags": []
   },
   "source": [
    "再現率（recall）は実際に陽性のサンプルのうち正解したサンプルの割合。sensitivityやhit rate, TPR（true positive rate, 真陽性率）などとも呼ばれる。"
   ]
  },
  {
   "cell_type": "code",
   "execution_count": 37,
   "id": "6f210472",
   "metadata": {
    "execution": {
     "iopub.execute_input": "2022-04-13T06:44:08.543179Z",
     "iopub.status.busy": "2022-04-13T06:44:08.542449Z",
     "iopub.status.idle": "2022-04-13T06:44:08.546863Z",
     "shell.execute_reply": "2022-04-13T06:44:08.547527Z",
     "shell.execute_reply.started": "2022-04-13T06:40:23.663600Z"
    },
    "papermill": {
     "duration": 0.071847,
     "end_time": "2022-04-13T06:44:08.547758",
     "exception": false,
     "start_time": "2022-04-13T06:44:08.475911",
     "status": "completed"
    },
    "tags": []
   },
   "outputs": [
    {
     "name": "stdout",
     "output_type": "stream",
     "text": [
      "0.9794871794871794\n"
     ]
    }
   ],
   "source": [
    "print(recall_score(y_true, y_pred))"
   ]
  },
  {
   "cell_type": "markdown",
   "id": "185ae7fb",
   "metadata": {
    "papermill": {
     "duration": 0.060936,
     "end_time": "2022-04-13T06:44:08.671104",
     "exception": false,
     "start_time": "2022-04-13T06:44:08.610168",
     "status": "completed"
    },
    "tags": []
   },
   "source": [
    "## 特異度"
   ]
  },
  {
   "cell_type": "markdown",
   "id": "696df90f",
   "metadata": {
    "papermill": {
     "duration": 0.062055,
     "end_time": "2022-04-13T06:44:08.794771",
     "exception": false,
     "start_time": "2022-04-13T06:44:08.732716",
     "status": "completed"
    },
    "tags": []
   },
   "source": [
    "特異度（specificity）は実際に陰性のサンプルのうち正解したサンプルの割合"
   ]
  },
  {
   "cell_type": "code",
   "execution_count": 38,
   "id": "ba27ec16",
   "metadata": {
    "execution": {
     "iopub.execute_input": "2022-04-13T06:44:08.923196Z",
     "iopub.status.busy": "2022-04-13T06:44:08.922483Z",
     "iopub.status.idle": "2022-04-13T06:44:08.927092Z",
     "shell.execute_reply": "2022-04-13T06:44:08.927639Z",
     "shell.execute_reply.started": "2022-04-13T06:40:23.675780Z"
    },
    "papermill": {
     "duration": 0.071635,
     "end_time": "2022-04-13T06:44:08.927811",
     "exception": false,
     "start_time": "2022-04-13T06:44:08.856176",
     "status": "completed"
    },
    "tags": []
   },
   "outputs": [],
   "source": [
    "tn, fp, fn, tp = confusion_matrix(y_true, y_pred).ravel()"
   ]
  },
  {
   "cell_type": "code",
   "execution_count": 39,
   "id": "2f561b50",
   "metadata": {
    "execution": {
     "iopub.execute_input": "2022-04-13T06:44:09.053820Z",
     "iopub.status.busy": "2022-04-13T06:44:09.053170Z",
     "iopub.status.idle": "2022-04-13T06:44:09.058219Z",
     "shell.execute_reply": "2022-04-13T06:44:09.058857Z",
     "shell.execute_reply.started": "2022-04-13T06:40:23.686025Z"
    },
    "papermill": {
     "duration": 0.069458,
     "end_time": "2022-04-13T06:44:09.059031",
     "exception": false,
     "start_time": "2022-04-13T06:44:08.989573",
     "status": "completed"
    },
    "tags": []
   },
   "outputs": [
    {
     "name": "stdout",
     "output_type": "stream",
     "text": [
      "0.8034188034188035\n"
     ]
    }
   ],
   "source": [
    "print(tn / (tn + fp))"
   ]
  },
  {
   "cell_type": "markdown",
   "id": "d7b49e54",
   "metadata": {
    "papermill": {
     "duration": 0.061336,
     "end_time": "2022-04-13T06:44:09.182009",
     "exception": false,
     "start_time": "2022-04-13T06:44:09.120673",
     "status": "completed"
    },
    "tags": []
   },
   "source": [
    "## F1値"
   ]
  },
  {
   "cell_type": "markdown",
   "id": "b7e51032",
   "metadata": {
    "papermill": {
     "duration": 0.061601,
     "end_time": "2022-04-13T06:44:09.305716",
     "exception": false,
     "start_time": "2022-04-13T06:44:09.244115",
     "status": "completed"
    },
    "tags": []
   },
   "source": [
    "F1値（F1-measure）は適合率と再現率の調和平均。"
   ]
  },
  {
   "cell_type": "code",
   "execution_count": 40,
   "id": "9f6c73b1",
   "metadata": {
    "execution": {
     "iopub.execute_input": "2022-04-13T06:44:09.433784Z",
     "iopub.status.busy": "2022-04-13T06:44:09.433104Z",
     "iopub.status.idle": "2022-04-13T06:44:09.438854Z",
     "shell.execute_reply": "2022-04-13T06:44:09.439395Z",
     "shell.execute_reply.started": "2022-04-13T06:40:23.698066Z"
    },
    "papermill": {
     "duration": 0.072574,
     "end_time": "2022-04-13T06:44:09.439584",
     "exception": false,
     "start_time": "2022-04-13T06:44:09.367010",
     "status": "completed"
    },
    "tags": []
   },
   "outputs": [
    {
     "name": "stdout",
     "output_type": "stream",
     "text": [
      "0.9339853300733497\n"
     ]
    }
   ],
   "source": [
    "print(f1_score(y_true, y_pred))"
   ]
  },
  {
   "cell_type": "markdown",
   "id": "a5ca6d4b",
   "metadata": {
    "papermill": {
     "duration": 0.06175,
     "end_time": "2022-04-13T06:44:09.563566",
     "exception": false,
     "start_time": "2022-04-13T06:44:09.501816",
     "status": "completed"
    },
    "tags": []
   },
   "source": [
    "# 予測データフレームの結合・出力"
   ]
  },
  {
   "cell_type": "code",
   "execution_count": 41,
   "id": "216c31ea",
   "metadata": {
    "execution": {
     "iopub.execute_input": "2022-04-13T06:44:09.690377Z",
     "iopub.status.busy": "2022-04-13T06:44:09.689749Z",
     "iopub.status.idle": "2022-04-13T06:44:09.704870Z",
     "shell.execute_reply": "2022-04-13T06:44:09.705414Z",
     "shell.execute_reply.started": "2022-04-13T06:40:23.711338Z"
    },
    "papermill": {
     "duration": 0.080319,
     "end_time": "2022-04-13T06:44:09.705649",
     "exception": false,
     "start_time": "2022-04-13T06:44:09.625330",
     "status": "completed"
    },
    "tags": []
   },
   "outputs": [
    {
     "name": "stdout",
     "output_type": "stream",
     "text": [
      "                            name      label\n",
      "0      NORMAL2-IM-0336-0001.jpeg     NORMAL\n",
      "1              IM-0101-0001.jpeg  PNEUMONIA\n",
      "2      NORMAL2-IM-0337-0001.jpeg     NORMAL\n",
      "3      NORMAL2-IM-0198-0001.jpeg  PNEUMONIA\n",
      "4              IM-0013-0001.jpeg     NORMAL\n",
      "..                           ...        ...\n",
      "385   person1659_virus_2867.jpeg  PNEUMONIA\n",
      "386   person1615_virus_2801.jpeg  PNEUMONIA\n",
      "387   person1664_virus_2877.jpeg  PNEUMONIA\n",
      "388  person111_bacteria_536.jpeg  PNEUMONIA\n",
      "389  person152_bacteria_724.jpeg     NORMAL\n",
      "\n",
      "[624 rows x 2 columns]\n"
     ]
    }
   ],
   "source": [
    "df = pd.concat([test_normal_df, test_pneumonia_df])\n",
    "df['label'] = df['label'].map({0: 'NORMAL',\n",
    "                               1: 'PNEUMONIA'})\n",
    "print(df)"
   ]
  },
  {
   "cell_type": "code",
   "execution_count": 42,
   "id": "579ad9c5",
   "metadata": {
    "execution": {
     "iopub.execute_input": "2022-04-13T06:44:09.835359Z",
     "iopub.status.busy": "2022-04-13T06:44:09.834715Z",
     "iopub.status.idle": "2022-04-13T06:44:09.843471Z",
     "shell.execute_reply": "2022-04-13T06:44:09.844040Z",
     "shell.execute_reply.started": "2022-04-13T06:40:23.733600Z"
    },
    "papermill": {
     "duration": 0.076252,
     "end_time": "2022-04-13T06:44:09.844227",
     "exception": false,
     "start_time": "2022-04-13T06:44:09.767975",
     "status": "completed"
    },
    "tags": []
   },
   "outputs": [],
   "source": [
    "# データフレームの出力\n",
    "df.to_csv('/kaggle/working/submission.csv', index = False)"
   ]
  }
 ],
 "metadata": {
  "kernelspec": {
   "display_name": "Python 3",
   "language": "python",
   "name": "python3"
  },
  "language_info": {
   "codemirror_mode": {
    "name": "ipython",
    "version": 3
   },
   "file_extension": ".py",
   "mimetype": "text/x-python",
   "name": "python",
   "nbconvert_exporter": "python",
   "pygments_lexer": "ipython3",
   "version": "3.7.12"
  },
  "papermill": {
   "default_parameters": {},
   "duration": 69.960265,
   "end_time": "2022-04-13T06:44:10.817098",
   "environment_variables": {},
   "exception": null,
   "input_path": "__notebook__.ipynb",
   "output_path": "__notebook__.ipynb",
   "parameters": {},
   "start_time": "2022-04-13T06:43:00.856833",
   "version": "2.3.3"
  }
 },
 "nbformat": 4,
 "nbformat_minor": 5
}
