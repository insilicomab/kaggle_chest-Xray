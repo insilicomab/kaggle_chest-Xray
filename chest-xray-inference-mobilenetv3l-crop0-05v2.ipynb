{
 "cells": [
  {
   "cell_type": "markdown",
   "id": "dd9d80dd",
   "metadata": {
    "papermill": {
     "duration": 0.057353,
     "end_time": "2022-04-15T23:45:44.468433",
     "exception": false,
     "start_time": "2022-04-15T23:45:44.411080",
     "status": "completed"
    },
    "tags": []
   },
   "source": [
    "# 事前準備"
   ]
  },
  {
   "cell_type": "code",
   "execution_count": 1,
   "id": "47e0d95c",
   "metadata": {
    "execution": {
     "iopub.execute_input": "2022-04-15T23:45:44.584629Z",
     "iopub.status.busy": "2022-04-15T23:45:44.583489Z",
     "iopub.status.idle": "2022-04-15T23:45:47.669767Z",
     "shell.execute_reply": "2022-04-15T23:45:47.669017Z",
     "shell.execute_reply.started": "2022-04-14T02:54:55.771204Z"
    },
    "papermill": {
     "duration": 3.146213,
     "end_time": "2022-04-15T23:45:47.669981",
     "exception": false,
     "start_time": "2022-04-15T23:45:44.523768",
     "status": "completed"
    },
    "tags": []
   },
   "outputs": [],
   "source": [
    "# ライブラリのインポート\n",
    "import os\n",
    "import re\n",
    "import random\n",
    "from glob import glob\n",
    "from warnings import filterwarnings\n",
    "\n",
    "import argparse\n",
    "\n",
    "import pandas as pd\n",
    "import numpy as np\n",
    "import matplotlib.pyplot as plt\n",
    "import seaborn as sns\n",
    "\n",
    "from sklearn.model_selection import train_test_split\n",
    "from sklearn.metrics import confusion_matrix\n",
    "from sklearn.metrics import accuracy_score, precision_score, recall_score, f1_score\n",
    "\n",
    "import cv2\n",
    "from PIL import Image\n",
    "\n",
    "import torch\n",
    "from torchvision import datasets, transforms, models\n",
    "from torch.utils.data import Dataset, DataLoader\n",
    "from torch import nn, optim\n",
    "\n",
    "from collections import defaultdict\n",
    "\n",
    "filterwarnings('ignore')   # warningをオフにする"
   ]
  },
  {
   "cell_type": "code",
   "execution_count": 2,
   "id": "2d2a9352",
   "metadata": {
    "execution": {
     "iopub.execute_input": "2022-04-15T23:45:47.784181Z",
     "iopub.status.busy": "2022-04-15T23:45:47.783502Z",
     "iopub.status.idle": "2022-04-15T23:45:47.789770Z",
     "shell.execute_reply": "2022-04-15T23:45:47.790266Z",
     "shell.execute_reply.started": "2022-04-14T02:54:58.827134Z"
    },
    "papermill": {
     "duration": 0.065498,
     "end_time": "2022-04-15T23:45:47.790427",
     "exception": false,
     "start_time": "2022-04-15T23:45:47.724929",
     "status": "completed"
    },
    "tags": []
   },
   "outputs": [],
   "source": [
    "# ランダムシードの設定\n",
    "torch.manual_seed(1234)\n",
    "torch.cuda.manual_seed(1234)\n",
    "np.random.seed(1234)\n",
    "random.seed(1234)"
   ]
  },
  {
   "cell_type": "code",
   "execution_count": 3,
   "id": "00837c0b",
   "metadata": {
    "execution": {
     "iopub.execute_input": "2022-04-15T23:45:47.901527Z",
     "iopub.status.busy": "2022-04-15T23:45:47.900932Z",
     "iopub.status.idle": "2022-04-15T23:45:47.906646Z",
     "shell.execute_reply": "2022-04-15T23:45:47.907518Z",
     "shell.execute_reply.started": "2022-04-14T02:54:58.836934Z"
    },
    "papermill": {
     "duration": 0.063322,
     "end_time": "2022-04-15T23:45:47.907725",
     "exception": false,
     "start_time": "2022-04-15T23:45:47.844403",
     "status": "completed"
    },
    "tags": []
   },
   "outputs": [
    {
     "name": "stdout",
     "output_type": "stream",
     "text": [
      "デバイス：cpu\n"
     ]
    }
   ],
   "source": [
    "# デバイスの設定\n",
    "device = 'cuda' if torch.cuda.is_available() else 'cpu'\n",
    "kwargs = {'num_workers': 1, 'pin_memory': True} if torch.cuda.is_available() else {} # GPUが使える場合、DataLoaderでのミニバッチの取り出しを高速化\n",
    "print(f'デバイス：{device}')"
   ]
  },
  {
   "cell_type": "code",
   "execution_count": 4,
   "id": "36219763",
   "metadata": {
    "execution": {
     "iopub.execute_input": "2022-04-15T23:45:48.022923Z",
     "iopub.status.busy": "2022-04-15T23:45:48.022198Z",
     "iopub.status.idle": "2022-04-15T23:45:48.028397Z",
     "shell.execute_reply": "2022-04-15T23:45:48.028883Z",
     "shell.execute_reply.started": "2022-04-14T02:54:58.848607Z"
    },
    "papermill": {
     "duration": 0.065343,
     "end_time": "2022-04-15T23:45:48.029042",
     "exception": false,
     "start_time": "2022-04-15T23:45:47.963699",
     "status": "completed"
    },
    "tags": []
   },
   "outputs": [
    {
     "name": "stdout",
     "output_type": "stream",
     "text": [
      "Namespace(image_size=224, num_classes=2)\n"
     ]
    }
   ],
   "source": [
    "# ハイパーパラメータの設定\n",
    "parser = argparse.ArgumentParser()\n",
    "parser.add_argument('--image_size', type=int, default=224)\n",
    "parser.add_argument('--num_classes', type=int, default=2)\n",
    "opt = parser.parse_args(args=[])\n",
    "print(opt)"
   ]
  },
  {
   "cell_type": "code",
   "execution_count": 5,
   "id": "84e06017",
   "metadata": {
    "execution": {
     "iopub.execute_input": "2022-04-15T23:45:48.143049Z",
     "iopub.status.busy": "2022-04-15T23:45:48.142317Z",
     "iopub.status.idle": "2022-04-15T23:45:48.145568Z",
     "shell.execute_reply": "2022-04-15T23:45:48.146094Z",
     "shell.execute_reply.started": "2022-04-14T02:54:58.864828Z"
    },
    "papermill": {
     "duration": 0.061643,
     "end_time": "2022-04-15T23:45:48.146258",
     "exception": false,
     "start_time": "2022-04-15T23:45:48.084615",
     "status": "completed"
    },
    "tags": []
   },
   "outputs": [],
   "source": [
    "# NORMALのtestデータのディレクトリ\n",
    "test_normal_dir = '/kaggle/input/chest-xray-pneumonia/chest_xray/chest_xray/test/NORMAL/'\n",
    "\n",
    "# PNEUMONIAのtestデータのディレクトリ\n",
    "test_pneumonia_dir = '/kaggle/input/chest-xray-pneumonia/chest_xray/chest_xray/test/PNEUMONIA/'"
   ]
  },
  {
   "cell_type": "markdown",
   "id": "2c5c126b",
   "metadata": {
    "papermill": {
     "duration": 0.055005,
     "end_time": "2022-04-15T23:45:48.256873",
     "exception": false,
     "start_time": "2022-04-15T23:45:48.201868",
     "status": "completed"
    },
    "tags": []
   },
   "source": [
    "# 学習済みパラメータの読み込み"
   ]
  },
  {
   "cell_type": "code",
   "execution_count": 6,
   "id": "f68fba3c",
   "metadata": {
    "execution": {
     "iopub.execute_input": "2022-04-15T23:45:48.369779Z",
     "iopub.status.busy": "2022-04-15T23:45:48.369183Z",
     "iopub.status.idle": "2022-04-15T23:45:48.373293Z",
     "shell.execute_reply": "2022-04-15T23:45:48.372785Z",
     "shell.execute_reply.started": "2022-04-14T02:54:58.875009Z"
    },
    "papermill": {
     "duration": 0.06184,
     "end_time": "2022-04-15T23:45:48.373427",
     "exception": false,
     "start_time": "2022-04-15T23:45:48.311587",
     "status": "completed"
    },
    "tags": []
   },
   "outputs": [],
   "source": [
    "# モデルのパス\n",
    "model_path = '../input/chest-xray-training-mobilenetv3l-crop005v2/mobilenet_v3_large.pth'"
   ]
  },
  {
   "cell_type": "code",
   "execution_count": 7,
   "id": "56545a0e",
   "metadata": {
    "execution": {
     "iopub.execute_input": "2022-04-15T23:45:48.490509Z",
     "iopub.status.busy": "2022-04-15T23:45:48.486040Z",
     "iopub.status.idle": "2022-04-15T23:45:48.658506Z",
     "shell.execute_reply": "2022-04-15T23:45:48.659000Z",
     "shell.execute_reply.started": "2022-04-14T02:54:58.888206Z"
    },
    "papermill": {
     "duration": 0.230755,
     "end_time": "2022-04-15T23:45:48.659181",
     "exception": false,
     "start_time": "2022-04-15T23:45:48.428426",
     "status": "completed"
    },
    "tags": []
   },
   "outputs": [
    {
     "name": "stdout",
     "output_type": "stream",
     "text": [
      "MobileNetV3(\n",
      "  (features): Sequential(\n",
      "    (0): ConvBNActivation(\n",
      "      (0): Conv2d(3, 16, kernel_size=(3, 3), stride=(2, 2), padding=(1, 1), bias=False)\n",
      "      (1): BatchNorm2d(16, eps=0.001, momentum=0.01, affine=True, track_running_stats=True)\n",
      "      (2): Hardswish()\n",
      "    )\n",
      "    (1): InvertedResidual(\n",
      "      (block): Sequential(\n",
      "        (0): ConvBNActivation(\n",
      "          (0): Conv2d(16, 16, kernel_size=(3, 3), stride=(1, 1), padding=(1, 1), groups=16, bias=False)\n",
      "          (1): BatchNorm2d(16, eps=0.001, momentum=0.01, affine=True, track_running_stats=True)\n",
      "          (2): ReLU(inplace=True)\n",
      "        )\n",
      "        (1): ConvBNActivation(\n",
      "          (0): Conv2d(16, 16, kernel_size=(1, 1), stride=(1, 1), bias=False)\n",
      "          (1): BatchNorm2d(16, eps=0.001, momentum=0.01, affine=True, track_running_stats=True)\n",
      "          (2): Identity()\n",
      "        )\n",
      "      )\n",
      "    )\n",
      "    (2): InvertedResidual(\n",
      "      (block): Sequential(\n",
      "        (0): ConvBNActivation(\n",
      "          (0): Conv2d(16, 64, kernel_size=(1, 1), stride=(1, 1), bias=False)\n",
      "          (1): BatchNorm2d(64, eps=0.001, momentum=0.01, affine=True, track_running_stats=True)\n",
      "          (2): ReLU(inplace=True)\n",
      "        )\n",
      "        (1): ConvBNActivation(\n",
      "          (0): Conv2d(64, 64, kernel_size=(3, 3), stride=(2, 2), padding=(1, 1), groups=64, bias=False)\n",
      "          (1): BatchNorm2d(64, eps=0.001, momentum=0.01, affine=True, track_running_stats=True)\n",
      "          (2): ReLU(inplace=True)\n",
      "        )\n",
      "        (2): ConvBNActivation(\n",
      "          (0): Conv2d(64, 24, kernel_size=(1, 1), stride=(1, 1), bias=False)\n",
      "          (1): BatchNorm2d(24, eps=0.001, momentum=0.01, affine=True, track_running_stats=True)\n",
      "          (2): Identity()\n",
      "        )\n",
      "      )\n",
      "    )\n",
      "    (3): InvertedResidual(\n",
      "      (block): Sequential(\n",
      "        (0): ConvBNActivation(\n",
      "          (0): Conv2d(24, 72, kernel_size=(1, 1), stride=(1, 1), bias=False)\n",
      "          (1): BatchNorm2d(72, eps=0.001, momentum=0.01, affine=True, track_running_stats=True)\n",
      "          (2): ReLU(inplace=True)\n",
      "        )\n",
      "        (1): ConvBNActivation(\n",
      "          (0): Conv2d(72, 72, kernel_size=(3, 3), stride=(1, 1), padding=(1, 1), groups=72, bias=False)\n",
      "          (1): BatchNorm2d(72, eps=0.001, momentum=0.01, affine=True, track_running_stats=True)\n",
      "          (2): ReLU(inplace=True)\n",
      "        )\n",
      "        (2): ConvBNActivation(\n",
      "          (0): Conv2d(72, 24, kernel_size=(1, 1), stride=(1, 1), bias=False)\n",
      "          (1): BatchNorm2d(24, eps=0.001, momentum=0.01, affine=True, track_running_stats=True)\n",
      "          (2): Identity()\n",
      "        )\n",
      "      )\n",
      "    )\n",
      "    (4): InvertedResidual(\n",
      "      (block): Sequential(\n",
      "        (0): ConvBNActivation(\n",
      "          (0): Conv2d(24, 72, kernel_size=(1, 1), stride=(1, 1), bias=False)\n",
      "          (1): BatchNorm2d(72, eps=0.001, momentum=0.01, affine=True, track_running_stats=True)\n",
      "          (2): ReLU(inplace=True)\n",
      "        )\n",
      "        (1): ConvBNActivation(\n",
      "          (0): Conv2d(72, 72, kernel_size=(5, 5), stride=(2, 2), padding=(2, 2), groups=72, bias=False)\n",
      "          (1): BatchNorm2d(72, eps=0.001, momentum=0.01, affine=True, track_running_stats=True)\n",
      "          (2): ReLU(inplace=True)\n",
      "        )\n",
      "        (2): SqueezeExcitation(\n",
      "          (fc1): Conv2d(72, 24, kernel_size=(1, 1), stride=(1, 1))\n",
      "          (relu): ReLU(inplace=True)\n",
      "          (fc2): Conv2d(24, 72, kernel_size=(1, 1), stride=(1, 1))\n",
      "        )\n",
      "        (3): ConvBNActivation(\n",
      "          (0): Conv2d(72, 40, kernel_size=(1, 1), stride=(1, 1), bias=False)\n",
      "          (1): BatchNorm2d(40, eps=0.001, momentum=0.01, affine=True, track_running_stats=True)\n",
      "          (2): Identity()\n",
      "        )\n",
      "      )\n",
      "    )\n",
      "    (5): InvertedResidual(\n",
      "      (block): Sequential(\n",
      "        (0): ConvBNActivation(\n",
      "          (0): Conv2d(40, 120, kernel_size=(1, 1), stride=(1, 1), bias=False)\n",
      "          (1): BatchNorm2d(120, eps=0.001, momentum=0.01, affine=True, track_running_stats=True)\n",
      "          (2): ReLU(inplace=True)\n",
      "        )\n",
      "        (1): ConvBNActivation(\n",
      "          (0): Conv2d(120, 120, kernel_size=(5, 5), stride=(1, 1), padding=(2, 2), groups=120, bias=False)\n",
      "          (1): BatchNorm2d(120, eps=0.001, momentum=0.01, affine=True, track_running_stats=True)\n",
      "          (2): ReLU(inplace=True)\n",
      "        )\n",
      "        (2): SqueezeExcitation(\n",
      "          (fc1): Conv2d(120, 32, kernel_size=(1, 1), stride=(1, 1))\n",
      "          (relu): ReLU(inplace=True)\n",
      "          (fc2): Conv2d(32, 120, kernel_size=(1, 1), stride=(1, 1))\n",
      "        )\n",
      "        (3): ConvBNActivation(\n",
      "          (0): Conv2d(120, 40, kernel_size=(1, 1), stride=(1, 1), bias=False)\n",
      "          (1): BatchNorm2d(40, eps=0.001, momentum=0.01, affine=True, track_running_stats=True)\n",
      "          (2): Identity()\n",
      "        )\n",
      "      )\n",
      "    )\n",
      "    (6): InvertedResidual(\n",
      "      (block): Sequential(\n",
      "        (0): ConvBNActivation(\n",
      "          (0): Conv2d(40, 120, kernel_size=(1, 1), stride=(1, 1), bias=False)\n",
      "          (1): BatchNorm2d(120, eps=0.001, momentum=0.01, affine=True, track_running_stats=True)\n",
      "          (2): ReLU(inplace=True)\n",
      "        )\n",
      "        (1): ConvBNActivation(\n",
      "          (0): Conv2d(120, 120, kernel_size=(5, 5), stride=(1, 1), padding=(2, 2), groups=120, bias=False)\n",
      "          (1): BatchNorm2d(120, eps=0.001, momentum=0.01, affine=True, track_running_stats=True)\n",
      "          (2): ReLU(inplace=True)\n",
      "        )\n",
      "        (2): SqueezeExcitation(\n",
      "          (fc1): Conv2d(120, 32, kernel_size=(1, 1), stride=(1, 1))\n",
      "          (relu): ReLU(inplace=True)\n",
      "          (fc2): Conv2d(32, 120, kernel_size=(1, 1), stride=(1, 1))\n",
      "        )\n",
      "        (3): ConvBNActivation(\n",
      "          (0): Conv2d(120, 40, kernel_size=(1, 1), stride=(1, 1), bias=False)\n",
      "          (1): BatchNorm2d(40, eps=0.001, momentum=0.01, affine=True, track_running_stats=True)\n",
      "          (2): Identity()\n",
      "        )\n",
      "      )\n",
      "    )\n",
      "    (7): InvertedResidual(\n",
      "      (block): Sequential(\n",
      "        (0): ConvBNActivation(\n",
      "          (0): Conv2d(40, 240, kernel_size=(1, 1), stride=(1, 1), bias=False)\n",
      "          (1): BatchNorm2d(240, eps=0.001, momentum=0.01, affine=True, track_running_stats=True)\n",
      "          (2): Hardswish()\n",
      "        )\n",
      "        (1): ConvBNActivation(\n",
      "          (0): Conv2d(240, 240, kernel_size=(3, 3), stride=(2, 2), padding=(1, 1), groups=240, bias=False)\n",
      "          (1): BatchNorm2d(240, eps=0.001, momentum=0.01, affine=True, track_running_stats=True)\n",
      "          (2): Hardswish()\n",
      "        )\n",
      "        (2): ConvBNActivation(\n",
      "          (0): Conv2d(240, 80, kernel_size=(1, 1), stride=(1, 1), bias=False)\n",
      "          (1): BatchNorm2d(80, eps=0.001, momentum=0.01, affine=True, track_running_stats=True)\n",
      "          (2): Identity()\n",
      "        )\n",
      "      )\n",
      "    )\n",
      "    (8): InvertedResidual(\n",
      "      (block): Sequential(\n",
      "        (0): ConvBNActivation(\n",
      "          (0): Conv2d(80, 200, kernel_size=(1, 1), stride=(1, 1), bias=False)\n",
      "          (1): BatchNorm2d(200, eps=0.001, momentum=0.01, affine=True, track_running_stats=True)\n",
      "          (2): Hardswish()\n",
      "        )\n",
      "        (1): ConvBNActivation(\n",
      "          (0): Conv2d(200, 200, kernel_size=(3, 3), stride=(1, 1), padding=(1, 1), groups=200, bias=False)\n",
      "          (1): BatchNorm2d(200, eps=0.001, momentum=0.01, affine=True, track_running_stats=True)\n",
      "          (2): Hardswish()\n",
      "        )\n",
      "        (2): ConvBNActivation(\n",
      "          (0): Conv2d(200, 80, kernel_size=(1, 1), stride=(1, 1), bias=False)\n",
      "          (1): BatchNorm2d(80, eps=0.001, momentum=0.01, affine=True, track_running_stats=True)\n",
      "          (2): Identity()\n",
      "        )\n",
      "      )\n",
      "    )\n",
      "    (9): InvertedResidual(\n",
      "      (block): Sequential(\n",
      "        (0): ConvBNActivation(\n",
      "          (0): Conv2d(80, 184, kernel_size=(1, 1), stride=(1, 1), bias=False)\n",
      "          (1): BatchNorm2d(184, eps=0.001, momentum=0.01, affine=True, track_running_stats=True)\n",
      "          (2): Hardswish()\n",
      "        )\n",
      "        (1): ConvBNActivation(\n",
      "          (0): Conv2d(184, 184, kernel_size=(3, 3), stride=(1, 1), padding=(1, 1), groups=184, bias=False)\n",
      "          (1): BatchNorm2d(184, eps=0.001, momentum=0.01, affine=True, track_running_stats=True)\n",
      "          (2): Hardswish()\n",
      "        )\n",
      "        (2): ConvBNActivation(\n",
      "          (0): Conv2d(184, 80, kernel_size=(1, 1), stride=(1, 1), bias=False)\n",
      "          (1): BatchNorm2d(80, eps=0.001, momentum=0.01, affine=True, track_running_stats=True)\n",
      "          (2): Identity()\n",
      "        )\n",
      "      )\n",
      "    )\n",
      "    (10): InvertedResidual(\n",
      "      (block): Sequential(\n",
      "        (0): ConvBNActivation(\n",
      "          (0): Conv2d(80, 184, kernel_size=(1, 1), stride=(1, 1), bias=False)\n",
      "          (1): BatchNorm2d(184, eps=0.001, momentum=0.01, affine=True, track_running_stats=True)\n",
      "          (2): Hardswish()\n",
      "        )\n",
      "        (1): ConvBNActivation(\n",
      "          (0): Conv2d(184, 184, kernel_size=(3, 3), stride=(1, 1), padding=(1, 1), groups=184, bias=False)\n",
      "          (1): BatchNorm2d(184, eps=0.001, momentum=0.01, affine=True, track_running_stats=True)\n",
      "          (2): Hardswish()\n",
      "        )\n",
      "        (2): ConvBNActivation(\n",
      "          (0): Conv2d(184, 80, kernel_size=(1, 1), stride=(1, 1), bias=False)\n",
      "          (1): BatchNorm2d(80, eps=0.001, momentum=0.01, affine=True, track_running_stats=True)\n",
      "          (2): Identity()\n",
      "        )\n",
      "      )\n",
      "    )\n",
      "    (11): InvertedResidual(\n",
      "      (block): Sequential(\n",
      "        (0): ConvBNActivation(\n",
      "          (0): Conv2d(80, 480, kernel_size=(1, 1), stride=(1, 1), bias=False)\n",
      "          (1): BatchNorm2d(480, eps=0.001, momentum=0.01, affine=True, track_running_stats=True)\n",
      "          (2): Hardswish()\n",
      "        )\n",
      "        (1): ConvBNActivation(\n",
      "          (0): Conv2d(480, 480, kernel_size=(3, 3), stride=(1, 1), padding=(1, 1), groups=480, bias=False)\n",
      "          (1): BatchNorm2d(480, eps=0.001, momentum=0.01, affine=True, track_running_stats=True)\n",
      "          (2): Hardswish()\n",
      "        )\n",
      "        (2): SqueezeExcitation(\n",
      "          (fc1): Conv2d(480, 120, kernel_size=(1, 1), stride=(1, 1))\n",
      "          (relu): ReLU(inplace=True)\n",
      "          (fc2): Conv2d(120, 480, kernel_size=(1, 1), stride=(1, 1))\n",
      "        )\n",
      "        (3): ConvBNActivation(\n",
      "          (0): Conv2d(480, 112, kernel_size=(1, 1), stride=(1, 1), bias=False)\n",
      "          (1): BatchNorm2d(112, eps=0.001, momentum=0.01, affine=True, track_running_stats=True)\n",
      "          (2): Identity()\n",
      "        )\n",
      "      )\n",
      "    )\n",
      "    (12): InvertedResidual(\n",
      "      (block): Sequential(\n",
      "        (0): ConvBNActivation(\n",
      "          (0): Conv2d(112, 672, kernel_size=(1, 1), stride=(1, 1), bias=False)\n",
      "          (1): BatchNorm2d(672, eps=0.001, momentum=0.01, affine=True, track_running_stats=True)\n",
      "          (2): Hardswish()\n",
      "        )\n",
      "        (1): ConvBNActivation(\n",
      "          (0): Conv2d(672, 672, kernel_size=(3, 3), stride=(1, 1), padding=(1, 1), groups=672, bias=False)\n",
      "          (1): BatchNorm2d(672, eps=0.001, momentum=0.01, affine=True, track_running_stats=True)\n",
      "          (2): Hardswish()\n",
      "        )\n",
      "        (2): SqueezeExcitation(\n",
      "          (fc1): Conv2d(672, 168, kernel_size=(1, 1), stride=(1, 1))\n",
      "          (relu): ReLU(inplace=True)\n",
      "          (fc2): Conv2d(168, 672, kernel_size=(1, 1), stride=(1, 1))\n",
      "        )\n",
      "        (3): ConvBNActivation(\n",
      "          (0): Conv2d(672, 112, kernel_size=(1, 1), stride=(1, 1), bias=False)\n",
      "          (1): BatchNorm2d(112, eps=0.001, momentum=0.01, affine=True, track_running_stats=True)\n",
      "          (2): Identity()\n",
      "        )\n",
      "      )\n",
      "    )\n",
      "    (13): InvertedResidual(\n",
      "      (block): Sequential(\n",
      "        (0): ConvBNActivation(\n",
      "          (0): Conv2d(112, 672, kernel_size=(1, 1), stride=(1, 1), bias=False)\n",
      "          (1): BatchNorm2d(672, eps=0.001, momentum=0.01, affine=True, track_running_stats=True)\n",
      "          (2): Hardswish()\n",
      "        )\n",
      "        (1): ConvBNActivation(\n",
      "          (0): Conv2d(672, 672, kernel_size=(5, 5), stride=(2, 2), padding=(2, 2), groups=672, bias=False)\n",
      "          (1): BatchNorm2d(672, eps=0.001, momentum=0.01, affine=True, track_running_stats=True)\n",
      "          (2): Hardswish()\n",
      "        )\n",
      "        (2): SqueezeExcitation(\n",
      "          (fc1): Conv2d(672, 168, kernel_size=(1, 1), stride=(1, 1))\n",
      "          (relu): ReLU(inplace=True)\n",
      "          (fc2): Conv2d(168, 672, kernel_size=(1, 1), stride=(1, 1))\n",
      "        )\n",
      "        (3): ConvBNActivation(\n",
      "          (0): Conv2d(672, 160, kernel_size=(1, 1), stride=(1, 1), bias=False)\n",
      "          (1): BatchNorm2d(160, eps=0.001, momentum=0.01, affine=True, track_running_stats=True)\n",
      "          (2): Identity()\n",
      "        )\n",
      "      )\n",
      "    )\n",
      "    (14): InvertedResidual(\n",
      "      (block): Sequential(\n",
      "        (0): ConvBNActivation(\n",
      "          (0): Conv2d(160, 960, kernel_size=(1, 1), stride=(1, 1), bias=False)\n",
      "          (1): BatchNorm2d(960, eps=0.001, momentum=0.01, affine=True, track_running_stats=True)\n",
      "          (2): Hardswish()\n",
      "        )\n",
      "        (1): ConvBNActivation(\n",
      "          (0): Conv2d(960, 960, kernel_size=(5, 5), stride=(1, 1), padding=(2, 2), groups=960, bias=False)\n",
      "          (1): BatchNorm2d(960, eps=0.001, momentum=0.01, affine=True, track_running_stats=True)\n",
      "          (2): Hardswish()\n",
      "        )\n",
      "        (2): SqueezeExcitation(\n",
      "          (fc1): Conv2d(960, 240, kernel_size=(1, 1), stride=(1, 1))\n",
      "          (relu): ReLU(inplace=True)\n",
      "          (fc2): Conv2d(240, 960, kernel_size=(1, 1), stride=(1, 1))\n",
      "        )\n",
      "        (3): ConvBNActivation(\n",
      "          (0): Conv2d(960, 160, kernel_size=(1, 1), stride=(1, 1), bias=False)\n",
      "          (1): BatchNorm2d(160, eps=0.001, momentum=0.01, affine=True, track_running_stats=True)\n",
      "          (2): Identity()\n",
      "        )\n",
      "      )\n",
      "    )\n",
      "    (15): InvertedResidual(\n",
      "      (block): Sequential(\n",
      "        (0): ConvBNActivation(\n",
      "          (0): Conv2d(160, 960, kernel_size=(1, 1), stride=(1, 1), bias=False)\n",
      "          (1): BatchNorm2d(960, eps=0.001, momentum=0.01, affine=True, track_running_stats=True)\n",
      "          (2): Hardswish()\n",
      "        )\n",
      "        (1): ConvBNActivation(\n",
      "          (0): Conv2d(960, 960, kernel_size=(5, 5), stride=(1, 1), padding=(2, 2), groups=960, bias=False)\n",
      "          (1): BatchNorm2d(960, eps=0.001, momentum=0.01, affine=True, track_running_stats=True)\n",
      "          (2): Hardswish()\n",
      "        )\n",
      "        (2): SqueezeExcitation(\n",
      "          (fc1): Conv2d(960, 240, kernel_size=(1, 1), stride=(1, 1))\n",
      "          (relu): ReLU(inplace=True)\n",
      "          (fc2): Conv2d(240, 960, kernel_size=(1, 1), stride=(1, 1))\n",
      "        )\n",
      "        (3): ConvBNActivation(\n",
      "          (0): Conv2d(960, 160, kernel_size=(1, 1), stride=(1, 1), bias=False)\n",
      "          (1): BatchNorm2d(160, eps=0.001, momentum=0.01, affine=True, track_running_stats=True)\n",
      "          (2): Identity()\n",
      "        )\n",
      "      )\n",
      "    )\n",
      "    (16): ConvBNActivation(\n",
      "      (0): Conv2d(160, 960, kernel_size=(1, 1), stride=(1, 1), bias=False)\n",
      "      (1): BatchNorm2d(960, eps=0.001, momentum=0.01, affine=True, track_running_stats=True)\n",
      "      (2): Hardswish()\n",
      "    )\n",
      "  )\n",
      "  (avgpool): AdaptiveAvgPool2d(output_size=1)\n",
      "  (classifier): Sequential(\n",
      "    (0): Linear(in_features=960, out_features=1280, bias=True)\n",
      "    (1): Hardswish()\n",
      "    (2): Dropout(p=0.2, inplace=True)\n",
      "    (3): Linear(in_features=1280, out_features=2, bias=True)\n",
      "  )\n",
      ")\n"
     ]
    }
   ],
   "source": [
    "model = models.mobilenet_v3_large()\n",
    "fc_in_features = model.classifier[0].out_features # 最終レイヤー関数の次元数\n",
    "model.classifier[3] = nn.Linear(fc_in_features, opt.num_classes) # 最終レイヤー関数の付け替え\n",
    "print(model)"
   ]
  },
  {
   "cell_type": "code",
   "execution_count": 8,
   "id": "cf09b8e6",
   "metadata": {
    "execution": {
     "iopub.execute_input": "2022-04-15T23:45:48.776700Z",
     "iopub.status.busy": "2022-04-15T23:45:48.774833Z",
     "iopub.status.idle": "2022-04-15T23:45:49.086355Z",
     "shell.execute_reply": "2022-04-15T23:45:49.086929Z",
     "shell.execute_reply.started": "2022-04-14T02:54:59.066367Z"
    },
    "papermill": {
     "duration": 0.371551,
     "end_time": "2022-04-15T23:45:49.087122",
     "exception": false,
     "start_time": "2022-04-15T23:45:48.715571",
     "status": "completed"
    },
    "tags": []
   },
   "outputs": [
    {
     "data": {
      "text/plain": [
       "<All keys matched successfully>"
      ]
     },
     "execution_count": 8,
     "metadata": {},
     "output_type": "execute_result"
    }
   ],
   "source": [
    "# 学習済みモデルの読み込み\n",
    "model.load_state_dict(torch.load(model_path, map_location=torch.device('cpu'))) # 学習済みモデルの読み込み"
   ]
  },
  {
   "cell_type": "code",
   "execution_count": 9,
   "id": "c140afc2",
   "metadata": {
    "execution": {
     "iopub.execute_input": "2022-04-15T23:45:49.207498Z",
     "iopub.status.busy": "2022-04-15T23:45:49.204521Z",
     "iopub.status.idle": "2022-04-15T23:45:49.222864Z",
     "shell.execute_reply": "2022-04-15T23:45:49.222286Z",
     "shell.execute_reply.started": "2022-04-14T02:54:59.392323Z"
    },
    "papermill": {
     "duration": 0.077672,
     "end_time": "2022-04-15T23:45:49.223016",
     "exception": false,
     "start_time": "2022-04-15T23:45:49.145344",
     "status": "completed"
    },
    "tags": []
   },
   "outputs": [
    {
     "data": {
      "text/plain": [
       "MobileNetV3(\n",
       "  (features): Sequential(\n",
       "    (0): ConvBNActivation(\n",
       "      (0): Conv2d(3, 16, kernel_size=(3, 3), stride=(2, 2), padding=(1, 1), bias=False)\n",
       "      (1): BatchNorm2d(16, eps=0.001, momentum=0.01, affine=True, track_running_stats=True)\n",
       "      (2): Hardswish()\n",
       "    )\n",
       "    (1): InvertedResidual(\n",
       "      (block): Sequential(\n",
       "        (0): ConvBNActivation(\n",
       "          (0): Conv2d(16, 16, kernel_size=(3, 3), stride=(1, 1), padding=(1, 1), groups=16, bias=False)\n",
       "          (1): BatchNorm2d(16, eps=0.001, momentum=0.01, affine=True, track_running_stats=True)\n",
       "          (2): ReLU(inplace=True)\n",
       "        )\n",
       "        (1): ConvBNActivation(\n",
       "          (0): Conv2d(16, 16, kernel_size=(1, 1), stride=(1, 1), bias=False)\n",
       "          (1): BatchNorm2d(16, eps=0.001, momentum=0.01, affine=True, track_running_stats=True)\n",
       "          (2): Identity()\n",
       "        )\n",
       "      )\n",
       "    )\n",
       "    (2): InvertedResidual(\n",
       "      (block): Sequential(\n",
       "        (0): ConvBNActivation(\n",
       "          (0): Conv2d(16, 64, kernel_size=(1, 1), stride=(1, 1), bias=False)\n",
       "          (1): BatchNorm2d(64, eps=0.001, momentum=0.01, affine=True, track_running_stats=True)\n",
       "          (2): ReLU(inplace=True)\n",
       "        )\n",
       "        (1): ConvBNActivation(\n",
       "          (0): Conv2d(64, 64, kernel_size=(3, 3), stride=(2, 2), padding=(1, 1), groups=64, bias=False)\n",
       "          (1): BatchNorm2d(64, eps=0.001, momentum=0.01, affine=True, track_running_stats=True)\n",
       "          (2): ReLU(inplace=True)\n",
       "        )\n",
       "        (2): ConvBNActivation(\n",
       "          (0): Conv2d(64, 24, kernel_size=(1, 1), stride=(1, 1), bias=False)\n",
       "          (1): BatchNorm2d(24, eps=0.001, momentum=0.01, affine=True, track_running_stats=True)\n",
       "          (2): Identity()\n",
       "        )\n",
       "      )\n",
       "    )\n",
       "    (3): InvertedResidual(\n",
       "      (block): Sequential(\n",
       "        (0): ConvBNActivation(\n",
       "          (0): Conv2d(24, 72, kernel_size=(1, 1), stride=(1, 1), bias=False)\n",
       "          (1): BatchNorm2d(72, eps=0.001, momentum=0.01, affine=True, track_running_stats=True)\n",
       "          (2): ReLU(inplace=True)\n",
       "        )\n",
       "        (1): ConvBNActivation(\n",
       "          (0): Conv2d(72, 72, kernel_size=(3, 3), stride=(1, 1), padding=(1, 1), groups=72, bias=False)\n",
       "          (1): BatchNorm2d(72, eps=0.001, momentum=0.01, affine=True, track_running_stats=True)\n",
       "          (2): ReLU(inplace=True)\n",
       "        )\n",
       "        (2): ConvBNActivation(\n",
       "          (0): Conv2d(72, 24, kernel_size=(1, 1), stride=(1, 1), bias=False)\n",
       "          (1): BatchNorm2d(24, eps=0.001, momentum=0.01, affine=True, track_running_stats=True)\n",
       "          (2): Identity()\n",
       "        )\n",
       "      )\n",
       "    )\n",
       "    (4): InvertedResidual(\n",
       "      (block): Sequential(\n",
       "        (0): ConvBNActivation(\n",
       "          (0): Conv2d(24, 72, kernel_size=(1, 1), stride=(1, 1), bias=False)\n",
       "          (1): BatchNorm2d(72, eps=0.001, momentum=0.01, affine=True, track_running_stats=True)\n",
       "          (2): ReLU(inplace=True)\n",
       "        )\n",
       "        (1): ConvBNActivation(\n",
       "          (0): Conv2d(72, 72, kernel_size=(5, 5), stride=(2, 2), padding=(2, 2), groups=72, bias=False)\n",
       "          (1): BatchNorm2d(72, eps=0.001, momentum=0.01, affine=True, track_running_stats=True)\n",
       "          (2): ReLU(inplace=True)\n",
       "        )\n",
       "        (2): SqueezeExcitation(\n",
       "          (fc1): Conv2d(72, 24, kernel_size=(1, 1), stride=(1, 1))\n",
       "          (relu): ReLU(inplace=True)\n",
       "          (fc2): Conv2d(24, 72, kernel_size=(1, 1), stride=(1, 1))\n",
       "        )\n",
       "        (3): ConvBNActivation(\n",
       "          (0): Conv2d(72, 40, kernel_size=(1, 1), stride=(1, 1), bias=False)\n",
       "          (1): BatchNorm2d(40, eps=0.001, momentum=0.01, affine=True, track_running_stats=True)\n",
       "          (2): Identity()\n",
       "        )\n",
       "      )\n",
       "    )\n",
       "    (5): InvertedResidual(\n",
       "      (block): Sequential(\n",
       "        (0): ConvBNActivation(\n",
       "          (0): Conv2d(40, 120, kernel_size=(1, 1), stride=(1, 1), bias=False)\n",
       "          (1): BatchNorm2d(120, eps=0.001, momentum=0.01, affine=True, track_running_stats=True)\n",
       "          (2): ReLU(inplace=True)\n",
       "        )\n",
       "        (1): ConvBNActivation(\n",
       "          (0): Conv2d(120, 120, kernel_size=(5, 5), stride=(1, 1), padding=(2, 2), groups=120, bias=False)\n",
       "          (1): BatchNorm2d(120, eps=0.001, momentum=0.01, affine=True, track_running_stats=True)\n",
       "          (2): ReLU(inplace=True)\n",
       "        )\n",
       "        (2): SqueezeExcitation(\n",
       "          (fc1): Conv2d(120, 32, kernel_size=(1, 1), stride=(1, 1))\n",
       "          (relu): ReLU(inplace=True)\n",
       "          (fc2): Conv2d(32, 120, kernel_size=(1, 1), stride=(1, 1))\n",
       "        )\n",
       "        (3): ConvBNActivation(\n",
       "          (0): Conv2d(120, 40, kernel_size=(1, 1), stride=(1, 1), bias=False)\n",
       "          (1): BatchNorm2d(40, eps=0.001, momentum=0.01, affine=True, track_running_stats=True)\n",
       "          (2): Identity()\n",
       "        )\n",
       "      )\n",
       "    )\n",
       "    (6): InvertedResidual(\n",
       "      (block): Sequential(\n",
       "        (0): ConvBNActivation(\n",
       "          (0): Conv2d(40, 120, kernel_size=(1, 1), stride=(1, 1), bias=False)\n",
       "          (1): BatchNorm2d(120, eps=0.001, momentum=0.01, affine=True, track_running_stats=True)\n",
       "          (2): ReLU(inplace=True)\n",
       "        )\n",
       "        (1): ConvBNActivation(\n",
       "          (0): Conv2d(120, 120, kernel_size=(5, 5), stride=(1, 1), padding=(2, 2), groups=120, bias=False)\n",
       "          (1): BatchNorm2d(120, eps=0.001, momentum=0.01, affine=True, track_running_stats=True)\n",
       "          (2): ReLU(inplace=True)\n",
       "        )\n",
       "        (2): SqueezeExcitation(\n",
       "          (fc1): Conv2d(120, 32, kernel_size=(1, 1), stride=(1, 1))\n",
       "          (relu): ReLU(inplace=True)\n",
       "          (fc2): Conv2d(32, 120, kernel_size=(1, 1), stride=(1, 1))\n",
       "        )\n",
       "        (3): ConvBNActivation(\n",
       "          (0): Conv2d(120, 40, kernel_size=(1, 1), stride=(1, 1), bias=False)\n",
       "          (1): BatchNorm2d(40, eps=0.001, momentum=0.01, affine=True, track_running_stats=True)\n",
       "          (2): Identity()\n",
       "        )\n",
       "      )\n",
       "    )\n",
       "    (7): InvertedResidual(\n",
       "      (block): Sequential(\n",
       "        (0): ConvBNActivation(\n",
       "          (0): Conv2d(40, 240, kernel_size=(1, 1), stride=(1, 1), bias=False)\n",
       "          (1): BatchNorm2d(240, eps=0.001, momentum=0.01, affine=True, track_running_stats=True)\n",
       "          (2): Hardswish()\n",
       "        )\n",
       "        (1): ConvBNActivation(\n",
       "          (0): Conv2d(240, 240, kernel_size=(3, 3), stride=(2, 2), padding=(1, 1), groups=240, bias=False)\n",
       "          (1): BatchNorm2d(240, eps=0.001, momentum=0.01, affine=True, track_running_stats=True)\n",
       "          (2): Hardswish()\n",
       "        )\n",
       "        (2): ConvBNActivation(\n",
       "          (0): Conv2d(240, 80, kernel_size=(1, 1), stride=(1, 1), bias=False)\n",
       "          (1): BatchNorm2d(80, eps=0.001, momentum=0.01, affine=True, track_running_stats=True)\n",
       "          (2): Identity()\n",
       "        )\n",
       "      )\n",
       "    )\n",
       "    (8): InvertedResidual(\n",
       "      (block): Sequential(\n",
       "        (0): ConvBNActivation(\n",
       "          (0): Conv2d(80, 200, kernel_size=(1, 1), stride=(1, 1), bias=False)\n",
       "          (1): BatchNorm2d(200, eps=0.001, momentum=0.01, affine=True, track_running_stats=True)\n",
       "          (2): Hardswish()\n",
       "        )\n",
       "        (1): ConvBNActivation(\n",
       "          (0): Conv2d(200, 200, kernel_size=(3, 3), stride=(1, 1), padding=(1, 1), groups=200, bias=False)\n",
       "          (1): BatchNorm2d(200, eps=0.001, momentum=0.01, affine=True, track_running_stats=True)\n",
       "          (2): Hardswish()\n",
       "        )\n",
       "        (2): ConvBNActivation(\n",
       "          (0): Conv2d(200, 80, kernel_size=(1, 1), stride=(1, 1), bias=False)\n",
       "          (1): BatchNorm2d(80, eps=0.001, momentum=0.01, affine=True, track_running_stats=True)\n",
       "          (2): Identity()\n",
       "        )\n",
       "      )\n",
       "    )\n",
       "    (9): InvertedResidual(\n",
       "      (block): Sequential(\n",
       "        (0): ConvBNActivation(\n",
       "          (0): Conv2d(80, 184, kernel_size=(1, 1), stride=(1, 1), bias=False)\n",
       "          (1): BatchNorm2d(184, eps=0.001, momentum=0.01, affine=True, track_running_stats=True)\n",
       "          (2): Hardswish()\n",
       "        )\n",
       "        (1): ConvBNActivation(\n",
       "          (0): Conv2d(184, 184, kernel_size=(3, 3), stride=(1, 1), padding=(1, 1), groups=184, bias=False)\n",
       "          (1): BatchNorm2d(184, eps=0.001, momentum=0.01, affine=True, track_running_stats=True)\n",
       "          (2): Hardswish()\n",
       "        )\n",
       "        (2): ConvBNActivation(\n",
       "          (0): Conv2d(184, 80, kernel_size=(1, 1), stride=(1, 1), bias=False)\n",
       "          (1): BatchNorm2d(80, eps=0.001, momentum=0.01, affine=True, track_running_stats=True)\n",
       "          (2): Identity()\n",
       "        )\n",
       "      )\n",
       "    )\n",
       "    (10): InvertedResidual(\n",
       "      (block): Sequential(\n",
       "        (0): ConvBNActivation(\n",
       "          (0): Conv2d(80, 184, kernel_size=(1, 1), stride=(1, 1), bias=False)\n",
       "          (1): BatchNorm2d(184, eps=0.001, momentum=0.01, affine=True, track_running_stats=True)\n",
       "          (2): Hardswish()\n",
       "        )\n",
       "        (1): ConvBNActivation(\n",
       "          (0): Conv2d(184, 184, kernel_size=(3, 3), stride=(1, 1), padding=(1, 1), groups=184, bias=False)\n",
       "          (1): BatchNorm2d(184, eps=0.001, momentum=0.01, affine=True, track_running_stats=True)\n",
       "          (2): Hardswish()\n",
       "        )\n",
       "        (2): ConvBNActivation(\n",
       "          (0): Conv2d(184, 80, kernel_size=(1, 1), stride=(1, 1), bias=False)\n",
       "          (1): BatchNorm2d(80, eps=0.001, momentum=0.01, affine=True, track_running_stats=True)\n",
       "          (2): Identity()\n",
       "        )\n",
       "      )\n",
       "    )\n",
       "    (11): InvertedResidual(\n",
       "      (block): Sequential(\n",
       "        (0): ConvBNActivation(\n",
       "          (0): Conv2d(80, 480, kernel_size=(1, 1), stride=(1, 1), bias=False)\n",
       "          (1): BatchNorm2d(480, eps=0.001, momentum=0.01, affine=True, track_running_stats=True)\n",
       "          (2): Hardswish()\n",
       "        )\n",
       "        (1): ConvBNActivation(\n",
       "          (0): Conv2d(480, 480, kernel_size=(3, 3), stride=(1, 1), padding=(1, 1), groups=480, bias=False)\n",
       "          (1): BatchNorm2d(480, eps=0.001, momentum=0.01, affine=True, track_running_stats=True)\n",
       "          (2): Hardswish()\n",
       "        )\n",
       "        (2): SqueezeExcitation(\n",
       "          (fc1): Conv2d(480, 120, kernel_size=(1, 1), stride=(1, 1))\n",
       "          (relu): ReLU(inplace=True)\n",
       "          (fc2): Conv2d(120, 480, kernel_size=(1, 1), stride=(1, 1))\n",
       "        )\n",
       "        (3): ConvBNActivation(\n",
       "          (0): Conv2d(480, 112, kernel_size=(1, 1), stride=(1, 1), bias=False)\n",
       "          (1): BatchNorm2d(112, eps=0.001, momentum=0.01, affine=True, track_running_stats=True)\n",
       "          (2): Identity()\n",
       "        )\n",
       "      )\n",
       "    )\n",
       "    (12): InvertedResidual(\n",
       "      (block): Sequential(\n",
       "        (0): ConvBNActivation(\n",
       "          (0): Conv2d(112, 672, kernel_size=(1, 1), stride=(1, 1), bias=False)\n",
       "          (1): BatchNorm2d(672, eps=0.001, momentum=0.01, affine=True, track_running_stats=True)\n",
       "          (2): Hardswish()\n",
       "        )\n",
       "        (1): ConvBNActivation(\n",
       "          (0): Conv2d(672, 672, kernel_size=(3, 3), stride=(1, 1), padding=(1, 1), groups=672, bias=False)\n",
       "          (1): BatchNorm2d(672, eps=0.001, momentum=0.01, affine=True, track_running_stats=True)\n",
       "          (2): Hardswish()\n",
       "        )\n",
       "        (2): SqueezeExcitation(\n",
       "          (fc1): Conv2d(672, 168, kernel_size=(1, 1), stride=(1, 1))\n",
       "          (relu): ReLU(inplace=True)\n",
       "          (fc2): Conv2d(168, 672, kernel_size=(1, 1), stride=(1, 1))\n",
       "        )\n",
       "        (3): ConvBNActivation(\n",
       "          (0): Conv2d(672, 112, kernel_size=(1, 1), stride=(1, 1), bias=False)\n",
       "          (1): BatchNorm2d(112, eps=0.001, momentum=0.01, affine=True, track_running_stats=True)\n",
       "          (2): Identity()\n",
       "        )\n",
       "      )\n",
       "    )\n",
       "    (13): InvertedResidual(\n",
       "      (block): Sequential(\n",
       "        (0): ConvBNActivation(\n",
       "          (0): Conv2d(112, 672, kernel_size=(1, 1), stride=(1, 1), bias=False)\n",
       "          (1): BatchNorm2d(672, eps=0.001, momentum=0.01, affine=True, track_running_stats=True)\n",
       "          (2): Hardswish()\n",
       "        )\n",
       "        (1): ConvBNActivation(\n",
       "          (0): Conv2d(672, 672, kernel_size=(5, 5), stride=(2, 2), padding=(2, 2), groups=672, bias=False)\n",
       "          (1): BatchNorm2d(672, eps=0.001, momentum=0.01, affine=True, track_running_stats=True)\n",
       "          (2): Hardswish()\n",
       "        )\n",
       "        (2): SqueezeExcitation(\n",
       "          (fc1): Conv2d(672, 168, kernel_size=(1, 1), stride=(1, 1))\n",
       "          (relu): ReLU(inplace=True)\n",
       "          (fc2): Conv2d(168, 672, kernel_size=(1, 1), stride=(1, 1))\n",
       "        )\n",
       "        (3): ConvBNActivation(\n",
       "          (0): Conv2d(672, 160, kernel_size=(1, 1), stride=(1, 1), bias=False)\n",
       "          (1): BatchNorm2d(160, eps=0.001, momentum=0.01, affine=True, track_running_stats=True)\n",
       "          (2): Identity()\n",
       "        )\n",
       "      )\n",
       "    )\n",
       "    (14): InvertedResidual(\n",
       "      (block): Sequential(\n",
       "        (0): ConvBNActivation(\n",
       "          (0): Conv2d(160, 960, kernel_size=(1, 1), stride=(1, 1), bias=False)\n",
       "          (1): BatchNorm2d(960, eps=0.001, momentum=0.01, affine=True, track_running_stats=True)\n",
       "          (2): Hardswish()\n",
       "        )\n",
       "        (1): ConvBNActivation(\n",
       "          (0): Conv2d(960, 960, kernel_size=(5, 5), stride=(1, 1), padding=(2, 2), groups=960, bias=False)\n",
       "          (1): BatchNorm2d(960, eps=0.001, momentum=0.01, affine=True, track_running_stats=True)\n",
       "          (2): Hardswish()\n",
       "        )\n",
       "        (2): SqueezeExcitation(\n",
       "          (fc1): Conv2d(960, 240, kernel_size=(1, 1), stride=(1, 1))\n",
       "          (relu): ReLU(inplace=True)\n",
       "          (fc2): Conv2d(240, 960, kernel_size=(1, 1), stride=(1, 1))\n",
       "        )\n",
       "        (3): ConvBNActivation(\n",
       "          (0): Conv2d(960, 160, kernel_size=(1, 1), stride=(1, 1), bias=False)\n",
       "          (1): BatchNorm2d(160, eps=0.001, momentum=0.01, affine=True, track_running_stats=True)\n",
       "          (2): Identity()\n",
       "        )\n",
       "      )\n",
       "    )\n",
       "    (15): InvertedResidual(\n",
       "      (block): Sequential(\n",
       "        (0): ConvBNActivation(\n",
       "          (0): Conv2d(160, 960, kernel_size=(1, 1), stride=(1, 1), bias=False)\n",
       "          (1): BatchNorm2d(960, eps=0.001, momentum=0.01, affine=True, track_running_stats=True)\n",
       "          (2): Hardswish()\n",
       "        )\n",
       "        (1): ConvBNActivation(\n",
       "          (0): Conv2d(960, 960, kernel_size=(5, 5), stride=(1, 1), padding=(2, 2), groups=960, bias=False)\n",
       "          (1): BatchNorm2d(960, eps=0.001, momentum=0.01, affine=True, track_running_stats=True)\n",
       "          (2): Hardswish()\n",
       "        )\n",
       "        (2): SqueezeExcitation(\n",
       "          (fc1): Conv2d(960, 240, kernel_size=(1, 1), stride=(1, 1))\n",
       "          (relu): ReLU(inplace=True)\n",
       "          (fc2): Conv2d(240, 960, kernel_size=(1, 1), stride=(1, 1))\n",
       "        )\n",
       "        (3): ConvBNActivation(\n",
       "          (0): Conv2d(960, 160, kernel_size=(1, 1), stride=(1, 1), bias=False)\n",
       "          (1): BatchNorm2d(160, eps=0.001, momentum=0.01, affine=True, track_running_stats=True)\n",
       "          (2): Identity()\n",
       "        )\n",
       "      )\n",
       "    )\n",
       "    (16): ConvBNActivation(\n",
       "      (0): Conv2d(160, 960, kernel_size=(1, 1), stride=(1, 1), bias=False)\n",
       "      (1): BatchNorm2d(960, eps=0.001, momentum=0.01, affine=True, track_running_stats=True)\n",
       "      (2): Hardswish()\n",
       "    )\n",
       "  )\n",
       "  (avgpool): AdaptiveAvgPool2d(output_size=1)\n",
       "  (classifier): Sequential(\n",
       "    (0): Linear(in_features=960, out_features=1280, bias=True)\n",
       "    (1): Hardswish()\n",
       "    (2): Dropout(p=0.2, inplace=True)\n",
       "    (3): Linear(in_features=1280, out_features=2, bias=True)\n",
       "  )\n",
       ")"
      ]
     },
     "execution_count": 9,
     "metadata": {},
     "output_type": "execute_result"
    }
   ],
   "source": [
    "# モデルをGPUに送る\n",
    "model.to(device)"
   ]
  },
  {
   "cell_type": "markdown",
   "id": "220de4e5",
   "metadata": {
    "papermill": {
     "duration": 0.057163,
     "end_time": "2022-04-15T23:45:49.338107",
     "exception": false,
     "start_time": "2022-04-15T23:45:49.280944",
     "status": "completed"
    },
    "tags": []
   },
   "source": [
    "# transform"
   ]
  },
  {
   "cell_type": "code",
   "execution_count": 10,
   "id": "4354d1ef",
   "metadata": {
    "execution": {
     "iopub.execute_input": "2022-04-15T23:45:49.456496Z",
     "iopub.status.busy": "2022-04-15T23:45:49.455907Z",
     "iopub.status.idle": "2022-04-15T23:45:49.461483Z",
     "shell.execute_reply": "2022-04-15T23:45:49.460847Z",
     "shell.execute_reply.started": "2022-04-14T02:54:59.415922Z"
    },
    "papermill": {
     "duration": 0.066095,
     "end_time": "2022-04-15T23:45:49.461630",
     "exception": false,
     "start_time": "2022-04-15T23:45:49.395535",
     "status": "completed"
    },
    "tags": []
   },
   "outputs": [],
   "source": [
    "# 両サイドを5%切り取るクラス\n",
    "class SideCrop():\n",
    "    def __call__(self, image):\n",
    "        w, h = image.size\n",
    "        w1 = 0.05 * w\n",
    "        h1 = 0.05 * h\n",
    "        image_crop = image.crop((w1, h1, w-w1, h-h1)) # (left, upper, right, lower)\n",
    "        return image_crop"
   ]
  },
  {
   "cell_type": "code",
   "execution_count": 11,
   "id": "3d8e24e7",
   "metadata": {
    "execution": {
     "iopub.execute_input": "2022-04-15T23:45:49.580784Z",
     "iopub.status.busy": "2022-04-15T23:45:49.580111Z",
     "iopub.status.idle": "2022-04-15T23:45:49.588089Z",
     "shell.execute_reply": "2022-04-15T23:45:49.588648Z",
     "shell.execute_reply.started": "2022-04-14T02:54:59.424119Z"
    },
    "papermill": {
     "duration": 0.068726,
     "end_time": "2022-04-15T23:45:49.588831",
     "exception": false,
     "start_time": "2022-04-15T23:45:49.520105",
     "status": "completed"
    },
    "tags": []
   },
   "outputs": [],
   "source": [
    "# transformの設定\n",
    "transform = {\n",
    "    'train': transforms.Compose([\n",
    "        SideCrop(),\n",
    "        transforms.Resize((opt.image_size,opt.image_size)),\n",
    "        transforms.RandomHorizontalFlip(p=0.5),\n",
    "        transforms.RandomVerticalFlip(p=0.5),\n",
    "        transforms.RandomAffine(degrees=[-10, 10], translate=(0.1, 0.1), scale=(0.5, 1.5)),\n",
    "        transforms.RandomRotation(degrees=10),\n",
    "        transforms.ToTensor(),\n",
    "        transforms.Normalize([0.485, 0.456, 0.406], [0.229, 0.224, 0.225]),\n",
    "        ]),\n",
    "    'val': transforms.Compose([\n",
    "        SideCrop(),\n",
    "        transforms.Resize((opt.image_size,opt.image_size)),\n",
    "        transforms.ToTensor(),\n",
    "        transforms.Normalize([0.485, 0.456, 0.406], [0.229, 0.224, 0.225]),\n",
    "        ]),\n",
    "}"
   ]
  },
  {
   "cell_type": "code",
   "execution_count": 12,
   "id": "418e1965",
   "metadata": {
    "execution": {
     "iopub.execute_input": "2022-04-15T23:45:49.707006Z",
     "iopub.status.busy": "2022-04-15T23:45:49.706282Z",
     "iopub.status.idle": "2022-04-15T23:45:49.713637Z",
     "shell.execute_reply": "2022-04-15T23:45:49.714147Z",
     "shell.execute_reply.started": "2022-04-14T02:54:59.43918Z"
    },
    "papermill": {
     "duration": 0.068021,
     "end_time": "2022-04-15T23:45:49.714343",
     "exception": false,
     "start_time": "2022-04-15T23:45:49.646322",
     "status": "completed"
    },
    "tags": []
   },
   "outputs": [],
   "source": [
    "# Datasetの設定\n",
    "class XrayDataset(Dataset):\n",
    "    def __init__(self, image_name_list, label_list, img_dir, transform=None, phase=None):\n",
    "        self.image_name_list = image_name_list # 画像ファイル名\n",
    "        self.label_list = label_list # ラベル\n",
    "        self.img_dir = img_dir # 画像データのディレクトリ\n",
    "        self.phase = phase # 変数phaseで学習(train)もしくは検証(val)の設定を行う\n",
    "        self.transform = transform\n",
    "\n",
    "    def __len__(self):\n",
    "        return len(self.image_name_list) # 1エポックあたりに読み込むデータ数として、入力データの数を指定\n",
    "\n",
    "    def __getitem__(self, index):\n",
    "        \n",
    "        # index番目の画像を読み込み、前処理を行う\n",
    "        image_path = os.path.join(self.img_dir, self.image_name_list[index]) # train_master.iloc[index, 0]はファイル名を抽出\n",
    "        img = Image.open(image_path).convert('RGB')\n",
    "        img = self.transform[self.phase](img)\n",
    "        \n",
    "        # index番目のラベルを取得する\n",
    "        label = self.label_list[index]\n",
    "        \n",
    "        return img, label"
   ]
  },
  {
   "cell_type": "markdown",
   "id": "3e870e2d",
   "metadata": {
    "papermill": {
     "duration": 0.056913,
     "end_time": "2022-04-15T23:45:49.828906",
     "exception": false,
     "start_time": "2022-04-15T23:45:49.771993",
     "status": "completed"
    },
    "tags": []
   },
   "source": [
    "# NORMALのテストデータを推論"
   ]
  },
  {
   "cell_type": "markdown",
   "id": "97c11a71",
   "metadata": {
    "papermill": {
     "duration": 0.058688,
     "end_time": "2022-04-15T23:45:49.944764",
     "exception": false,
     "start_time": "2022-04-15T23:45:49.886076",
     "status": "completed"
    },
    "tags": []
   },
   "source": [
    "## NORMALのテストデータのデータフレーム化"
   ]
  },
  {
   "cell_type": "code",
   "execution_count": 13,
   "id": "88b797be",
   "metadata": {
    "execution": {
     "iopub.execute_input": "2022-04-15T23:45:50.064323Z",
     "iopub.status.busy": "2022-04-15T23:45:50.063483Z",
     "iopub.status.idle": "2022-04-15T23:45:50.133484Z",
     "shell.execute_reply": "2022-04-15T23:45:50.132885Z",
     "shell.execute_reply.started": "2022-04-14T02:54:59.453329Z"
    },
    "papermill": {
     "duration": 0.131523,
     "end_time": "2022-04-15T23:45:50.133619",
     "exception": false,
     "start_time": "2022-04-15T23:45:50.002096",
     "status": "completed"
    },
    "tags": []
   },
   "outputs": [],
   "source": [
    "# ディレクトリ内の画像リスト作成\n",
    "normal = glob(test_normal_dir+'*.jpeg')"
   ]
  },
  {
   "cell_type": "code",
   "execution_count": 14,
   "id": "9e5cbd08",
   "metadata": {
    "execution": {
     "iopub.execute_input": "2022-04-15T23:45:50.252303Z",
     "iopub.status.busy": "2022-04-15T23:45:50.251301Z",
     "iopub.status.idle": "2022-04-15T23:45:50.257171Z",
     "shell.execute_reply": "2022-04-15T23:45:50.256601Z",
     "shell.execute_reply.started": "2022-04-14T02:54:59.555301Z"
    },
    "papermill": {
     "duration": 0.066135,
     "end_time": "2022-04-15T23:45:50.257311",
     "exception": false,
     "start_time": "2022-04-15T23:45:50.191176",
     "status": "completed"
    },
    "tags": []
   },
   "outputs": [],
   "source": [
    "# テストデータのリストを作成\n",
    "test_file_list = []\n",
    "\n",
    "for path in normal:\n",
    "    file_name = re.split('[////////]', path)[8]\n",
    "    test_file_list.append(file_name)\n",
    "    #print(file_name)"
   ]
  },
  {
   "cell_type": "code",
   "execution_count": 15,
   "id": "2f6f46de",
   "metadata": {
    "execution": {
     "iopub.execute_input": "2022-04-15T23:45:50.391075Z",
     "iopub.status.busy": "2022-04-15T23:45:50.390068Z",
     "iopub.status.idle": "2022-04-15T23:45:50.397064Z",
     "shell.execute_reply": "2022-04-15T23:45:50.397543Z",
     "shell.execute_reply.started": "2022-04-14T02:54:59.561896Z"
    },
    "papermill": {
     "duration": 0.082779,
     "end_time": "2022-04-15T23:45:50.397719",
     "exception": false,
     "start_time": "2022-04-15T23:45:50.314940",
     "status": "completed"
    },
    "tags": []
   },
   "outputs": [
    {
     "name": "stdout",
     "output_type": "stream",
     "text": [
      "                          name label\n",
      "0    NORMAL2-IM-0336-0001.jpeg  None\n",
      "1            IM-0101-0001.jpeg  None\n",
      "2    NORMAL2-IM-0337-0001.jpeg  None\n",
      "3    NORMAL2-IM-0198-0001.jpeg  None\n",
      "4            IM-0013-0001.jpeg  None\n",
      "..                         ...   ...\n",
      "229  NORMAL2-IM-0338-0001.jpeg  None\n",
      "230  NORMAL2-IM-0195-0001.jpeg  None\n",
      "231  NORMAL2-IM-0333-0001.jpeg  None\n",
      "232  NORMAL2-IM-0150-0001.jpeg  None\n",
      "233          IM-0010-0001.jpeg  None\n",
      "\n",
      "[234 rows x 2 columns]\n",
      "234\n"
     ]
    }
   ],
   "source": [
    "# ファイル名とラベルのデータフレームを作成\n",
    "test_normal_df = pd.DataFrame({'name':test_file_list})\n",
    "test_normal_df['label'] = None\n",
    "\n",
    "print(test_normal_df)\n",
    "print(len(test_normal_df))"
   ]
  },
  {
   "cell_type": "code",
   "execution_count": 16,
   "id": "6450f8e6",
   "metadata": {
    "execution": {
     "iopub.execute_input": "2022-04-15T23:45:50.518037Z",
     "iopub.status.busy": "2022-04-15T23:45:50.517323Z",
     "iopub.status.idle": "2022-04-15T23:45:50.519282Z",
     "shell.execute_reply": "2022-04-15T23:45:50.519761Z",
     "shell.execute_reply.started": "2022-04-14T02:54:59.594979Z"
    },
    "papermill": {
     "duration": 0.064622,
     "end_time": "2022-04-15T23:45:50.519935",
     "exception": false,
     "start_time": "2022-04-15T23:45:50.455313",
     "status": "completed"
    },
    "tags": []
   },
   "outputs": [],
   "source": [
    "# 画像データの名前リストの抽出\n",
    "x_test_normal = test_normal_df['name'].values\n",
    "dummy = test_normal_df['name'].values\n",
    "#print(x_test_normal, f'データ数：{len(x_test_normal)}')"
   ]
  },
  {
   "cell_type": "code",
   "execution_count": 17,
   "id": "2af2345e",
   "metadata": {
    "execution": {
     "iopub.execute_input": "2022-04-15T23:45:50.639687Z",
     "iopub.status.busy": "2022-04-15T23:45:50.639079Z",
     "iopub.status.idle": "2022-04-15T23:45:50.642522Z",
     "shell.execute_reply": "2022-04-15T23:45:50.643052Z",
     "shell.execute_reply.started": "2022-04-14T02:54:59.604217Z"
    },
    "papermill": {
     "duration": 0.065109,
     "end_time": "2022-04-15T23:45:50.643211",
     "exception": false,
     "start_time": "2022-04-15T23:45:50.578102",
     "status": "completed"
    },
    "tags": []
   },
   "outputs": [],
   "source": [
    "# Datasetのインスタンス作成\n",
    "test_normal_dataset = XrayDataset(x_test_normal, dummy, test_normal_dir, transform=transform, phase='val')"
   ]
  },
  {
   "cell_type": "code",
   "execution_count": 18,
   "id": "f1df8907",
   "metadata": {
    "execution": {
     "iopub.execute_input": "2022-04-15T23:45:50.763389Z",
     "iopub.status.busy": "2022-04-15T23:45:50.762658Z",
     "iopub.status.idle": "2022-04-15T23:45:50.766369Z",
     "shell.execute_reply": "2022-04-15T23:45:50.766902Z",
     "shell.execute_reply.started": "2022-04-14T02:54:59.619844Z"
    },
    "papermill": {
     "duration": 0.066006,
     "end_time": "2022-04-15T23:45:50.767069",
     "exception": false,
     "start_time": "2022-04-15T23:45:50.701063",
     "status": "completed"
    },
    "tags": []
   },
   "outputs": [],
   "source": [
    "# DataLoader\n",
    "test_normal_dataloader = DataLoader(test_normal_dataset, batch_size=1, shuffle=False)"
   ]
  },
  {
   "cell_type": "code",
   "execution_count": 19,
   "id": "c4c0390a",
   "metadata": {
    "execution": {
     "iopub.execute_input": "2022-04-15T23:45:50.885941Z",
     "iopub.status.busy": "2022-04-15T23:45:50.885305Z",
     "iopub.status.idle": "2022-04-15T23:45:50.964292Z",
     "shell.execute_reply": "2022-04-15T23:45:50.965273Z",
     "shell.execute_reply.started": "2022-04-14T02:54:59.631037Z"
    },
    "papermill": {
     "duration": 0.14034,
     "end_time": "2022-04-15T23:45:50.965613",
     "exception": false,
     "start_time": "2022-04-15T23:45:50.825273",
     "status": "completed"
    },
    "tags": []
   },
   "outputs": [
    {
     "name": "stdout",
     "output_type": "stream",
     "text": [
      "torch.Size([1, 3, 224, 224])\n",
      "('NORMAL2-IM-0336-0001.jpeg',)\n"
     ]
    }
   ],
   "source": [
    "# DataLoaderの確認\n",
    "train_iter = iter(test_normal_dataloader)\n",
    "imgs, labels = train_iter.next()\n",
    "print(imgs.size())\n",
    "print(labels)"
   ]
  },
  {
   "cell_type": "markdown",
   "id": "bbd9b7ce",
   "metadata": {
    "papermill": {
     "duration": 0.060443,
     "end_time": "2022-04-15T23:45:51.088203",
     "exception": false,
     "start_time": "2022-04-15T23:45:51.027760",
     "status": "completed"
    },
    "tags": []
   },
   "source": [
    "## NORMALのテストデータの予測"
   ]
  },
  {
   "cell_type": "code",
   "execution_count": 20,
   "id": "e0d64e32",
   "metadata": {
    "execution": {
     "iopub.execute_input": "2022-04-15T23:45:51.212671Z",
     "iopub.status.busy": "2022-04-15T23:45:51.212001Z",
     "iopub.status.idle": "2022-04-15T23:46:44.768298Z",
     "shell.execute_reply": "2022-04-15T23:46:44.768847Z",
     "shell.execute_reply.started": "2022-04-14T02:54:59.722514Z"
    },
    "papermill": {
     "duration": 53.62198,
     "end_time": "2022-04-15T23:46:44.769049",
     "exception": false,
     "start_time": "2022-04-15T23:45:51.147069",
     "status": "completed"
    },
    "tags": []
   },
   "outputs": [],
   "source": [
    "# 予測データフレームの作成\n",
    "normal_preds = []\n",
    "\n",
    "# dataloaderから、ミニバッチ単位でデータを読み込む\n",
    "for images, _ in test_normal_dataloader:\n",
    "    \n",
    "    # 入力データをdeviceへ\n",
    "    images = images.to(device)\n",
    "    \n",
    "    # 学習済みモデルを推論モードに設定\n",
    "    model.eval()\n",
    "    \n",
    "    # モデルによる変換\n",
    "    outputs = model(images)\n",
    "    pred = torch.argmax(outputs, dim=1)\n",
    "    pred = pred.to('cpu').numpy()\n",
    "\n",
    "    # 予測値をリストに追加\n",
    "    normal_preds.extend(pred)"
   ]
  },
  {
   "cell_type": "code",
   "execution_count": 21,
   "id": "bf56f53a",
   "metadata": {
    "execution": {
     "iopub.execute_input": "2022-04-15T23:46:44.893259Z",
     "iopub.status.busy": "2022-04-15T23:46:44.892217Z",
     "iopub.status.idle": "2022-04-15T23:46:44.895437Z",
     "shell.execute_reply": "2022-04-15T23:46:44.895947Z",
     "shell.execute_reply.started": "2022-04-14T02:55:54.178744Z"
    },
    "papermill": {
     "duration": 0.06829,
     "end_time": "2022-04-15T23:46:44.896113",
     "exception": false,
     "start_time": "2022-04-15T23:46:44.827823",
     "status": "completed"
    },
    "tags": []
   },
   "outputs": [
    {
     "name": "stdout",
     "output_type": "stream",
     "text": [
      "[0, 1, 0, 1, 0, 0, 0, 0, 1, 0, 0, 0, 0, 1, 0, 0, 0, 0, 1, 1, 0, 0, 0, 0, 1, 0, 1, 0, 0, 0, 0, 1, 0, 1, 0, 1, 0, 0, 0, 0, 1, 0, 0, 0, 0, 0, 0, 1, 0, 0, 0, 0, 0, 1, 0, 0, 0, 0, 0, 0, 0, 1, 0, 0, 0, 0, 0, 0, 0, 0, 0, 0, 0, 0, 0, 0, 1, 0, 0, 0, 0, 0, 0, 0, 0, 0, 0, 0, 0, 0, 1, 0, 1, 0, 0, 1, 0, 0, 0, 0, 0, 1, 0, 0, 0, 0, 0, 1, 0, 1, 0, 0, 0, 1, 0, 0, 0, 0, 0, 0, 0, 0, 0, 0, 0, 0, 0, 0, 0, 1, 0, 1, 0, 0, 0, 0, 1, 0, 0, 0, 0, 0, 0, 0, 0, 0, 0, 1, 1, 0, 0, 0, 0, 0, 1, 1, 0, 1, 0, 0, 1, 0, 0, 0, 0, 0, 1, 0, 0, 0, 0, 0, 0, 1, 0, 1, 0, 1, 0, 0, 0, 0, 0, 0, 1, 0, 0, 0, 0, 0, 0, 0, 0, 0, 1, 0, 1, 0, 0, 1, 0, 0, 0, 0, 0, 0, 1, 1, 0, 0, 0, 1, 0, 0, 0, 0, 0, 0, 0, 0, 0, 1, 0, 0, 1, 1, 0, 0, 1, 0, 1, 0, 1, 0]\n",
      "正解率： 0.7905982905982906\n"
     ]
    }
   ],
   "source": [
    "# 予測結果と正解率の確認\n",
    "print(normal_preds)\n",
    "print('正解率：',normal_preds.count(0)/len(normal_preds))"
   ]
  },
  {
   "cell_type": "code",
   "execution_count": 22,
   "id": "b80aaace",
   "metadata": {
    "execution": {
     "iopub.execute_input": "2022-04-15T23:46:45.020479Z",
     "iopub.status.busy": "2022-04-15T23:46:45.018349Z",
     "iopub.status.idle": "2022-04-15T23:46:45.026393Z",
     "shell.execute_reply": "2022-04-15T23:46:45.026931Z",
     "shell.execute_reply.started": "2022-04-14T02:55:54.186939Z"
    },
    "papermill": {
     "duration": 0.072087,
     "end_time": "2022-04-15T23:46:45.027094",
     "exception": false,
     "start_time": "2022-04-15T23:46:44.955007",
     "status": "completed"
    },
    "tags": []
   },
   "outputs": [
    {
     "name": "stdout",
     "output_type": "stream",
     "text": [
      "                        name  label\n",
      "0  NORMAL2-IM-0336-0001.jpeg      0\n",
      "1          IM-0101-0001.jpeg      1\n",
      "2  NORMAL2-IM-0337-0001.jpeg      0\n",
      "3  NORMAL2-IM-0198-0001.jpeg      1\n",
      "4          IM-0013-0001.jpeg      0\n"
     ]
    }
   ],
   "source": [
    "# 目的変数カラムの置き換え\n",
    "test_normal_df['label'] = normal_preds\n",
    "print(test_normal_df.head())"
   ]
  },
  {
   "cell_type": "markdown",
   "id": "333c93fb",
   "metadata": {
    "papermill": {
     "duration": 0.059042,
     "end_time": "2022-04-15T23:46:45.146909",
     "exception": false,
     "start_time": "2022-04-15T23:46:45.087867",
     "status": "completed"
    },
    "tags": []
   },
   "source": [
    "# PNEUMONIAのテストデータを推論"
   ]
  },
  {
   "cell_type": "markdown",
   "id": "1a41076d",
   "metadata": {
    "papermill": {
     "duration": 0.058703,
     "end_time": "2022-04-15T23:46:45.264483",
     "exception": false,
     "start_time": "2022-04-15T23:46:45.205780",
     "status": "completed"
    },
    "tags": []
   },
   "source": [
    "## PNEUMONIAのテストデータのデータフレーム化"
   ]
  },
  {
   "cell_type": "code",
   "execution_count": 23,
   "id": "f75a1589",
   "metadata": {
    "execution": {
     "iopub.execute_input": "2022-04-15T23:46:45.387120Z",
     "iopub.status.busy": "2022-04-15T23:46:45.386475Z",
     "iopub.status.idle": "2022-04-15T23:46:45.482933Z",
     "shell.execute_reply": "2022-04-15T23:46:45.482341Z",
     "shell.execute_reply.started": "2022-04-14T02:55:54.202001Z"
    },
    "papermill": {
     "duration": 0.159371,
     "end_time": "2022-04-15T23:46:45.483097",
     "exception": false,
     "start_time": "2022-04-15T23:46:45.323726",
     "status": "completed"
    },
    "tags": []
   },
   "outputs": [],
   "source": [
    "# ディレクトリ内の画像リスト作成\n",
    "pneumonia = glob(test_pneumonia_dir+'*.jpeg')"
   ]
  },
  {
   "cell_type": "code",
   "execution_count": 24,
   "id": "5d291884",
   "metadata": {
    "execution": {
     "iopub.execute_input": "2022-04-15T23:46:45.608890Z",
     "iopub.status.busy": "2022-04-15T23:46:45.608121Z",
     "iopub.status.idle": "2022-04-15T23:46:45.610338Z",
     "shell.execute_reply": "2022-04-15T23:46:45.610855Z",
     "shell.execute_reply.started": "2022-04-14T02:55:54.367538Z"
    },
    "papermill": {
     "duration": 0.067959,
     "end_time": "2022-04-15T23:46:45.611028",
     "exception": false,
     "start_time": "2022-04-15T23:46:45.543069",
     "status": "completed"
    },
    "tags": []
   },
   "outputs": [],
   "source": [
    "# テストデータのリストを作成\n",
    "test_file_list = []\n",
    "\n",
    "for path in pneumonia:\n",
    "    file_name = re.split('[////////]', path)[8]\n",
    "    test_file_list.append(file_name)\n",
    "    #print(file_name)"
   ]
  },
  {
   "cell_type": "code",
   "execution_count": 25,
   "id": "932e7059",
   "metadata": {
    "execution": {
     "iopub.execute_input": "2022-04-15T23:46:45.733106Z",
     "iopub.status.busy": "2022-04-15T23:46:45.732308Z",
     "iopub.status.idle": "2022-04-15T23:46:45.742468Z",
     "shell.execute_reply": "2022-04-15T23:46:45.743192Z",
     "shell.execute_reply.started": "2022-04-14T02:55:54.375748Z"
    },
    "papermill": {
     "duration": 0.073151,
     "end_time": "2022-04-15T23:46:45.743367",
     "exception": false,
     "start_time": "2022-04-15T23:46:45.670216",
     "status": "completed"
    },
    "tags": []
   },
   "outputs": [
    {
     "name": "stdout",
     "output_type": "stream",
     "text": [
      "                            name label\n",
      "0     person1676_virus_2892.jpeg  None\n",
      "1     person1650_virus_2852.jpeg  None\n",
      "2         person22_virus_55.jpeg  None\n",
      "3    person122_bacteria_582.jpeg  None\n",
      "4     person85_bacteria_417.jpeg  None\n",
      "..                           ...   ...\n",
      "385   person1659_virus_2867.jpeg  None\n",
      "386   person1615_virus_2801.jpeg  None\n",
      "387   person1664_virus_2877.jpeg  None\n",
      "388  person111_bacteria_536.jpeg  None\n",
      "389  person152_bacteria_724.jpeg  None\n",
      "\n",
      "[390 rows x 2 columns]\n",
      "390\n"
     ]
    }
   ],
   "source": [
    "# ファイル名とラベルのデータフレームを作成\n",
    "test_pneumonia_df = pd.DataFrame({'name':test_file_list})\n",
    "test_pneumonia_df['label'] = None\n",
    "\n",
    "print(test_pneumonia_df)\n",
    "print(len(test_pneumonia_df))"
   ]
  },
  {
   "cell_type": "code",
   "execution_count": 26,
   "id": "7bb4ca6c",
   "metadata": {
    "execution": {
     "iopub.execute_input": "2022-04-15T23:46:45.865313Z",
     "iopub.status.busy": "2022-04-15T23:46:45.864654Z",
     "iopub.status.idle": "2022-04-15T23:46:45.868637Z",
     "shell.execute_reply": "2022-04-15T23:46:45.869134Z",
     "shell.execute_reply.started": "2022-04-14T02:55:54.397031Z"
    },
    "papermill": {
     "duration": 0.066426,
     "end_time": "2022-04-15T23:46:45.869315",
     "exception": false,
     "start_time": "2022-04-15T23:46:45.802889",
     "status": "completed"
    },
    "tags": []
   },
   "outputs": [],
   "source": [
    "# 画像データの名前リストの抽出\n",
    "x_test_pneumonia = test_pneumonia_df['name'].values\n",
    "dummy = test_pneumonia_df['name'].values\n",
    "#print(x_test_pneumonia, f'データ数：{len(x_test_pneumonia)}')"
   ]
  },
  {
   "cell_type": "code",
   "execution_count": 27,
   "id": "e2aa4773",
   "metadata": {
    "execution": {
     "iopub.execute_input": "2022-04-15T23:46:45.993422Z",
     "iopub.status.busy": "2022-04-15T23:46:45.992753Z",
     "iopub.status.idle": "2022-04-15T23:46:45.996408Z",
     "shell.execute_reply": "2022-04-15T23:46:45.996938Z",
     "shell.execute_reply.started": "2022-04-14T02:55:54.4039Z"
    },
    "papermill": {
     "duration": 0.066512,
     "end_time": "2022-04-15T23:46:45.997107",
     "exception": false,
     "start_time": "2022-04-15T23:46:45.930595",
     "status": "completed"
    },
    "tags": []
   },
   "outputs": [],
   "source": [
    "# Datasetのインスタンス作成\n",
    "test_pneumonia_dataset = XrayDataset(x_test_pneumonia, dummy, test_pneumonia_dir, transform=transform, phase='val')"
   ]
  },
  {
   "cell_type": "code",
   "execution_count": 28,
   "id": "00b895e1",
   "metadata": {
    "execution": {
     "iopub.execute_input": "2022-04-15T23:46:46.122010Z",
     "iopub.status.busy": "2022-04-15T23:46:46.121354Z",
     "iopub.status.idle": "2022-04-15T23:46:46.124648Z",
     "shell.execute_reply": "2022-04-15T23:46:46.125199Z",
     "shell.execute_reply.started": "2022-04-14T02:55:54.421054Z"
    },
    "papermill": {
     "duration": 0.067042,
     "end_time": "2022-04-15T23:46:46.125378",
     "exception": false,
     "start_time": "2022-04-15T23:46:46.058336",
     "status": "completed"
    },
    "tags": []
   },
   "outputs": [],
   "source": [
    "# DataLoader\n",
    "test_pneumonia_dataloader = DataLoader(test_pneumonia_dataset, batch_size=1, shuffle=False)"
   ]
  },
  {
   "cell_type": "code",
   "execution_count": 29,
   "id": "85cc24a8",
   "metadata": {
    "execution": {
     "iopub.execute_input": "2022-04-15T23:46:46.248167Z",
     "iopub.status.busy": "2022-04-15T23:46:46.247496Z",
     "iopub.status.idle": "2022-04-15T23:46:46.286992Z",
     "shell.execute_reply": "2022-04-15T23:46:46.287547Z",
     "shell.execute_reply.started": "2022-04-14T02:55:54.430544Z"
    },
    "papermill": {
     "duration": 0.101887,
     "end_time": "2022-04-15T23:46:46.287719",
     "exception": false,
     "start_time": "2022-04-15T23:46:46.185832",
     "status": "completed"
    },
    "tags": []
   },
   "outputs": [
    {
     "name": "stdout",
     "output_type": "stream",
     "text": [
      "torch.Size([1, 3, 224, 224])\n",
      "('person1676_virus_2892.jpeg',)\n"
     ]
    }
   ],
   "source": [
    "# DataLoaderの確認\n",
    "train_iter = iter(test_pneumonia_dataloader)\n",
    "imgs, labels = train_iter.next()\n",
    "print(imgs.size())\n",
    "print(labels)"
   ]
  },
  {
   "cell_type": "markdown",
   "id": "844784fc",
   "metadata": {
    "papermill": {
     "duration": 0.06035,
     "end_time": "2022-04-15T23:46:46.408748",
     "exception": false,
     "start_time": "2022-04-15T23:46:46.348398",
     "status": "completed"
    },
    "tags": []
   },
   "source": [
    "## PNEUMONIAのテストデータの予測"
   ]
  },
  {
   "cell_type": "code",
   "execution_count": 30,
   "id": "486a976e",
   "metadata": {
    "execution": {
     "iopub.execute_input": "2022-04-15T23:46:46.534915Z",
     "iopub.status.busy": "2022-04-15T23:46:46.534245Z",
     "iopub.status.idle": "2022-04-15T23:48:06.237479Z",
     "shell.execute_reply": "2022-04-15T23:48:06.236938Z",
     "shell.execute_reply.started": "2022-04-14T02:55:54.474691Z"
    },
    "papermill": {
     "duration": 79.769088,
     "end_time": "2022-04-15T23:48:06.237648",
     "exception": false,
     "start_time": "2022-04-15T23:46:46.468560",
     "status": "completed"
    },
    "tags": []
   },
   "outputs": [],
   "source": [
    "# 予測データフレームの作成\n",
    "pneumonia_preds = []\n",
    "\n",
    "# dataloaderから、ミニバッチ単位でデータを読み込む\n",
    "for images, _ in test_pneumonia_dataloader:\n",
    "    \n",
    "    # 入力データをdeviceへ\n",
    "    images = images.to(device)\n",
    "    \n",
    "    # 学習済みモデルを推論モードに設定\n",
    "    model.eval()\n",
    "    \n",
    "    # モデルによる変換\n",
    "    outputs = model(images)\n",
    "    pred = torch.argmax(outputs, dim=1)\n",
    "    pred = pred.to('cpu').numpy()\n",
    "\n",
    "    # 予測値をリストに追加\n",
    "    pneumonia_preds.extend(pred)"
   ]
  },
  {
   "cell_type": "code",
   "execution_count": 31,
   "id": "310b6298",
   "metadata": {
    "execution": {
     "iopub.execute_input": "2022-04-15T23:48:06.363512Z",
     "iopub.status.busy": "2022-04-15T23:48:06.362445Z",
     "iopub.status.idle": "2022-04-15T23:48:06.368329Z",
     "shell.execute_reply": "2022-04-15T23:48:06.368884Z",
     "shell.execute_reply.started": "2022-04-14T02:57:16.356465Z"
    },
    "papermill": {
     "duration": 0.069779,
     "end_time": "2022-04-15T23:48:06.369052",
     "exception": false,
     "start_time": "2022-04-15T23:48:06.299273",
     "status": "completed"
    },
    "tags": []
   },
   "outputs": [
    {
     "name": "stdout",
     "output_type": "stream",
     "text": [
      "[1, 1, 1, 1, 1, 1, 1, 1, 1, 1, 1, 1, 1, 1, 1, 1, 1, 1, 1, 1, 1, 1, 1, 1, 1, 1, 1, 1, 1, 1, 1, 1, 1, 1, 1, 1, 1, 1, 1, 1, 1, 1, 1, 1, 1, 1, 1, 1, 1, 1, 1, 1, 1, 1, 1, 1, 1, 1, 1, 1, 1, 1, 1, 1, 1, 1, 1, 1, 1, 1, 1, 1, 1, 1, 1, 1, 1, 1, 1, 1, 1, 1, 1, 1, 1, 1, 1, 0, 1, 1, 1, 1, 1, 1, 1, 1, 1, 1, 1, 1, 1, 1, 1, 1, 1, 1, 1, 1, 1, 1, 1, 1, 1, 1, 1, 1, 1, 1, 1, 1, 1, 1, 1, 1, 1, 1, 1, 1, 1, 1, 1, 1, 1, 1, 1, 1, 1, 1, 1, 1, 1, 1, 1, 1, 1, 1, 1, 1, 1, 1, 1, 1, 1, 1, 1, 1, 1, 1, 1, 1, 1, 1, 1, 1, 1, 1, 1, 1, 1, 1, 1, 1, 1, 1, 1, 1, 1, 1, 1, 1, 1, 1, 1, 1, 1, 1, 1, 1, 1, 1, 1, 1, 1, 1, 1, 1, 1, 1, 1, 1, 1, 1, 1, 1, 1, 1, 1, 1, 1, 1, 1, 1, 1, 1, 1, 1, 1, 1, 1, 1, 1, 1, 1, 1, 1, 1, 1, 1, 0, 1, 1, 1, 1, 1, 1, 1, 1, 1, 1, 1, 1, 0, 1, 1, 1, 1, 1, 1, 1, 1, 1, 1, 1, 1, 1, 1, 1, 1, 1, 1, 1, 1, 1, 1, 1, 1, 1, 1, 1, 1, 1, 1, 1, 1, 1, 1, 1, 1, 1, 1, 1, 1, 1, 1, 1, 1, 1, 1, 1, 1, 1, 1, 1, 1, 1, 1, 1, 1, 1, 1, 1, 1, 1, 1, 1, 1, 1, 1, 1, 1, 1, 1, 1, 1, 1, 1, 1, 1, 1, 1, 1, 1, 1, 1, 1, 1, 1, 1, 1, 1, 1, 1, 1, 1, 1, 1, 1, 1, 1, 0, 1, 1, 1, 1, 1, 1, 1, 1, 1, 1, 0, 1, 1, 1, 1, 1, 1, 1, 1, 1, 1, 1, 1, 1, 1, 1, 1, 1, 1, 1, 1, 1, 1, 1, 1, 1, 1, 1, 1, 1, 1, 1, 1, 1, 1, 1, 1, 1, 1, 1]\n",
      "正解率： 0.9871794871794872\n"
     ]
    }
   ],
   "source": [
    "# 予測結果と正解率の確認\n",
    "print(pneumonia_preds)\n",
    "print('正解率：',pneumonia_preds.count(1)/len(pneumonia_preds))"
   ]
  },
  {
   "cell_type": "code",
   "execution_count": 32,
   "id": "b9b98f26",
   "metadata": {
    "execution": {
     "iopub.execute_input": "2022-04-15T23:48:06.514874Z",
     "iopub.status.busy": "2022-04-15T23:48:06.513873Z",
     "iopub.status.idle": "2022-04-15T23:48:06.523003Z",
     "shell.execute_reply": "2022-04-15T23:48:06.523535Z",
     "shell.execute_reply.started": "2022-04-14T02:57:16.364743Z"
    },
    "papermill": {
     "duration": 0.090494,
     "end_time": "2022-04-15T23:48:06.523716",
     "exception": false,
     "start_time": "2022-04-15T23:48:06.433222",
     "status": "completed"
    },
    "tags": []
   },
   "outputs": [
    {
     "name": "stdout",
     "output_type": "stream",
     "text": [
      "                          name  label\n",
      "0   person1676_virus_2892.jpeg      1\n",
      "1   person1650_virus_2852.jpeg      1\n",
      "2       person22_virus_55.jpeg      1\n",
      "3  person122_bacteria_582.jpeg      1\n",
      "4   person85_bacteria_417.jpeg      1\n"
     ]
    }
   ],
   "source": [
    "# 目的変数カラムの置き換え\n",
    "test_pneumonia_df['label'] = pneumonia_preds\n",
    "print(test_pneumonia_df.head())"
   ]
  },
  {
   "cell_type": "markdown",
   "id": "687c179e",
   "metadata": {
    "papermill": {
     "duration": 0.061851,
     "end_time": "2022-04-15T23:48:06.646963",
     "exception": false,
     "start_time": "2022-04-15T23:48:06.585112",
     "status": "completed"
    },
    "tags": []
   },
   "source": [
    "# 混同行列"
   ]
  },
  {
   "cell_type": "code",
   "execution_count": 33,
   "id": "e01e807f",
   "metadata": {
    "execution": {
     "iopub.execute_input": "2022-04-15T23:48:06.773062Z",
     "iopub.status.busy": "2022-04-15T23:48:06.772357Z",
     "iopub.status.idle": "2022-04-15T23:48:06.776076Z",
     "shell.execute_reply": "2022-04-15T23:48:06.776615Z",
     "shell.execute_reply.started": "2022-04-14T02:57:16.384096Z"
    },
    "papermill": {
     "duration": 0.068645,
     "end_time": "2022-04-15T23:48:06.776783",
     "exception": false,
     "start_time": "2022-04-15T23:48:06.708138",
     "status": "completed"
    },
    "tags": []
   },
   "outputs": [],
   "source": [
    "# 正解リスト\n",
    "normal_true = [0] * len(normal_preds)\n",
    "pneumonia_true = [1] * len(pneumonia_preds)\n",
    "y_true = normal_true + pneumonia_true\n",
    "#print(y_true)\n",
    "#print('データ数：', len(y_true))"
   ]
  },
  {
   "cell_type": "code",
   "execution_count": 34,
   "id": "7856c041",
   "metadata": {
    "execution": {
     "iopub.execute_input": "2022-04-15T23:48:06.902605Z",
     "iopub.status.busy": "2022-04-15T23:48:06.901068Z",
     "iopub.status.idle": "2022-04-15T23:48:06.905718Z",
     "shell.execute_reply": "2022-04-15T23:48:06.905183Z",
     "shell.execute_reply.started": "2022-04-14T02:57:16.399319Z"
    },
    "papermill": {
     "duration": 0.068059,
     "end_time": "2022-04-15T23:48:06.905889",
     "exception": false,
     "start_time": "2022-04-15T23:48:06.837830",
     "status": "completed"
    },
    "tags": []
   },
   "outputs": [],
   "source": [
    "# 予測リスト\n",
    "y_pred = normal_preds + pneumonia_preds\n",
    "#print(y_pred)\n",
    "#print('データ数：', len(y_pred))"
   ]
  },
  {
   "cell_type": "code",
   "execution_count": 35,
   "id": "22a61fc9",
   "metadata": {
    "execution": {
     "iopub.execute_input": "2022-04-15T23:48:07.034555Z",
     "iopub.status.busy": "2022-04-15T23:48:07.033906Z",
     "iopub.status.idle": "2022-04-15T23:48:07.181294Z",
     "shell.execute_reply": "2022-04-15T23:48:07.182411Z",
     "shell.execute_reply.started": "2022-04-14T02:57:16.412305Z"
    },
    "papermill": {
     "duration": 0.215293,
     "end_time": "2022-04-15T23:48:07.182683",
     "exception": false,
     "start_time": "2022-04-15T23:48:06.967390",
     "status": "completed"
    },
    "tags": []
   },
   "outputs": [
    {
     "data": {
      "image/png": "[encoded data removed]",
      "text/plain": [
       "<Figure size 432x288 with 1 Axes>"
      ]
     },
     "metadata": {
      "needs_background": "light"
     },
     "output_type": "display_data"
    }
   ],
   "source": [
    "# 混同行列の作成と可視化\n",
    "cm = confusion_matrix(y_true, y_pred)\n",
    "\n",
    "sns.heatmap(cm, \n",
    "            annot=True, # 数字を表示\n",
    "            fmt='d', # 整数表示\n",
    "            cmap='Blues',\n",
    "            cbar=False # カラーバーを非表示\n",
    ")\n",
    "plt.show()"
   ]
  },
  {
   "cell_type": "markdown",
   "id": "15bbb5c9",
   "metadata": {
    "papermill": {
     "duration": 0.061545,
     "end_time": "2022-04-15T23:48:07.308491",
     "exception": false,
     "start_time": "2022-04-15T23:48:07.246946",
     "status": "completed"
    },
    "tags": []
   },
   "source": [
    "## 正解率"
   ]
  },
  {
   "cell_type": "markdown",
   "id": "19531d30",
   "metadata": {
    "papermill": {
     "duration": 0.06111,
     "end_time": "2022-04-15T23:48:07.432343",
     "exception": false,
     "start_time": "2022-04-15T23:48:07.371233",
     "status": "completed"
    },
    "tags": []
   },
   "source": [
    "正解率（accuracy）は、すべてのサンプルのうち正解したサンプルの割合"
   ]
  },
  {
   "cell_type": "code",
   "execution_count": 36,
   "id": "509b285a",
   "metadata": {
    "execution": {
     "iopub.execute_input": "2022-04-15T23:48:07.562274Z",
     "iopub.status.busy": "2022-04-15T23:48:07.561262Z",
     "iopub.status.idle": "2022-04-15T23:48:07.565301Z",
     "shell.execute_reply": "2022-04-15T23:48:07.565904Z",
     "shell.execute_reply.started": "2022-04-14T02:57:16.579757Z"
    },
    "papermill": {
     "duration": 0.07181,
     "end_time": "2022-04-15T23:48:07.566073",
     "exception": false,
     "start_time": "2022-04-15T23:48:07.494263",
     "status": "completed"
    },
    "tags": []
   },
   "outputs": [
    {
     "name": "stdout",
     "output_type": "stream",
     "text": [
      "0.9134615384615384\n"
     ]
    }
   ],
   "source": [
    "print(accuracy_score(y_true, y_pred))"
   ]
  },
  {
   "cell_type": "markdown",
   "id": "8949b671",
   "metadata": {
    "papermill": {
     "duration": 0.061976,
     "end_time": "2022-04-15T23:48:07.691046",
     "exception": false,
     "start_time": "2022-04-15T23:48:07.629070",
     "status": "completed"
    },
    "tags": []
   },
   "source": [
    "## 適合率"
   ]
  },
  {
   "cell_type": "markdown",
   "id": "64e4c4d7",
   "metadata": {
    "papermill": {
     "duration": 0.065625,
     "end_time": "2022-04-15T23:48:07.818988",
     "exception": false,
     "start_time": "2022-04-15T23:48:07.753363",
     "status": "completed"
    },
    "tags": []
   },
   "source": [
    "適合率（precision）は、陽性と予測されたサンプルのうち正解したサンプルの割合"
   ]
  },
  {
   "cell_type": "code",
   "execution_count": 37,
   "id": "78afb761",
   "metadata": {
    "execution": {
     "iopub.execute_input": "2022-04-15T23:48:07.972142Z",
     "iopub.status.busy": "2022-04-15T23:48:07.971423Z",
     "iopub.status.idle": "2022-04-15T23:48:07.979162Z",
     "shell.execute_reply": "2022-04-15T23:48:07.978620Z",
     "shell.execute_reply.started": "2022-04-14T02:57:16.586912Z"
    },
    "papermill": {
     "duration": 0.082375,
     "end_time": "2022-04-15T23:48:07.979309",
     "exception": false,
     "start_time": "2022-04-15T23:48:07.896934",
     "status": "completed"
    },
    "tags": []
   },
   "outputs": [
    {
     "name": "stdout",
     "output_type": "stream",
     "text": [
      "0.8870967741935484\n"
     ]
    }
   ],
   "source": [
    "print(precision_score(y_true, y_pred))"
   ]
  },
  {
   "cell_type": "markdown",
   "id": "f01a2938",
   "metadata": {
    "papermill": {
     "duration": 0.061841,
     "end_time": "2022-04-15T23:48:08.104598",
     "exception": false,
     "start_time": "2022-04-15T23:48:08.042757",
     "status": "completed"
    },
    "tags": []
   },
   "source": [
    "## 再現率"
   ]
  },
  {
   "cell_type": "markdown",
   "id": "326bca76",
   "metadata": {
    "papermill": {
     "duration": 0.061887,
     "end_time": "2022-04-15T23:48:08.230152",
     "exception": false,
     "start_time": "2022-04-15T23:48:08.168265",
     "status": "completed"
    },
    "tags": []
   },
   "source": [
    "再現率（recall）は実際に陽性のサンプルのうち正解したサンプルの割合。sensitivityやhit rate, TPR（true positive rate, 真陽性率）などとも呼ばれる。"
   ]
  },
  {
   "cell_type": "code",
   "execution_count": 38,
   "id": "e697613f",
   "metadata": {
    "execution": {
     "iopub.execute_input": "2022-04-15T23:48:08.360900Z",
     "iopub.status.busy": "2022-04-15T23:48:08.359864Z",
     "iopub.status.idle": "2022-04-15T23:48:08.366143Z",
     "shell.execute_reply": "2022-04-15T23:48:08.365557Z",
     "shell.execute_reply.started": "2022-04-14T02:57:16.601822Z"
    },
    "papermill": {
     "duration": 0.074076,
     "end_time": "2022-04-15T23:48:08.366291",
     "exception": false,
     "start_time": "2022-04-15T23:48:08.292215",
     "status": "completed"
    },
    "tags": []
   },
   "outputs": [
    {
     "name": "stdout",
     "output_type": "stream",
     "text": [
      "0.9871794871794872\n"
     ]
    }
   ],
   "source": [
    "print(recall_score(y_true, y_pred))"
   ]
  },
  {
   "cell_type": "markdown",
   "id": "d1919cec",
   "metadata": {
    "papermill": {
     "duration": 0.062681,
     "end_time": "2022-04-15T23:48:08.492253",
     "exception": false,
     "start_time": "2022-04-15T23:48:08.429572",
     "status": "completed"
    },
    "tags": []
   },
   "source": [
    "## 特異度"
   ]
  },
  {
   "cell_type": "markdown",
   "id": "b7ca8750",
   "metadata": {
    "papermill": {
     "duration": 0.063423,
     "end_time": "2022-04-15T23:48:08.619531",
     "exception": false,
     "start_time": "2022-04-15T23:48:08.556108",
     "status": "completed"
    },
    "tags": []
   },
   "source": [
    "特異度（specificity）は実際に陰性のサンプルのうち正解したサンプルの割合"
   ]
  },
  {
   "cell_type": "code",
   "execution_count": 39,
   "id": "e2902cb5",
   "metadata": {
    "execution": {
     "iopub.execute_input": "2022-04-15T23:48:08.749262Z",
     "iopub.status.busy": "2022-04-15T23:48:08.748594Z",
     "iopub.status.idle": "2022-04-15T23:48:08.753432Z",
     "shell.execute_reply": "2022-04-15T23:48:08.753953Z",
     "shell.execute_reply.started": "2022-04-14T02:57:16.614244Z"
    },
    "papermill": {
     "duration": 0.071192,
     "end_time": "2022-04-15T23:48:08.754131",
     "exception": false,
     "start_time": "2022-04-15T23:48:08.682939",
     "status": "completed"
    },
    "tags": []
   },
   "outputs": [],
   "source": [
    "tn, fp, fn, tp = confusion_matrix(y_true, y_pred).ravel()"
   ]
  },
  {
   "cell_type": "code",
   "execution_count": 40,
   "id": "17bbab46",
   "metadata": {
    "execution": {
     "iopub.execute_input": "2022-04-15T23:48:08.883038Z",
     "iopub.status.busy": "2022-04-15T23:48:08.882431Z",
     "iopub.status.idle": "2022-04-15T23:48:08.886910Z",
     "shell.execute_reply": "2022-04-15T23:48:08.887553Z",
     "shell.execute_reply.started": "2022-04-14T02:57:16.627229Z"
    },
    "papermill": {
     "duration": 0.070582,
     "end_time": "2022-04-15T23:48:08.887786",
     "exception": false,
     "start_time": "2022-04-15T23:48:08.817204",
     "status": "completed"
    },
    "tags": []
   },
   "outputs": [
    {
     "name": "stdout",
     "output_type": "stream",
     "text": [
      "0.7905982905982906\n"
     ]
    }
   ],
   "source": [
    "print(tn / (tn + fp))"
   ]
  },
  {
   "cell_type": "markdown",
   "id": "cf2d30b5",
   "metadata": {
    "papermill": {
     "duration": 0.062471,
     "end_time": "2022-04-15T23:48:09.015822",
     "exception": false,
     "start_time": "2022-04-15T23:48:08.953351",
     "status": "completed"
    },
    "tags": []
   },
   "source": [
    "## F1値"
   ]
  },
  {
   "cell_type": "markdown",
   "id": "e3633f11",
   "metadata": {
    "papermill": {
     "duration": 0.064503,
     "end_time": "2022-04-15T23:48:09.145668",
     "exception": false,
     "start_time": "2022-04-15T23:48:09.081165",
     "status": "completed"
    },
    "tags": []
   },
   "source": [
    "F1値（F1-measure）は適合率と再現率の調和平均。"
   ]
  },
  {
   "cell_type": "code",
   "execution_count": 41,
   "id": "0680b764",
   "metadata": {
    "execution": {
     "iopub.execute_input": "2022-04-15T23:48:09.278932Z",
     "iopub.status.busy": "2022-04-15T23:48:09.278215Z",
     "iopub.status.idle": "2022-04-15T23:48:09.283180Z",
     "shell.execute_reply": "2022-04-15T23:48:09.282508Z",
     "shell.execute_reply.started": "2022-04-14T02:57:16.641943Z"
    },
    "papermill": {
     "duration": 0.073115,
     "end_time": "2022-04-15T23:48:09.283328",
     "exception": false,
     "start_time": "2022-04-15T23:48:09.210213",
     "status": "completed"
    },
    "tags": []
   },
   "outputs": [
    {
     "name": "stdout",
     "output_type": "stream",
     "text": [
      "0.9344660194174758\n"
     ]
    }
   ],
   "source": [
    "print(f1_score(y_true, y_pred))"
   ]
  },
  {
   "cell_type": "markdown",
   "id": "9854a7f7",
   "metadata": {
    "papermill": {
     "duration": 0.063133,
     "end_time": "2022-04-15T23:48:09.410612",
     "exception": false,
     "start_time": "2022-04-15T23:48:09.347479",
     "status": "completed"
    },
    "tags": []
   },
   "source": [
    "# 予測データフレームの結合・出力"
   ]
  },
  {
   "cell_type": "code",
   "execution_count": 42,
   "id": "ee6b14ae",
   "metadata": {
    "execution": {
     "iopub.execute_input": "2022-04-15T23:48:09.544721Z",
     "iopub.status.busy": "2022-04-15T23:48:09.544025Z",
     "iopub.status.idle": "2022-04-15T23:48:09.555729Z",
     "shell.execute_reply": "2022-04-15T23:48:09.556518Z",
     "shell.execute_reply.started": "2022-04-14T02:57:16.659123Z"
    },
    "papermill": {
     "duration": 0.08148,
     "end_time": "2022-04-15T23:48:09.556752",
     "exception": false,
     "start_time": "2022-04-15T23:48:09.475272",
     "status": "completed"
    },
    "tags": []
   },
   "outputs": [
    {
     "name": "stdout",
     "output_type": "stream",
     "text": [
      "                            name      label\n",
      "0      NORMAL2-IM-0336-0001.jpeg     NORMAL\n",
      "1              IM-0101-0001.jpeg  PNEUMONIA\n",
      "2      NORMAL2-IM-0337-0001.jpeg     NORMAL\n",
      "3      NORMAL2-IM-0198-0001.jpeg  PNEUMONIA\n",
      "4              IM-0013-0001.jpeg     NORMAL\n",
      "..                           ...        ...\n",
      "385   person1659_virus_2867.jpeg  PNEUMONIA\n",
      "386   person1615_virus_2801.jpeg  PNEUMONIA\n",
      "387   person1664_virus_2877.jpeg  PNEUMONIA\n",
      "388  person111_bacteria_536.jpeg  PNEUMONIA\n",
      "389  person152_bacteria_724.jpeg  PNEUMONIA\n",
      "\n",
      "[624 rows x 2 columns]\n"
     ]
    }
   ],
   "source": [
    "df = pd.concat([test_normal_df, test_pneumonia_df])\n",
    "df['label'] = df['label'].map({0: 'NORMAL',\n",
    "                               1: 'PNEUMONIA'})\n",
    "print(df)"
   ]
  },
  {
   "cell_type": "code",
   "execution_count": 43,
   "id": "1236863b",
   "metadata": {
    "execution": {
     "iopub.execute_input": "2022-04-15T23:48:09.689743Z",
     "iopub.status.busy": "2022-04-15T23:48:09.689132Z",
     "iopub.status.idle": "2022-04-15T23:48:09.697978Z",
     "shell.execute_reply": "2022-04-15T23:48:09.698530Z",
     "shell.execute_reply.started": "2022-04-14T02:57:16.680797Z"
    },
    "papermill": {
     "duration": 0.076724,
     "end_time": "2022-04-15T23:48:09.698702",
     "exception": false,
     "start_time": "2022-04-15T23:48:09.621978",
     "status": "completed"
    },
    "tags": []
   },
   "outputs": [],
   "source": [
    "# データフレームの出力\n",
    "df.to_csv('/kaggle/working/submission.csv', index = False)"
   ]
  }
 ],
 "metadata": {
  "kernelspec": {
   "display_name": "Python 3",
   "language": "python",
   "name": "python3"
  },
  "language_info": {
   "codemirror_mode": {
    "name": "ipython",
    "version": 3
   },
   "file_extension": ".py",
   "mimetype": "text/x-python",
   "name": "python",
   "nbconvert_exporter": "python",
   "pygments_lexer": "ipython3",
   "version": "3.7.12"
  },
  "papermill": {
   "default_parameters": {},
   "duration": 156.353621,
   "end_time": "2022-04-15T23:48:10.676028",
   "environment_variables": {},
   "exception": null,
   "input_path": "__notebook__.ipynb",
   "output_path": "__notebook__.ipynb",
   "parameters": {},
   "start_time": "2022-04-15T23:45:34.322407",
   "version": "2.3.3"
  }
 },
 "nbformat": 4,
 "nbformat_minor": 5
}
