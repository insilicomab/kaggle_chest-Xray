{
 "cells": [
  {
   "cell_type": "markdown",
   "id": "06f2a90d",
   "metadata": {
    "papermill": {
     "duration": 0.053159,
     "end_time": "2022-04-13T09:52:06.529073",
     "exception": false,
     "start_time": "2022-04-13T09:52:06.475914",
     "status": "completed"
    },
    "tags": []
   },
   "source": [
    "# 事前準備"
   ]
  },
  {
   "cell_type": "code",
   "execution_count": 1,
   "id": "aeb9ab13",
   "metadata": {
    "execution": {
     "iopub.execute_input": "2022-04-13T09:52:06.640497Z",
     "iopub.status.busy": "2022-04-13T09:52:06.638637Z",
     "iopub.status.idle": "2022-04-13T09:52:09.791538Z",
     "shell.execute_reply": "2022-04-13T09:52:09.790764Z",
     "shell.execute_reply.started": "2022-04-13T09:27:36.712166Z"
    },
    "papermill": {
     "duration": 3.211017,
     "end_time": "2022-04-13T09:52:09.791754",
     "exception": false,
     "start_time": "2022-04-13T09:52:06.580737",
     "status": "completed"
    },
    "tags": []
   },
   "outputs": [],
   "source": [
    "# ライブラリのインポート\n",
    "import os\n",
    "import re\n",
    "import random\n",
    "from glob import glob\n",
    "from warnings import filterwarnings\n",
    "\n",
    "import argparse\n",
    "\n",
    "import pandas as pd\n",
    "import numpy as np\n",
    "import matplotlib.pyplot as plt\n",
    "import seaborn as sns\n",
    "\n",
    "from sklearn.model_selection import train_test_split\n",
    "from sklearn.metrics import confusion_matrix\n",
    "from sklearn.metrics import accuracy_score, precision_score, recall_score, f1_score\n",
    "\n",
    "import cv2\n",
    "from PIL import Image\n",
    "\n",
    "import torch\n",
    "from torchvision import datasets, transforms, models\n",
    "from torch.utils.data import Dataset, DataLoader\n",
    "from torch import nn, optim\n",
    "\n",
    "from collections import defaultdict\n",
    "\n",
    "filterwarnings('ignore')   # warningをオフにする"
   ]
  },
  {
   "cell_type": "code",
   "execution_count": 2,
   "id": "406801f7",
   "metadata": {
    "execution": {
     "iopub.execute_input": "2022-04-13T09:52:09.898217Z",
     "iopub.status.busy": "2022-04-13T09:52:09.897423Z",
     "iopub.status.idle": "2022-04-13T09:52:09.904792Z",
     "shell.execute_reply": "2022-04-13T09:52:09.905384Z",
     "shell.execute_reply.started": "2022-04-13T09:27:39.498586Z"
    },
    "papermill": {
     "duration": 0.061937,
     "end_time": "2022-04-13T09:52:09.905578",
     "exception": false,
     "start_time": "2022-04-13T09:52:09.843641",
     "status": "completed"
    },
    "tags": []
   },
   "outputs": [],
   "source": [
    "# ランダムシードの設定\n",
    "torch.manual_seed(1234)\n",
    "torch.cuda.manual_seed(1234)\n",
    "np.random.seed(1234)\n",
    "random.seed(1234)"
   ]
  },
  {
   "cell_type": "code",
   "execution_count": 3,
   "id": "4718e5b8",
   "metadata": {
    "execution": {
     "iopub.execute_input": "2022-04-13T09:52:10.015415Z",
     "iopub.status.busy": "2022-04-13T09:52:10.014737Z",
     "iopub.status.idle": "2022-04-13T09:52:10.018668Z",
     "shell.execute_reply": "2022-04-13T09:52:10.019324Z",
     "shell.execute_reply.started": "2022-04-13T09:27:39.506845Z"
    },
    "papermill": {
     "duration": 0.061556,
     "end_time": "2022-04-13T09:52:10.019504",
     "exception": false,
     "start_time": "2022-04-13T09:52:09.957948",
     "status": "completed"
    },
    "tags": []
   },
   "outputs": [
    {
     "name": "stdout",
     "output_type": "stream",
     "text": [
      "デバイス：cpu\n"
     ]
    }
   ],
   "source": [
    "# デバイスの設定\n",
    "device = 'cuda' if torch.cuda.is_available() else 'cpu'\n",
    "kwargs = {'num_workers': 1, 'pin_memory': True} if torch.cuda.is_available() else {} # GPUが使える場合、DataLoaderでのミニバッチの取り出しを高速化\n",
    "print(f'デバイス：{device}')"
   ]
  },
  {
   "cell_type": "code",
   "execution_count": 4,
   "id": "b6ecb0b7",
   "metadata": {
    "execution": {
     "iopub.execute_input": "2022-04-13T09:52:10.130834Z",
     "iopub.status.busy": "2022-04-13T09:52:10.130195Z",
     "iopub.status.idle": "2022-04-13T09:52:10.134328Z",
     "shell.execute_reply": "2022-04-13T09:52:10.134852Z",
     "shell.execute_reply.started": "2022-04-13T09:27:39.520314Z"
    },
    "papermill": {
     "duration": 0.06182,
     "end_time": "2022-04-13T09:52:10.135021",
     "exception": false,
     "start_time": "2022-04-13T09:52:10.073201",
     "status": "completed"
    },
    "tags": []
   },
   "outputs": [
    {
     "name": "stdout",
     "output_type": "stream",
     "text": [
      "Namespace(image_size=1024, num_classes=2)\n"
     ]
    }
   ],
   "source": [
    "# ハイパーパラメータの設定\n",
    "parser = argparse.ArgumentParser()\n",
    "parser.add_argument('--image_size', type=int, default=1024)\n",
    "parser.add_argument('--num_classes', type=int, default=2)\n",
    "opt = parser.parse_args(args=[])\n",
    "print(opt)"
   ]
  },
  {
   "cell_type": "code",
   "execution_count": 5,
   "id": "c63ab589",
   "metadata": {
    "execution": {
     "iopub.execute_input": "2022-04-13T09:52:10.241806Z",
     "iopub.status.busy": "2022-04-13T09:52:10.241155Z",
     "iopub.status.idle": "2022-04-13T09:52:10.244833Z",
     "shell.execute_reply": "2022-04-13T09:52:10.245344Z",
     "shell.execute_reply.started": "2022-04-13T09:27:39.531328Z"
    },
    "papermill": {
     "duration": 0.058765,
     "end_time": "2022-04-13T09:52:10.245530",
     "exception": false,
     "start_time": "2022-04-13T09:52:10.186765",
     "status": "completed"
    },
    "tags": []
   },
   "outputs": [],
   "source": [
    "# NORMALのtestデータのディレクトリ\n",
    "test_normal_dir = '/kaggle/input/chest-xray-pneumonia/chest_xray/chest_xray/test/NORMAL/'\n",
    "\n",
    "# PNEUMONIAのtestデータのディレクトリ\n",
    "test_pneumonia_dir = '/kaggle/input/chest-xray-pneumonia/chest_xray/chest_xray/test/PNEUMONIA/'"
   ]
  },
  {
   "cell_type": "markdown",
   "id": "99d400b3",
   "metadata": {
    "papermill": {
     "duration": 0.051823,
     "end_time": "2022-04-13T09:52:10.349972",
     "exception": false,
     "start_time": "2022-04-13T09:52:10.298149",
     "status": "completed"
    },
    "tags": []
   },
   "source": [
    "# 学習済みパラメータの読み込み"
   ]
  },
  {
   "cell_type": "code",
   "execution_count": 6,
   "id": "8041510c",
   "metadata": {
    "execution": {
     "iopub.execute_input": "2022-04-13T09:52:10.457745Z",
     "iopub.status.busy": "2022-04-13T09:52:10.457075Z",
     "iopub.status.idle": "2022-04-13T09:52:10.460631Z",
     "shell.execute_reply": "2022-04-13T09:52:10.461102Z",
     "shell.execute_reply.started": "2022-04-13T09:27:39.541291Z"
    },
    "papermill": {
     "duration": 0.05917,
     "end_time": "2022-04-13T09:52:10.461273",
     "exception": false,
     "start_time": "2022-04-13T09:52:10.402103",
     "status": "completed"
    },
    "tags": []
   },
   "outputs": [],
   "source": [
    "# モデルのパス\n",
    "model_path = '../input/chest-xray-training-mobilenetv3l-1024pixel/mobilenet_v3_large.pth'"
   ]
  },
  {
   "cell_type": "code",
   "execution_count": 7,
   "id": "706494b9",
   "metadata": {
    "execution": {
     "iopub.execute_input": "2022-04-13T09:52:10.569838Z",
     "iopub.status.busy": "2022-04-13T09:52:10.569154Z",
     "iopub.status.idle": "2022-04-13T09:52:10.747050Z",
     "shell.execute_reply": "2022-04-13T09:52:10.747820Z",
     "shell.execute_reply.started": "2022-04-13T09:27:39.550951Z"
    },
    "papermill": {
     "duration": 0.233395,
     "end_time": "2022-04-13T09:52:10.748057",
     "exception": false,
     "start_time": "2022-04-13T09:52:10.514662",
     "status": "completed"
    },
    "tags": []
   },
   "outputs": [
    {
     "name": "stdout",
     "output_type": "stream",
     "text": [
      "MobileNetV3(\n",
      "  (features): Sequential(\n",
      "    (0): ConvBNActivation(\n",
      "      (0): Conv2d(3, 16, kernel_size=(3, 3), stride=(2, 2), padding=(1, 1), bias=False)\n",
      "      (1): BatchNorm2d(16, eps=0.001, momentum=0.01, affine=True, track_running_stats=True)\n",
      "      (2): Hardswish()\n",
      "    )\n",
      "    (1): InvertedResidual(\n",
      "      (block): Sequential(\n",
      "        (0): ConvBNActivation(\n",
      "          (0): Conv2d(16, 16, kernel_size=(3, 3), stride=(1, 1), padding=(1, 1), groups=16, bias=False)\n",
      "          (1): BatchNorm2d(16, eps=0.001, momentum=0.01, affine=True, track_running_stats=True)\n",
      "          (2): ReLU(inplace=True)\n",
      "        )\n",
      "        (1): ConvBNActivation(\n",
      "          (0): Conv2d(16, 16, kernel_size=(1, 1), stride=(1, 1), bias=False)\n",
      "          (1): BatchNorm2d(16, eps=0.001, momentum=0.01, affine=True, track_running_stats=True)\n",
      "          (2): Identity()\n",
      "        )\n",
      "      )\n",
      "    )\n",
      "    (2): InvertedResidual(\n",
      "      (block): Sequential(\n",
      "        (0): ConvBNActivation(\n",
      "          (0): Conv2d(16, 64, kernel_size=(1, 1), stride=(1, 1), bias=False)\n",
      "          (1): BatchNorm2d(64, eps=0.001, momentum=0.01, affine=True, track_running_stats=True)\n",
      "          (2): ReLU(inplace=True)\n",
      "        )\n",
      "        (1): ConvBNActivation(\n",
      "          (0): Conv2d(64, 64, kernel_size=(3, 3), stride=(2, 2), padding=(1, 1), groups=64, bias=False)\n",
      "          (1): BatchNorm2d(64, eps=0.001, momentum=0.01, affine=True, track_running_stats=True)\n",
      "          (2): ReLU(inplace=True)\n",
      "        )\n",
      "        (2): ConvBNActivation(\n",
      "          (0): Conv2d(64, 24, kernel_size=(1, 1), stride=(1, 1), bias=False)\n",
      "          (1): BatchNorm2d(24, eps=0.001, momentum=0.01, affine=True, track_running_stats=True)\n",
      "          (2): Identity()\n",
      "        )\n",
      "      )\n",
      "    )\n",
      "    (3): InvertedResidual(\n",
      "      (block): Sequential(\n",
      "        (0): ConvBNActivation(\n",
      "          (0): Conv2d(24, 72, kernel_size=(1, 1), stride=(1, 1), bias=False)\n",
      "          (1): BatchNorm2d(72, eps=0.001, momentum=0.01, affine=True, track_running_stats=True)\n",
      "          (2): ReLU(inplace=True)\n",
      "        )\n",
      "        (1): ConvBNActivation(\n",
      "          (0): Conv2d(72, 72, kernel_size=(3, 3), stride=(1, 1), padding=(1, 1), groups=72, bias=False)\n",
      "          (1): BatchNorm2d(72, eps=0.001, momentum=0.01, affine=True, track_running_stats=True)\n",
      "          (2): ReLU(inplace=True)\n",
      "        )\n",
      "        (2): ConvBNActivation(\n",
      "          (0): Conv2d(72, 24, kernel_size=(1, 1), stride=(1, 1), bias=False)\n",
      "          (1): BatchNorm2d(24, eps=0.001, momentum=0.01, affine=True, track_running_stats=True)\n",
      "          (2): Identity()\n",
      "        )\n",
      "      )\n",
      "    )\n",
      "    (4): InvertedResidual(\n",
      "      (block): Sequential(\n",
      "        (0): ConvBNActivation(\n",
      "          (0): Conv2d(24, 72, kernel_size=(1, 1), stride=(1, 1), bias=False)\n",
      "          (1): BatchNorm2d(72, eps=0.001, momentum=0.01, affine=True, track_running_stats=True)\n",
      "          (2): ReLU(inplace=True)\n",
      "        )\n",
      "        (1): ConvBNActivation(\n",
      "          (0): Conv2d(72, 72, kernel_size=(5, 5), stride=(2, 2), padding=(2, 2), groups=72, bias=False)\n",
      "          (1): BatchNorm2d(72, eps=0.001, momentum=0.01, affine=True, track_running_stats=True)\n",
      "          (2): ReLU(inplace=True)\n",
      "        )\n",
      "        (2): SqueezeExcitation(\n",
      "          (fc1): Conv2d(72, 24, kernel_size=(1, 1), stride=(1, 1))\n",
      "          (relu): ReLU(inplace=True)\n",
      "          (fc2): Conv2d(24, 72, kernel_size=(1, 1), stride=(1, 1))\n",
      "        )\n",
      "        (3): ConvBNActivation(\n",
      "          (0): Conv2d(72, 40, kernel_size=(1, 1), stride=(1, 1), bias=False)\n",
      "          (1): BatchNorm2d(40, eps=0.001, momentum=0.01, affine=True, track_running_stats=True)\n",
      "          (2): Identity()\n",
      "        )\n",
      "      )\n",
      "    )\n",
      "    (5): InvertedResidual(\n",
      "      (block): Sequential(\n",
      "        (0): ConvBNActivation(\n",
      "          (0): Conv2d(40, 120, kernel_size=(1, 1), stride=(1, 1), bias=False)\n",
      "          (1): BatchNorm2d(120, eps=0.001, momentum=0.01, affine=True, track_running_stats=True)\n",
      "          (2): ReLU(inplace=True)\n",
      "        )\n",
      "        (1): ConvBNActivation(\n",
      "          (0): Conv2d(120, 120, kernel_size=(5, 5), stride=(1, 1), padding=(2, 2), groups=120, bias=False)\n",
      "          (1): BatchNorm2d(120, eps=0.001, momentum=0.01, affine=True, track_running_stats=True)\n",
      "          (2): ReLU(inplace=True)\n",
      "        )\n",
      "        (2): SqueezeExcitation(\n",
      "          (fc1): Conv2d(120, 32, kernel_size=(1, 1), stride=(1, 1))\n",
      "          (relu): ReLU(inplace=True)\n",
      "          (fc2): Conv2d(32, 120, kernel_size=(1, 1), stride=(1, 1))\n",
      "        )\n",
      "        (3): ConvBNActivation(\n",
      "          (0): Conv2d(120, 40, kernel_size=(1, 1), stride=(1, 1), bias=False)\n",
      "          (1): BatchNorm2d(40, eps=0.001, momentum=0.01, affine=True, track_running_stats=True)\n",
      "          (2): Identity()\n",
      "        )\n",
      "      )\n",
      "    )\n",
      "    (6): InvertedResidual(\n",
      "      (block): Sequential(\n",
      "        (0): ConvBNActivation(\n",
      "          (0): Conv2d(40, 120, kernel_size=(1, 1), stride=(1, 1), bias=False)\n",
      "          (1): BatchNorm2d(120, eps=0.001, momentum=0.01, affine=True, track_running_stats=True)\n",
      "          (2): ReLU(inplace=True)\n",
      "        )\n",
      "        (1): ConvBNActivation(\n",
      "          (0): Conv2d(120, 120, kernel_size=(5, 5), stride=(1, 1), padding=(2, 2), groups=120, bias=False)\n",
      "          (1): BatchNorm2d(120, eps=0.001, momentum=0.01, affine=True, track_running_stats=True)\n",
      "          (2): ReLU(inplace=True)\n",
      "        )\n",
      "        (2): SqueezeExcitation(\n",
      "          (fc1): Conv2d(120, 32, kernel_size=(1, 1), stride=(1, 1))\n",
      "          (relu): ReLU(inplace=True)\n",
      "          (fc2): Conv2d(32, 120, kernel_size=(1, 1), stride=(1, 1))\n",
      "        )\n",
      "        (3): ConvBNActivation(\n",
      "          (0): Conv2d(120, 40, kernel_size=(1, 1), stride=(1, 1), bias=False)\n",
      "          (1): BatchNorm2d(40, eps=0.001, momentum=0.01, affine=True, track_running_stats=True)\n",
      "          (2): Identity()\n",
      "        )\n",
      "      )\n",
      "    )\n",
      "    (7): InvertedResidual(\n",
      "      (block): Sequential(\n",
      "        (0): ConvBNActivation(\n",
      "          (0): Conv2d(40, 240, kernel_size=(1, 1), stride=(1, 1), bias=False)\n",
      "          (1): BatchNorm2d(240, eps=0.001, momentum=0.01, affine=True, track_running_stats=True)\n",
      "          (2): Hardswish()\n",
      "        )\n",
      "        (1): ConvBNActivation(\n",
      "          (0): Conv2d(240, 240, kernel_size=(3, 3), stride=(2, 2), padding=(1, 1), groups=240, bias=False)\n",
      "          (1): BatchNorm2d(240, eps=0.001, momentum=0.01, affine=True, track_running_stats=True)\n",
      "          (2): Hardswish()\n",
      "        )\n",
      "        (2): ConvBNActivation(\n",
      "          (0): Conv2d(240, 80, kernel_size=(1, 1), stride=(1, 1), bias=False)\n",
      "          (1): BatchNorm2d(80, eps=0.001, momentum=0.01, affine=True, track_running_stats=True)\n",
      "          (2): Identity()\n",
      "        )\n",
      "      )\n",
      "    )\n",
      "    (8): InvertedResidual(\n",
      "      (block): Sequential(\n",
      "        (0): ConvBNActivation(\n",
      "          (0): Conv2d(80, 200, kernel_size=(1, 1), stride=(1, 1), bias=False)\n",
      "          (1): BatchNorm2d(200, eps=0.001, momentum=0.01, affine=True, track_running_stats=True)\n",
      "          (2): Hardswish()\n",
      "        )\n",
      "        (1): ConvBNActivation(\n",
      "          (0): Conv2d(200, 200, kernel_size=(3, 3), stride=(1, 1), padding=(1, 1), groups=200, bias=False)\n",
      "          (1): BatchNorm2d(200, eps=0.001, momentum=0.01, affine=True, track_running_stats=True)\n",
      "          (2): Hardswish()\n",
      "        )\n",
      "        (2): ConvBNActivation(\n",
      "          (0): Conv2d(200, 80, kernel_size=(1, 1), stride=(1, 1), bias=False)\n",
      "          (1): BatchNorm2d(80, eps=0.001, momentum=0.01, affine=True, track_running_stats=True)\n",
      "          (2): Identity()\n",
      "        )\n",
      "      )\n",
      "    )\n",
      "    (9): InvertedResidual(\n",
      "      (block): Sequential(\n",
      "        (0): ConvBNActivation(\n",
      "          (0): Conv2d(80, 184, kernel_size=(1, 1), stride=(1, 1), bias=False)\n",
      "          (1): BatchNorm2d(184, eps=0.001, momentum=0.01, affine=True, track_running_stats=True)\n",
      "          (2): Hardswish()\n",
      "        )\n",
      "        (1): ConvBNActivation(\n",
      "          (0): Conv2d(184, 184, kernel_size=(3, 3), stride=(1, 1), padding=(1, 1), groups=184, bias=False)\n",
      "          (1): BatchNorm2d(184, eps=0.001, momentum=0.01, affine=True, track_running_stats=True)\n",
      "          (2): Hardswish()\n",
      "        )\n",
      "        (2): ConvBNActivation(\n",
      "          (0): Conv2d(184, 80, kernel_size=(1, 1), stride=(1, 1), bias=False)\n",
      "          (1): BatchNorm2d(80, eps=0.001, momentum=0.01, affine=True, track_running_stats=True)\n",
      "          (2): Identity()\n",
      "        )\n",
      "      )\n",
      "    )\n",
      "    (10): InvertedResidual(\n",
      "      (block): Sequential(\n",
      "        (0): ConvBNActivation(\n",
      "          (0): Conv2d(80, 184, kernel_size=(1, 1), stride=(1, 1), bias=False)\n",
      "          (1): BatchNorm2d(184, eps=0.001, momentum=0.01, affine=True, track_running_stats=True)\n",
      "          (2): Hardswish()\n",
      "        )\n",
      "        (1): ConvBNActivation(\n",
      "          (0): Conv2d(184, 184, kernel_size=(3, 3), stride=(1, 1), padding=(1, 1), groups=184, bias=False)\n",
      "          (1): BatchNorm2d(184, eps=0.001, momentum=0.01, affine=True, track_running_stats=True)\n",
      "          (2): Hardswish()\n",
      "        )\n",
      "        (2): ConvBNActivation(\n",
      "          (0): Conv2d(184, 80, kernel_size=(1, 1), stride=(1, 1), bias=False)\n",
      "          (1): BatchNorm2d(80, eps=0.001, momentum=0.01, affine=True, track_running_stats=True)\n",
      "          (2): Identity()\n",
      "        )\n",
      "      )\n",
      "    )\n",
      "    (11): InvertedResidual(\n",
      "      (block): Sequential(\n",
      "        (0): ConvBNActivation(\n",
      "          (0): Conv2d(80, 480, kernel_size=(1, 1), stride=(1, 1), bias=False)\n",
      "          (1): BatchNorm2d(480, eps=0.001, momentum=0.01, affine=True, track_running_stats=True)\n",
      "          (2): Hardswish()\n",
      "        )\n",
      "        (1): ConvBNActivation(\n",
      "          (0): Conv2d(480, 480, kernel_size=(3, 3), stride=(1, 1), padding=(1, 1), groups=480, bias=False)\n",
      "          (1): BatchNorm2d(480, eps=0.001, momentum=0.01, affine=True, track_running_stats=True)\n",
      "          (2): Hardswish()\n",
      "        )\n",
      "        (2): SqueezeExcitation(\n",
      "          (fc1): Conv2d(480, 120, kernel_size=(1, 1), stride=(1, 1))\n",
      "          (relu): ReLU(inplace=True)\n",
      "          (fc2): Conv2d(120, 480, kernel_size=(1, 1), stride=(1, 1))\n",
      "        )\n",
      "        (3): ConvBNActivation(\n",
      "          (0): Conv2d(480, 112, kernel_size=(1, 1), stride=(1, 1), bias=False)\n",
      "          (1): BatchNorm2d(112, eps=0.001, momentum=0.01, affine=True, track_running_stats=True)\n",
      "          (2): Identity()\n",
      "        )\n",
      "      )\n",
      "    )\n",
      "    (12): InvertedResidual(\n",
      "      (block): Sequential(\n",
      "        (0): ConvBNActivation(\n",
      "          (0): Conv2d(112, 672, kernel_size=(1, 1), stride=(1, 1), bias=False)\n",
      "          (1): BatchNorm2d(672, eps=0.001, momentum=0.01, affine=True, track_running_stats=True)\n",
      "          (2): Hardswish()\n",
      "        )\n",
      "        (1): ConvBNActivation(\n",
      "          (0): Conv2d(672, 672, kernel_size=(3, 3), stride=(1, 1), padding=(1, 1), groups=672, bias=False)\n",
      "          (1): BatchNorm2d(672, eps=0.001, momentum=0.01, affine=True, track_running_stats=True)\n",
      "          (2): Hardswish()\n",
      "        )\n",
      "        (2): SqueezeExcitation(\n",
      "          (fc1): Conv2d(672, 168, kernel_size=(1, 1), stride=(1, 1))\n",
      "          (relu): ReLU(inplace=True)\n",
      "          (fc2): Conv2d(168, 672, kernel_size=(1, 1), stride=(1, 1))\n",
      "        )\n",
      "        (3): ConvBNActivation(\n",
      "          (0): Conv2d(672, 112, kernel_size=(1, 1), stride=(1, 1), bias=False)\n",
      "          (1): BatchNorm2d(112, eps=0.001, momentum=0.01, affine=True, track_running_stats=True)\n",
      "          (2): Identity()\n",
      "        )\n",
      "      )\n",
      "    )\n",
      "    (13): InvertedResidual(\n",
      "      (block): Sequential(\n",
      "        (0): ConvBNActivation(\n",
      "          (0): Conv2d(112, 672, kernel_size=(1, 1), stride=(1, 1), bias=False)\n",
      "          (1): BatchNorm2d(672, eps=0.001, momentum=0.01, affine=True, track_running_stats=True)\n",
      "          (2): Hardswish()\n",
      "        )\n",
      "        (1): ConvBNActivation(\n",
      "          (0): Conv2d(672, 672, kernel_size=(5, 5), stride=(2, 2), padding=(2, 2), groups=672, bias=False)\n",
      "          (1): BatchNorm2d(672, eps=0.001, momentum=0.01, affine=True, track_running_stats=True)\n",
      "          (2): Hardswish()\n",
      "        )\n",
      "        (2): SqueezeExcitation(\n",
      "          (fc1): Conv2d(672, 168, kernel_size=(1, 1), stride=(1, 1))\n",
      "          (relu): ReLU(inplace=True)\n",
      "          (fc2): Conv2d(168, 672, kernel_size=(1, 1), stride=(1, 1))\n",
      "        )\n",
      "        (3): ConvBNActivation(\n",
      "          (0): Conv2d(672, 160, kernel_size=(1, 1), stride=(1, 1), bias=False)\n",
      "          (1): BatchNorm2d(160, eps=0.001, momentum=0.01, affine=True, track_running_stats=True)\n",
      "          (2): Identity()\n",
      "        )\n",
      "      )\n",
      "    )\n",
      "    (14): InvertedResidual(\n",
      "      (block): Sequential(\n",
      "        (0): ConvBNActivation(\n",
      "          (0): Conv2d(160, 960, kernel_size=(1, 1), stride=(1, 1), bias=False)\n",
      "          (1): BatchNorm2d(960, eps=0.001, momentum=0.01, affine=True, track_running_stats=True)\n",
      "          (2): Hardswish()\n",
      "        )\n",
      "        (1): ConvBNActivation(\n",
      "          (0): Conv2d(960, 960, kernel_size=(5, 5), stride=(1, 1), padding=(2, 2), groups=960, bias=False)\n",
      "          (1): BatchNorm2d(960, eps=0.001, momentum=0.01, affine=True, track_running_stats=True)\n",
      "          (2): Hardswish()\n",
      "        )\n",
      "        (2): SqueezeExcitation(\n",
      "          (fc1): Conv2d(960, 240, kernel_size=(1, 1), stride=(1, 1))\n",
      "          (relu): ReLU(inplace=True)\n",
      "          (fc2): Conv2d(240, 960, kernel_size=(1, 1), stride=(1, 1))\n",
      "        )\n",
      "        (3): ConvBNActivation(\n",
      "          (0): Conv2d(960, 160, kernel_size=(1, 1), stride=(1, 1), bias=False)\n",
      "          (1): BatchNorm2d(160, eps=0.001, momentum=0.01, affine=True, track_running_stats=True)\n",
      "          (2): Identity()\n",
      "        )\n",
      "      )\n",
      "    )\n",
      "    (15): InvertedResidual(\n",
      "      (block): Sequential(\n",
      "        (0): ConvBNActivation(\n",
      "          (0): Conv2d(160, 960, kernel_size=(1, 1), stride=(1, 1), bias=False)\n",
      "          (1): BatchNorm2d(960, eps=0.001, momentum=0.01, affine=True, track_running_stats=True)\n",
      "          (2): Hardswish()\n",
      "        )\n",
      "        (1): ConvBNActivation(\n",
      "          (0): Conv2d(960, 960, kernel_size=(5, 5), stride=(1, 1), padding=(2, 2), groups=960, bias=False)\n",
      "          (1): BatchNorm2d(960, eps=0.001, momentum=0.01, affine=True, track_running_stats=True)\n",
      "          (2): Hardswish()\n",
      "        )\n",
      "        (2): SqueezeExcitation(\n",
      "          (fc1): Conv2d(960, 240, kernel_size=(1, 1), stride=(1, 1))\n",
      "          (relu): ReLU(inplace=True)\n",
      "          (fc2): Conv2d(240, 960, kernel_size=(1, 1), stride=(1, 1))\n",
      "        )\n",
      "        (3): ConvBNActivation(\n",
      "          (0): Conv2d(960, 160, kernel_size=(1, 1), stride=(1, 1), bias=False)\n",
      "          (1): BatchNorm2d(160, eps=0.001, momentum=0.01, affine=True, track_running_stats=True)\n",
      "          (2): Identity()\n",
      "        )\n",
      "      )\n",
      "    )\n",
      "    (16): ConvBNActivation(\n",
      "      (0): Conv2d(160, 960, kernel_size=(1, 1), stride=(1, 1), bias=False)\n",
      "      (1): BatchNorm2d(960, eps=0.001, momentum=0.01, affine=True, track_running_stats=True)\n",
      "      (2): Hardswish()\n",
      "    )\n",
      "  )\n",
      "  (avgpool): AdaptiveAvgPool2d(output_size=1)\n",
      "  (classifier): Sequential(\n",
      "    (0): Linear(in_features=960, out_features=1280, bias=True)\n",
      "    (1): Hardswish()\n",
      "    (2): Dropout(p=0.2, inplace=True)\n",
      "    (3): Linear(in_features=1280, out_features=2, bias=True)\n",
      "  )\n",
      ")\n"
     ]
    }
   ],
   "source": [
    "model = models.mobilenet_v3_large()\n",
    "fc_in_features = model.classifier[0].out_features # 最終レイヤー関数の次元数\n",
    "model.classifier[3] = nn.Linear(fc_in_features, opt.num_classes) # 最終レイヤー関数の付け替え\n",
    "print(model)"
   ]
  },
  {
   "cell_type": "code",
   "execution_count": 8,
   "id": "db94a54b",
   "metadata": {
    "execution": {
     "iopub.execute_input": "2022-04-13T09:52:10.875177Z",
     "iopub.status.busy": "2022-04-13T09:52:10.873886Z",
     "iopub.status.idle": "2022-04-13T09:52:11.547886Z",
     "shell.execute_reply": "2022-04-13T09:52:11.549234Z",
     "shell.execute_reply.started": "2022-04-13T09:27:39.723156Z"
    },
    "papermill": {
     "duration": 0.736195,
     "end_time": "2022-04-13T09:52:11.549494",
     "exception": false,
     "start_time": "2022-04-13T09:52:10.813299",
     "status": "completed"
    },
    "tags": []
   },
   "outputs": [
    {
     "data": {
      "text/plain": [
       "<All keys matched successfully>"
      ]
     },
     "execution_count": 8,
     "metadata": {},
     "output_type": "execute_result"
    }
   ],
   "source": [
    "# 学習済みモデルの読み込み\n",
    "model.load_state_dict(torch.load(model_path, map_location=torch.device('cpu'))) # 学習済みモデルの読み込み"
   ]
  },
  {
   "cell_type": "code",
   "execution_count": 9,
   "id": "ad73e890",
   "metadata": {
    "execution": {
     "iopub.execute_input": "2022-04-13T09:52:11.686444Z",
     "iopub.status.busy": "2022-04-13T09:52:11.685657Z",
     "iopub.status.idle": "2022-04-13T09:52:11.699598Z",
     "shell.execute_reply": "2022-04-13T09:52:11.700179Z",
     "shell.execute_reply.started": "2022-04-13T09:27:40.064115Z"
    },
    "papermill": {
     "duration": 0.076991,
     "end_time": "2022-04-13T09:52:11.700362",
     "exception": false,
     "start_time": "2022-04-13T09:52:11.623371",
     "status": "completed"
    },
    "tags": []
   },
   "outputs": [
    {
     "data": {
      "text/plain": [
       "MobileNetV3(\n",
       "  (features): Sequential(\n",
       "    (0): ConvBNActivation(\n",
       "      (0): Conv2d(3, 16, kernel_size=(3, 3), stride=(2, 2), padding=(1, 1), bias=False)\n",
       "      (1): BatchNorm2d(16, eps=0.001, momentum=0.01, affine=True, track_running_stats=True)\n",
       "      (2): Hardswish()\n",
       "    )\n",
       "    (1): InvertedResidual(\n",
       "      (block): Sequential(\n",
       "        (0): ConvBNActivation(\n",
       "          (0): Conv2d(16, 16, kernel_size=(3, 3), stride=(1, 1), padding=(1, 1), groups=16, bias=False)\n",
       "          (1): BatchNorm2d(16, eps=0.001, momentum=0.01, affine=True, track_running_stats=True)\n",
       "          (2): ReLU(inplace=True)\n",
       "        )\n",
       "        (1): ConvBNActivation(\n",
       "          (0): Conv2d(16, 16, kernel_size=(1, 1), stride=(1, 1), bias=False)\n",
       "          (1): BatchNorm2d(16, eps=0.001, momentum=0.01, affine=True, track_running_stats=True)\n",
       "          (2): Identity()\n",
       "        )\n",
       "      )\n",
       "    )\n",
       "    (2): InvertedResidual(\n",
       "      (block): Sequential(\n",
       "        (0): ConvBNActivation(\n",
       "          (0): Conv2d(16, 64, kernel_size=(1, 1), stride=(1, 1), bias=False)\n",
       "          (1): BatchNorm2d(64, eps=0.001, momentum=0.01, affine=True, track_running_stats=True)\n",
       "          (2): ReLU(inplace=True)\n",
       "        )\n",
       "        (1): ConvBNActivation(\n",
       "          (0): Conv2d(64, 64, kernel_size=(3, 3), stride=(2, 2), padding=(1, 1), groups=64, bias=False)\n",
       "          (1): BatchNorm2d(64, eps=0.001, momentum=0.01, affine=True, track_running_stats=True)\n",
       "          (2): ReLU(inplace=True)\n",
       "        )\n",
       "        (2): ConvBNActivation(\n",
       "          (0): Conv2d(64, 24, kernel_size=(1, 1), stride=(1, 1), bias=False)\n",
       "          (1): BatchNorm2d(24, eps=0.001, momentum=0.01, affine=True, track_running_stats=True)\n",
       "          (2): Identity()\n",
       "        )\n",
       "      )\n",
       "    )\n",
       "    (3): InvertedResidual(\n",
       "      (block): Sequential(\n",
       "        (0): ConvBNActivation(\n",
       "          (0): Conv2d(24, 72, kernel_size=(1, 1), stride=(1, 1), bias=False)\n",
       "          (1): BatchNorm2d(72, eps=0.001, momentum=0.01, affine=True, track_running_stats=True)\n",
       "          (2): ReLU(inplace=True)\n",
       "        )\n",
       "        (1): ConvBNActivation(\n",
       "          (0): Conv2d(72, 72, kernel_size=(3, 3), stride=(1, 1), padding=(1, 1), groups=72, bias=False)\n",
       "          (1): BatchNorm2d(72, eps=0.001, momentum=0.01, affine=True, track_running_stats=True)\n",
       "          (2): ReLU(inplace=True)\n",
       "        )\n",
       "        (2): ConvBNActivation(\n",
       "          (0): Conv2d(72, 24, kernel_size=(1, 1), stride=(1, 1), bias=False)\n",
       "          (1): BatchNorm2d(24, eps=0.001, momentum=0.01, affine=True, track_running_stats=True)\n",
       "          (2): Identity()\n",
       "        )\n",
       "      )\n",
       "    )\n",
       "    (4): InvertedResidual(\n",
       "      (block): Sequential(\n",
       "        (0): ConvBNActivation(\n",
       "          (0): Conv2d(24, 72, kernel_size=(1, 1), stride=(1, 1), bias=False)\n",
       "          (1): BatchNorm2d(72, eps=0.001, momentum=0.01, affine=True, track_running_stats=True)\n",
       "          (2): ReLU(inplace=True)\n",
       "        )\n",
       "        (1): ConvBNActivation(\n",
       "          (0): Conv2d(72, 72, kernel_size=(5, 5), stride=(2, 2), padding=(2, 2), groups=72, bias=False)\n",
       "          (1): BatchNorm2d(72, eps=0.001, momentum=0.01, affine=True, track_running_stats=True)\n",
       "          (2): ReLU(inplace=True)\n",
       "        )\n",
       "        (2): SqueezeExcitation(\n",
       "          (fc1): Conv2d(72, 24, kernel_size=(1, 1), stride=(1, 1))\n",
       "          (relu): ReLU(inplace=True)\n",
       "          (fc2): Conv2d(24, 72, kernel_size=(1, 1), stride=(1, 1))\n",
       "        )\n",
       "        (3): ConvBNActivation(\n",
       "          (0): Conv2d(72, 40, kernel_size=(1, 1), stride=(1, 1), bias=False)\n",
       "          (1): BatchNorm2d(40, eps=0.001, momentum=0.01, affine=True, track_running_stats=True)\n",
       "          (2): Identity()\n",
       "        )\n",
       "      )\n",
       "    )\n",
       "    (5): InvertedResidual(\n",
       "      (block): Sequential(\n",
       "        (0): ConvBNActivation(\n",
       "          (0): Conv2d(40, 120, kernel_size=(1, 1), stride=(1, 1), bias=False)\n",
       "          (1): BatchNorm2d(120, eps=0.001, momentum=0.01, affine=True, track_running_stats=True)\n",
       "          (2): ReLU(inplace=True)\n",
       "        )\n",
       "        (1): ConvBNActivation(\n",
       "          (0): Conv2d(120, 120, kernel_size=(5, 5), stride=(1, 1), padding=(2, 2), groups=120, bias=False)\n",
       "          (1): BatchNorm2d(120, eps=0.001, momentum=0.01, affine=True, track_running_stats=True)\n",
       "          (2): ReLU(inplace=True)\n",
       "        )\n",
       "        (2): SqueezeExcitation(\n",
       "          (fc1): Conv2d(120, 32, kernel_size=(1, 1), stride=(1, 1))\n",
       "          (relu): ReLU(inplace=True)\n",
       "          (fc2): Conv2d(32, 120, kernel_size=(1, 1), stride=(1, 1))\n",
       "        )\n",
       "        (3): ConvBNActivation(\n",
       "          (0): Conv2d(120, 40, kernel_size=(1, 1), stride=(1, 1), bias=False)\n",
       "          (1): BatchNorm2d(40, eps=0.001, momentum=0.01, affine=True, track_running_stats=True)\n",
       "          (2): Identity()\n",
       "        )\n",
       "      )\n",
       "    )\n",
       "    (6): InvertedResidual(\n",
       "      (block): Sequential(\n",
       "        (0): ConvBNActivation(\n",
       "          (0): Conv2d(40, 120, kernel_size=(1, 1), stride=(1, 1), bias=False)\n",
       "          (1): BatchNorm2d(120, eps=0.001, momentum=0.01, affine=True, track_running_stats=True)\n",
       "          (2): ReLU(inplace=True)\n",
       "        )\n",
       "        (1): ConvBNActivation(\n",
       "          (0): Conv2d(120, 120, kernel_size=(5, 5), stride=(1, 1), padding=(2, 2), groups=120, bias=False)\n",
       "          (1): BatchNorm2d(120, eps=0.001, momentum=0.01, affine=True, track_running_stats=True)\n",
       "          (2): ReLU(inplace=True)\n",
       "        )\n",
       "        (2): SqueezeExcitation(\n",
       "          (fc1): Conv2d(120, 32, kernel_size=(1, 1), stride=(1, 1))\n",
       "          (relu): ReLU(inplace=True)\n",
       "          (fc2): Conv2d(32, 120, kernel_size=(1, 1), stride=(1, 1))\n",
       "        )\n",
       "        (3): ConvBNActivation(\n",
       "          (0): Conv2d(120, 40, kernel_size=(1, 1), stride=(1, 1), bias=False)\n",
       "          (1): BatchNorm2d(40, eps=0.001, momentum=0.01, affine=True, track_running_stats=True)\n",
       "          (2): Identity()\n",
       "        )\n",
       "      )\n",
       "    )\n",
       "    (7): InvertedResidual(\n",
       "      (block): Sequential(\n",
       "        (0): ConvBNActivation(\n",
       "          (0): Conv2d(40, 240, kernel_size=(1, 1), stride=(1, 1), bias=False)\n",
       "          (1): BatchNorm2d(240, eps=0.001, momentum=0.01, affine=True, track_running_stats=True)\n",
       "          (2): Hardswish()\n",
       "        )\n",
       "        (1): ConvBNActivation(\n",
       "          (0): Conv2d(240, 240, kernel_size=(3, 3), stride=(2, 2), padding=(1, 1), groups=240, bias=False)\n",
       "          (1): BatchNorm2d(240, eps=0.001, momentum=0.01, affine=True, track_running_stats=True)\n",
       "          (2): Hardswish()\n",
       "        )\n",
       "        (2): ConvBNActivation(\n",
       "          (0): Conv2d(240, 80, kernel_size=(1, 1), stride=(1, 1), bias=False)\n",
       "          (1): BatchNorm2d(80, eps=0.001, momentum=0.01, affine=True, track_running_stats=True)\n",
       "          (2): Identity()\n",
       "        )\n",
       "      )\n",
       "    )\n",
       "    (8): InvertedResidual(\n",
       "      (block): Sequential(\n",
       "        (0): ConvBNActivation(\n",
       "          (0): Conv2d(80, 200, kernel_size=(1, 1), stride=(1, 1), bias=False)\n",
       "          (1): BatchNorm2d(200, eps=0.001, momentum=0.01, affine=True, track_running_stats=True)\n",
       "          (2): Hardswish()\n",
       "        )\n",
       "        (1): ConvBNActivation(\n",
       "          (0): Conv2d(200, 200, kernel_size=(3, 3), stride=(1, 1), padding=(1, 1), groups=200, bias=False)\n",
       "          (1): BatchNorm2d(200, eps=0.001, momentum=0.01, affine=True, track_running_stats=True)\n",
       "          (2): Hardswish()\n",
       "        )\n",
       "        (2): ConvBNActivation(\n",
       "          (0): Conv2d(200, 80, kernel_size=(1, 1), stride=(1, 1), bias=False)\n",
       "          (1): BatchNorm2d(80, eps=0.001, momentum=0.01, affine=True, track_running_stats=True)\n",
       "          (2): Identity()\n",
       "        )\n",
       "      )\n",
       "    )\n",
       "    (9): InvertedResidual(\n",
       "      (block): Sequential(\n",
       "        (0): ConvBNActivation(\n",
       "          (0): Conv2d(80, 184, kernel_size=(1, 1), stride=(1, 1), bias=False)\n",
       "          (1): BatchNorm2d(184, eps=0.001, momentum=0.01, affine=True, track_running_stats=True)\n",
       "          (2): Hardswish()\n",
       "        )\n",
       "        (1): ConvBNActivation(\n",
       "          (0): Conv2d(184, 184, kernel_size=(3, 3), stride=(1, 1), padding=(1, 1), groups=184, bias=False)\n",
       "          (1): BatchNorm2d(184, eps=0.001, momentum=0.01, affine=True, track_running_stats=True)\n",
       "          (2): Hardswish()\n",
       "        )\n",
       "        (2): ConvBNActivation(\n",
       "          (0): Conv2d(184, 80, kernel_size=(1, 1), stride=(1, 1), bias=False)\n",
       "          (1): BatchNorm2d(80, eps=0.001, momentum=0.01, affine=True, track_running_stats=True)\n",
       "          (2): Identity()\n",
       "        )\n",
       "      )\n",
       "    )\n",
       "    (10): InvertedResidual(\n",
       "      (block): Sequential(\n",
       "        (0): ConvBNActivation(\n",
       "          (0): Conv2d(80, 184, kernel_size=(1, 1), stride=(1, 1), bias=False)\n",
       "          (1): BatchNorm2d(184, eps=0.001, momentum=0.01, affine=True, track_running_stats=True)\n",
       "          (2): Hardswish()\n",
       "        )\n",
       "        (1): ConvBNActivation(\n",
       "          (0): Conv2d(184, 184, kernel_size=(3, 3), stride=(1, 1), padding=(1, 1), groups=184, bias=False)\n",
       "          (1): BatchNorm2d(184, eps=0.001, momentum=0.01, affine=True, track_running_stats=True)\n",
       "          (2): Hardswish()\n",
       "        )\n",
       "        (2): ConvBNActivation(\n",
       "          (0): Conv2d(184, 80, kernel_size=(1, 1), stride=(1, 1), bias=False)\n",
       "          (1): BatchNorm2d(80, eps=0.001, momentum=0.01, affine=True, track_running_stats=True)\n",
       "          (2): Identity()\n",
       "        )\n",
       "      )\n",
       "    )\n",
       "    (11): InvertedResidual(\n",
       "      (block): Sequential(\n",
       "        (0): ConvBNActivation(\n",
       "          (0): Conv2d(80, 480, kernel_size=(1, 1), stride=(1, 1), bias=False)\n",
       "          (1): BatchNorm2d(480, eps=0.001, momentum=0.01, affine=True, track_running_stats=True)\n",
       "          (2): Hardswish()\n",
       "        )\n",
       "        (1): ConvBNActivation(\n",
       "          (0): Conv2d(480, 480, kernel_size=(3, 3), stride=(1, 1), padding=(1, 1), groups=480, bias=False)\n",
       "          (1): BatchNorm2d(480, eps=0.001, momentum=0.01, affine=True, track_running_stats=True)\n",
       "          (2): Hardswish()\n",
       "        )\n",
       "        (2): SqueezeExcitation(\n",
       "          (fc1): Conv2d(480, 120, kernel_size=(1, 1), stride=(1, 1))\n",
       "          (relu): ReLU(inplace=True)\n",
       "          (fc2): Conv2d(120, 480, kernel_size=(1, 1), stride=(1, 1))\n",
       "        )\n",
       "        (3): ConvBNActivation(\n",
       "          (0): Conv2d(480, 112, kernel_size=(1, 1), stride=(1, 1), bias=False)\n",
       "          (1): BatchNorm2d(112, eps=0.001, momentum=0.01, affine=True, track_running_stats=True)\n",
       "          (2): Identity()\n",
       "        )\n",
       "      )\n",
       "    )\n",
       "    (12): InvertedResidual(\n",
       "      (block): Sequential(\n",
       "        (0): ConvBNActivation(\n",
       "          (0): Conv2d(112, 672, kernel_size=(1, 1), stride=(1, 1), bias=False)\n",
       "          (1): BatchNorm2d(672, eps=0.001, momentum=0.01, affine=True, track_running_stats=True)\n",
       "          (2): Hardswish()\n",
       "        )\n",
       "        (1): ConvBNActivation(\n",
       "          (0): Conv2d(672, 672, kernel_size=(3, 3), stride=(1, 1), padding=(1, 1), groups=672, bias=False)\n",
       "          (1): BatchNorm2d(672, eps=0.001, momentum=0.01, affine=True, track_running_stats=True)\n",
       "          (2): Hardswish()\n",
       "        )\n",
       "        (2): SqueezeExcitation(\n",
       "          (fc1): Conv2d(672, 168, kernel_size=(1, 1), stride=(1, 1))\n",
       "          (relu): ReLU(inplace=True)\n",
       "          (fc2): Conv2d(168, 672, kernel_size=(1, 1), stride=(1, 1))\n",
       "        )\n",
       "        (3): ConvBNActivation(\n",
       "          (0): Conv2d(672, 112, kernel_size=(1, 1), stride=(1, 1), bias=False)\n",
       "          (1): BatchNorm2d(112, eps=0.001, momentum=0.01, affine=True, track_running_stats=True)\n",
       "          (2): Identity()\n",
       "        )\n",
       "      )\n",
       "    )\n",
       "    (13): InvertedResidual(\n",
       "      (block): Sequential(\n",
       "        (0): ConvBNActivation(\n",
       "          (0): Conv2d(112, 672, kernel_size=(1, 1), stride=(1, 1), bias=False)\n",
       "          (1): BatchNorm2d(672, eps=0.001, momentum=0.01, affine=True, track_running_stats=True)\n",
       "          (2): Hardswish()\n",
       "        )\n",
       "        (1): ConvBNActivation(\n",
       "          (0): Conv2d(672, 672, kernel_size=(5, 5), stride=(2, 2), padding=(2, 2), groups=672, bias=False)\n",
       "          (1): BatchNorm2d(672, eps=0.001, momentum=0.01, affine=True, track_running_stats=True)\n",
       "          (2): Hardswish()\n",
       "        )\n",
       "        (2): SqueezeExcitation(\n",
       "          (fc1): Conv2d(672, 168, kernel_size=(1, 1), stride=(1, 1))\n",
       "          (relu): ReLU(inplace=True)\n",
       "          (fc2): Conv2d(168, 672, kernel_size=(1, 1), stride=(1, 1))\n",
       "        )\n",
       "        (3): ConvBNActivation(\n",
       "          (0): Conv2d(672, 160, kernel_size=(1, 1), stride=(1, 1), bias=False)\n",
       "          (1): BatchNorm2d(160, eps=0.001, momentum=0.01, affine=True, track_running_stats=True)\n",
       "          (2): Identity()\n",
       "        )\n",
       "      )\n",
       "    )\n",
       "    (14): InvertedResidual(\n",
       "      (block): Sequential(\n",
       "        (0): ConvBNActivation(\n",
       "          (0): Conv2d(160, 960, kernel_size=(1, 1), stride=(1, 1), bias=False)\n",
       "          (1): BatchNorm2d(960, eps=0.001, momentum=0.01, affine=True, track_running_stats=True)\n",
       "          (2): Hardswish()\n",
       "        )\n",
       "        (1): ConvBNActivation(\n",
       "          (0): Conv2d(960, 960, kernel_size=(5, 5), stride=(1, 1), padding=(2, 2), groups=960, bias=False)\n",
       "          (1): BatchNorm2d(960, eps=0.001, momentum=0.01, affine=True, track_running_stats=True)\n",
       "          (2): Hardswish()\n",
       "        )\n",
       "        (2): SqueezeExcitation(\n",
       "          (fc1): Conv2d(960, 240, kernel_size=(1, 1), stride=(1, 1))\n",
       "          (relu): ReLU(inplace=True)\n",
       "          (fc2): Conv2d(240, 960, kernel_size=(1, 1), stride=(1, 1))\n",
       "        )\n",
       "        (3): ConvBNActivation(\n",
       "          (0): Conv2d(960, 160, kernel_size=(1, 1), stride=(1, 1), bias=False)\n",
       "          (1): BatchNorm2d(160, eps=0.001, momentum=0.01, affine=True, track_running_stats=True)\n",
       "          (2): Identity()\n",
       "        )\n",
       "      )\n",
       "    )\n",
       "    (15): InvertedResidual(\n",
       "      (block): Sequential(\n",
       "        (0): ConvBNActivation(\n",
       "          (0): Conv2d(160, 960, kernel_size=(1, 1), stride=(1, 1), bias=False)\n",
       "          (1): BatchNorm2d(960, eps=0.001, momentum=0.01, affine=True, track_running_stats=True)\n",
       "          (2): Hardswish()\n",
       "        )\n",
       "        (1): ConvBNActivation(\n",
       "          (0): Conv2d(960, 960, kernel_size=(5, 5), stride=(1, 1), padding=(2, 2), groups=960, bias=False)\n",
       "          (1): BatchNorm2d(960, eps=0.001, momentum=0.01, affine=True, track_running_stats=True)\n",
       "          (2): Hardswish()\n",
       "        )\n",
       "        (2): SqueezeExcitation(\n",
       "          (fc1): Conv2d(960, 240, kernel_size=(1, 1), stride=(1, 1))\n",
       "          (relu): ReLU(inplace=True)\n",
       "          (fc2): Conv2d(240, 960, kernel_size=(1, 1), stride=(1, 1))\n",
       "        )\n",
       "        (3): ConvBNActivation(\n",
       "          (0): Conv2d(960, 160, kernel_size=(1, 1), stride=(1, 1), bias=False)\n",
       "          (1): BatchNorm2d(160, eps=0.001, momentum=0.01, affine=True, track_running_stats=True)\n",
       "          (2): Identity()\n",
       "        )\n",
       "      )\n",
       "    )\n",
       "    (16): ConvBNActivation(\n",
       "      (0): Conv2d(160, 960, kernel_size=(1, 1), stride=(1, 1), bias=False)\n",
       "      (1): BatchNorm2d(960, eps=0.001, momentum=0.01, affine=True, track_running_stats=True)\n",
       "      (2): Hardswish()\n",
       "    )\n",
       "  )\n",
       "  (avgpool): AdaptiveAvgPool2d(output_size=1)\n",
       "  (classifier): Sequential(\n",
       "    (0): Linear(in_features=960, out_features=1280, bias=True)\n",
       "    (1): Hardswish()\n",
       "    (2): Dropout(p=0.2, inplace=True)\n",
       "    (3): Linear(in_features=1280, out_features=2, bias=True)\n",
       "  )\n",
       ")"
      ]
     },
     "execution_count": 9,
     "metadata": {},
     "output_type": "execute_result"
    }
   ],
   "source": [
    "# モデルをGPUに送る\n",
    "model.to(device)"
   ]
  },
  {
   "cell_type": "markdown",
   "id": "ea94bae7",
   "metadata": {
    "papermill": {
     "duration": 0.056499,
     "end_time": "2022-04-13T09:52:11.812403",
     "exception": false,
     "start_time": "2022-04-13T09:52:11.755904",
     "status": "completed"
    },
    "tags": []
   },
   "source": [
    "# transform"
   ]
  },
  {
   "cell_type": "code",
   "execution_count": 10,
   "id": "b7bfeda1",
   "metadata": {
    "execution": {
     "iopub.execute_input": "2022-04-13T09:52:11.941046Z",
     "iopub.status.busy": "2022-04-13T09:52:11.940182Z",
     "iopub.status.idle": "2022-04-13T09:52:11.943281Z",
     "shell.execute_reply": "2022-04-13T09:52:11.943873Z",
     "shell.execute_reply.started": "2022-04-13T09:27:40.088243Z"
    },
    "papermill": {
     "duration": 0.071444,
     "end_time": "2022-04-13T09:52:11.944062",
     "exception": false,
     "start_time": "2022-04-13T09:52:11.872618",
     "status": "completed"
    },
    "tags": []
   },
   "outputs": [],
   "source": [
    "# transformの設定\n",
    "transform = {\n",
    "    'train': transforms.Compose([\n",
    "        transforms.Resize((opt.image_size,opt.image_size)),\n",
    "        transforms.RandomHorizontalFlip(p=0.5),\n",
    "        transforms.RandomVerticalFlip(p=0.5),\n",
    "        transforms.RandomAffine(degrees=[-10, 10], translate=(0.1, 0.1), scale=(0.5, 1.5)),\n",
    "        transforms.RandomRotation(degrees=10),\n",
    "        transforms.ToTensor(),\n",
    "        transforms.Normalize([0.485, 0.456, 0.406], [0.229, 0.224, 0.225]),\n",
    "        ]),\n",
    "    'val': transforms.Compose([\n",
    "        transforms.Resize((opt.image_size,opt.image_size)),\n",
    "        transforms.ToTensor(),\n",
    "        transforms.Normalize([0.485, 0.456, 0.406], [0.229, 0.224, 0.225]),\n",
    "        ]),\n",
    "}"
   ]
  },
  {
   "cell_type": "code",
   "execution_count": 11,
   "id": "3cdb485d",
   "metadata": {
    "execution": {
     "iopub.execute_input": "2022-04-13T09:52:12.075594Z",
     "iopub.status.busy": "2022-04-13T09:52:12.074878Z",
     "iopub.status.idle": "2022-04-13T09:52:12.078622Z",
     "shell.execute_reply": "2022-04-13T09:52:12.078120Z",
     "shell.execute_reply.started": "2022-04-13T09:27:40.098247Z"
    },
    "papermill": {
     "duration": 0.075674,
     "end_time": "2022-04-13T09:52:12.078803",
     "exception": false,
     "start_time": "2022-04-13T09:52:12.003129",
     "status": "completed"
    },
    "tags": []
   },
   "outputs": [],
   "source": [
    "# Datasetの設定\n",
    "class XrayDataset(Dataset):\n",
    "    def __init__(self, image_name_list, label_list, img_dir, transform=None, phase=None):\n",
    "        self.image_name_list = image_name_list # 画像ファイル名\n",
    "        self.label_list = label_list # ラベル\n",
    "        self.img_dir = img_dir # 画像データのディレクトリ\n",
    "        self.phase = phase # 変数phaseで学習(train)もしくは検証(val)の設定を行う\n",
    "        self.transform = transform\n",
    "\n",
    "    def __len__(self):\n",
    "        return len(self.image_name_list) # 1エポックあたりに読み込むデータ数として、入力データの数を指定\n",
    "\n",
    "    def __getitem__(self, index):\n",
    "        \n",
    "        # index番目の画像を読み込み、前処理を行う\n",
    "        image_path = os.path.join(self.img_dir, self.image_name_list[index]) # train_master.iloc[index, 0]はファイル名を抽出\n",
    "        img = Image.open(image_path).convert('RGB')\n",
    "        img = self.transform[self.phase](img)\n",
    "        \n",
    "        # index番目のラベルを取得する\n",
    "        label = self.label_list[index]\n",
    "        \n",
    "        return img, label"
   ]
  },
  {
   "cell_type": "markdown",
   "id": "8ac08d74",
   "metadata": {
    "papermill": {
     "duration": 0.054262,
     "end_time": "2022-04-13T09:52:12.190317",
     "exception": false,
     "start_time": "2022-04-13T09:52:12.136055",
     "status": "completed"
    },
    "tags": []
   },
   "source": [
    "# NORMALのテストデータを推論"
   ]
  },
  {
   "cell_type": "markdown",
   "id": "b89c19da",
   "metadata": {
    "papermill": {
     "duration": 0.054118,
     "end_time": "2022-04-13T09:52:12.298605",
     "exception": false,
     "start_time": "2022-04-13T09:52:12.244487",
     "status": "completed"
    },
    "tags": []
   },
   "source": [
    "## NORMALのテストデータのデータフレーム化"
   ]
  },
  {
   "cell_type": "code",
   "execution_count": 12,
   "id": "bf519211",
   "metadata": {
    "execution": {
     "iopub.execute_input": "2022-04-13T09:52:12.410349Z",
     "iopub.status.busy": "2022-04-13T09:52:12.409570Z",
     "iopub.status.idle": "2022-04-13T09:52:12.507200Z",
     "shell.execute_reply": "2022-04-13T09:52:12.507818Z",
     "shell.execute_reply.started": "2022-04-13T09:27:40.110998Z"
    },
    "papermill": {
     "duration": 0.155298,
     "end_time": "2022-04-13T09:52:12.508009",
     "exception": false,
     "start_time": "2022-04-13T09:52:12.352711",
     "status": "completed"
    },
    "tags": []
   },
   "outputs": [],
   "source": [
    "# ディレクトリ内の画像リスト作成\n",
    "normal = glob(test_normal_dir+'*.jpeg')"
   ]
  },
  {
   "cell_type": "code",
   "execution_count": 13,
   "id": "d46865e7",
   "metadata": {
    "execution": {
     "iopub.execute_input": "2022-04-13T09:52:12.622322Z",
     "iopub.status.busy": "2022-04-13T09:52:12.621643Z",
     "iopub.status.idle": "2022-04-13T09:52:12.626470Z",
     "shell.execute_reply": "2022-04-13T09:52:12.627062Z",
     "shell.execute_reply.started": "2022-04-13T09:27:40.195162Z"
    },
    "papermill": {
     "duration": 0.065112,
     "end_time": "2022-04-13T09:52:12.627236",
     "exception": false,
     "start_time": "2022-04-13T09:52:12.562124",
     "status": "completed"
    },
    "tags": []
   },
   "outputs": [],
   "source": [
    "# テストデータのリストを作成\n",
    "test_file_list = []\n",
    "\n",
    "for path in normal:\n",
    "    file_name = re.split('[////////]', path)[8]\n",
    "    test_file_list.append(file_name)\n",
    "    #print(file_name)"
   ]
  },
  {
   "cell_type": "code",
   "execution_count": 14,
   "id": "aacd4ae0",
   "metadata": {
    "execution": {
     "iopub.execute_input": "2022-04-13T09:52:12.746360Z",
     "iopub.status.busy": "2022-04-13T09:52:12.745483Z",
     "iopub.status.idle": "2022-04-13T09:52:12.767621Z",
     "shell.execute_reply": "2022-04-13T09:52:12.768529Z",
     "shell.execute_reply.started": "2022-04-13T09:27:40.201577Z"
    },
    "papermill": {
     "duration": 0.083067,
     "end_time": "2022-04-13T09:52:12.768783",
     "exception": false,
     "start_time": "2022-04-13T09:52:12.685716",
     "status": "completed"
    },
    "tags": []
   },
   "outputs": [
    {
     "name": "stdout",
     "output_type": "stream",
     "text": [
      "                          name label\n",
      "0    NORMAL2-IM-0336-0001.jpeg  None\n",
      "1            IM-0101-0001.jpeg  None\n",
      "2    NORMAL2-IM-0337-0001.jpeg  None\n",
      "3    NORMAL2-IM-0198-0001.jpeg  None\n",
      "4            IM-0013-0001.jpeg  None\n",
      "..                         ...   ...\n",
      "229  NORMAL2-IM-0338-0001.jpeg  None\n",
      "230  NORMAL2-IM-0195-0001.jpeg  None\n",
      "231  NORMAL2-IM-0333-0001.jpeg  None\n",
      "232  NORMAL2-IM-0150-0001.jpeg  None\n",
      "233          IM-0010-0001.jpeg  None\n",
      "\n",
      "[234 rows x 2 columns]\n",
      "234\n"
     ]
    }
   ],
   "source": [
    "# ファイル名とラベルのデータフレームを作成\n",
    "test_normal_df = pd.DataFrame({'name':test_file_list})\n",
    "test_normal_df['label'] = None\n",
    "\n",
    "print(test_normal_df)\n",
    "print(len(test_normal_df))"
   ]
  },
  {
   "cell_type": "code",
   "execution_count": 15,
   "id": "d57168ff",
   "metadata": {
    "execution": {
     "iopub.execute_input": "2022-04-13T09:52:12.890546Z",
     "iopub.status.busy": "2022-04-13T09:52:12.889518Z",
     "iopub.status.idle": "2022-04-13T09:52:12.894351Z",
     "shell.execute_reply": "2022-04-13T09:52:12.895076Z",
     "shell.execute_reply.started": "2022-04-13T09:27:40.231771Z"
    },
    "papermill": {
     "duration": 0.066527,
     "end_time": "2022-04-13T09:52:12.895259",
     "exception": false,
     "start_time": "2022-04-13T09:52:12.828732",
     "status": "completed"
    },
    "tags": []
   },
   "outputs": [],
   "source": [
    "# 画像データの名前リストの抽出\n",
    "x_test_normal = test_normal_df['name'].values\n",
    "dummy = test_normal_df['name'].values\n",
    "#print(x_test_normal, f'データ数：{len(x_test_normal)}')"
   ]
  },
  {
   "cell_type": "code",
   "execution_count": 16,
   "id": "9f7adcef",
   "metadata": {
    "execution": {
     "iopub.execute_input": "2022-04-13T09:52:13.016040Z",
     "iopub.status.busy": "2022-04-13T09:52:13.014874Z",
     "iopub.status.idle": "2022-04-13T09:52:13.019560Z",
     "shell.execute_reply": "2022-04-13T09:52:13.020269Z",
     "shell.execute_reply.started": "2022-04-13T09:27:40.237741Z"
    },
    "papermill": {
     "duration": 0.06701,
     "end_time": "2022-04-13T09:52:13.020658",
     "exception": false,
     "start_time": "2022-04-13T09:52:12.953648",
     "status": "completed"
    },
    "tags": []
   },
   "outputs": [],
   "source": [
    "# Datasetのインスタンス作成\n",
    "test_normal_dataset = XrayDataset(x_test_normal, dummy, test_normal_dir, transform=transform, phase='val')"
   ]
  },
  {
   "cell_type": "code",
   "execution_count": 17,
   "id": "3ed1595a",
   "metadata": {
    "execution": {
     "iopub.execute_input": "2022-04-13T09:52:13.148913Z",
     "iopub.status.busy": "2022-04-13T09:52:13.147756Z",
     "iopub.status.idle": "2022-04-13T09:52:13.151756Z",
     "shell.execute_reply": "2022-04-13T09:52:13.152483Z",
     "shell.execute_reply.started": "2022-04-13T09:27:40.249445Z"
    },
    "papermill": {
     "duration": 0.070316,
     "end_time": "2022-04-13T09:52:13.152672",
     "exception": false,
     "start_time": "2022-04-13T09:52:13.082356",
     "status": "completed"
    },
    "tags": []
   },
   "outputs": [],
   "source": [
    "# DataLoader\n",
    "test_normal_dataloader = DataLoader(test_normal_dataset, batch_size=1, shuffle=False)"
   ]
  },
  {
   "cell_type": "code",
   "execution_count": 18,
   "id": "59c26e0a",
   "metadata": {
    "execution": {
     "iopub.execute_input": "2022-04-13T09:52:13.267518Z",
     "iopub.status.busy": "2022-04-13T09:52:13.266517Z",
     "iopub.status.idle": "2022-04-13T09:52:13.397594Z",
     "shell.execute_reply": "2022-04-13T09:52:13.398261Z",
     "shell.execute_reply.started": "2022-04-13T09:27:40.261471Z"
    },
    "papermill": {
     "duration": 0.189976,
     "end_time": "2022-04-13T09:52:13.398482",
     "exception": false,
     "start_time": "2022-04-13T09:52:13.208506",
     "status": "completed"
    },
    "tags": []
   },
   "outputs": [
    {
     "name": "stdout",
     "output_type": "stream",
     "text": [
      "torch.Size([1, 3, 1024, 1024])\n",
      "('NORMAL2-IM-0336-0001.jpeg',)\n"
     ]
    }
   ],
   "source": [
    "# DataLoaderの確認\n",
    "train_iter = iter(test_normal_dataloader)\n",
    "imgs, labels = train_iter.next()\n",
    "print(imgs.size())\n",
    "print(labels)"
   ]
  },
  {
   "cell_type": "markdown",
   "id": "edc429d9",
   "metadata": {
    "papermill": {
     "duration": 0.058726,
     "end_time": "2022-04-13T09:52:13.519999",
     "exception": false,
     "start_time": "2022-04-13T09:52:13.461273",
     "status": "completed"
    },
    "tags": []
   },
   "source": [
    "## NORMALのテストデータの予測"
   ]
  },
  {
   "cell_type": "code",
   "execution_count": 19,
   "id": "c9865f78",
   "metadata": {
    "execution": {
     "iopub.execute_input": "2022-04-13T09:52:13.639186Z",
     "iopub.status.busy": "2022-04-13T09:52:13.638317Z",
     "iopub.status.idle": "2022-04-13T10:09:32.678446Z",
     "shell.execute_reply": "2022-04-13T10:09:32.677590Z",
     "shell.execute_reply.started": "2022-04-13T09:27:40.385882Z"
    },
    "papermill": {
     "duration": 1039.103107,
     "end_time": "2022-04-13T10:09:32.678627",
     "exception": false,
     "start_time": "2022-04-13T09:52:13.575520",
     "status": "completed"
    },
    "tags": []
   },
   "outputs": [],
   "source": [
    "# 予測データフレームの作成\n",
    "normal_preds = []\n",
    "\n",
    "# dataloaderから、ミニバッチ単位でデータを読み込む\n",
    "for images, _ in test_normal_dataloader:\n",
    "    \n",
    "    # 入力データをdeviceへ\n",
    "    images = images.to(device)\n",
    "    \n",
    "    # 学習済みモデルを推論モードに設定\n",
    "    model.eval()\n",
    "    \n",
    "    # モデルによる変換\n",
    "    outputs = model(images)\n",
    "    pred = torch.argmax(outputs, dim=1)\n",
    "    pred = pred.to('cpu').numpy()\n",
    "\n",
    "    # 予測値をリストに追加\n",
    "    normal_preds.extend(pred)"
   ]
  },
  {
   "cell_type": "code",
   "execution_count": 20,
   "id": "7d0373fe",
   "metadata": {
    "execution": {
     "iopub.execute_input": "2022-04-13T10:09:32.797496Z",
     "iopub.status.busy": "2022-04-13T10:09:32.796715Z",
     "iopub.status.idle": "2022-04-13T10:09:32.800410Z",
     "shell.execute_reply": "2022-04-13T10:09:32.799884Z",
     "shell.execute_reply.started": "2022-04-13T09:45:00.425173Z"
    },
    "papermill": {
     "duration": 0.064336,
     "end_time": "2022-04-13T10:09:32.800548",
     "exception": false,
     "start_time": "2022-04-13T10:09:32.736212",
     "status": "completed"
    },
    "tags": []
   },
   "outputs": [
    {
     "name": "stdout",
     "output_type": "stream",
     "text": [
      "[1, 1, 1, 1, 0, 0, 1, 1, 1, 1, 0, 1, 1, 1, 1, 1, 1, 1, 1, 1, 1, 1, 1, 1, 1, 1, 1, 1, 1, 1, 0, 1, 1, 1, 1, 1, 1, 1, 1, 1, 1, 1, 0, 1, 0, 1, 1, 1, 0, 1, 1, 1, 1, 1, 1, 1, 1, 1, 1, 1, 0, 1, 1, 1, 0, 1, 1, 0, 1, 1, 1, 1, 1, 1, 1, 1, 1, 1, 1, 0, 1, 1, 1, 1, 0, 1, 1, 1, 1, 0, 1, 0, 1, 1, 0, 1, 0, 1, 1, 1, 1, 1, 1, 1, 1, 1, 1, 1, 1, 1, 1, 0, 1, 1, 1, 1, 0, 1, 1, 1, 1, 0, 0, 1, 1, 1, 1, 0, 0, 1, 1, 1, 1, 1, 1, 0, 1, 0, 1, 1, 1, 1, 1, 0, 1, 1, 1, 1, 1, 0, 1, 0, 0, 1, 1, 1, 0, 1, 0, 1, 1, 1, 0, 1, 1, 1, 1, 1, 1, 1, 1, 0, 1, 1, 1, 1, 1, 1, 1, 1, 1, 1, 1, 1, 1, 1, 1, 0, 1, 1, 1, 1, 1, 1, 1, 0, 1, 0, 1, 1, 1, 0, 1, 1, 1, 1, 1, 1, 1, 1, 1, 1, 1, 1, 1, 0, 1, 1, 1, 1, 1, 1, 1, 1, 1, 1, 1, 1, 1, 1, 1, 1, 1, 1]\n",
      "正解率： 0.1581196581196581\n"
     ]
    }
   ],
   "source": [
    "# 予測結果と正解率の確認\n",
    "print(normal_preds)\n",
    "print('正解率：',normal_preds.count(0)/len(normal_preds))"
   ]
  },
  {
   "cell_type": "code",
   "execution_count": 21,
   "id": "b21344e4",
   "metadata": {
    "execution": {
     "iopub.execute_input": "2022-04-13T10:09:32.919714Z",
     "iopub.status.busy": "2022-04-13T10:09:32.919059Z",
     "iopub.status.idle": "2022-04-13T10:09:32.922991Z",
     "shell.execute_reply": "2022-04-13T10:09:32.922489Z",
     "shell.execute_reply.started": "2022-04-13T09:45:00.435018Z"
    },
    "papermill": {
     "duration": 0.067255,
     "end_time": "2022-04-13T10:09:32.923161",
     "exception": false,
     "start_time": "2022-04-13T10:09:32.855906",
     "status": "completed"
    },
    "tags": []
   },
   "outputs": [
    {
     "name": "stdout",
     "output_type": "stream",
     "text": [
      "                        name  label\n",
      "0  NORMAL2-IM-0336-0001.jpeg      1\n",
      "1          IM-0101-0001.jpeg      1\n",
      "2  NORMAL2-IM-0337-0001.jpeg      1\n",
      "3  NORMAL2-IM-0198-0001.jpeg      1\n",
      "4          IM-0013-0001.jpeg      0\n"
     ]
    }
   ],
   "source": [
    "# 目的変数カラムの置き換え\n",
    "test_normal_df['label'] = normal_preds\n",
    "print(test_normal_df.head())"
   ]
  },
  {
   "cell_type": "markdown",
   "id": "f2c16637",
   "metadata": {
    "papermill": {
     "duration": 0.057681,
     "end_time": "2022-04-13T10:09:33.037173",
     "exception": false,
     "start_time": "2022-04-13T10:09:32.979492",
     "status": "completed"
    },
    "tags": []
   },
   "source": [
    "# PNEUMONIAのテストデータを推論"
   ]
  },
  {
   "cell_type": "markdown",
   "id": "ffe5ad76",
   "metadata": {
    "papermill": {
     "duration": 0.056605,
     "end_time": "2022-04-13T10:09:33.150051",
     "exception": false,
     "start_time": "2022-04-13T10:09:33.093446",
     "status": "completed"
    },
    "tags": []
   },
   "source": [
    "## PNEUMONIAのテストデータのデータフレーム化"
   ]
  },
  {
   "cell_type": "code",
   "execution_count": 22,
   "id": "de27ae4e",
   "metadata": {
    "execution": {
     "iopub.execute_input": "2022-04-13T10:09:33.267405Z",
     "iopub.status.busy": "2022-04-13T10:09:33.266615Z",
     "iopub.status.idle": "2022-04-13T10:09:33.427541Z",
     "shell.execute_reply": "2022-04-13T10:09:33.426865Z",
     "shell.execute_reply.started": "2022-04-13T09:45:00.455257Z"
    },
    "papermill": {
     "duration": 0.221028,
     "end_time": "2022-04-13T10:09:33.427684",
     "exception": false,
     "start_time": "2022-04-13T10:09:33.206656",
     "status": "completed"
    },
    "tags": []
   },
   "outputs": [],
   "source": [
    "# ディレクトリ内の画像リスト作成\n",
    "pneumonia = glob(test_pneumonia_dir+'*.jpeg')"
   ]
  },
  {
   "cell_type": "code",
   "execution_count": 23,
   "id": "a0c58661",
   "metadata": {
    "execution": {
     "iopub.execute_input": "2022-04-13T10:09:33.552795Z",
     "iopub.status.busy": "2022-04-13T10:09:33.552103Z",
     "iopub.status.idle": "2022-04-13T10:09:33.555139Z",
     "shell.execute_reply": "2022-04-13T10:09:33.554510Z",
     "shell.execute_reply.started": "2022-04-13T09:45:00.567484Z"
    },
    "papermill": {
     "duration": 0.065167,
     "end_time": "2022-04-13T10:09:33.555276",
     "exception": false,
     "start_time": "2022-04-13T10:09:33.490109",
     "status": "completed"
    },
    "tags": []
   },
   "outputs": [],
   "source": [
    "# テストデータのリストを作成\n",
    "test_file_list = []\n",
    "\n",
    "for path in pneumonia:\n",
    "    file_name = re.split('[////////]', path)[8]\n",
    "    test_file_list.append(file_name)\n",
    "    #print(file_name)"
   ]
  },
  {
   "cell_type": "code",
   "execution_count": 24,
   "id": "abf0fbad",
   "metadata": {
    "execution": {
     "iopub.execute_input": "2022-04-13T10:09:33.677812Z",
     "iopub.status.busy": "2022-04-13T10:09:33.677107Z",
     "iopub.status.idle": "2022-04-13T10:09:33.680253Z",
     "shell.execute_reply": "2022-04-13T10:09:33.680850Z",
     "shell.execute_reply.started": "2022-04-13T09:45:00.574452Z"
    },
    "papermill": {
     "duration": 0.069662,
     "end_time": "2022-04-13T10:09:33.681014",
     "exception": false,
     "start_time": "2022-04-13T10:09:33.611352",
     "status": "completed"
    },
    "tags": []
   },
   "outputs": [
    {
     "name": "stdout",
     "output_type": "stream",
     "text": [
      "                            name label\n",
      "0     person1676_virus_2892.jpeg  None\n",
      "1     person1650_virus_2852.jpeg  None\n",
      "2         person22_virus_55.jpeg  None\n",
      "3    person122_bacteria_582.jpeg  None\n",
      "4     person85_bacteria_417.jpeg  None\n",
      "..                           ...   ...\n",
      "385   person1659_virus_2867.jpeg  None\n",
      "386   person1615_virus_2801.jpeg  None\n",
      "387   person1664_virus_2877.jpeg  None\n",
      "388  person111_bacteria_536.jpeg  None\n",
      "389  person152_bacteria_724.jpeg  None\n",
      "\n",
      "[390 rows x 2 columns]\n",
      "390\n"
     ]
    }
   ],
   "source": [
    "# ファイル名とラベルのデータフレームを作成\n",
    "test_pneumonia_df = pd.DataFrame({'name':test_file_list})\n",
    "test_pneumonia_df['label'] = None\n",
    "\n",
    "print(test_pneumonia_df)\n",
    "print(len(test_pneumonia_df))"
   ]
  },
  {
   "cell_type": "code",
   "execution_count": 25,
   "id": "3ef07dae",
   "metadata": {
    "execution": {
     "iopub.execute_input": "2022-04-13T10:09:33.798806Z",
     "iopub.status.busy": "2022-04-13T10:09:33.798145Z",
     "iopub.status.idle": "2022-04-13T10:09:33.801312Z",
     "shell.execute_reply": "2022-04-13T10:09:33.800766Z",
     "shell.execute_reply.started": "2022-04-13T09:45:00.597085Z"
    },
    "papermill": {
     "duration": 0.064407,
     "end_time": "2022-04-13T10:09:33.801443",
     "exception": false,
     "start_time": "2022-04-13T10:09:33.737036",
     "status": "completed"
    },
    "tags": []
   },
   "outputs": [],
   "source": [
    "# 画像データの名前リストの抽出\n",
    "x_test_pneumonia = test_pneumonia_df['name'].values\n",
    "dummy = test_pneumonia_df['name'].values\n",
    "#print(x_test_pneumonia, f'データ数：{len(x_test_pneumonia)}')"
   ]
  },
  {
   "cell_type": "code",
   "execution_count": 26,
   "id": "7a41b85b",
   "metadata": {
    "execution": {
     "iopub.execute_input": "2022-04-13T10:09:33.920937Z",
     "iopub.status.busy": "2022-04-13T10:09:33.919949Z",
     "iopub.status.idle": "2022-04-13T10:09:33.922809Z",
     "shell.execute_reply": "2022-04-13T10:09:33.922299Z",
     "shell.execute_reply.started": "2022-04-13T09:45:00.610088Z"
    },
    "papermill": {
     "duration": 0.065485,
     "end_time": "2022-04-13T10:09:33.922957",
     "exception": false,
     "start_time": "2022-04-13T10:09:33.857472",
     "status": "completed"
    },
    "tags": []
   },
   "outputs": [],
   "source": [
    "# Datasetのインスタンス作成\n",
    "test_pneumonia_dataset = XrayDataset(x_test_pneumonia, dummy, test_pneumonia_dir, transform=transform, phase='val')"
   ]
  },
  {
   "cell_type": "code",
   "execution_count": 27,
   "id": "bcd333dc",
   "metadata": {
    "execution": {
     "iopub.execute_input": "2022-04-13T10:09:34.041092Z",
     "iopub.status.busy": "2022-04-13T10:09:34.040360Z",
     "iopub.status.idle": "2022-04-13T10:09:34.042203Z",
     "shell.execute_reply": "2022-04-13T10:09:34.042774Z",
     "shell.execute_reply.started": "2022-04-13T09:45:00.623099Z"
    },
    "papermill": {
     "duration": 0.06362,
     "end_time": "2022-04-13T10:09:34.042960",
     "exception": false,
     "start_time": "2022-04-13T10:09:33.979340",
     "status": "completed"
    },
    "tags": []
   },
   "outputs": [],
   "source": [
    "# DataLoader\n",
    "test_pneumonia_dataloader = DataLoader(test_pneumonia_dataset, batch_size=1, shuffle=False)"
   ]
  },
  {
   "cell_type": "code",
   "execution_count": 28,
   "id": "8f03310f",
   "metadata": {
    "execution": {
     "iopub.execute_input": "2022-04-13T10:09:34.160323Z",
     "iopub.status.busy": "2022-04-13T10:09:34.159598Z",
     "iopub.status.idle": "2022-04-13T10:09:34.244336Z",
     "shell.execute_reply": "2022-04-13T10:09:34.243670Z",
     "shell.execute_reply.started": "2022-04-13T09:45:00.639227Z"
    },
    "papermill": {
     "duration": 0.145488,
     "end_time": "2022-04-13T10:09:34.244495",
     "exception": false,
     "start_time": "2022-04-13T10:09:34.099007",
     "status": "completed"
    },
    "tags": []
   },
   "outputs": [
    {
     "name": "stdout",
     "output_type": "stream",
     "text": [
      "torch.Size([1, 3, 1024, 1024])\n",
      "('person1676_virus_2892.jpeg',)\n"
     ]
    }
   ],
   "source": [
    "# DataLoaderの確認\n",
    "train_iter = iter(test_pneumonia_dataloader)\n",
    "imgs, labels = train_iter.next()\n",
    "print(imgs.size())\n",
    "print(labels)"
   ]
  },
  {
   "cell_type": "markdown",
   "id": "511c7c15",
   "metadata": {
    "papermill": {
     "duration": 0.0569,
     "end_time": "2022-04-13T10:09:34.361384",
     "exception": false,
     "start_time": "2022-04-13T10:09:34.304484",
     "status": "completed"
    },
    "tags": []
   },
   "source": [
    "## PNEUMONIAのテストデータの予測"
   ]
  },
  {
   "cell_type": "code",
   "execution_count": 29,
   "id": "55b507fc",
   "metadata": {
    "execution": {
     "iopub.execute_input": "2022-04-13T10:09:34.479651Z",
     "iopub.status.busy": "2022-04-13T10:09:34.478901Z",
     "iopub.status.idle": "2022-04-13T10:38:23.875261Z",
     "shell.execute_reply": "2022-04-13T10:38:23.875871Z"
    },
    "papermill": {
     "duration": 1729.457582,
     "end_time": "2022-04-13T10:38:23.876118",
     "exception": false,
     "start_time": "2022-04-13T10:09:34.418536",
     "status": "completed"
    },
    "tags": []
   },
   "outputs": [],
   "source": [
    "# 予測データフレームの作成\n",
    "pneumonia_preds = []\n",
    "\n",
    "# dataloaderから、ミニバッチ単位でデータを読み込む\n",
    "for images, _ in test_pneumonia_dataloader:\n",
    "    \n",
    "    # 入力データをdeviceへ\n",
    "    images = images.to(device)\n",
    "    \n",
    "    # 学習済みモデルを推論モードに設定\n",
    "    model.eval()\n",
    "    \n",
    "    # モデルによる変換\n",
    "    outputs = model(images)\n",
    "    pred = torch.argmax(outputs, dim=1)\n",
    "    pred = pred.to('cpu').numpy()\n",
    "\n",
    "    # 予測値をリストに追加\n",
    "    pneumonia_preds.extend(pred)"
   ]
  },
  {
   "cell_type": "code",
   "execution_count": 30,
   "id": "b0b16b0f",
   "metadata": {
    "execution": {
     "iopub.execute_input": "2022-04-13T10:38:24.037183Z",
     "iopub.status.busy": "2022-04-13T10:38:24.036072Z",
     "iopub.status.idle": "2022-04-13T10:38:24.040018Z",
     "shell.execute_reply": "2022-04-13T10:38:24.039433Z"
    },
    "papermill": {
     "duration": 0.082822,
     "end_time": "2022-04-13T10:38:24.040170",
     "exception": false,
     "start_time": "2022-04-13T10:38:23.957348",
     "status": "completed"
    },
    "tags": []
   },
   "outputs": [
    {
     "name": "stdout",
     "output_type": "stream",
     "text": [
      "[1, 1, 1, 1, 1, 1, 1, 1, 1, 1, 1, 1, 1, 1, 1, 1, 1, 1, 1, 1, 1, 1, 1, 1, 1, 1, 1, 1, 1, 1, 1, 1, 1, 1, 1, 1, 1, 1, 1, 1, 1, 1, 1, 1, 1, 1, 1, 1, 1, 1, 1, 1, 1, 1, 1, 1, 1, 1, 1, 1, 1, 1, 1, 1, 1, 1, 1, 1, 1, 1, 1, 1, 1, 1, 1, 1, 1, 1, 1, 1, 1, 1, 1, 1, 1, 1, 1, 1, 1, 1, 1, 1, 1, 1, 1, 1, 1, 1, 1, 1, 1, 1, 1, 1, 1, 1, 1, 1, 1, 1, 1, 1, 1, 1, 1, 1, 1, 1, 1, 1, 1, 1, 1, 1, 1, 1, 1, 1, 1, 1, 1, 1, 1, 1, 1, 1, 1, 1, 1, 1, 1, 1, 1, 1, 1, 1, 1, 1, 1, 1, 1, 1, 1, 1, 1, 1, 1, 1, 1, 1, 1, 1, 1, 1, 1, 1, 1, 1, 1, 1, 1, 1, 1, 1, 1, 1, 1, 1, 1, 1, 1, 1, 1, 1, 1, 1, 1, 1, 1, 1, 1, 1, 1, 1, 1, 1, 1, 1, 1, 1, 1, 1, 1, 1, 1, 1, 1, 1, 1, 1, 1, 1, 1, 1, 1, 1, 1, 1, 1, 1, 1, 1, 1, 1, 1, 1, 1, 1, 1, 1, 1, 1, 1, 1, 1, 1, 1, 1, 1, 1, 1, 1, 1, 1, 1, 1, 1, 1, 1, 1, 1, 1, 1, 1, 1, 1, 1, 1, 1, 1, 1, 1, 1, 1, 1, 1, 1, 1, 1, 1, 1, 1, 1, 1, 1, 1, 1, 1, 1, 1, 1, 1, 1, 1, 1, 1, 1, 1, 1, 1, 1, 1, 1, 1, 1, 1, 1, 1, 1, 1, 1, 1, 1, 1, 1, 1, 1, 1, 1, 1, 1, 1, 1, 1, 1, 1, 1, 1, 1, 1, 1, 1, 1, 1, 1, 1, 1, 1, 1, 1, 1, 1, 1, 1, 1, 1, 1, 1, 1, 1, 1, 1, 1, 1, 1, 1, 1, 1, 1, 1, 1, 1, 1, 1, 1, 1, 1, 1, 1, 1, 1, 1, 1, 1, 1, 1, 1, 1, 1, 1, 1, 1, 1, 1, 1, 1, 1, 1, 1, 1, 1, 1, 1, 1, 1, 1, 1, 1, 1, 1]\n",
      "正解率： 1.0\n"
     ]
    }
   ],
   "source": [
    "# 予測結果と正解率の確認\n",
    "print(pneumonia_preds)\n",
    "print('正解率：',pneumonia_preds.count(1)/len(pneumonia_preds))"
   ]
  },
  {
   "cell_type": "code",
   "execution_count": 31,
   "id": "86f3416d",
   "metadata": {
    "execution": {
     "iopub.execute_input": "2022-04-13T10:38:24.171388Z",
     "iopub.status.busy": "2022-04-13T10:38:24.170445Z",
     "iopub.status.idle": "2022-04-13T10:38:24.178132Z",
     "shell.execute_reply": "2022-04-13T10:38:24.178717Z"
    },
    "papermill": {
     "duration": 0.073023,
     "end_time": "2022-04-13T10:38:24.178891",
     "exception": false,
     "start_time": "2022-04-13T10:38:24.105868",
     "status": "completed"
    },
    "tags": []
   },
   "outputs": [
    {
     "name": "stdout",
     "output_type": "stream",
     "text": [
      "                          name  label\n",
      "0   person1676_virus_2892.jpeg      1\n",
      "1   person1650_virus_2852.jpeg      1\n",
      "2       person22_virus_55.jpeg      1\n",
      "3  person122_bacteria_582.jpeg      1\n",
      "4   person85_bacteria_417.jpeg      1\n"
     ]
    }
   ],
   "source": [
    "# 目的変数カラムの置き換え\n",
    "test_pneumonia_df['label'] = pneumonia_preds\n",
    "print(test_pneumonia_df.head())"
   ]
  },
  {
   "cell_type": "markdown",
   "id": "9b42ab88",
   "metadata": {
    "papermill": {
     "duration": 0.058064,
     "end_time": "2022-04-13T10:38:24.295510",
     "exception": false,
     "start_time": "2022-04-13T10:38:24.237446",
     "status": "completed"
    },
    "tags": []
   },
   "source": [
    "# 混同行列"
   ]
  },
  {
   "cell_type": "code",
   "execution_count": 32,
   "id": "6d519552",
   "metadata": {
    "execution": {
     "iopub.execute_input": "2022-04-13T10:38:24.417643Z",
     "iopub.status.busy": "2022-04-13T10:38:24.416657Z",
     "iopub.status.idle": "2022-04-13T10:38:24.421053Z",
     "shell.execute_reply": "2022-04-13T10:38:24.421620Z"
    },
    "papermill": {
     "duration": 0.067836,
     "end_time": "2022-04-13T10:38:24.421804",
     "exception": false,
     "start_time": "2022-04-13T10:38:24.353968",
     "status": "completed"
    },
    "tags": []
   },
   "outputs": [],
   "source": [
    "# 正解リスト\n",
    "normal_true = [0] * len(normal_preds)\n",
    "pneumonia_true = [1] * len(pneumonia_preds)\n",
    "y_true = normal_true + pneumonia_true\n",
    "#print(y_true)\n",
    "#print('データ数：', len(y_true))"
   ]
  },
  {
   "cell_type": "code",
   "execution_count": 33,
   "id": "4c8e2c9b",
   "metadata": {
    "execution": {
     "iopub.execute_input": "2022-04-13T10:38:24.543375Z",
     "iopub.status.busy": "2022-04-13T10:38:24.542384Z",
     "iopub.status.idle": "2022-04-13T10:38:24.546288Z",
     "shell.execute_reply": "2022-04-13T10:38:24.546945Z"
    },
    "papermill": {
     "duration": 0.067007,
     "end_time": "2022-04-13T10:38:24.547141",
     "exception": false,
     "start_time": "2022-04-13T10:38:24.480134",
     "status": "completed"
    },
    "tags": []
   },
   "outputs": [],
   "source": [
    "# 予測リスト\n",
    "y_pred = normal_preds + pneumonia_preds\n",
    "#print(y_pred)\n",
    "#print('データ数：', len(y_pred))"
   ]
  },
  {
   "cell_type": "code",
   "execution_count": 34,
   "id": "dab54d78",
   "metadata": {
    "execution": {
     "iopub.execute_input": "2022-04-13T10:38:24.673582Z",
     "iopub.status.busy": "2022-04-13T10:38:24.672607Z",
     "iopub.status.idle": "2022-04-13T10:38:24.827793Z",
     "shell.execute_reply": "2022-04-13T10:38:24.828674Z"
    },
    "papermill": {
     "duration": 0.220195,
     "end_time": "2022-04-13T10:38:24.828974",
     "exception": false,
     "start_time": "2022-04-13T10:38:24.608779",
     "status": "completed"
    },
    "tags": []
   },
   "outputs": [
    {
     "data": {
      "image/png": "[encoded data removed]",
      "text/plain": [
       "<Figure size 432x288 with 1 Axes>"
      ]
     },
     "metadata": {
      "needs_background": "light"
     },
     "output_type": "display_data"
    }
   ],
   "source": [
    "# 混同行列の作成と可視化\n",
    "cm = confusion_matrix(y_true, y_pred)\n",
    "\n",
    "sns.heatmap(cm, \n",
    "            annot=True, # 数字を表示\n",
    "            fmt='d', # 整数表示\n",
    "            cmap='Blues',\n",
    "            cbar=False # カラーバーを非表示\n",
    ")\n",
    "plt.show()"
   ]
  },
  {
   "cell_type": "markdown",
   "id": "b7baa75f",
   "metadata": {
    "papermill": {
     "duration": 0.059405,
     "end_time": "2022-04-13T10:38:24.948149",
     "exception": false,
     "start_time": "2022-04-13T10:38:24.888744",
     "status": "completed"
    },
    "tags": []
   },
   "source": [
    "## 正解率"
   ]
  },
  {
   "cell_type": "markdown",
   "id": "f754654b",
   "metadata": {
    "papermill": {
     "duration": 0.06151,
     "end_time": "2022-04-13T10:38:25.069088",
     "exception": false,
     "start_time": "2022-04-13T10:38:25.007578",
     "status": "completed"
    },
    "tags": []
   },
   "source": [
    "正解率（accuracy）は、すべてのサンプルのうち正解したサンプルの割合"
   ]
  },
  {
   "cell_type": "code",
   "execution_count": 35,
   "id": "312bb8f0",
   "metadata": {
    "execution": {
     "iopub.execute_input": "2022-04-13T10:38:25.193955Z",
     "iopub.status.busy": "2022-04-13T10:38:25.193032Z",
     "iopub.status.idle": "2022-04-13T10:38:25.198219Z",
     "shell.execute_reply": "2022-04-13T10:38:25.198679Z"
    },
    "papermill": {
     "duration": 0.070597,
     "end_time": "2022-04-13T10:38:25.198899",
     "exception": false,
     "start_time": "2022-04-13T10:38:25.128302",
     "status": "completed"
    },
    "tags": []
   },
   "outputs": [
    {
     "name": "stdout",
     "output_type": "stream",
     "text": [
      "0.6842948717948718\n"
     ]
    }
   ],
   "source": [
    "print(accuracy_score(y_true, y_pred))"
   ]
  },
  {
   "cell_type": "markdown",
   "id": "3e711d0c",
   "metadata": {
    "papermill": {
     "duration": 0.060274,
     "end_time": "2022-04-13T10:38:25.319525",
     "exception": false,
     "start_time": "2022-04-13T10:38:25.259251",
     "status": "completed"
    },
    "tags": []
   },
   "source": [
    "## 適合率"
   ]
  },
  {
   "cell_type": "markdown",
   "id": "cc833bba",
   "metadata": {
    "papermill": {
     "duration": 0.059434,
     "end_time": "2022-04-13T10:38:25.438202",
     "exception": false,
     "start_time": "2022-04-13T10:38:25.378768",
     "status": "completed"
    },
    "tags": []
   },
   "source": [
    "適合率（precision）は、陽性と予測されたサンプルのうち正解したサンプルの割合"
   ]
  },
  {
   "cell_type": "code",
   "execution_count": 36,
   "id": "4a30c918",
   "metadata": {
    "execution": {
     "iopub.execute_input": "2022-04-13T10:38:25.563579Z",
     "iopub.status.busy": "2022-04-13T10:38:25.562480Z",
     "iopub.status.idle": "2022-04-13T10:38:25.567598Z",
     "shell.execute_reply": "2022-04-13T10:38:25.568164Z"
    },
    "papermill": {
     "duration": 0.070743,
     "end_time": "2022-04-13T10:38:25.568372",
     "exception": false,
     "start_time": "2022-04-13T10:38:25.497629",
     "status": "completed"
    },
    "tags": []
   },
   "outputs": [
    {
     "name": "stdout",
     "output_type": "stream",
     "text": [
      "0.6643952299829642\n"
     ]
    }
   ],
   "source": [
    "print(precision_score(y_true, y_pred))"
   ]
  },
  {
   "cell_type": "markdown",
   "id": "c7e72e61",
   "metadata": {
    "papermill": {
     "duration": 0.06034,
     "end_time": "2022-04-13T10:38:25.690482",
     "exception": false,
     "start_time": "2022-04-13T10:38:25.630142",
     "status": "completed"
    },
    "tags": []
   },
   "source": [
    "## 再現率"
   ]
  },
  {
   "cell_type": "markdown",
   "id": "cf8567d1",
   "metadata": {
    "papermill": {
     "duration": 0.064571,
     "end_time": "2022-04-13T10:38:25.815540",
     "exception": false,
     "start_time": "2022-04-13T10:38:25.750969",
     "status": "completed"
    },
    "tags": []
   },
   "source": [
    "再現率（recall）は実際に陽性のサンプルのうち正解したサンプルの割合。sensitivityやhit rate, TPR（true positive rate, 真陽性率）などとも呼ばれる。"
   ]
  },
  {
   "cell_type": "code",
   "execution_count": 37,
   "id": "531de8a1",
   "metadata": {
    "execution": {
     "iopub.execute_input": "2022-04-13T10:38:25.944869Z",
     "iopub.status.busy": "2022-04-13T10:38:25.942430Z",
     "iopub.status.idle": "2022-04-13T10:38:25.949448Z",
     "shell.execute_reply": "2022-04-13T10:38:25.949994Z"
    },
    "papermill": {
     "duration": 0.071715,
     "end_time": "2022-04-13T10:38:25.950167",
     "exception": false,
     "start_time": "2022-04-13T10:38:25.878452",
     "status": "completed"
    },
    "tags": []
   },
   "outputs": [
    {
     "name": "stdout",
     "output_type": "stream",
     "text": [
      "1.0\n"
     ]
    }
   ],
   "source": [
    "print(recall_score(y_true, y_pred))"
   ]
  },
  {
   "cell_type": "markdown",
   "id": "2c9d1e92",
   "metadata": {
    "papermill": {
     "duration": 0.061553,
     "end_time": "2022-04-13T10:38:26.072581",
     "exception": false,
     "start_time": "2022-04-13T10:38:26.011028",
     "status": "completed"
    },
    "tags": []
   },
   "source": [
    "## 特異度"
   ]
  },
  {
   "cell_type": "markdown",
   "id": "ba6b76b7",
   "metadata": {
    "papermill": {
     "duration": 0.060851,
     "end_time": "2022-04-13T10:38:26.194070",
     "exception": false,
     "start_time": "2022-04-13T10:38:26.133219",
     "status": "completed"
    },
    "tags": []
   },
   "source": [
    "特異度（specificity）は実際に陰性のサンプルのうち正解したサンプルの割合"
   ]
  },
  {
   "cell_type": "code",
   "execution_count": 38,
   "id": "787e4511",
   "metadata": {
    "execution": {
     "iopub.execute_input": "2022-04-13T10:38:26.322552Z",
     "iopub.status.busy": "2022-04-13T10:38:26.321904Z",
     "iopub.status.idle": "2022-04-13T10:38:26.327610Z",
     "shell.execute_reply": "2022-04-13T10:38:26.327122Z"
    },
    "papermill": {
     "duration": 0.069368,
     "end_time": "2022-04-13T10:38:26.327765",
     "exception": false,
     "start_time": "2022-04-13T10:38:26.258397",
     "status": "completed"
    },
    "tags": []
   },
   "outputs": [],
   "source": [
    "tn, fp, fn, tp = confusion_matrix(y_true, y_pred).ravel()"
   ]
  },
  {
   "cell_type": "code",
   "execution_count": 39,
   "id": "97c7f8d5",
   "metadata": {
    "execution": {
     "iopub.execute_input": "2022-04-13T10:38:26.453754Z",
     "iopub.status.busy": "2022-04-13T10:38:26.453104Z",
     "iopub.status.idle": "2022-04-13T10:38:26.455883Z",
     "shell.execute_reply": "2022-04-13T10:38:26.456463Z"
    },
    "papermill": {
     "duration": 0.068514,
     "end_time": "2022-04-13T10:38:26.456636",
     "exception": false,
     "start_time": "2022-04-13T10:38:26.388122",
     "status": "completed"
    },
    "tags": []
   },
   "outputs": [
    {
     "name": "stdout",
     "output_type": "stream",
     "text": [
      "0.1581196581196581\n"
     ]
    }
   ],
   "source": [
    "print(tn / (tn + fp))"
   ]
  },
  {
   "cell_type": "markdown",
   "id": "839a586e",
   "metadata": {
    "papermill": {
     "duration": 0.061452,
     "end_time": "2022-04-13T10:38:26.578992",
     "exception": false,
     "start_time": "2022-04-13T10:38:26.517540",
     "status": "completed"
    },
    "tags": []
   },
   "source": [
    "## F1値"
   ]
  },
  {
   "cell_type": "markdown",
   "id": "886a7226",
   "metadata": {
    "papermill": {
     "duration": 0.060919,
     "end_time": "2022-04-13T10:38:26.702274",
     "exception": false,
     "start_time": "2022-04-13T10:38:26.641355",
     "status": "completed"
    },
    "tags": []
   },
   "source": [
    "F1値（F1-measure）は適合率と再現率の調和平均。"
   ]
  },
  {
   "cell_type": "code",
   "execution_count": 40,
   "id": "28a545be",
   "metadata": {
    "execution": {
     "iopub.execute_input": "2022-04-13T10:38:26.829506Z",
     "iopub.status.busy": "2022-04-13T10:38:26.828848Z",
     "iopub.status.idle": "2022-04-13T10:38:26.835347Z",
     "shell.execute_reply": "2022-04-13T10:38:26.835809Z"
    },
    "papermill": {
     "duration": 0.072843,
     "end_time": "2022-04-13T10:38:26.836120",
     "exception": false,
     "start_time": "2022-04-13T10:38:26.763277",
     "status": "completed"
    },
    "tags": []
   },
   "outputs": [
    {
     "name": "stdout",
     "output_type": "stream",
     "text": [
      "0.7983623336745138\n"
     ]
    }
   ],
   "source": [
    "print(f1_score(y_true, y_pred))"
   ]
  },
  {
   "cell_type": "markdown",
   "id": "3f6d6a7d",
   "metadata": {
    "papermill": {
     "duration": 0.06138,
     "end_time": "2022-04-13T10:38:26.960177",
     "exception": false,
     "start_time": "2022-04-13T10:38:26.898797",
     "status": "completed"
    },
    "tags": []
   },
   "source": [
    "# 予測データフレームの結合・出力"
   ]
  },
  {
   "cell_type": "code",
   "execution_count": 41,
   "id": "e8284614",
   "metadata": {
    "execution": {
     "iopub.execute_input": "2022-04-13T10:38:27.105972Z",
     "iopub.status.busy": "2022-04-13T10:38:27.104897Z",
     "iopub.status.idle": "2022-04-13T10:38:27.108061Z",
     "shell.execute_reply": "2022-04-13T10:38:27.108540Z"
    },
    "papermill": {
     "duration": 0.083606,
     "end_time": "2022-04-13T10:38:27.108730",
     "exception": false,
     "start_time": "2022-04-13T10:38:27.025124",
     "status": "completed"
    },
    "tags": []
   },
   "outputs": [
    {
     "name": "stdout",
     "output_type": "stream",
     "text": [
      "                            name      label\n",
      "0      NORMAL2-IM-0336-0001.jpeg  PNEUMONIA\n",
      "1              IM-0101-0001.jpeg  PNEUMONIA\n",
      "2      NORMAL2-IM-0337-0001.jpeg  PNEUMONIA\n",
      "3      NORMAL2-IM-0198-0001.jpeg  PNEUMONIA\n",
      "4              IM-0013-0001.jpeg     NORMAL\n",
      "..                           ...        ...\n",
      "385   person1659_virus_2867.jpeg  PNEUMONIA\n",
      "386   person1615_virus_2801.jpeg  PNEUMONIA\n",
      "387   person1664_virus_2877.jpeg  PNEUMONIA\n",
      "388  person111_bacteria_536.jpeg  PNEUMONIA\n",
      "389  person152_bacteria_724.jpeg  PNEUMONIA\n",
      "\n",
      "[624 rows x 2 columns]\n"
     ]
    }
   ],
   "source": [
    "df = pd.concat([test_normal_df, test_pneumonia_df])\n",
    "df['label'] = df['label'].map({0: 'NORMAL',\n",
    "                               1: 'PNEUMONIA'})\n",
    "print(df)"
   ]
  },
  {
   "cell_type": "code",
   "execution_count": 42,
   "id": "6a5e8c7f",
   "metadata": {
    "execution": {
     "iopub.execute_input": "2022-04-13T10:38:27.237645Z",
     "iopub.status.busy": "2022-04-13T10:38:27.236727Z",
     "iopub.status.idle": "2022-04-13T10:38:27.246586Z",
     "shell.execute_reply": "2022-04-13T10:38:27.246045Z"
    },
    "papermill": {
     "duration": 0.075553,
     "end_time": "2022-04-13T10:38:27.246739",
     "exception": false,
     "start_time": "2022-04-13T10:38:27.171186",
     "status": "completed"
    },
    "tags": []
   },
   "outputs": [],
   "source": [
    "# データフレームの出力\n",
    "df.to_csv('/kaggle/working/submission.csv', index = False)"
   ]
  }
 ],
 "metadata": {
  "kernelspec": {
   "display_name": "Python 3",
   "language": "python",
   "name": "python3"
  },
  "language_info": {
   "codemirror_mode": {
    "name": "ipython",
    "version": 3
   },
   "file_extension": ".py",
   "mimetype": "text/x-python",
   "name": "python",
   "nbconvert_exporter": "python",
   "pygments_lexer": "ipython3",
   "version": "3.7.12"
  },
  "papermill": {
   "default_parameters": {},
   "duration": 2792.225585,
   "end_time": "2022-04-13T10:38:28.326413",
   "environment_variables": {},
   "exception": null,
   "input_path": "__notebook__.ipynb",
   "output_path": "__notebook__.ipynb",
   "parameters": {},
   "start_time": "2022-04-13T09:51:56.100828",
   "version": "2.3.3"
  }
 },
 "nbformat": 4,
 "nbformat_minor": 5
}
