{
 "cells": [
  {
   "cell_type": "markdown",
   "id": "e615cdc1",
   "metadata": {
    "papermill": {
     "duration": 0.03973,
     "end_time": "2022-04-12T22:32:04.137614",
     "exception": false,
     "start_time": "2022-04-12T22:32:04.097884",
     "status": "completed"
    },
    "tags": []
   },
   "source": [
    "# 事前準備"
   ]
  },
  {
   "cell_type": "code",
   "execution_count": 1,
   "id": "64b14720",
   "metadata": {
    "execution": {
     "iopub.execute_input": "2022-04-12T22:32:04.219531Z",
     "iopub.status.busy": "2022-04-12T22:32:04.218384Z",
     "iopub.status.idle": "2022-04-12T22:32:07.289258Z",
     "shell.execute_reply": "2022-04-12T22:32:07.288429Z",
     "shell.execute_reply.started": "2022-04-12T15:18:51.913175Z"
    },
    "papermill": {
     "duration": 3.113318,
     "end_time": "2022-04-12T22:32:07.289434",
     "exception": false,
     "start_time": "2022-04-12T22:32:04.176116",
     "status": "completed"
    },
    "tags": []
   },
   "outputs": [],
   "source": [
    "# ライブラリのインポート\n",
    "import os\n",
    "import re\n",
    "import random\n",
    "from glob import glob\n",
    "from warnings import filterwarnings\n",
    "\n",
    "import argparse\n",
    "\n",
    "import pandas as pd\n",
    "import numpy as np\n",
    "import matplotlib.pyplot as plt\n",
    "import seaborn as sns\n",
    "\n",
    "from sklearn.model_selection import train_test_split\n",
    "from sklearn.metrics import confusion_matrix\n",
    "from sklearn.metrics import accuracy_score, precision_score, recall_score, f1_score\n",
    "\n",
    "import cv2\n",
    "from PIL import Image\n",
    "\n",
    "import torch\n",
    "from torchvision import datasets, transforms, models\n",
    "from torch.utils.data import Dataset, DataLoader\n",
    "from torch import nn, optim\n",
    "\n",
    "from collections import defaultdict\n",
    "\n",
    "filterwarnings('ignore')   # warningをオフにする"
   ]
  },
  {
   "cell_type": "code",
   "execution_count": 2,
   "id": "d58b2bca",
   "metadata": {
    "execution": {
     "iopub.execute_input": "2022-04-12T22:32:07.370897Z",
     "iopub.status.busy": "2022-04-12T22:32:07.370123Z",
     "iopub.status.idle": "2022-04-12T22:32:07.376954Z",
     "shell.execute_reply": "2022-04-12T22:32:07.377552Z",
     "shell.execute_reply.started": "2022-04-12T15:18:51.949851Z"
    },
    "papermill": {
     "duration": 0.050164,
     "end_time": "2022-04-12T22:32:07.377735",
     "exception": false,
     "start_time": "2022-04-12T22:32:07.327571",
     "status": "completed"
    },
    "tags": []
   },
   "outputs": [],
   "source": [
    "# ランダムシードの設定\n",
    "torch.manual_seed(1234)\n",
    "torch.cuda.manual_seed(1234)\n",
    "np.random.seed(1234)\n",
    "random.seed(1234)"
   ]
  },
  {
   "cell_type": "code",
   "execution_count": 3,
   "id": "b8894d62",
   "metadata": {
    "execution": {
     "iopub.execute_input": "2022-04-12T22:32:07.457193Z",
     "iopub.status.busy": "2022-04-12T22:32:07.456170Z",
     "iopub.status.idle": "2022-04-12T22:32:07.462317Z",
     "shell.execute_reply": "2022-04-12T22:32:07.462758Z",
     "shell.execute_reply.started": "2022-04-12T15:18:51.989097Z"
    },
    "papermill": {
     "duration": 0.046675,
     "end_time": "2022-04-12T22:32:07.462932",
     "exception": false,
     "start_time": "2022-04-12T22:32:07.416257",
     "status": "completed"
    },
    "tags": []
   },
   "outputs": [
    {
     "name": "stdout",
     "output_type": "stream",
     "text": [
      "デバイス：cpu\n"
     ]
    }
   ],
   "source": [
    "# デバイスの設定\n",
    "device = 'cuda' if torch.cuda.is_available() else 'cpu'\n",
    "kwargs = {'num_workers': 1, 'pin_memory': True} if torch.cuda.is_available() else {} # GPUが使える場合、DataLoaderでのミニバッチの取り出しを高速化\n",
    "print(f'デバイス：{device}')"
   ]
  },
  {
   "cell_type": "code",
   "execution_count": 4,
   "id": "34789165",
   "metadata": {
    "execution": {
     "iopub.execute_input": "2022-04-12T22:32:07.547289Z",
     "iopub.status.busy": "2022-04-12T22:32:07.546437Z",
     "iopub.status.idle": "2022-04-12T22:32:07.549421Z",
     "shell.execute_reply": "2022-04-12T22:32:07.549858Z",
     "shell.execute_reply.started": "2022-04-12T15:18:52.051161Z"
    },
    "papermill": {
     "duration": 0.048406,
     "end_time": "2022-04-12T22:32:07.550062",
     "exception": false,
     "start_time": "2022-04-12T22:32:07.501656",
     "status": "completed"
    },
    "tags": []
   },
   "outputs": [
    {
     "name": "stdout",
     "output_type": "stream",
     "text": [
      "Namespace(image_size=512, num_classes=2)\n"
     ]
    }
   ],
   "source": [
    "# ハイパーパラメータの設定\n",
    "parser = argparse.ArgumentParser()\n",
    "parser.add_argument('--image_size', type=int, default=512)\n",
    "parser.add_argument('--num_classes', type=int, default=2)\n",
    "opt = parser.parse_args(args=[])\n",
    "print(opt)"
   ]
  },
  {
   "cell_type": "code",
   "execution_count": 5,
   "id": "2d3918e6",
   "metadata": {
    "execution": {
     "iopub.execute_input": "2022-04-12T22:32:07.632769Z",
     "iopub.status.busy": "2022-04-12T22:32:07.632038Z",
     "iopub.status.idle": "2022-04-12T22:32:07.633658Z",
     "shell.execute_reply": "2022-04-12T22:32:07.634142Z",
     "shell.execute_reply.started": "2022-04-12T15:18:52.080591Z"
    },
    "papermill": {
     "duration": 0.046756,
     "end_time": "2022-04-12T22:32:07.634310",
     "exception": false,
     "start_time": "2022-04-12T22:32:07.587554",
     "status": "completed"
    },
    "tags": []
   },
   "outputs": [],
   "source": [
    "# NORMALのtestデータのディレクトリ\n",
    "test_normal_dir = '/kaggle/input/chest-xray-pneumonia/chest_xray/chest_xray/test/NORMAL/'\n",
    "\n",
    "# PNEUMONIAのtestデータのディレクトリ\n",
    "test_pneumonia_dir = '/kaggle/input/chest-xray-pneumonia/chest_xray/chest_xray/test/PNEUMONIA/'"
   ]
  },
  {
   "cell_type": "markdown",
   "id": "5958f933",
   "metadata": {
    "papermill": {
     "duration": 0.037964,
     "end_time": "2022-04-12T22:32:07.711036",
     "exception": false,
     "start_time": "2022-04-12T22:32:07.673072",
     "status": "completed"
    },
    "tags": []
   },
   "source": [
    "# 学習済みパラメータの読み込み"
   ]
  },
  {
   "cell_type": "code",
   "execution_count": 6,
   "id": "deeaab60",
   "metadata": {
    "execution": {
     "iopub.execute_input": "2022-04-12T22:32:07.791237Z",
     "iopub.status.busy": "2022-04-12T22:32:07.790599Z",
     "iopub.status.idle": "2022-04-12T22:32:07.793514Z",
     "shell.execute_reply": "2022-04-12T22:32:07.793915Z",
     "shell.execute_reply.started": "2022-04-12T15:18:52.116974Z"
    },
    "papermill": {
     "duration": 0.045377,
     "end_time": "2022-04-12T22:32:07.794112",
     "exception": false,
     "start_time": "2022-04-12T22:32:07.748735",
     "status": "completed"
    },
    "tags": []
   },
   "outputs": [],
   "source": [
    "# モデルのパス\n",
    "model_path = '../input/chest-xray-training-mobilenetv3l-512pixel/mobilenet_v3_large.pth'"
   ]
  },
  {
   "cell_type": "code",
   "execution_count": 7,
   "id": "c0c1faed",
   "metadata": {
    "execution": {
     "iopub.execute_input": "2022-04-12T22:32:07.873807Z",
     "iopub.status.busy": "2022-04-12T22:32:07.873088Z",
     "iopub.status.idle": "2022-04-12T22:32:08.038485Z",
     "shell.execute_reply": "2022-04-12T22:32:08.037950Z",
     "shell.execute_reply.started": "2022-04-12T15:18:52.151936Z"
    },
    "papermill": {
     "duration": 0.206117,
     "end_time": "2022-04-12T22:32:08.038641",
     "exception": false,
     "start_time": "2022-04-12T22:32:07.832524",
     "status": "completed"
    },
    "tags": []
   },
   "outputs": [
    {
     "name": "stdout",
     "output_type": "stream",
     "text": [
      "MobileNetV3(\n",
      "  (features): Sequential(\n",
      "    (0): ConvBNActivation(\n",
      "      (0): Conv2d(3, 16, kernel_size=(3, 3), stride=(2, 2), padding=(1, 1), bias=False)\n",
      "      (1): BatchNorm2d(16, eps=0.001, momentum=0.01, affine=True, track_running_stats=True)\n",
      "      (2): Hardswish()\n",
      "    )\n",
      "    (1): InvertedResidual(\n",
      "      (block): Sequential(\n",
      "        (0): ConvBNActivation(\n",
      "          (0): Conv2d(16, 16, kernel_size=(3, 3), stride=(1, 1), padding=(1, 1), groups=16, bias=False)\n",
      "          (1): BatchNorm2d(16, eps=0.001, momentum=0.01, affine=True, track_running_stats=True)\n",
      "          (2): ReLU(inplace=True)\n",
      "        )\n",
      "        (1): ConvBNActivation(\n",
      "          (0): Conv2d(16, 16, kernel_size=(1, 1), stride=(1, 1), bias=False)\n",
      "          (1): BatchNorm2d(16, eps=0.001, momentum=0.01, affine=True, track_running_stats=True)\n",
      "          (2): Identity()\n",
      "        )\n",
      "      )\n",
      "    )\n",
      "    (2): InvertedResidual(\n",
      "      (block): Sequential(\n",
      "        (0): ConvBNActivation(\n",
      "          (0): Conv2d(16, 64, kernel_size=(1, 1), stride=(1, 1), bias=False)\n",
      "          (1): BatchNorm2d(64, eps=0.001, momentum=0.01, affine=True, track_running_stats=True)\n",
      "          (2): ReLU(inplace=True)\n",
      "        )\n",
      "        (1): ConvBNActivation(\n",
      "          (0): Conv2d(64, 64, kernel_size=(3, 3), stride=(2, 2), padding=(1, 1), groups=64, bias=False)\n",
      "          (1): BatchNorm2d(64, eps=0.001, momentum=0.01, affine=True, track_running_stats=True)\n",
      "          (2): ReLU(inplace=True)\n",
      "        )\n",
      "        (2): ConvBNActivation(\n",
      "          (0): Conv2d(64, 24, kernel_size=(1, 1), stride=(1, 1), bias=False)\n",
      "          (1): BatchNorm2d(24, eps=0.001, momentum=0.01, affine=True, track_running_stats=True)\n",
      "          (2): Identity()\n",
      "        )\n",
      "      )\n",
      "    )\n",
      "    (3): InvertedResidual(\n",
      "      (block): Sequential(\n",
      "        (0): ConvBNActivation(\n",
      "          (0): Conv2d(24, 72, kernel_size=(1, 1), stride=(1, 1), bias=False)\n",
      "          (1): BatchNorm2d(72, eps=0.001, momentum=0.01, affine=True, track_running_stats=True)\n",
      "          (2): ReLU(inplace=True)\n",
      "        )\n",
      "        (1): ConvBNActivation(\n",
      "          (0): Conv2d(72, 72, kernel_size=(3, 3), stride=(1, 1), padding=(1, 1), groups=72, bias=False)\n",
      "          (1): BatchNorm2d(72, eps=0.001, momentum=0.01, affine=True, track_running_stats=True)\n",
      "          (2): ReLU(inplace=True)\n",
      "        )\n",
      "        (2): ConvBNActivation(\n",
      "          (0): Conv2d(72, 24, kernel_size=(1, 1), stride=(1, 1), bias=False)\n",
      "          (1): BatchNorm2d(24, eps=0.001, momentum=0.01, affine=True, track_running_stats=True)\n",
      "          (2): Identity()\n",
      "        )\n",
      "      )\n",
      "    )\n",
      "    (4): InvertedResidual(\n",
      "      (block): Sequential(\n",
      "        (0): ConvBNActivation(\n",
      "          (0): Conv2d(24, 72, kernel_size=(1, 1), stride=(1, 1), bias=False)\n",
      "          (1): BatchNorm2d(72, eps=0.001, momentum=0.01, affine=True, track_running_stats=True)\n",
      "          (2): ReLU(inplace=True)\n",
      "        )\n",
      "        (1): ConvBNActivation(\n",
      "          (0): Conv2d(72, 72, kernel_size=(5, 5), stride=(2, 2), padding=(2, 2), groups=72, bias=False)\n",
      "          (1): BatchNorm2d(72, eps=0.001, momentum=0.01, affine=True, track_running_stats=True)\n",
      "          (2): ReLU(inplace=True)\n",
      "        )\n",
      "        (2): SqueezeExcitation(\n",
      "          (fc1): Conv2d(72, 24, kernel_size=(1, 1), stride=(1, 1))\n",
      "          (relu): ReLU(inplace=True)\n",
      "          (fc2): Conv2d(24, 72, kernel_size=(1, 1), stride=(1, 1))\n",
      "        )\n",
      "        (3): ConvBNActivation(\n",
      "          (0): Conv2d(72, 40, kernel_size=(1, 1), stride=(1, 1), bias=False)\n",
      "          (1): BatchNorm2d(40, eps=0.001, momentum=0.01, affine=True, track_running_stats=True)\n",
      "          (2): Identity()\n",
      "        )\n",
      "      )\n",
      "    )\n",
      "    (5): InvertedResidual(\n",
      "      (block): Sequential(\n",
      "        (0): ConvBNActivation(\n",
      "          (0): Conv2d(40, 120, kernel_size=(1, 1), stride=(1, 1), bias=False)\n",
      "          (1): BatchNorm2d(120, eps=0.001, momentum=0.01, affine=True, track_running_stats=True)\n",
      "          (2): ReLU(inplace=True)\n",
      "        )\n",
      "        (1): ConvBNActivation(\n",
      "          (0): Conv2d(120, 120, kernel_size=(5, 5), stride=(1, 1), padding=(2, 2), groups=120, bias=False)\n",
      "          (1): BatchNorm2d(120, eps=0.001, momentum=0.01, affine=True, track_running_stats=True)\n",
      "          (2): ReLU(inplace=True)\n",
      "        )\n",
      "        (2): SqueezeExcitation(\n",
      "          (fc1): Conv2d(120, 32, kernel_size=(1, 1), stride=(1, 1))\n",
      "          (relu): ReLU(inplace=True)\n",
      "          (fc2): Conv2d(32, 120, kernel_size=(1, 1), stride=(1, 1))\n",
      "        )\n",
      "        (3): ConvBNActivation(\n",
      "          (0): Conv2d(120, 40, kernel_size=(1, 1), stride=(1, 1), bias=False)\n",
      "          (1): BatchNorm2d(40, eps=0.001, momentum=0.01, affine=True, track_running_stats=True)\n",
      "          (2): Identity()\n",
      "        )\n",
      "      )\n",
      "    )\n",
      "    (6): InvertedResidual(\n",
      "      (block): Sequential(\n",
      "        (0): ConvBNActivation(\n",
      "          (0): Conv2d(40, 120, kernel_size=(1, 1), stride=(1, 1), bias=False)\n",
      "          (1): BatchNorm2d(120, eps=0.001, momentum=0.01, affine=True, track_running_stats=True)\n",
      "          (2): ReLU(inplace=True)\n",
      "        )\n",
      "        (1): ConvBNActivation(\n",
      "          (0): Conv2d(120, 120, kernel_size=(5, 5), stride=(1, 1), padding=(2, 2), groups=120, bias=False)\n",
      "          (1): BatchNorm2d(120, eps=0.001, momentum=0.01, affine=True, track_running_stats=True)\n",
      "          (2): ReLU(inplace=True)\n",
      "        )\n",
      "        (2): SqueezeExcitation(\n",
      "          (fc1): Conv2d(120, 32, kernel_size=(1, 1), stride=(1, 1))\n",
      "          (relu): ReLU(inplace=True)\n",
      "          (fc2): Conv2d(32, 120, kernel_size=(1, 1), stride=(1, 1))\n",
      "        )\n",
      "        (3): ConvBNActivation(\n",
      "          (0): Conv2d(120, 40, kernel_size=(1, 1), stride=(1, 1), bias=False)\n",
      "          (1): BatchNorm2d(40, eps=0.001, momentum=0.01, affine=True, track_running_stats=True)\n",
      "          (2): Identity()\n",
      "        )\n",
      "      )\n",
      "    )\n",
      "    (7): InvertedResidual(\n",
      "      (block): Sequential(\n",
      "        (0): ConvBNActivation(\n",
      "          (0): Conv2d(40, 240, kernel_size=(1, 1), stride=(1, 1), bias=False)\n",
      "          (1): BatchNorm2d(240, eps=0.001, momentum=0.01, affine=True, track_running_stats=True)\n",
      "          (2): Hardswish()\n",
      "        )\n",
      "        (1): ConvBNActivation(\n",
      "          (0): Conv2d(240, 240, kernel_size=(3, 3), stride=(2, 2), padding=(1, 1), groups=240, bias=False)\n",
      "          (1): BatchNorm2d(240, eps=0.001, momentum=0.01, affine=True, track_running_stats=True)\n",
      "          (2): Hardswish()\n",
      "        )\n",
      "        (2): ConvBNActivation(\n",
      "          (0): Conv2d(240, 80, kernel_size=(1, 1), stride=(1, 1), bias=False)\n",
      "          (1): BatchNorm2d(80, eps=0.001, momentum=0.01, affine=True, track_running_stats=True)\n",
      "          (2): Identity()\n",
      "        )\n",
      "      )\n",
      "    )\n",
      "    (8): InvertedResidual(\n",
      "      (block): Sequential(\n",
      "        (0): ConvBNActivation(\n",
      "          (0): Conv2d(80, 200, kernel_size=(1, 1), stride=(1, 1), bias=False)\n",
      "          (1): BatchNorm2d(200, eps=0.001, momentum=0.01, affine=True, track_running_stats=True)\n",
      "          (2): Hardswish()\n",
      "        )\n",
      "        (1): ConvBNActivation(\n",
      "          (0): Conv2d(200, 200, kernel_size=(3, 3), stride=(1, 1), padding=(1, 1), groups=200, bias=False)\n",
      "          (1): BatchNorm2d(200, eps=0.001, momentum=0.01, affine=True, track_running_stats=True)\n",
      "          (2): Hardswish()\n",
      "        )\n",
      "        (2): ConvBNActivation(\n",
      "          (0): Conv2d(200, 80, kernel_size=(1, 1), stride=(1, 1), bias=False)\n",
      "          (1): BatchNorm2d(80, eps=0.001, momentum=0.01, affine=True, track_running_stats=True)\n",
      "          (2): Identity()\n",
      "        )\n",
      "      )\n",
      "    )\n",
      "    (9): InvertedResidual(\n",
      "      (block): Sequential(\n",
      "        (0): ConvBNActivation(\n",
      "          (0): Conv2d(80, 184, kernel_size=(1, 1), stride=(1, 1), bias=False)\n",
      "          (1): BatchNorm2d(184, eps=0.001, momentum=0.01, affine=True, track_running_stats=True)\n",
      "          (2): Hardswish()\n",
      "        )\n",
      "        (1): ConvBNActivation(\n",
      "          (0): Conv2d(184, 184, kernel_size=(3, 3), stride=(1, 1), padding=(1, 1), groups=184, bias=False)\n",
      "          (1): BatchNorm2d(184, eps=0.001, momentum=0.01, affine=True, track_running_stats=True)\n",
      "          (2): Hardswish()\n",
      "        )\n",
      "        (2): ConvBNActivation(\n",
      "          (0): Conv2d(184, 80, kernel_size=(1, 1), stride=(1, 1), bias=False)\n",
      "          (1): BatchNorm2d(80, eps=0.001, momentum=0.01, affine=True, track_running_stats=True)\n",
      "          (2): Identity()\n",
      "        )\n",
      "      )\n",
      "    )\n",
      "    (10): InvertedResidual(\n",
      "      (block): Sequential(\n",
      "        (0): ConvBNActivation(\n",
      "          (0): Conv2d(80, 184, kernel_size=(1, 1), stride=(1, 1), bias=False)\n",
      "          (1): BatchNorm2d(184, eps=0.001, momentum=0.01, affine=True, track_running_stats=True)\n",
      "          (2): Hardswish()\n",
      "        )\n",
      "        (1): ConvBNActivation(\n",
      "          (0): Conv2d(184, 184, kernel_size=(3, 3), stride=(1, 1), padding=(1, 1), groups=184, bias=False)\n",
      "          (1): BatchNorm2d(184, eps=0.001, momentum=0.01, affine=True, track_running_stats=True)\n",
      "          (2): Hardswish()\n",
      "        )\n",
      "        (2): ConvBNActivation(\n",
      "          (0): Conv2d(184, 80, kernel_size=(1, 1), stride=(1, 1), bias=False)\n",
      "          (1): BatchNorm2d(80, eps=0.001, momentum=0.01, affine=True, track_running_stats=True)\n",
      "          (2): Identity()\n",
      "        )\n",
      "      )\n",
      "    )\n",
      "    (11): InvertedResidual(\n",
      "      (block): Sequential(\n",
      "        (0): ConvBNActivation(\n",
      "          (0): Conv2d(80, 480, kernel_size=(1, 1), stride=(1, 1), bias=False)\n",
      "          (1): BatchNorm2d(480, eps=0.001, momentum=0.01, affine=True, track_running_stats=True)\n",
      "          (2): Hardswish()\n",
      "        )\n",
      "        (1): ConvBNActivation(\n",
      "          (0): Conv2d(480, 480, kernel_size=(3, 3), stride=(1, 1), padding=(1, 1), groups=480, bias=False)\n",
      "          (1): BatchNorm2d(480, eps=0.001, momentum=0.01, affine=True, track_running_stats=True)\n",
      "          (2): Hardswish()\n",
      "        )\n",
      "        (2): SqueezeExcitation(\n",
      "          (fc1): Conv2d(480, 120, kernel_size=(1, 1), stride=(1, 1))\n",
      "          (relu): ReLU(inplace=True)\n",
      "          (fc2): Conv2d(120, 480, kernel_size=(1, 1), stride=(1, 1))\n",
      "        )\n",
      "        (3): ConvBNActivation(\n",
      "          (0): Conv2d(480, 112, kernel_size=(1, 1), stride=(1, 1), bias=False)\n",
      "          (1): BatchNorm2d(112, eps=0.001, momentum=0.01, affine=True, track_running_stats=True)\n",
      "          (2): Identity()\n",
      "        )\n",
      "      )\n",
      "    )\n",
      "    (12): InvertedResidual(\n",
      "      (block): Sequential(\n",
      "        (0): ConvBNActivation(\n",
      "          (0): Conv2d(112, 672, kernel_size=(1, 1), stride=(1, 1), bias=False)\n",
      "          (1): BatchNorm2d(672, eps=0.001, momentum=0.01, affine=True, track_running_stats=True)\n",
      "          (2): Hardswish()\n",
      "        )\n",
      "        (1): ConvBNActivation(\n",
      "          (0): Conv2d(672, 672, kernel_size=(3, 3), stride=(1, 1), padding=(1, 1), groups=672, bias=False)\n",
      "          (1): BatchNorm2d(672, eps=0.001, momentum=0.01, affine=True, track_running_stats=True)\n",
      "          (2): Hardswish()\n",
      "        )\n",
      "        (2): SqueezeExcitation(\n",
      "          (fc1): Conv2d(672, 168, kernel_size=(1, 1), stride=(1, 1))\n",
      "          (relu): ReLU(inplace=True)\n",
      "          (fc2): Conv2d(168, 672, kernel_size=(1, 1), stride=(1, 1))\n",
      "        )\n",
      "        (3): ConvBNActivation(\n",
      "          (0): Conv2d(672, 112, kernel_size=(1, 1), stride=(1, 1), bias=False)\n",
      "          (1): BatchNorm2d(112, eps=0.001, momentum=0.01, affine=True, track_running_stats=True)\n",
      "          (2): Identity()\n",
      "        )\n",
      "      )\n",
      "    )\n",
      "    (13): InvertedResidual(\n",
      "      (block): Sequential(\n",
      "        (0): ConvBNActivation(\n",
      "          (0): Conv2d(112, 672, kernel_size=(1, 1), stride=(1, 1), bias=False)\n",
      "          (1): BatchNorm2d(672, eps=0.001, momentum=0.01, affine=True, track_running_stats=True)\n",
      "          (2): Hardswish()\n",
      "        )\n",
      "        (1): ConvBNActivation(\n",
      "          (0): Conv2d(672, 672, kernel_size=(5, 5), stride=(2, 2), padding=(2, 2), groups=672, bias=False)\n",
      "          (1): BatchNorm2d(672, eps=0.001, momentum=0.01, affine=True, track_running_stats=True)\n",
      "          (2): Hardswish()\n",
      "        )\n",
      "        (2): SqueezeExcitation(\n",
      "          (fc1): Conv2d(672, 168, kernel_size=(1, 1), stride=(1, 1))\n",
      "          (relu): ReLU(inplace=True)\n",
      "          (fc2): Conv2d(168, 672, kernel_size=(1, 1), stride=(1, 1))\n",
      "        )\n",
      "        (3): ConvBNActivation(\n",
      "          (0): Conv2d(672, 160, kernel_size=(1, 1), stride=(1, 1), bias=False)\n",
      "          (1): BatchNorm2d(160, eps=0.001, momentum=0.01, affine=True, track_running_stats=True)\n",
      "          (2): Identity()\n",
      "        )\n",
      "      )\n",
      "    )\n",
      "    (14): InvertedResidual(\n",
      "      (block): Sequential(\n",
      "        (0): ConvBNActivation(\n",
      "          (0): Conv2d(160, 960, kernel_size=(1, 1), stride=(1, 1), bias=False)\n",
      "          (1): BatchNorm2d(960, eps=0.001, momentum=0.01, affine=True, track_running_stats=True)\n",
      "          (2): Hardswish()\n",
      "        )\n",
      "        (1): ConvBNActivation(\n",
      "          (0): Conv2d(960, 960, kernel_size=(5, 5), stride=(1, 1), padding=(2, 2), groups=960, bias=False)\n",
      "          (1): BatchNorm2d(960, eps=0.001, momentum=0.01, affine=True, track_running_stats=True)\n",
      "          (2): Hardswish()\n",
      "        )\n",
      "        (2): SqueezeExcitation(\n",
      "          (fc1): Conv2d(960, 240, kernel_size=(1, 1), stride=(1, 1))\n",
      "          (relu): ReLU(inplace=True)\n",
      "          (fc2): Conv2d(240, 960, kernel_size=(1, 1), stride=(1, 1))\n",
      "        )\n",
      "        (3): ConvBNActivation(\n",
      "          (0): Conv2d(960, 160, kernel_size=(1, 1), stride=(1, 1), bias=False)\n",
      "          (1): BatchNorm2d(160, eps=0.001, momentum=0.01, affine=True, track_running_stats=True)\n",
      "          (2): Identity()\n",
      "        )\n",
      "      )\n",
      "    )\n",
      "    (15): InvertedResidual(\n",
      "      (block): Sequential(\n",
      "        (0): ConvBNActivation(\n",
      "          (0): Conv2d(160, 960, kernel_size=(1, 1), stride=(1, 1), bias=False)\n",
      "          (1): BatchNorm2d(960, eps=0.001, momentum=0.01, affine=True, track_running_stats=True)\n",
      "          (2): Hardswish()\n",
      "        )\n",
      "        (1): ConvBNActivation(\n",
      "          (0): Conv2d(960, 960, kernel_size=(5, 5), stride=(1, 1), padding=(2, 2), groups=960, bias=False)\n",
      "          (1): BatchNorm2d(960, eps=0.001, momentum=0.01, affine=True, track_running_stats=True)\n",
      "          (2): Hardswish()\n",
      "        )\n",
      "        (2): SqueezeExcitation(\n",
      "          (fc1): Conv2d(960, 240, kernel_size=(1, 1), stride=(1, 1))\n",
      "          (relu): ReLU(inplace=True)\n",
      "          (fc2): Conv2d(240, 960, kernel_size=(1, 1), stride=(1, 1))\n",
      "        )\n",
      "        (3): ConvBNActivation(\n",
      "          (0): Conv2d(960, 160, kernel_size=(1, 1), stride=(1, 1), bias=False)\n",
      "          (1): BatchNorm2d(160, eps=0.001, momentum=0.01, affine=True, track_running_stats=True)\n",
      "          (2): Identity()\n",
      "        )\n",
      "      )\n",
      "    )\n",
      "    (16): ConvBNActivation(\n",
      "      (0): Conv2d(160, 960, kernel_size=(1, 1), stride=(1, 1), bias=False)\n",
      "      (1): BatchNorm2d(960, eps=0.001, momentum=0.01, affine=True, track_running_stats=True)\n",
      "      (2): Hardswish()\n",
      "    )\n",
      "  )\n",
      "  (avgpool): AdaptiveAvgPool2d(output_size=1)\n",
      "  (classifier): Sequential(\n",
      "    (0): Linear(in_features=960, out_features=1280, bias=True)\n",
      "    (1): Hardswish()\n",
      "    (2): Dropout(p=0.2, inplace=True)\n",
      "    (3): Linear(in_features=1280, out_features=2, bias=True)\n",
      "  )\n",
      ")\n"
     ]
    }
   ],
   "source": [
    "model = models.mobilenet_v3_large()\n",
    "fc_in_features = model.classifier[0].out_features # 最終レイヤー関数の次元数\n",
    "model.classifier[3] = nn.Linear(fc_in_features, opt.num_classes) # 最終レイヤー関数の付け替え\n",
    "print(model)"
   ]
  },
  {
   "cell_type": "code",
   "execution_count": 8,
   "id": "e90c92fb",
   "metadata": {
    "execution": {
     "iopub.execute_input": "2022-04-12T22:32:08.122305Z",
     "iopub.status.busy": "2022-04-12T22:32:08.121612Z",
     "iopub.status.idle": "2022-04-12T22:32:08.327645Z",
     "shell.execute_reply": "2022-04-12T22:32:08.327134Z",
     "shell.execute_reply.started": "2022-04-12T15:18:52.271101Z"
    },
    "papermill": {
     "duration": 0.249135,
     "end_time": "2022-04-12T22:32:08.327782",
     "exception": false,
     "start_time": "2022-04-12T22:32:08.078647",
     "status": "completed"
    },
    "tags": []
   },
   "outputs": [
    {
     "data": {
      "text/plain": [
       "<All keys matched successfully>"
      ]
     },
     "execution_count": 8,
     "metadata": {},
     "output_type": "execute_result"
    }
   ],
   "source": [
    "# 学習済みモデルの読み込み\n",
    "model.load_state_dict(torch.load(model_path, map_location=torch.device('cpu'))) # 学習済みモデルの読み込み"
   ]
  },
  {
   "cell_type": "code",
   "execution_count": 9,
   "id": "0f06f385",
   "metadata": {
    "execution": {
     "iopub.execute_input": "2022-04-12T22:32:08.412741Z",
     "iopub.status.busy": "2022-04-12T22:32:08.412100Z",
     "iopub.status.idle": "2022-04-12T22:32:08.421825Z",
     "shell.execute_reply": "2022-04-12T22:32:08.422311Z",
     "shell.execute_reply.started": "2022-04-12T15:18:52.328887Z"
    },
    "papermill": {
     "duration": 0.055899,
     "end_time": "2022-04-12T22:32:08.422477",
     "exception": false,
     "start_time": "2022-04-12T22:32:08.366578",
     "status": "completed"
    },
    "tags": []
   },
   "outputs": [
    {
     "data": {
      "text/plain": [
       "MobileNetV3(\n",
       "  (features): Sequential(\n",
       "    (0): ConvBNActivation(\n",
       "      (0): Conv2d(3, 16, kernel_size=(3, 3), stride=(2, 2), padding=(1, 1), bias=False)\n",
       "      (1): BatchNorm2d(16, eps=0.001, momentum=0.01, affine=True, track_running_stats=True)\n",
       "      (2): Hardswish()\n",
       "    )\n",
       "    (1): InvertedResidual(\n",
       "      (block): Sequential(\n",
       "        (0): ConvBNActivation(\n",
       "          (0): Conv2d(16, 16, kernel_size=(3, 3), stride=(1, 1), padding=(1, 1), groups=16, bias=False)\n",
       "          (1): BatchNorm2d(16, eps=0.001, momentum=0.01, affine=True, track_running_stats=True)\n",
       "          (2): ReLU(inplace=True)\n",
       "        )\n",
       "        (1): ConvBNActivation(\n",
       "          (0): Conv2d(16, 16, kernel_size=(1, 1), stride=(1, 1), bias=False)\n",
       "          (1): BatchNorm2d(16, eps=0.001, momentum=0.01, affine=True, track_running_stats=True)\n",
       "          (2): Identity()\n",
       "        )\n",
       "      )\n",
       "    )\n",
       "    (2): InvertedResidual(\n",
       "      (block): Sequential(\n",
       "        (0): ConvBNActivation(\n",
       "          (0): Conv2d(16, 64, kernel_size=(1, 1), stride=(1, 1), bias=False)\n",
       "          (1): BatchNorm2d(64, eps=0.001, momentum=0.01, affine=True, track_running_stats=True)\n",
       "          (2): ReLU(inplace=True)\n",
       "        )\n",
       "        (1): ConvBNActivation(\n",
       "          (0): Conv2d(64, 64, kernel_size=(3, 3), stride=(2, 2), padding=(1, 1), groups=64, bias=False)\n",
       "          (1): BatchNorm2d(64, eps=0.001, momentum=0.01, affine=True, track_running_stats=True)\n",
       "          (2): ReLU(inplace=True)\n",
       "        )\n",
       "        (2): ConvBNActivation(\n",
       "          (0): Conv2d(64, 24, kernel_size=(1, 1), stride=(1, 1), bias=False)\n",
       "          (1): BatchNorm2d(24, eps=0.001, momentum=0.01, affine=True, track_running_stats=True)\n",
       "          (2): Identity()\n",
       "        )\n",
       "      )\n",
       "    )\n",
       "    (3): InvertedResidual(\n",
       "      (block): Sequential(\n",
       "        (0): ConvBNActivation(\n",
       "          (0): Conv2d(24, 72, kernel_size=(1, 1), stride=(1, 1), bias=False)\n",
       "          (1): BatchNorm2d(72, eps=0.001, momentum=0.01, affine=True, track_running_stats=True)\n",
       "          (2): ReLU(inplace=True)\n",
       "        )\n",
       "        (1): ConvBNActivation(\n",
       "          (0): Conv2d(72, 72, kernel_size=(3, 3), stride=(1, 1), padding=(1, 1), groups=72, bias=False)\n",
       "          (1): BatchNorm2d(72, eps=0.001, momentum=0.01, affine=True, track_running_stats=True)\n",
       "          (2): ReLU(inplace=True)\n",
       "        )\n",
       "        (2): ConvBNActivation(\n",
       "          (0): Conv2d(72, 24, kernel_size=(1, 1), stride=(1, 1), bias=False)\n",
       "          (1): BatchNorm2d(24, eps=0.001, momentum=0.01, affine=True, track_running_stats=True)\n",
       "          (2): Identity()\n",
       "        )\n",
       "      )\n",
       "    )\n",
       "    (4): InvertedResidual(\n",
       "      (block): Sequential(\n",
       "        (0): ConvBNActivation(\n",
       "          (0): Conv2d(24, 72, kernel_size=(1, 1), stride=(1, 1), bias=False)\n",
       "          (1): BatchNorm2d(72, eps=0.001, momentum=0.01, affine=True, track_running_stats=True)\n",
       "          (2): ReLU(inplace=True)\n",
       "        )\n",
       "        (1): ConvBNActivation(\n",
       "          (0): Conv2d(72, 72, kernel_size=(5, 5), stride=(2, 2), padding=(2, 2), groups=72, bias=False)\n",
       "          (1): BatchNorm2d(72, eps=0.001, momentum=0.01, affine=True, track_running_stats=True)\n",
       "          (2): ReLU(inplace=True)\n",
       "        )\n",
       "        (2): SqueezeExcitation(\n",
       "          (fc1): Conv2d(72, 24, kernel_size=(1, 1), stride=(1, 1))\n",
       "          (relu): ReLU(inplace=True)\n",
       "          (fc2): Conv2d(24, 72, kernel_size=(1, 1), stride=(1, 1))\n",
       "        )\n",
       "        (3): ConvBNActivation(\n",
       "          (0): Conv2d(72, 40, kernel_size=(1, 1), stride=(1, 1), bias=False)\n",
       "          (1): BatchNorm2d(40, eps=0.001, momentum=0.01, affine=True, track_running_stats=True)\n",
       "          (2): Identity()\n",
       "        )\n",
       "      )\n",
       "    )\n",
       "    (5): InvertedResidual(\n",
       "      (block): Sequential(\n",
       "        (0): ConvBNActivation(\n",
       "          (0): Conv2d(40, 120, kernel_size=(1, 1), stride=(1, 1), bias=False)\n",
       "          (1): BatchNorm2d(120, eps=0.001, momentum=0.01, affine=True, track_running_stats=True)\n",
       "          (2): ReLU(inplace=True)\n",
       "        )\n",
       "        (1): ConvBNActivation(\n",
       "          (0): Conv2d(120, 120, kernel_size=(5, 5), stride=(1, 1), padding=(2, 2), groups=120, bias=False)\n",
       "          (1): BatchNorm2d(120, eps=0.001, momentum=0.01, affine=True, track_running_stats=True)\n",
       "          (2): ReLU(inplace=True)\n",
       "        )\n",
       "        (2): SqueezeExcitation(\n",
       "          (fc1): Conv2d(120, 32, kernel_size=(1, 1), stride=(1, 1))\n",
       "          (relu): ReLU(inplace=True)\n",
       "          (fc2): Conv2d(32, 120, kernel_size=(1, 1), stride=(1, 1))\n",
       "        )\n",
       "        (3): ConvBNActivation(\n",
       "          (0): Conv2d(120, 40, kernel_size=(1, 1), stride=(1, 1), bias=False)\n",
       "          (1): BatchNorm2d(40, eps=0.001, momentum=0.01, affine=True, track_running_stats=True)\n",
       "          (2): Identity()\n",
       "        )\n",
       "      )\n",
       "    )\n",
       "    (6): InvertedResidual(\n",
       "      (block): Sequential(\n",
       "        (0): ConvBNActivation(\n",
       "          (0): Conv2d(40, 120, kernel_size=(1, 1), stride=(1, 1), bias=False)\n",
       "          (1): BatchNorm2d(120, eps=0.001, momentum=0.01, affine=True, track_running_stats=True)\n",
       "          (2): ReLU(inplace=True)\n",
       "        )\n",
       "        (1): ConvBNActivation(\n",
       "          (0): Conv2d(120, 120, kernel_size=(5, 5), stride=(1, 1), padding=(2, 2), groups=120, bias=False)\n",
       "          (1): BatchNorm2d(120, eps=0.001, momentum=0.01, affine=True, track_running_stats=True)\n",
       "          (2): ReLU(inplace=True)\n",
       "        )\n",
       "        (2): SqueezeExcitation(\n",
       "          (fc1): Conv2d(120, 32, kernel_size=(1, 1), stride=(1, 1))\n",
       "          (relu): ReLU(inplace=True)\n",
       "          (fc2): Conv2d(32, 120, kernel_size=(1, 1), stride=(1, 1))\n",
       "        )\n",
       "        (3): ConvBNActivation(\n",
       "          (0): Conv2d(120, 40, kernel_size=(1, 1), stride=(1, 1), bias=False)\n",
       "          (1): BatchNorm2d(40, eps=0.001, momentum=0.01, affine=True, track_running_stats=True)\n",
       "          (2): Identity()\n",
       "        )\n",
       "      )\n",
       "    )\n",
       "    (7): InvertedResidual(\n",
       "      (block): Sequential(\n",
       "        (0): ConvBNActivation(\n",
       "          (0): Conv2d(40, 240, kernel_size=(1, 1), stride=(1, 1), bias=False)\n",
       "          (1): BatchNorm2d(240, eps=0.001, momentum=0.01, affine=True, track_running_stats=True)\n",
       "          (2): Hardswish()\n",
       "        )\n",
       "        (1): ConvBNActivation(\n",
       "          (0): Conv2d(240, 240, kernel_size=(3, 3), stride=(2, 2), padding=(1, 1), groups=240, bias=False)\n",
       "          (1): BatchNorm2d(240, eps=0.001, momentum=0.01, affine=True, track_running_stats=True)\n",
       "          (2): Hardswish()\n",
       "        )\n",
       "        (2): ConvBNActivation(\n",
       "          (0): Conv2d(240, 80, kernel_size=(1, 1), stride=(1, 1), bias=False)\n",
       "          (1): BatchNorm2d(80, eps=0.001, momentum=0.01, affine=True, track_running_stats=True)\n",
       "          (2): Identity()\n",
       "        )\n",
       "      )\n",
       "    )\n",
       "    (8): InvertedResidual(\n",
       "      (block): Sequential(\n",
       "        (0): ConvBNActivation(\n",
       "          (0): Conv2d(80, 200, kernel_size=(1, 1), stride=(1, 1), bias=False)\n",
       "          (1): BatchNorm2d(200, eps=0.001, momentum=0.01, affine=True, track_running_stats=True)\n",
       "          (2): Hardswish()\n",
       "        )\n",
       "        (1): ConvBNActivation(\n",
       "          (0): Conv2d(200, 200, kernel_size=(3, 3), stride=(1, 1), padding=(1, 1), groups=200, bias=False)\n",
       "          (1): BatchNorm2d(200, eps=0.001, momentum=0.01, affine=True, track_running_stats=True)\n",
       "          (2): Hardswish()\n",
       "        )\n",
       "        (2): ConvBNActivation(\n",
       "          (0): Conv2d(200, 80, kernel_size=(1, 1), stride=(1, 1), bias=False)\n",
       "          (1): BatchNorm2d(80, eps=0.001, momentum=0.01, affine=True, track_running_stats=True)\n",
       "          (2): Identity()\n",
       "        )\n",
       "      )\n",
       "    )\n",
       "    (9): InvertedResidual(\n",
       "      (block): Sequential(\n",
       "        (0): ConvBNActivation(\n",
       "          (0): Conv2d(80, 184, kernel_size=(1, 1), stride=(1, 1), bias=False)\n",
       "          (1): BatchNorm2d(184, eps=0.001, momentum=0.01, affine=True, track_running_stats=True)\n",
       "          (2): Hardswish()\n",
       "        )\n",
       "        (1): ConvBNActivation(\n",
       "          (0): Conv2d(184, 184, kernel_size=(3, 3), stride=(1, 1), padding=(1, 1), groups=184, bias=False)\n",
       "          (1): BatchNorm2d(184, eps=0.001, momentum=0.01, affine=True, track_running_stats=True)\n",
       "          (2): Hardswish()\n",
       "        )\n",
       "        (2): ConvBNActivation(\n",
       "          (0): Conv2d(184, 80, kernel_size=(1, 1), stride=(1, 1), bias=False)\n",
       "          (1): BatchNorm2d(80, eps=0.001, momentum=0.01, affine=True, track_running_stats=True)\n",
       "          (2): Identity()\n",
       "        )\n",
       "      )\n",
       "    )\n",
       "    (10): InvertedResidual(\n",
       "      (block): Sequential(\n",
       "        (0): ConvBNActivation(\n",
       "          (0): Conv2d(80, 184, kernel_size=(1, 1), stride=(1, 1), bias=False)\n",
       "          (1): BatchNorm2d(184, eps=0.001, momentum=0.01, affine=True, track_running_stats=True)\n",
       "          (2): Hardswish()\n",
       "        )\n",
       "        (1): ConvBNActivation(\n",
       "          (0): Conv2d(184, 184, kernel_size=(3, 3), stride=(1, 1), padding=(1, 1), groups=184, bias=False)\n",
       "          (1): BatchNorm2d(184, eps=0.001, momentum=0.01, affine=True, track_running_stats=True)\n",
       "          (2): Hardswish()\n",
       "        )\n",
       "        (2): ConvBNActivation(\n",
       "          (0): Conv2d(184, 80, kernel_size=(1, 1), stride=(1, 1), bias=False)\n",
       "          (1): BatchNorm2d(80, eps=0.001, momentum=0.01, affine=True, track_running_stats=True)\n",
       "          (2): Identity()\n",
       "        )\n",
       "      )\n",
       "    )\n",
       "    (11): InvertedResidual(\n",
       "      (block): Sequential(\n",
       "        (0): ConvBNActivation(\n",
       "          (0): Conv2d(80, 480, kernel_size=(1, 1), stride=(1, 1), bias=False)\n",
       "          (1): BatchNorm2d(480, eps=0.001, momentum=0.01, affine=True, track_running_stats=True)\n",
       "          (2): Hardswish()\n",
       "        )\n",
       "        (1): ConvBNActivation(\n",
       "          (0): Conv2d(480, 480, kernel_size=(3, 3), stride=(1, 1), padding=(1, 1), groups=480, bias=False)\n",
       "          (1): BatchNorm2d(480, eps=0.001, momentum=0.01, affine=True, track_running_stats=True)\n",
       "          (2): Hardswish()\n",
       "        )\n",
       "        (2): SqueezeExcitation(\n",
       "          (fc1): Conv2d(480, 120, kernel_size=(1, 1), stride=(1, 1))\n",
       "          (relu): ReLU(inplace=True)\n",
       "          (fc2): Conv2d(120, 480, kernel_size=(1, 1), stride=(1, 1))\n",
       "        )\n",
       "        (3): ConvBNActivation(\n",
       "          (0): Conv2d(480, 112, kernel_size=(1, 1), stride=(1, 1), bias=False)\n",
       "          (1): BatchNorm2d(112, eps=0.001, momentum=0.01, affine=True, track_running_stats=True)\n",
       "          (2): Identity()\n",
       "        )\n",
       "      )\n",
       "    )\n",
       "    (12): InvertedResidual(\n",
       "      (block): Sequential(\n",
       "        (0): ConvBNActivation(\n",
       "          (0): Conv2d(112, 672, kernel_size=(1, 1), stride=(1, 1), bias=False)\n",
       "          (1): BatchNorm2d(672, eps=0.001, momentum=0.01, affine=True, track_running_stats=True)\n",
       "          (2): Hardswish()\n",
       "        )\n",
       "        (1): ConvBNActivation(\n",
       "          (0): Conv2d(672, 672, kernel_size=(3, 3), stride=(1, 1), padding=(1, 1), groups=672, bias=False)\n",
       "          (1): BatchNorm2d(672, eps=0.001, momentum=0.01, affine=True, track_running_stats=True)\n",
       "          (2): Hardswish()\n",
       "        )\n",
       "        (2): SqueezeExcitation(\n",
       "          (fc1): Conv2d(672, 168, kernel_size=(1, 1), stride=(1, 1))\n",
       "          (relu): ReLU(inplace=True)\n",
       "          (fc2): Conv2d(168, 672, kernel_size=(1, 1), stride=(1, 1))\n",
       "        )\n",
       "        (3): ConvBNActivation(\n",
       "          (0): Conv2d(672, 112, kernel_size=(1, 1), stride=(1, 1), bias=False)\n",
       "          (1): BatchNorm2d(112, eps=0.001, momentum=0.01, affine=True, track_running_stats=True)\n",
       "          (2): Identity()\n",
       "        )\n",
       "      )\n",
       "    )\n",
       "    (13): InvertedResidual(\n",
       "      (block): Sequential(\n",
       "        (0): ConvBNActivation(\n",
       "          (0): Conv2d(112, 672, kernel_size=(1, 1), stride=(1, 1), bias=False)\n",
       "          (1): BatchNorm2d(672, eps=0.001, momentum=0.01, affine=True, track_running_stats=True)\n",
       "          (2): Hardswish()\n",
       "        )\n",
       "        (1): ConvBNActivation(\n",
       "          (0): Conv2d(672, 672, kernel_size=(5, 5), stride=(2, 2), padding=(2, 2), groups=672, bias=False)\n",
       "          (1): BatchNorm2d(672, eps=0.001, momentum=0.01, affine=True, track_running_stats=True)\n",
       "          (2): Hardswish()\n",
       "        )\n",
       "        (2): SqueezeExcitation(\n",
       "          (fc1): Conv2d(672, 168, kernel_size=(1, 1), stride=(1, 1))\n",
       "          (relu): ReLU(inplace=True)\n",
       "          (fc2): Conv2d(168, 672, kernel_size=(1, 1), stride=(1, 1))\n",
       "        )\n",
       "        (3): ConvBNActivation(\n",
       "          (0): Conv2d(672, 160, kernel_size=(1, 1), stride=(1, 1), bias=False)\n",
       "          (1): BatchNorm2d(160, eps=0.001, momentum=0.01, affine=True, track_running_stats=True)\n",
       "          (2): Identity()\n",
       "        )\n",
       "      )\n",
       "    )\n",
       "    (14): InvertedResidual(\n",
       "      (block): Sequential(\n",
       "        (0): ConvBNActivation(\n",
       "          (0): Conv2d(160, 960, kernel_size=(1, 1), stride=(1, 1), bias=False)\n",
       "          (1): BatchNorm2d(960, eps=0.001, momentum=0.01, affine=True, track_running_stats=True)\n",
       "          (2): Hardswish()\n",
       "        )\n",
       "        (1): ConvBNActivation(\n",
       "          (0): Conv2d(960, 960, kernel_size=(5, 5), stride=(1, 1), padding=(2, 2), groups=960, bias=False)\n",
       "          (1): BatchNorm2d(960, eps=0.001, momentum=0.01, affine=True, track_running_stats=True)\n",
       "          (2): Hardswish()\n",
       "        )\n",
       "        (2): SqueezeExcitation(\n",
       "          (fc1): Conv2d(960, 240, kernel_size=(1, 1), stride=(1, 1))\n",
       "          (relu): ReLU(inplace=True)\n",
       "          (fc2): Conv2d(240, 960, kernel_size=(1, 1), stride=(1, 1))\n",
       "        )\n",
       "        (3): ConvBNActivation(\n",
       "          (0): Conv2d(960, 160, kernel_size=(1, 1), stride=(1, 1), bias=False)\n",
       "          (1): BatchNorm2d(160, eps=0.001, momentum=0.01, affine=True, track_running_stats=True)\n",
       "          (2): Identity()\n",
       "        )\n",
       "      )\n",
       "    )\n",
       "    (15): InvertedResidual(\n",
       "      (block): Sequential(\n",
       "        (0): ConvBNActivation(\n",
       "          (0): Conv2d(160, 960, kernel_size=(1, 1), stride=(1, 1), bias=False)\n",
       "          (1): BatchNorm2d(960, eps=0.001, momentum=0.01, affine=True, track_running_stats=True)\n",
       "          (2): Hardswish()\n",
       "        )\n",
       "        (1): ConvBNActivation(\n",
       "          (0): Conv2d(960, 960, kernel_size=(5, 5), stride=(1, 1), padding=(2, 2), groups=960, bias=False)\n",
       "          (1): BatchNorm2d(960, eps=0.001, momentum=0.01, affine=True, track_running_stats=True)\n",
       "          (2): Hardswish()\n",
       "        )\n",
       "        (2): SqueezeExcitation(\n",
       "          (fc1): Conv2d(960, 240, kernel_size=(1, 1), stride=(1, 1))\n",
       "          (relu): ReLU(inplace=True)\n",
       "          (fc2): Conv2d(240, 960, kernel_size=(1, 1), stride=(1, 1))\n",
       "        )\n",
       "        (3): ConvBNActivation(\n",
       "          (0): Conv2d(960, 160, kernel_size=(1, 1), stride=(1, 1), bias=False)\n",
       "          (1): BatchNorm2d(160, eps=0.001, momentum=0.01, affine=True, track_running_stats=True)\n",
       "          (2): Identity()\n",
       "        )\n",
       "      )\n",
       "    )\n",
       "    (16): ConvBNActivation(\n",
       "      (0): Conv2d(160, 960, kernel_size=(1, 1), stride=(1, 1), bias=False)\n",
       "      (1): BatchNorm2d(960, eps=0.001, momentum=0.01, affine=True, track_running_stats=True)\n",
       "      (2): Hardswish()\n",
       "    )\n",
       "  )\n",
       "  (avgpool): AdaptiveAvgPool2d(output_size=1)\n",
       "  (classifier): Sequential(\n",
       "    (0): Linear(in_features=960, out_features=1280, bias=True)\n",
       "    (1): Hardswish()\n",
       "    (2): Dropout(p=0.2, inplace=True)\n",
       "    (3): Linear(in_features=1280, out_features=2, bias=True)\n",
       "  )\n",
       ")"
      ]
     },
     "execution_count": 9,
     "metadata": {},
     "output_type": "execute_result"
    }
   ],
   "source": [
    "# モデルをGPUに送る\n",
    "model.to(device)"
   ]
  },
  {
   "cell_type": "markdown",
   "id": "8514afe8",
   "metadata": {
    "papermill": {
     "duration": 0.041946,
     "end_time": "2022-04-12T22:32:08.504561",
     "exception": false,
     "start_time": "2022-04-12T22:32:08.462615",
     "status": "completed"
    },
    "tags": []
   },
   "source": [
    "# transform"
   ]
  },
  {
   "cell_type": "code",
   "execution_count": 10,
   "id": "9deee86a",
   "metadata": {
    "execution": {
     "iopub.execute_input": "2022-04-12T22:32:08.587003Z",
     "iopub.status.busy": "2022-04-12T22:32:08.586355Z",
     "iopub.status.idle": "2022-04-12T22:32:08.593670Z",
     "shell.execute_reply": "2022-04-12T22:32:08.594294Z",
     "shell.execute_reply.started": "2022-04-12T15:18:52.343343Z"
    },
    "papermill": {
     "duration": 0.050144,
     "end_time": "2022-04-12T22:32:08.594473",
     "exception": false,
     "start_time": "2022-04-12T22:32:08.544329",
     "status": "completed"
    },
    "tags": []
   },
   "outputs": [],
   "source": [
    "# transformの設定\n",
    "transform = {\n",
    "    'train': transforms.Compose([\n",
    "        transforms.Resize((opt.image_size,opt.image_size)),\n",
    "        transforms.RandomHorizontalFlip(p=0.5),\n",
    "        transforms.RandomVerticalFlip(p=0.5),\n",
    "        transforms.RandomAffine(degrees=[-10, 10], translate=(0.1, 0.1), scale=(0.5, 1.5)),\n",
    "        transforms.RandomRotation(degrees=10),\n",
    "        transforms.ToTensor(),\n",
    "        transforms.Normalize([0.485, 0.456, 0.406], [0.229, 0.224, 0.225]),\n",
    "        ]),\n",
    "    'val': transforms.Compose([\n",
    "        transforms.Resize((opt.image_size,opt.image_size)),\n",
    "        transforms.ToTensor(),\n",
    "        transforms.Normalize([0.485, 0.456, 0.406], [0.229, 0.224, 0.225]),\n",
    "        ]),\n",
    "}"
   ]
  },
  {
   "cell_type": "code",
   "execution_count": 11,
   "id": "75c21e0e",
   "metadata": {
    "execution": {
     "iopub.execute_input": "2022-04-12T22:32:08.680445Z",
     "iopub.status.busy": "2022-04-12T22:32:08.679424Z",
     "iopub.status.idle": "2022-04-12T22:32:08.686661Z",
     "shell.execute_reply": "2022-04-12T22:32:08.687211Z",
     "shell.execute_reply.started": "2022-04-12T15:18:52.352909Z"
    },
    "papermill": {
     "duration": 0.05212,
     "end_time": "2022-04-12T22:32:08.687385",
     "exception": false,
     "start_time": "2022-04-12T22:32:08.635265",
     "status": "completed"
    },
    "tags": []
   },
   "outputs": [],
   "source": [
    "# Datasetの設定\n",
    "class XrayDataset(Dataset):\n",
    "    def __init__(self, image_name_list, label_list, img_dir, transform=None, phase=None):\n",
    "        self.image_name_list = image_name_list # 画像ファイル名\n",
    "        self.label_list = label_list # ラベル\n",
    "        self.img_dir = img_dir # 画像データのディレクトリ\n",
    "        self.phase = phase # 変数phaseで学習(train)もしくは検証(val)の設定を行う\n",
    "        self.transform = transform\n",
    "\n",
    "    def __len__(self):\n",
    "        return len(self.image_name_list) # 1エポックあたりに読み込むデータ数として、入力データの数を指定\n",
    "\n",
    "    def __getitem__(self, index):\n",
    "        \n",
    "        # index番目の画像を読み込み、前処理を行う\n",
    "        image_path = os.path.join(self.img_dir, self.image_name_list[index]) # train_master.iloc[index, 0]はファイル名を抽出\n",
    "        img = Image.open(image_path).convert('RGB')\n",
    "        img = self.transform[self.phase](img)\n",
    "        \n",
    "        # index番目のラベルを取得する\n",
    "        label = self.label_list[index]\n",
    "        \n",
    "        return img, label"
   ]
  },
  {
   "cell_type": "markdown",
   "id": "c2e0de0e",
   "metadata": {
    "papermill": {
     "duration": 0.039282,
     "end_time": "2022-04-12T22:32:08.767368",
     "exception": false,
     "start_time": "2022-04-12T22:32:08.728086",
     "status": "completed"
    },
    "tags": []
   },
   "source": [
    "# NORMALのテストデータを推論"
   ]
  },
  {
   "cell_type": "markdown",
   "id": "29752003",
   "metadata": {
    "papermill": {
     "duration": 0.039874,
     "end_time": "2022-04-12T22:32:08.846554",
     "exception": false,
     "start_time": "2022-04-12T22:32:08.806680",
     "status": "completed"
    },
    "tags": []
   },
   "source": [
    "## NORMALのテストデータのデータフレーム化"
   ]
  },
  {
   "cell_type": "code",
   "execution_count": 12,
   "id": "2fad1df3",
   "metadata": {
    "execution": {
     "iopub.execute_input": "2022-04-12T22:32:08.932350Z",
     "iopub.status.busy": "2022-04-12T22:32:08.931537Z",
     "iopub.status.idle": "2022-04-12T22:32:09.000230Z",
     "shell.execute_reply": "2022-04-12T22:32:09.001052Z",
     "shell.execute_reply.started": "2022-04-12T15:18:52.365988Z"
    },
    "papermill": {
     "duration": 0.112282,
     "end_time": "2022-04-12T22:32:09.001234",
     "exception": false,
     "start_time": "2022-04-12T22:32:08.888952",
     "status": "completed"
    },
    "tags": []
   },
   "outputs": [],
   "source": [
    "# ディレクトリ内の画像リスト作成\n",
    "normal = glob(test_normal_dir+'*.jpeg')"
   ]
  },
  {
   "cell_type": "code",
   "execution_count": 13,
   "id": "4c6775a4",
   "metadata": {
    "execution": {
     "iopub.execute_input": "2022-04-12T22:32:09.086207Z",
     "iopub.status.busy": "2022-04-12T22:32:09.085267Z",
     "iopub.status.idle": "2022-04-12T22:32:09.090596Z",
     "shell.execute_reply": "2022-04-12T22:32:09.090017Z",
     "shell.execute_reply.started": "2022-04-12T15:18:52.380705Z"
    },
    "papermill": {
     "duration": 0.0491,
     "end_time": "2022-04-12T22:32:09.090724",
     "exception": false,
     "start_time": "2022-04-12T22:32:09.041624",
     "status": "completed"
    },
    "tags": []
   },
   "outputs": [],
   "source": [
    "# テストデータのリストを作成\n",
    "test_file_list = []\n",
    "\n",
    "for path in normal:\n",
    "    file_name = re.split('[////////]', path)[8]\n",
    "    test_file_list.append(file_name)\n",
    "    #print(file_name)"
   ]
  },
  {
   "cell_type": "code",
   "execution_count": 14,
   "id": "e4b4a4fa",
   "metadata": {
    "execution": {
     "iopub.execute_input": "2022-04-12T22:32:09.174861Z",
     "iopub.status.busy": "2022-04-12T22:32:09.173913Z",
     "iopub.status.idle": "2022-04-12T22:32:09.194430Z",
     "shell.execute_reply": "2022-04-12T22:32:09.194973Z",
     "shell.execute_reply.started": "2022-04-12T15:18:52.394667Z"
    },
    "papermill": {
     "duration": 0.063972,
     "end_time": "2022-04-12T22:32:09.195152",
     "exception": false,
     "start_time": "2022-04-12T22:32:09.131180",
     "status": "completed"
    },
    "tags": []
   },
   "outputs": [
    {
     "name": "stdout",
     "output_type": "stream",
     "text": [
      "                          name label\n",
      "0    NORMAL2-IM-0336-0001.jpeg  None\n",
      "1            IM-0101-0001.jpeg  None\n",
      "2    NORMAL2-IM-0337-0001.jpeg  None\n",
      "3    NORMAL2-IM-0198-0001.jpeg  None\n",
      "4            IM-0013-0001.jpeg  None\n",
      "..                         ...   ...\n",
      "229  NORMAL2-IM-0338-0001.jpeg  None\n",
      "230  NORMAL2-IM-0195-0001.jpeg  None\n",
      "231  NORMAL2-IM-0333-0001.jpeg  None\n",
      "232  NORMAL2-IM-0150-0001.jpeg  None\n",
      "233          IM-0010-0001.jpeg  None\n",
      "\n",
      "[234 rows x 2 columns]\n",
      "234\n"
     ]
    }
   ],
   "source": [
    "# ファイル名とラベルのデータフレームを作成\n",
    "test_normal_df = pd.DataFrame({'name':test_file_list})\n",
    "test_normal_df['label'] = None\n",
    "\n",
    "print(test_normal_df)\n",
    "print(len(test_normal_df))"
   ]
  },
  {
   "cell_type": "code",
   "execution_count": 15,
   "id": "e263798d",
   "metadata": {
    "execution": {
     "iopub.execute_input": "2022-04-12T22:32:09.279730Z",
     "iopub.status.busy": "2022-04-12T22:32:09.277747Z",
     "iopub.status.idle": "2022-04-12T22:32:09.281573Z",
     "shell.execute_reply": "2022-04-12T22:32:09.282047Z",
     "shell.execute_reply.started": "2022-04-12T15:18:52.424759Z"
    },
    "papermill": {
     "duration": 0.047214,
     "end_time": "2022-04-12T22:32:09.282220",
     "exception": false,
     "start_time": "2022-04-12T22:32:09.235006",
     "status": "completed"
    },
    "tags": []
   },
   "outputs": [],
   "source": [
    "# 画像データの名前リストの抽出\n",
    "x_test_normal = test_normal_df['name'].values\n",
    "dummy = test_normal_df['name'].values\n",
    "#print(x_test_normal, f'データ数：{len(x_test_normal)}')"
   ]
  },
  {
   "cell_type": "code",
   "execution_count": 16,
   "id": "85f83d88",
   "metadata": {
    "execution": {
     "iopub.execute_input": "2022-04-12T22:32:09.367297Z",
     "iopub.status.busy": "2022-04-12T22:32:09.366611Z",
     "iopub.status.idle": "2022-04-12T22:32:09.370632Z",
     "shell.execute_reply": "2022-04-12T22:32:09.371106Z",
     "shell.execute_reply.started": "2022-04-12T15:18:52.456252Z"
    },
    "papermill": {
     "duration": 0.048784,
     "end_time": "2022-04-12T22:32:09.371276",
     "exception": false,
     "start_time": "2022-04-12T22:32:09.322492",
     "status": "completed"
    },
    "tags": []
   },
   "outputs": [],
   "source": [
    "# Datasetのインスタンス作成\n",
    "test_normal_dataset = XrayDataset(x_test_normal, dummy, test_normal_dir, transform=transform, phase='val')"
   ]
  },
  {
   "cell_type": "code",
   "execution_count": 17,
   "id": "4f7ffc6f",
   "metadata": {
    "execution": {
     "iopub.execute_input": "2022-04-12T22:32:09.459399Z",
     "iopub.status.busy": "2022-04-12T22:32:09.458424Z",
     "iopub.status.idle": "2022-04-12T22:32:09.462494Z",
     "shell.execute_reply": "2022-04-12T22:32:09.463125Z",
     "shell.execute_reply.started": "2022-04-12T15:18:52.488683Z"
    },
    "papermill": {
     "duration": 0.049835,
     "end_time": "2022-04-12T22:32:09.463305",
     "exception": false,
     "start_time": "2022-04-12T22:32:09.413470",
     "status": "completed"
    },
    "tags": []
   },
   "outputs": [],
   "source": [
    "# DataLoader\n",
    "test_normal_dataloader = DataLoader(test_normal_dataset, batch_size=1, shuffle=False)"
   ]
  },
  {
   "cell_type": "code",
   "execution_count": 18,
   "id": "2f242268",
   "metadata": {
    "execution": {
     "iopub.execute_input": "2022-04-12T22:32:09.549864Z",
     "iopub.status.busy": "2022-04-12T22:32:09.549256Z",
     "iopub.status.idle": "2022-04-12T22:32:09.633213Z",
     "shell.execute_reply": "2022-04-12T22:32:09.633677Z",
     "shell.execute_reply.started": "2022-04-12T15:18:52.524945Z"
    },
    "papermill": {
     "duration": 0.130156,
     "end_time": "2022-04-12T22:32:09.633866",
     "exception": false,
     "start_time": "2022-04-12T22:32:09.503710",
     "status": "completed"
    },
    "tags": []
   },
   "outputs": [
    {
     "name": "stdout",
     "output_type": "stream",
     "text": [
      "torch.Size([1, 3, 512, 512])\n",
      "('NORMAL2-IM-0336-0001.jpeg',)\n"
     ]
    }
   ],
   "source": [
    "# DataLoaderの確認\n",
    "train_iter = iter(test_normal_dataloader)\n",
    "imgs, labels = train_iter.next()\n",
    "print(imgs.size())\n",
    "print(labels)"
   ]
  },
  {
   "cell_type": "markdown",
   "id": "d73edaad",
   "metadata": {
    "papermill": {
     "duration": 0.042701,
     "end_time": "2022-04-12T22:32:09.716510",
     "exception": false,
     "start_time": "2022-04-12T22:32:09.673809",
     "status": "completed"
    },
    "tags": []
   },
   "source": [
    "## NORMALのテストデータの予測"
   ]
  },
  {
   "cell_type": "code",
   "execution_count": 19,
   "id": "3418e29e",
   "metadata": {
    "execution": {
     "iopub.execute_input": "2022-04-12T22:32:09.801588Z",
     "iopub.status.busy": "2022-04-12T22:32:09.800977Z",
     "iopub.status.idle": "2022-04-12T22:36:10.203902Z",
     "shell.execute_reply": "2022-04-12T22:36:10.203288Z",
     "shell.execute_reply.started": "2022-04-12T15:18:52.558668Z"
    },
    "papermill": {
     "duration": 240.446147,
     "end_time": "2022-04-12T22:36:10.204089",
     "exception": false,
     "start_time": "2022-04-12T22:32:09.757942",
     "status": "completed"
    },
    "tags": []
   },
   "outputs": [],
   "source": [
    "# 予測データフレームの作成\n",
    "normal_preds = []\n",
    "\n",
    "# dataloaderから、ミニバッチ単位でデータを読み込む\n",
    "for images, _ in test_normal_dataloader:\n",
    "    \n",
    "    # 入力データをdeviceへ\n",
    "    images = images.to(device)\n",
    "    \n",
    "    # 学習済みモデルを推論モードに設定\n",
    "    model.eval()\n",
    "    \n",
    "    # モデルによる変換\n",
    "    outputs = model(images)\n",
    "    pred = torch.argmax(outputs, dim=1)\n",
    "    pred = pred.to('cpu').numpy()\n",
    "\n",
    "    # 予測値をリストに追加\n",
    "    normal_preds.extend(pred)"
   ]
  },
  {
   "cell_type": "code",
   "execution_count": 20,
   "id": "8efd9ca1",
   "metadata": {
    "execution": {
     "iopub.execute_input": "2022-04-12T22:36:10.287659Z",
     "iopub.status.busy": "2022-04-12T22:36:10.287087Z",
     "iopub.status.idle": "2022-04-12T22:36:10.292441Z",
     "shell.execute_reply": "2022-04-12T22:36:10.291990Z",
     "shell.execute_reply.started": "2022-04-12T15:19:43.690369Z"
    },
    "papermill": {
     "duration": 0.047642,
     "end_time": "2022-04-12T22:36:10.292575",
     "exception": false,
     "start_time": "2022-04-12T22:36:10.244933",
     "status": "completed"
    },
    "tags": []
   },
   "outputs": [
    {
     "name": "stdout",
     "output_type": "stream",
     "text": [
      "[1, 1, 0, 1, 0, 0, 0, 0, 0, 0, 0, 0, 1, 1, 0, 0, 0, 0, 1, 1, 0, 0, 0, 0, 1, 0, 1, 0, 0, 0, 0, 1, 0, 1, 0, 1, 0, 0, 0, 0, 1, 0, 0, 0, 0, 0, 0, 1, 0, 0, 0, 0, 0, 1, 0, 0, 0, 0, 0, 0, 0, 1, 0, 0, 0, 0, 0, 0, 0, 0, 1, 0, 0, 0, 0, 0, 1, 0, 0, 0, 0, 0, 0, 0, 0, 0, 0, 0, 0, 0, 1, 0, 0, 0, 0, 1, 0, 0, 0, 0, 0, 1, 0, 0, 0, 1, 0, 1, 0, 1, 0, 0, 0, 1, 0, 1, 0, 0, 0, 0, 0, 0, 0, 0, 0, 0, 0, 0, 0, 1, 0, 0, 0, 0, 0, 0, 1, 0, 0, 0, 0, 0, 1, 0, 0, 0, 0, 1, 0, 0, 0, 0, 0, 0, 0, 0, 0, 0, 0, 0, 0, 0, 0, 0, 0, 0, 1, 0, 0, 0, 0, 0, 0, 1, 0, 1, 0, 1, 0, 0, 0, 0, 0, 0, 1, 0, 0, 0, 0, 0, 0, 0, 1, 0, 1, 0, 1, 0, 0, 1, 0, 0, 0, 0, 0, 0, 1, 1, 1, 0, 0, 1, 0, 0, 1, 0, 0, 1, 0, 0, 0, 1, 0, 0, 1, 1, 0, 0, 0, 1, 1, 0, 1, 0]\n",
      "正解率： 0.782051282051282\n"
     ]
    }
   ],
   "source": [
    "# 予測結果と正解率の確認\n",
    "print(normal_preds)\n",
    "print('正解率：',normal_preds.count(0)/len(normal_preds))"
   ]
  },
  {
   "cell_type": "code",
   "execution_count": 21,
   "id": "92271f81",
   "metadata": {
    "execution": {
     "iopub.execute_input": "2022-04-12T22:36:10.383114Z",
     "iopub.status.busy": "2022-04-12T22:36:10.382400Z",
     "iopub.status.idle": "2022-04-12T22:36:10.385897Z",
     "shell.execute_reply": "2022-04-12T22:36:10.385416Z",
     "shell.execute_reply.started": "2022-04-12T15:19:43.698686Z"
    },
    "papermill": {
     "duration": 0.052448,
     "end_time": "2022-04-12T22:36:10.386060",
     "exception": false,
     "start_time": "2022-04-12T22:36:10.333612",
     "status": "completed"
    },
    "tags": []
   },
   "outputs": [
    {
     "name": "stdout",
     "output_type": "stream",
     "text": [
      "                        name  label\n",
      "0  NORMAL2-IM-0336-0001.jpeg      1\n",
      "1          IM-0101-0001.jpeg      1\n",
      "2  NORMAL2-IM-0337-0001.jpeg      0\n",
      "3  NORMAL2-IM-0198-0001.jpeg      1\n",
      "4          IM-0013-0001.jpeg      0\n"
     ]
    }
   ],
   "source": [
    "# 目的変数カラムの置き換え\n",
    "test_normal_df['label'] = normal_preds\n",
    "print(test_normal_df.head())"
   ]
  },
  {
   "cell_type": "markdown",
   "id": "ef696b07",
   "metadata": {
    "papermill": {
     "duration": 0.041266,
     "end_time": "2022-04-12T22:36:10.468449",
     "exception": false,
     "start_time": "2022-04-12T22:36:10.427183",
     "status": "completed"
    },
    "tags": []
   },
   "source": [
    "# PNEUMONIAのテストデータを推論"
   ]
  },
  {
   "cell_type": "markdown",
   "id": "ad0d4bcf",
   "metadata": {
    "papermill": {
     "duration": 0.040522,
     "end_time": "2022-04-12T22:36:10.551535",
     "exception": false,
     "start_time": "2022-04-12T22:36:10.511013",
     "status": "completed"
    },
    "tags": []
   },
   "source": [
    "## PNEUMONIAのテストデータのデータフレーム化"
   ]
  },
  {
   "cell_type": "code",
   "execution_count": 22,
   "id": "6093d888",
   "metadata": {
    "execution": {
     "iopub.execute_input": "2022-04-12T22:36:10.638851Z",
     "iopub.status.busy": "2022-04-12T22:36:10.638246Z",
     "iopub.status.idle": "2022-04-12T22:36:10.740006Z",
     "shell.execute_reply": "2022-04-12T22:36:10.740511Z",
     "shell.execute_reply.started": "2022-04-12T15:19:43.714157Z"
    },
    "papermill": {
     "duration": 0.147925,
     "end_time": "2022-04-12T22:36:10.740694",
     "exception": false,
     "start_time": "2022-04-12T22:36:10.592769",
     "status": "completed"
    },
    "tags": []
   },
   "outputs": [],
   "source": [
    "# ディレクトリ内の画像リスト作成\n",
    "pneumonia = glob(test_pneumonia_dir+'*.jpeg')"
   ]
  },
  {
   "cell_type": "code",
   "execution_count": 23,
   "id": "41617dac",
   "metadata": {
    "execution": {
     "iopub.execute_input": "2022-04-12T22:36:10.826115Z",
     "iopub.status.busy": "2022-04-12T22:36:10.825490Z",
     "iopub.status.idle": "2022-04-12T22:36:10.830246Z",
     "shell.execute_reply": "2022-04-12T22:36:10.830715Z",
     "shell.execute_reply.started": "2022-04-12T15:19:43.723069Z"
    },
    "papermill": {
     "duration": 0.049239,
     "end_time": "2022-04-12T22:36:10.830878",
     "exception": false,
     "start_time": "2022-04-12T22:36:10.781639",
     "status": "completed"
    },
    "tags": []
   },
   "outputs": [],
   "source": [
    "# テストデータのリストを作成\n",
    "test_file_list = []\n",
    "\n",
    "for path in pneumonia:\n",
    "    file_name = re.split('[////////]', path)[8]\n",
    "    test_file_list.append(file_name)\n",
    "    #print(file_name)"
   ]
  },
  {
   "cell_type": "code",
   "execution_count": 24,
   "id": "77468152",
   "metadata": {
    "execution": {
     "iopub.execute_input": "2022-04-12T22:36:10.915377Z",
     "iopub.status.busy": "2022-04-12T22:36:10.914745Z",
     "iopub.status.idle": "2022-04-12T22:36:10.924009Z",
     "shell.execute_reply": "2022-04-12T22:36:10.923572Z",
     "shell.execute_reply.started": "2022-04-12T15:19:43.733123Z"
    },
    "papermill": {
     "duration": 0.052669,
     "end_time": "2022-04-12T22:36:10.924145",
     "exception": false,
     "start_time": "2022-04-12T22:36:10.871476",
     "status": "completed"
    },
    "tags": []
   },
   "outputs": [
    {
     "name": "stdout",
     "output_type": "stream",
     "text": [
      "                            name label\n",
      "0     person1676_virus_2892.jpeg  None\n",
      "1     person1650_virus_2852.jpeg  None\n",
      "2         person22_virus_55.jpeg  None\n",
      "3    person122_bacteria_582.jpeg  None\n",
      "4     person85_bacteria_417.jpeg  None\n",
      "..                           ...   ...\n",
      "385   person1659_virus_2867.jpeg  None\n",
      "386   person1615_virus_2801.jpeg  None\n",
      "387   person1664_virus_2877.jpeg  None\n",
      "388  person111_bacteria_536.jpeg  None\n",
      "389  person152_bacteria_724.jpeg  None\n",
      "\n",
      "[390 rows x 2 columns]\n",
      "390\n"
     ]
    }
   ],
   "source": [
    "# ファイル名とラベルのデータフレームを作成\n",
    "test_pneumonia_df = pd.DataFrame({'name':test_file_list})\n",
    "test_pneumonia_df['label'] = None\n",
    "\n",
    "print(test_pneumonia_df)\n",
    "print(len(test_pneumonia_df))"
   ]
  },
  {
   "cell_type": "code",
   "execution_count": 25,
   "id": "195feebd",
   "metadata": {
    "execution": {
     "iopub.execute_input": "2022-04-12T22:36:11.011465Z",
     "iopub.status.busy": "2022-04-12T22:36:11.010818Z",
     "iopub.status.idle": "2022-04-12T22:36:11.013521Z",
     "shell.execute_reply": "2022-04-12T22:36:11.013072Z",
     "shell.execute_reply.started": "2022-04-12T15:19:43.753002Z"
    },
    "papermill": {
     "duration": 0.048208,
     "end_time": "2022-04-12T22:36:11.013655",
     "exception": false,
     "start_time": "2022-04-12T22:36:10.965447",
     "status": "completed"
    },
    "tags": []
   },
   "outputs": [],
   "source": [
    "# 画像データの名前リストの抽出\n",
    "x_test_pneumonia = test_pneumonia_df['name'].values\n",
    "dummy = test_pneumonia_df['name'].values\n",
    "#print(x_test_pneumonia, f'データ数：{len(x_test_pneumonia)}')"
   ]
  },
  {
   "cell_type": "code",
   "execution_count": 26,
   "id": "aac82cdc",
   "metadata": {
    "execution": {
     "iopub.execute_input": "2022-04-12T22:36:11.100632Z",
     "iopub.status.busy": "2022-04-12T22:36:11.100028Z",
     "iopub.status.idle": "2022-04-12T22:36:11.102799Z",
     "shell.execute_reply": "2022-04-12T22:36:11.102377Z",
     "shell.execute_reply.started": "2022-04-12T15:19:43.760191Z"
    },
    "papermill": {
     "duration": 0.048243,
     "end_time": "2022-04-12T22:36:11.102928",
     "exception": false,
     "start_time": "2022-04-12T22:36:11.054685",
     "status": "completed"
    },
    "tags": []
   },
   "outputs": [],
   "source": [
    "# Datasetのインスタンス作成\n",
    "test_pneumonia_dataset = XrayDataset(x_test_pneumonia, dummy, test_pneumonia_dir, transform=transform, phase='val')"
   ]
  },
  {
   "cell_type": "code",
   "execution_count": 27,
   "id": "99043de8",
   "metadata": {
    "execution": {
     "iopub.execute_input": "2022-04-12T22:36:11.187953Z",
     "iopub.status.busy": "2022-04-12T22:36:11.187408Z",
     "iopub.status.idle": "2022-04-12T22:36:11.190772Z",
     "shell.execute_reply": "2022-04-12T22:36:11.191267Z",
     "shell.execute_reply.started": "2022-04-12T15:19:43.772527Z"
    },
    "papermill": {
     "duration": 0.047381,
     "end_time": "2022-04-12T22:36:11.191434",
     "exception": false,
     "start_time": "2022-04-12T22:36:11.144053",
     "status": "completed"
    },
    "tags": []
   },
   "outputs": [],
   "source": [
    "# DataLoader\n",
    "test_pneumonia_dataloader = DataLoader(test_pneumonia_dataset, batch_size=1, shuffle=False)"
   ]
  },
  {
   "cell_type": "code",
   "execution_count": 28,
   "id": "131b827b",
   "metadata": {
    "execution": {
     "iopub.execute_input": "2022-04-12T22:36:11.276703Z",
     "iopub.status.busy": "2022-04-12T22:36:11.276056Z",
     "iopub.status.idle": "2022-04-12T22:36:11.316518Z",
     "shell.execute_reply": "2022-04-12T22:36:11.317022Z",
     "shell.execute_reply.started": "2022-04-12T15:19:43.786857Z"
    },
    "papermill": {
     "duration": 0.084817,
     "end_time": "2022-04-12T22:36:11.317200",
     "exception": false,
     "start_time": "2022-04-12T22:36:11.232383",
     "status": "completed"
    },
    "tags": []
   },
   "outputs": [
    {
     "name": "stdout",
     "output_type": "stream",
     "text": [
      "torch.Size([1, 3, 512, 512])\n",
      "('person1676_virus_2892.jpeg',)\n"
     ]
    }
   ],
   "source": [
    "# DataLoaderの確認\n",
    "train_iter = iter(test_pneumonia_dataloader)\n",
    "imgs, labels = train_iter.next()\n",
    "print(imgs.size())\n",
    "print(labels)"
   ]
  },
  {
   "cell_type": "markdown",
   "id": "03935d6a",
   "metadata": {
    "papermill": {
     "duration": 0.041031,
     "end_time": "2022-04-12T22:36:11.399366",
     "exception": false,
     "start_time": "2022-04-12T22:36:11.358335",
     "status": "completed"
    },
    "tags": []
   },
   "source": [
    "## PNEUMONIAのテストデータの予測"
   ]
  },
  {
   "cell_type": "code",
   "execution_count": 29,
   "id": "a2f35c85",
   "metadata": {
    "execution": {
     "iopub.execute_input": "2022-04-12T22:36:11.486991Z",
     "iopub.status.busy": "2022-04-12T22:36:11.483746Z",
     "iopub.status.idle": "2022-04-12T22:42:44.892271Z",
     "shell.execute_reply": "2022-04-12T22:42:44.893140Z",
     "shell.execute_reply.started": "2022-04-12T15:19:43.820412Z"
    },
    "papermill": {
     "duration": 393.453214,
     "end_time": "2022-04-12T22:42:44.893639",
     "exception": false,
     "start_time": "2022-04-12T22:36:11.440425",
     "status": "completed"
    },
    "tags": []
   },
   "outputs": [],
   "source": [
    "# 予測データフレームの作成\n",
    "pneumonia_preds = []\n",
    "\n",
    "# dataloaderから、ミニバッチ単位でデータを読み込む\n",
    "for images, _ in test_pneumonia_dataloader:\n",
    "    \n",
    "    # 入力データをdeviceへ\n",
    "    images = images.to(device)\n",
    "    \n",
    "    # 学習済みモデルを推論モードに設定\n",
    "    model.eval()\n",
    "    \n",
    "    # モデルによる変換\n",
    "    outputs = model(images)\n",
    "    pred = torch.argmax(outputs, dim=1)\n",
    "    pred = pred.to('cpu').numpy()\n",
    "\n",
    "    # 予測値をリストに追加\n",
    "    pneumonia_preds.extend(pred)"
   ]
  },
  {
   "cell_type": "code",
   "execution_count": 30,
   "id": "93fa88f1",
   "metadata": {
    "execution": {
     "iopub.execute_input": "2022-04-12T22:42:44.986582Z",
     "iopub.status.busy": "2022-04-12T22:42:44.985881Z",
     "iopub.status.idle": "2022-04-12T22:42:44.991879Z",
     "shell.execute_reply": "2022-04-12T22:42:44.992400Z",
     "shell.execute_reply.started": "2022-04-12T15:21:00.885533Z"
    },
    "papermill": {
     "duration": 0.051497,
     "end_time": "2022-04-12T22:42:44.992572",
     "exception": false,
     "start_time": "2022-04-12T22:42:44.941075",
     "status": "completed"
    },
    "tags": []
   },
   "outputs": [
    {
     "name": "stdout",
     "output_type": "stream",
     "text": [
      "[1, 1, 1, 1, 1, 1, 1, 1, 1, 1, 1, 1, 1, 1, 1, 1, 1, 1, 1, 1, 1, 1, 1, 1, 1, 1, 1, 1, 1, 1, 1, 1, 1, 1, 1, 1, 1, 1, 1, 1, 1, 1, 1, 1, 1, 1, 1, 1, 1, 1, 1, 1, 1, 1, 1, 1, 1, 1, 1, 1, 1, 1, 1, 1, 1, 1, 1, 1, 1, 1, 1, 1, 1, 1, 1, 1, 1, 1, 1, 1, 1, 1, 1, 1, 1, 1, 1, 1, 1, 1, 1, 1, 1, 1, 1, 1, 1, 1, 1, 1, 1, 1, 1, 1, 1, 1, 1, 1, 1, 1, 1, 1, 1, 1, 1, 1, 1, 1, 1, 1, 1, 1, 1, 1, 1, 1, 1, 1, 1, 1, 1, 1, 1, 1, 1, 1, 1, 1, 1, 1, 1, 1, 1, 1, 1, 1, 1, 1, 1, 1, 1, 1, 1, 1, 1, 1, 1, 1, 1, 1, 1, 1, 1, 1, 1, 1, 1, 1, 1, 1, 1, 1, 1, 1, 1, 1, 1, 1, 1, 1, 1, 1, 1, 1, 1, 1, 1, 1, 1, 1, 1, 1, 1, 1, 1, 1, 1, 1, 1, 1, 1, 1, 1, 1, 1, 1, 1, 1, 1, 1, 1, 1, 1, 1, 1, 1, 1, 1, 1, 1, 1, 1, 0, 1, 1, 1, 1, 1, 1, 1, 1, 1, 1, 1, 1, 1, 1, 1, 1, 1, 1, 0, 1, 1, 1, 1, 1, 1, 1, 1, 1, 1, 1, 1, 1, 1, 1, 1, 1, 1, 1, 1, 1, 1, 1, 1, 1, 1, 1, 1, 1, 1, 1, 0, 1, 1, 1, 1, 1, 1, 1, 1, 1, 1, 1, 1, 1, 1, 1, 1, 1, 1, 1, 1, 1, 1, 1, 1, 1, 1, 1, 1, 1, 1, 1, 1, 1, 1, 1, 1, 1, 1, 1, 1, 1, 1, 1, 1, 1, 1, 1, 0, 1, 1, 1, 1, 1, 1, 1, 1, 1, 1, 1, 1, 1, 1, 1, 1, 1, 1, 1, 1, 1, 1, 1, 1, 1, 1, 1, 1, 0, 1, 1, 1, 1, 1, 1, 1, 1, 1, 1, 1, 1, 1, 1, 1, 1, 1, 1, 1, 1, 1, 1, 1, 1, 1, 1, 1, 1, 1, 1, 1, 1, 1, 1, 1, 1, 1, 1, 1]\n",
      "正解率： 0.9871794871794872\n"
     ]
    }
   ],
   "source": [
    "# 予測結果と正解率の確認\n",
    "print(pneumonia_preds)\n",
    "print('正解率：',pneumonia_preds.count(1)/len(pneumonia_preds))"
   ]
  },
  {
   "cell_type": "code",
   "execution_count": 31,
   "id": "2b9cc6d9",
   "metadata": {
    "execution": {
     "iopub.execute_input": "2022-04-12T22:42:45.090266Z",
     "iopub.status.busy": "2022-04-12T22:42:45.089556Z",
     "iopub.status.idle": "2022-04-12T22:42:45.092716Z",
     "shell.execute_reply": "2022-04-12T22:42:45.093220Z",
     "shell.execute_reply.started": "2022-04-12T15:21:00.893245Z"
    },
    "papermill": {
     "duration": 0.058289,
     "end_time": "2022-04-12T22:42:45.093395",
     "exception": false,
     "start_time": "2022-04-12T22:42:45.035106",
     "status": "completed"
    },
    "tags": []
   },
   "outputs": [
    {
     "name": "stdout",
     "output_type": "stream",
     "text": [
      "                          name  label\n",
      "0   person1676_virus_2892.jpeg      1\n",
      "1   person1650_virus_2852.jpeg      1\n",
      "2       person22_virus_55.jpeg      1\n",
      "3  person122_bacteria_582.jpeg      1\n",
      "4   person85_bacteria_417.jpeg      1\n"
     ]
    }
   ],
   "source": [
    "# 目的変数カラムの置き換え\n",
    "test_pneumonia_df['label'] = pneumonia_preds\n",
    "print(test_pneumonia_df.head())"
   ]
  },
  {
   "cell_type": "markdown",
   "id": "8d71c9f6",
   "metadata": {
    "papermill": {
     "duration": 0.043116,
     "end_time": "2022-04-12T22:42:45.180734",
     "exception": false,
     "start_time": "2022-04-12T22:42:45.137618",
     "status": "completed"
    },
    "tags": []
   },
   "source": [
    "# 混同行列"
   ]
  },
  {
   "cell_type": "code",
   "execution_count": 32,
   "id": "2f09a525",
   "metadata": {
    "execution": {
     "iopub.execute_input": "2022-04-12T22:42:45.270247Z",
     "iopub.status.busy": "2022-04-12T22:42:45.269279Z",
     "iopub.status.idle": "2022-04-12T22:42:45.273678Z",
     "shell.execute_reply": "2022-04-12T22:42:45.274248Z",
     "shell.execute_reply.started": "2022-04-12T15:21:00.909566Z"
    },
    "papermill": {
     "duration": 0.049892,
     "end_time": "2022-04-12T22:42:45.274419",
     "exception": false,
     "start_time": "2022-04-12T22:42:45.224527",
     "status": "completed"
    },
    "tags": []
   },
   "outputs": [],
   "source": [
    "# 正解リスト\n",
    "normal_true = [0] * len(normal_preds)\n",
    "pneumonia_true = [1] * len(pneumonia_preds)\n",
    "y_true = normal_true + pneumonia_true\n",
    "#print(y_true)\n",
    "#print('データ数：', len(y_true))"
   ]
  },
  {
   "cell_type": "code",
   "execution_count": 33,
   "id": "2abaa84e",
   "metadata": {
    "execution": {
     "iopub.execute_input": "2022-04-12T22:42:45.366772Z",
     "iopub.status.busy": "2022-04-12T22:42:45.366123Z",
     "iopub.status.idle": "2022-04-12T22:42:45.368400Z",
     "shell.execute_reply": "2022-04-12T22:42:45.367872Z",
     "shell.execute_reply.started": "2022-04-12T15:21:00.920595Z"
    },
    "papermill": {
     "duration": 0.051069,
     "end_time": "2022-04-12T22:42:45.368534",
     "exception": false,
     "start_time": "2022-04-12T22:42:45.317465",
     "status": "completed"
    },
    "tags": []
   },
   "outputs": [],
   "source": [
    "# 予測リスト\n",
    "y_pred = normal_preds + pneumonia_preds\n",
    "#print(y_pred)\n",
    "#print('データ数：', len(y_pred))"
   ]
  },
  {
   "cell_type": "code",
   "execution_count": 34,
   "id": "4a23605a",
   "metadata": {
    "execution": {
     "iopub.execute_input": "2022-04-12T22:42:45.457215Z",
     "iopub.status.busy": "2022-04-12T22:42:45.456574Z",
     "iopub.status.idle": "2022-04-12T22:42:45.637394Z",
     "shell.execute_reply": "2022-04-12T22:42:45.637999Z",
     "shell.execute_reply.started": "2022-04-12T15:21:00.931927Z"
    },
    "papermill": {
     "duration": 0.22627,
     "end_time": "2022-04-12T22:42:45.638173",
     "exception": false,
     "start_time": "2022-04-12T22:42:45.411903",
     "status": "completed"
    },
    "tags": []
   },
   "outputs": [
    {
     "data": {
      "image/png": "[encoded data removed]",
      "text/plain": [
       "<Figure size 432x288 with 1 Axes>"
      ]
     },
     "metadata": {
      "needs_background": "light"
     },
     "output_type": "display_data"
    }
   ],
   "source": [
    "# 混同行列の作成と可視化\n",
    "cm = confusion_matrix(y_true, y_pred)\n",
    "\n",
    "sns.heatmap(cm, \n",
    "            annot=True, # 数字を表示\n",
    "            fmt='d', # 整数表示\n",
    "            cmap='Blues',\n",
    "            cbar=False # カラーバーを非表示\n",
    ")\n",
    "plt.show()"
   ]
  },
  {
   "cell_type": "markdown",
   "id": "01d192d8",
   "metadata": {
    "papermill": {
     "duration": 0.045014,
     "end_time": "2022-04-12T22:42:45.728387",
     "exception": false,
     "start_time": "2022-04-12T22:42:45.683373",
     "status": "completed"
    },
    "tags": []
   },
   "source": [
    "## 正解率"
   ]
  },
  {
   "cell_type": "markdown",
   "id": "8f8687af",
   "metadata": {
    "papermill": {
     "duration": 0.047591,
     "end_time": "2022-04-12T22:42:45.819512",
     "exception": false,
     "start_time": "2022-04-12T22:42:45.771921",
     "status": "completed"
    },
    "tags": []
   },
   "source": [
    "正解率（accuracy）は、すべてのサンプルのうち正解したサンプルの割合"
   ]
  },
  {
   "cell_type": "code",
   "execution_count": 35,
   "id": "47289bf3",
   "metadata": {
    "execution": {
     "iopub.execute_input": "2022-04-12T22:42:45.915257Z",
     "iopub.status.busy": "2022-04-12T22:42:45.914571Z",
     "iopub.status.idle": "2022-04-12T22:42:45.921261Z",
     "shell.execute_reply": "2022-04-12T22:42:45.922319Z",
     "shell.execute_reply.started": "2022-04-12T15:21:01.075827Z"
    },
    "papermill": {
     "duration": 0.056434,
     "end_time": "2022-04-12T22:42:45.922612",
     "exception": false,
     "start_time": "2022-04-12T22:42:45.866178",
     "status": "completed"
    },
    "tags": []
   },
   "outputs": [
    {
     "name": "stdout",
     "output_type": "stream",
     "text": [
      "0.9102564102564102\n"
     ]
    }
   ],
   "source": [
    "print(accuracy_score(y_true, y_pred))"
   ]
  },
  {
   "cell_type": "markdown",
   "id": "d44f6dca",
   "metadata": {
    "papermill": {
     "duration": 0.048211,
     "end_time": "2022-04-12T22:42:46.017619",
     "exception": false,
     "start_time": "2022-04-12T22:42:45.969408",
     "status": "completed"
    },
    "tags": []
   },
   "source": [
    "## 適合率"
   ]
  },
  {
   "cell_type": "markdown",
   "id": "4e85baf1",
   "metadata": {
    "papermill": {
     "duration": 0.046261,
     "end_time": "2022-04-12T22:42:46.109770",
     "exception": false,
     "start_time": "2022-04-12T22:42:46.063509",
     "status": "completed"
    },
    "tags": []
   },
   "source": [
    "適合率（precision）は、陽性と予測されたサンプルのうち正解したサンプルの割合"
   ]
  },
  {
   "cell_type": "code",
   "execution_count": 36,
   "id": "f4ba3eed",
   "metadata": {
    "execution": {
     "iopub.execute_input": "2022-04-12T22:42:46.203499Z",
     "iopub.status.busy": "2022-04-12T22:42:46.202626Z",
     "iopub.status.idle": "2022-04-12T22:42:46.208189Z",
     "shell.execute_reply": "2022-04-12T22:42:46.208756Z",
     "shell.execute_reply.started": "2022-04-12T15:21:01.085575Z"
    },
    "papermill": {
     "duration": 0.053441,
     "end_time": "2022-04-12T22:42:46.208922",
     "exception": false,
     "start_time": "2022-04-12T22:42:46.155481",
     "status": "completed"
    },
    "tags": []
   },
   "outputs": [
    {
     "name": "stdout",
     "output_type": "stream",
     "text": [
      "0.8830275229357798\n"
     ]
    }
   ],
   "source": [
    "print(precision_score(y_true, y_pred))"
   ]
  },
  {
   "cell_type": "markdown",
   "id": "2f1c1b10",
   "metadata": {
    "papermill": {
     "duration": 0.044552,
     "end_time": "2022-04-12T22:42:46.296840",
     "exception": false,
     "start_time": "2022-04-12T22:42:46.252288",
     "status": "completed"
    },
    "tags": []
   },
   "source": [
    "## 再現率"
   ]
  },
  {
   "cell_type": "markdown",
   "id": "0a5d6fa1",
   "metadata": {
    "papermill": {
     "duration": 0.045213,
     "end_time": "2022-04-12T22:42:46.386870",
     "exception": false,
     "start_time": "2022-04-12T22:42:46.341657",
     "status": "completed"
    },
    "tags": []
   },
   "source": [
    "再現率（recall）は実際に陽性のサンプルのうち正解したサンプルの割合。sensitivityやhit rate, TPR（true positive rate, 真陽性率）などとも呼ばれる。"
   ]
  },
  {
   "cell_type": "code",
   "execution_count": 37,
   "id": "1c1df0e4",
   "metadata": {
    "execution": {
     "iopub.execute_input": "2022-04-12T22:42:46.478881Z",
     "iopub.status.busy": "2022-04-12T22:42:46.478293Z",
     "iopub.status.idle": "2022-04-12T22:42:46.484284Z",
     "shell.execute_reply": "2022-04-12T22:42:46.484799Z",
     "shell.execute_reply.started": "2022-04-12T15:21:01.100418Z"
    },
    "papermill": {
     "duration": 0.053753,
     "end_time": "2022-04-12T22:42:46.484981",
     "exception": false,
     "start_time": "2022-04-12T22:42:46.431228",
     "status": "completed"
    },
    "tags": []
   },
   "outputs": [
    {
     "name": "stdout",
     "output_type": "stream",
     "text": [
      "0.9871794871794872\n"
     ]
    }
   ],
   "source": [
    "print(recall_score(y_true, y_pred))"
   ]
  },
  {
   "cell_type": "markdown",
   "id": "65d2da67",
   "metadata": {
    "papermill": {
     "duration": 0.044395,
     "end_time": "2022-04-12T22:42:46.574059",
     "exception": false,
     "start_time": "2022-04-12T22:42:46.529664",
     "status": "completed"
    },
    "tags": []
   },
   "source": [
    "## F1値"
   ]
  },
  {
   "cell_type": "markdown",
   "id": "a9f2576b",
   "metadata": {
    "papermill": {
     "duration": 0.043941,
     "end_time": "2022-04-12T22:42:46.661582",
     "exception": false,
     "start_time": "2022-04-12T22:42:46.617641",
     "status": "completed"
    },
    "tags": []
   },
   "source": [
    "F1値（F1-measure）は適合率と再現率の調和平均。"
   ]
  },
  {
   "cell_type": "code",
   "execution_count": 38,
   "id": "e3fa5838",
   "metadata": {
    "execution": {
     "iopub.execute_input": "2022-04-12T22:42:46.754310Z",
     "iopub.status.busy": "2022-04-12T22:42:46.753613Z",
     "iopub.status.idle": "2022-04-12T22:42:46.760286Z",
     "shell.execute_reply": "2022-04-12T22:42:46.760764Z",
     "shell.execute_reply.started": "2022-04-12T15:21:01.111254Z"
    },
    "papermill": {
     "duration": 0.054657,
     "end_time": "2022-04-12T22:42:46.761086",
     "exception": false,
     "start_time": "2022-04-12T22:42:46.706429",
     "status": "completed"
    },
    "tags": []
   },
   "outputs": [
    {
     "name": "stdout",
     "output_type": "stream",
     "text": [
      "0.9322033898305085\n"
     ]
    }
   ],
   "source": [
    "print(f1_score(y_true, y_pred))"
   ]
  },
  {
   "cell_type": "markdown",
   "id": "6e7d4ca3",
   "metadata": {
    "papermill": {
     "duration": 0.045706,
     "end_time": "2022-04-12T22:42:46.853885",
     "exception": false,
     "start_time": "2022-04-12T22:42:46.808179",
     "status": "completed"
    },
    "tags": []
   },
   "source": [
    "# 予測データフレームの結合・出力"
   ]
  },
  {
   "cell_type": "code",
   "execution_count": 39,
   "id": "d6e642f8",
   "metadata": {
    "execution": {
     "iopub.execute_input": "2022-04-12T22:42:46.948804Z",
     "iopub.status.busy": "2022-04-12T22:42:46.947753Z",
     "iopub.status.idle": "2022-04-12T22:42:46.965920Z",
     "shell.execute_reply": "2022-04-12T22:42:46.966379Z",
     "shell.execute_reply.started": "2022-04-12T15:21:01.124147Z"
    },
    "papermill": {
     "duration": 0.067641,
     "end_time": "2022-04-12T22:42:46.966557",
     "exception": false,
     "start_time": "2022-04-12T22:42:46.898916",
     "status": "completed"
    },
    "tags": []
   },
   "outputs": [
    {
     "name": "stdout",
     "output_type": "stream",
     "text": [
      "                            name      label\n",
      "0      NORMAL2-IM-0336-0001.jpeg  PNEUMONIA\n",
      "1              IM-0101-0001.jpeg  PNEUMONIA\n",
      "2      NORMAL2-IM-0337-0001.jpeg     NORMAL\n",
      "3      NORMAL2-IM-0198-0001.jpeg  PNEUMONIA\n",
      "4              IM-0013-0001.jpeg     NORMAL\n",
      "..                           ...        ...\n",
      "385   person1659_virus_2867.jpeg  PNEUMONIA\n",
      "386   person1615_virus_2801.jpeg  PNEUMONIA\n",
      "387   person1664_virus_2877.jpeg  PNEUMONIA\n",
      "388  person111_bacteria_536.jpeg  PNEUMONIA\n",
      "389  person152_bacteria_724.jpeg  PNEUMONIA\n",
      "\n",
      "[624 rows x 2 columns]\n"
     ]
    }
   ],
   "source": [
    "df = pd.concat([test_normal_df, test_pneumonia_df])\n",
    "df['label'] = df['label'].map({0: 'NORMAL',\n",
    "                               1: 'PNEUMONIA'})\n",
    "print(df)"
   ]
  },
  {
   "cell_type": "code",
   "execution_count": 40,
   "id": "f898073d",
   "metadata": {
    "execution": {
     "iopub.execute_input": "2022-04-12T22:42:47.066776Z",
     "iopub.status.busy": "2022-04-12T22:42:47.065869Z",
     "iopub.status.idle": "2022-04-12T22:42:47.077643Z",
     "shell.execute_reply": "2022-04-12T22:42:47.078143Z",
     "shell.execute_reply.started": "2022-04-12T15:21:01.139231Z"
    },
    "papermill": {
     "duration": 0.064502,
     "end_time": "2022-04-12T22:42:47.078332",
     "exception": false,
     "start_time": "2022-04-12T22:42:47.013830",
     "status": "completed"
    },
    "tags": []
   },
   "outputs": [],
   "source": [
    "# データフレームの出力\n",
    "df.to_csv('/kaggle/working/submission.csv', index = False)"
   ]
  }
 ],
 "metadata": {
  "kernelspec": {
   "display_name": "Python 3",
   "language": "python",
   "name": "python3"
  },
  "language_info": {
   "codemirror_mode": {
    "name": "ipython",
    "version": 3
   },
   "file_extension": ".py",
   "mimetype": "text/x-python",
   "name": "python",
   "nbconvert_exporter": "python",
   "pygments_lexer": "ipython3",
   "version": "3.7.12"
  },
  "papermill": {
   "default_parameters": {},
   "duration": 653.306233,
   "end_time": "2022-04-12T22:42:48.239169",
   "environment_variables": {},
   "exception": null,
   "input_path": "__notebook__.ipynb",
   "output_path": "__notebook__.ipynb",
   "parameters": {},
   "start_time": "2022-04-12T22:31:54.932936",
   "version": "2.3.3"
  }
 },
 "nbformat": 4,
 "nbformat_minor": 5
}
